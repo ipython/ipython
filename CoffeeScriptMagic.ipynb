{
 "metadata": {
  "name": "",
  "signature": "sha256:126ba0274216f624c84d29becfc515e09ebbeee19b2cd9cb277c51249682e70b"
 },
 "nbformat": 3,
 "nbformat_minor": 0,
 "worksheets": [
  {
   "cells": [
    {
     "cell_type": "heading",
     "level": 1,
     "metadata": {},
     "source": [
      "Executing CoffeeScript in IPython Notebook"
     ]
    },
    {
     "cell_type": "markdown",
     "metadata": {},
     "source": [
      "Here is a little extension that adds a `%%coffee` cell magic."
     ]
    },
    {
     "cell_type": "code",
     "collapsed": false,
     "input": [
      "%reload_ext coffee_script_magic"
     ],
     "language": "python",
     "metadata": {},
     "outputs": [],
     "prompt_number": 13
    },
    {
     "cell_type": "heading",
     "level": 2,
     "metadata": {},
     "source": [
      "Demo"
     ]
    },
    {
     "cell_type": "markdown",
     "metadata": {},
     "source": [
      "Maybe you know already that the builtin `%%javascript` cell magic lets you execute javascript, like so:"
     ]
    },
    {
     "cell_type": "code",
     "collapsed": false,
     "input": [
      "%%javascript\n",
      "console.log(\"Hello from javascript\");"
     ],
     "language": "python",
     "metadata": {},
     "outputs": [
      {
       "javascript": [
        "console.log(\"Hello from javascript\");"
       ],
       "metadata": {},
       "output_type": "display_data",
       "text": [
        "<IPython.core.display.Javascript at 0x10bc85650>"
       ]
      }
     ],
     "prompt_number": 15
    },
    {
     "cell_type": "markdown",
     "metadata": {},
     "source": [
      "Now you can also execute CoffeeScript:"
     ]
    },
    {
     "cell_type": "code",
     "collapsed": false,
     "input": [
      "%%coffee\n",
      "console.log \"Hello from CoffeeScript\""
     ],
     "language": "python",
     "metadata": {},
     "outputs": [
      {
       "application/coffeescript": "console.log \"Hello from CoffeeScript\"",
       "metadata": {},
       "output_type": "display_data"
      }
     ],
     "prompt_number": 18
    },
    {
     "cell_type": "markdown",
     "metadata": {},
     "source": [
      "In contrast to the JavaScript magic, results are shown just like python output:"
     ]
    },
    {
     "cell_type": "code",
     "collapsed": false,
     "input": [
      "2 + 2"
     ],
     "language": "python",
     "metadata": {},
     "outputs": [
      {
       "metadata": {},
       "output_type": "pyout",
       "prompt_number": 19,
       "text": [
        "4"
       ]
      }
     ],
     "prompt_number": 19
    },
    {
     "cell_type": "markdown",
     "metadata": {},
     "source": [
      "You can even define variables and reuse them across cells:"
     ]
    },
    {
     "cell_type": "code",
     "collapsed": false,
     "input": [
      "%%coffee\n",
      "a = 64"
     ],
     "language": "python",
     "metadata": {},
     "outputs": [
      {
       "application/coffeescript": "a = 64",
       "metadata": {},
       "output_type": "display_data"
      }
     ],
     "prompt_number": 25
    },
    {
     "cell_type": "code",
     "collapsed": false,
     "input": [
      "%%coffee\n",
      "Math.sqrt a * 100"
     ],
     "language": "python",
     "metadata": {},
     "outputs": [
      {
       "application/coffeescript": "Math.sqrt a * 100",
       "metadata": {},
       "output_type": "display_data"
      }
     ],
     "prompt_number": 26
    },
    {
     "cell_type": "markdown",
     "metadata": {},
     "source": [
      "Errors are displayed in the notebook."
     ]
    },
    {
     "cell_type": "code",
     "collapsed": false,
     "input": [
      "%%coffee\n",
      "a.some_undefined_function()"
     ],
     "language": "python",
     "metadata": {},
     "outputs": [
      {
       "application/coffeescript": "a.some_undefined_function()",
       "metadata": {},
       "output_type": "display_data"
      }
     ],
     "prompt_number": 30
    },
    {
     "cell_type": "heading",
     "level": 2,
     "metadata": {},
     "source": [
      "Making CoffeeScript the Default"
     ]
    },
    {
     "cell_type": "markdown",
     "metadata": {},
     "source": [
      "When you want to use a lot of CoffeeScript in a notebook, it can be quite annoying to have to type `%%coffee` again and again. Fortunately you can use the default_cell_magic extension:"
     ]
    },
    {
     "cell_type": "code",
     "collapsed": false,
     "input": [
      "%reload_ext default_cell_magic"
     ],
     "language": "python",
     "metadata": {},
     "outputs": [],
     "prompt_number": 31
    },
    {
     "cell_type": "code",
     "collapsed": false,
     "input": [
      "%default_cell_magic coffee"
     ],
     "language": "python",
     "metadata": {},
     "outputs": [],
     "prompt_number": 32
    },
    {
     "cell_type": "markdown",
     "metadata": {},
     "source": [
      "From now on, almost everything will be interpreted as CoffeeScript:"
     ]
    },
    {
     "cell_type": "code",
     "collapsed": true,
     "input": [
      "console.log \"Hello again from CoffeeScript\""
     ],
     "language": "python",
     "metadata": {},
     "outputs": [
      {
       "application/coffeescript": "console.log \"Hello again from CoffeeScript\"",
       "metadata": {},
       "output_type": "display_data"
      }
     ],
     "prompt_number": 33
    },
    {
     "cell_type": "markdown",
     "metadata": {},
     "source": [
      "Of course you can switch back to Python etc., see the help of %default_cell_magic."
     ]
    },
    {
     "cell_type": "code",
     "collapsed": false,
     "input": [
      "%default_cell_magic?"
     ],
     "language": "python",
     "metadata": {},
     "outputs": [],
     "prompt_number": 34
    },
    {
     "cell_type": "heading",
     "level": 2,
     "metadata": {},
     "source": [
      "Fun in the browser"
     ]
    },
    {
     "cell_type": "code",
     "collapsed": false,
     "input": [
      "banner = $('<div class=\"output_subarea\">CoffeeScript</div>')\n",
      "banner.css border: \"4px solid green\"\n",
      "context.output_subarea.append banner\n",
      "banner.animate fontSize: \"2em\", padding: 20, \"color\": \"green\""
     ],
     "language": "python",
     "metadata": {},
     "outputs": [
      {
       "application/coffeescript": "banner = $('<div class=\"output_subarea\">CoffeeScript</div>')\nbanner.css border: \"4px solid green\"\ncontext.output_subarea.append banner\nbanner.animate fontSize: \"2em\", padding: 20, \"color\": \"green\"",
       "metadata": {},
       "output_type": "display_data"
      }
     ],
     "prompt_number": 94
    },
    {
     "cell_type": "markdown",
     "metadata": {},
     "source": [
      "This example uses jQuery to append an element to `context.output_subarea` which is set to the current output cell."
     ]
    },
    {
     "cell_type": "heading",
     "level": 2,
     "metadata": {},
     "source": [
      "PaperJS"
     ]
    },
    {
     "cell_type": "markdown",
     "metadata": {},
     "source": [
      "See the separate notebook PaperJS.ipynb for some fun with graphics in the browser."
     ]
    },
    {
     "cell_type": "heading",
     "level": 2,
     "metadata": {},
     "source": [
      "How it works"
     ]
    },
    {
     "cell_type": "markdown",
     "metadata": {},
     "source": [
      "The input cell is sent to the IPython kernel. When the kernel sees the `%%coffee` cell magic, it takes the rest of the cell and sends it back to the client with a MIME type of `application/coffeescript`. The IPython notebook interprets that MIME type, just like it does with python output or images that come from the kernel. For `application/coffeescript`, it compiles the source code from JavaScript to CoffeeScript, executes it, and appends the result to the output area. Accessing variables across cells is possible because the CoffeeScript code is executed in the context of the browser's global `window` object. This is a big difference from executing python code: **CoffeeScript code is executed in the browser**."
     ]
    }
   ],
   "metadata": {}
  }
 ]
}