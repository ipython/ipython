{
 "metadata": {
  "name": "",
  "signature": "sha256:a74541876fcd6af3b1df3858e4624b991fa31a1856e48bc3dc5d10e37914e433"
 },
 "nbformat": 3,
 "nbformat_minor": 0,
 "worksheets": [
  {
   "cells": [
    {
     "cell_type": "heading",
     "level": 1,
     "metadata": {},
     "source": [
      "Default Cell Magic Extension"
     ]
    },
    {
     "cell_type": "markdown",
     "metadata": {},
     "source": [
      "Prepend cells with a default cell magic so you don't have to type it again and again."
     ]
    },
    {
     "cell_type": "code",
     "collapsed": false,
     "input": [
      "%load_ext default_cell_magic"
     ],
     "language": "python",
     "metadata": {},
     "outputs": [],
     "prompt_number": 1
    },
    {
     "cell_type": "markdown",
     "metadata": {},
     "source": [
      "IPython notebook lets you execute code in other interpreters via cell magics. For example, here is the `%%bash` cell magic. "
     ]
    },
    {
     "cell_type": "code",
     "collapsed": false,
     "input": [
      "%%bash\n",
      "# The whole cell is sent to bash to execute\n",
      "ls | sort -r | head"
     ],
     "language": "python",
     "metadata": {},
     "outputs": [
      {
       "output_type": "stream",
       "stream": "stdout",
       "text": [
        "tox.ini\n",
        "tools\n",
        "setupext\n",
        "setupegg.py\n",
        "setupbase.py\n",
        "setup.py\n",
        "scripts\n",
        "mist.patch\n",
        "git-hooks\n",
        "examples\n"
       ]
      }
     ],
     "prompt_number": 2
    },
    {
     "cell_type": "markdown",
     "metadata": {},
     "source": [
      "With the default_cell_magic extension you can use a cell magic without having to write it again and again."
     ]
    },
    {
     "cell_type": "code",
     "collapsed": false,
     "input": [
      "%default_cell_magic bash"
     ],
     "language": "python",
     "metadata": {},
     "outputs": [],
     "prompt_number": 3
    },
    {
     "cell_type": "markdown",
     "metadata": {},
     "source": [
      "From now on, every code cell will be prepended with `%%bash` automatically. "
     ]
    },
    {
     "cell_type": "code",
     "collapsed": false,
     "input": [
      "apropos python\n",
      "date"
     ],
     "language": "python",
     "metadata": {},
     "outputs": [
      {
       "output_type": "stream",
       "stream": "stdout",
       "text": [
        "ipcluster(1)             - start a cluster for IPython parallel computing\n",
        "ipcontroller(1)          - start a controller for IPython parallel computing\n",
        "ipengine(1)              - IPython parallel computing engine\n",
        "iplogger(1)              - IPython logging utility for parallel computing\n",
        "ipython(1)               - Tools for Interactive Computing in Python\n",
        "pycolor(1)               - Colorize a python file or stdin using ANSI and print to stdout\n",
        "python(1)                - an interpreted, interactive, object-oriented programming language\n",
        "Inline::Python(3pm)      - Write Perl subs and classes in Python\n",
        "pydoc(1)                 - the Python documentation tool\n",
        "python(1)                - an interpreted, interactive, object-oriented programming language\n",
        "python(1), pythonw(1)    - an interpreted, interactive, object-oriented programming language\n",
        "pythonw(1)               - run python script allowing GUI\n",
        "pythonw(1)               - run python script with GUI\n",
        "Fr 14 Feb 2014 19:27:30 CET\n"
       ]
      }
     ],
     "prompt_number": 4
    },
    {
     "cell_type": "markdown",
     "metadata": {},
     "source": [
      "You can invite python back for just one cell:"
     ]
    },
    {
     "cell_type": "code",
     "collapsed": false,
     "input": [
      "%%python\n",
      "print \"Hello from %s!\" % 'python'.capitalize()"
     ],
     "language": "python",
     "metadata": {},
     "outputs": [
      {
       "output_type": "stream",
       "stream": "stdout",
       "text": [
        "Hello from Python!\n"
       ]
      }
     ],
     "prompt_number": 13
    },
    {
     "cell_type": "markdown",
     "metadata": {},
     "source": [
      "Or revert everything to the normal behavior:"
     ]
    },
    {
     "cell_type": "code",
     "collapsed": false,
     "input": [
      "%default_cell_magic"
     ],
     "language": "python",
     "metadata": {},
     "outputs": [],
     "prompt_number": 14
    },
    {
     "cell_type": "code",
     "collapsed": false,
     "input": [
      "print \"Now this is a real %s notebook again!\" % 'python'.upper()"
     ],
     "language": "python",
     "metadata": {},
     "outputs": [
      {
       "output_type": "stream",
       "stream": "stdout",
       "text": [
        "Now this is a real PYTHON notebook again!\n"
       ]
      }
     ],
     "prompt_number": 15
    }
   ],
   "metadata": {}
  }
 ]
}