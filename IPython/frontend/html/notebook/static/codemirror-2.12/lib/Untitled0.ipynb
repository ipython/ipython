<?xml version="1.0" encoding="utf-8"?>
<notebook>
  <name>Untitled0</name>
  <id>29302174-c688-4580-b694-1e786ef3ca1f</id>
  <nbformat>2</nbformat>
  <worksheets>
    <worksheet>
      <cells>
        <codecell>
          <input />
          <language>python</language>
          <outputs />
        </codecell>
      </cells>
    </worksheet>
  </worksheets>
</notebook>
