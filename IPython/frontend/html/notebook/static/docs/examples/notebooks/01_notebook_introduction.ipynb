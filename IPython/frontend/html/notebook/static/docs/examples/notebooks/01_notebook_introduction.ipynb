{
 "metadata": {
  "name": "01_notebook_introduction"
 },
 "nbformat": 3,
 "nbformat_minor": 0,
 "worksheets": [
  {
   "cells": [
    {
     "cell_type": "heading",
     "level": 1,
     "metadata": {},
     "source": [
      "An introduction to the IPython notebook"
     ]
    },
    {
     "cell_type": "markdown",
     "metadata": {},
     "source": [
      "\n",
      "The IPython web notebook is a frontend that allows for new modes\n",
      "of interaction with IPython: this web-based interface allows you to execute Python and IPython\n",
      "commands in each input cell just like you would at the IPython terminal or Qt console, but you can\n",
      "also save an entire session as a document in a file with the `.ipynb` extension.\n",
      "\n",
      "The document you are reading now is precisely an example of one such notebook, and we will show you\n",
      "here how to best use this new interface.\n",
      "\n",
      "The first thing to understand is that a notebook consists of a sequence of 'cells' that can contain \n",
      "either text (such as this one) or code meant for execution (such as the next one):\n",
      "\n",
      "* Text cells can be written using [Markdown syntax](http://daringfireball.net/projects/markdown/syntax) \n",
      "(in a future release we will also provide support for reStructuredText and Sphinx integration, and we \n",
      "welcome help from interested contributors to make that happen).\n",
      "\n",
      "* Code cells take IPython input (i.e. Python code, `%magics`, `!system calls`, etc) like IPython at\n",
      "the terminal or at the Qt Console.  The only difference is that in order to execute a cell, you *must*\n",
      "use `Shift-Enter`, as pressing `Enter` will add a new line of text to the cell.  When you type \n",
      "`Shift-Enter`, the cell content is executed, output displayed and a new cell is created below.  Try\n",
      "it now by putting your cursor on the next cell and typing `Shift-Enter`:"
     ]
    },
    {
     "cell_type": "code",
     "collapsed": false,
     "input": [
      "\"This is the new IPython notebook\""
     ],
     "language": "python",
     "metadata": {},
     "outputs": [
      {
       "output_type": "pyout",
       "prompt_number": 2,
       "text": [
        "'This is the new IPython notebook'"
       ]
      }
     ],
     "prompt_number": 2
    },
    {
     "cell_type": "markdown",
     "metadata": {},
     "source": [
      "You can re-execute the same cell over and over as many times as you want.  Simply put your\n",
      "cursor in the cell again, edit at will, and type `Shift-Enter` to execute.  \n",
      "\n",
      "**Tip:** A cell can also be executed\n",
      "*in-place*, where IPython executes its content but leaves the cursor in the same cell.  This is done by\n",
      "typing `Ctrl-Enter` instead, and is useful if you want to quickly run a command to check something \n",
      "before tping the real content you want to leave in the cell. For example, in the next cell, try issuing\n",
      "several system commands in-place with `Ctrl-Enter`, such as `pwd` and then `ls`:"
     ]
    },
    {
     "cell_type": "code",
     "collapsed": false,
     "input": [
      "ls"
     ],
     "language": "python",
     "metadata": {},
     "outputs": [
      {
       "output_type": "stream",
       "stream": "stdout",
       "text": [
        "00_notebook_tour.ipynb          callbacks.ipynb                 python-logo.svg\r\n",
        "01_notebook_introduction.ipynb  cython_extension.ipynb          rmagic_extension.ipynb\r\n",
        "Animations_and_Progress.ipynb   display_protocol.ipynb          sympy.ipynb\r\n",
        "Capturing Output.ipynb          formatting.ipynb                sympy_quantum_computing.ipynb\r\n",
        "Script Magics.ipynb             octavemagic_extension.ipynb     trapezoid_rule.ipynb\r\n",
        "animation.m4v                   progbar.ipynb\r\n"
       ]
      }
     ],
     "prompt_number": 3
    },
    {
     "cell_type": "markdown",
     "metadata": {},
     "source": [
      "In a cell, you can type anything from a single python expression to an arbitrarily long amount of code \n",
      "(although for reasons of readability, you should probably limit this to a few dozen lines):"
     ]
    },
    {
     "cell_type": "code",
     "collapsed": false,
     "input": [
      "def f(x):\n",
      "    \"\"\"My function\n",
      "    x : parameter\"\"\"\n",
      "    \n",
      "    return x+1\n",
      "\n",
      "print \"f(3) = \", f(3)"
     ],
     "language": "python",
     "metadata": {},
     "outputs": [
      {
       "output_type": "stream",
       "stream": "stdout",
       "text": [
        "f(3) =  4\n"
       ]
      }
     ],
     "prompt_number": 4
    },
    {
     "cell_type": "heading",
     "level": 2,
     "metadata": {},
     "source": [
      "User interface"
     ]
    },
    {
     "cell_type": "markdown",
     "metadata": {},
     "source": [
      "When you start a new notebook server with `ipython notebook`, your\n",
      "browser should open into the *Dashboard*, a page listing all notebooks\n",
      "available in the current directory as well as letting you create new\n",
      "notebooks.  In this page, you can also drag and drop existing `.py` files\n",
      "over the file list to import them as notebooks (see the manual for \n",
      "[further details on how these files are \n",
      "interpreted](http://ipython.org/ipython-doc/stable/interactive/htmlnotebook.html)).\n",
      "\n",
      "Once you open an existing notebook (like this one) or create a new one,\n",
      "you are in the main notebook interface, which consists of a main editing\n",
      "area (where these cells are contained) as well as a menu and \n",
      "permanent header area at the top, and a pager that rises from the\n",
      "bottom when needed and can be collapsed again."
     ]
    },
    {
     "cell_type": "heading",
     "level": 3,
     "metadata": {},
     "source": [
      "Main editing area"
     ]
    },
    {
     "cell_type": "markdown",
     "metadata": {},
     "source": [
      "Here, you can move with the arrow keys or using the \n",
      "scroll bars.  The cursor enters code cells immediately, but only selects\n",
      "text (markdown) cells without entering in them; to enter a text cell,\n",
      "use `Enter` (or double-click), and `Shift-Enter` to exit it again (just like to execute a \n",
      "code cell)."
     ]
    },
    {
     "cell_type": "heading",
     "level": 3,
     "metadata": {},
     "source": [
      "Menu"
     ]
    },
    {
     "cell_type": "markdown",
     "metadata": {},
     "source": [
      "The menu bar conains all the commands you can use to manipulate the notebook.\n",
      "\n",
      "The *File* menu has the usual open/save file operations, as well as Export,\n",
      "for downloading the notebook to your computer.\n",
      "\n",
      "*Edit* has controls for cut/copy/paste, and moving cells around.\n",
      "\n",
      "*View* lets you toggle visibility of the header elements,\n",
      "to recover precious screen real estate.\n",
      "\n",
      "The *Cell* menu lets you manipulate individual cells,\n",
      "and the names should be fairly self-explanatory.\n",
      "\n",
      "The *Kernel* menu lets you signal the kernel executing your code. \n",
      "`Interrupt` does the equivalent of hitting `Ctrl-C` at a terminal, and\n",
      "`Restart` fully kills the kernel process and starts a fresh one.  Obviously\n",
      "this means that all your previous variables are destroyed, but it also\n",
      "makes it easy to get a fresh kernel in which to re-execute a notebook, perhaps\n",
      "after changing an extension module for which Python's `reload` mechanism\n",
      "does not work.\n",
      "\n",
      "The *Help* menu contains links to the documentation of some projects\n",
      "closely related to IPython as well as the minimal keybindings you need to\n",
      "know.  But you should use `Ctrl-m h` (or click the `QuickHelp` button at\n",
      "the top) and learn some of the other keybindings, as it will make your \n",
      "workflow much more fluid and efficient.\n",
      "\n",
      "You will also see a few buttons there for common actions,\n",
      "and hovering over each button will tell you which command they correspond to,\n",
      "if the icons are not clear enough."
     ]
    },
    {
     "cell_type": "heading",
     "level": 3,
     "metadata": {},
     "source": [
      "Header bar"
     ]
    },
    {
     "cell_type": "markdown",
     "metadata": {},
     "source": [
      "The header area at the top allows you to rename an existing \n",
      "notebook and open up a short help tooltip.  This area also indicates\n",
      "with a red **Busy** mark on the right whenever the kernel is busy executing\n",
      "code."
     ]
    },
    {
     "cell_type": "heading",
     "level": 3,
     "metadata": {},
     "source": [
      "The pager at the bottom"
     ]
    },
    {
     "cell_type": "markdown",
     "metadata": {},
     "source": [
      "Whenever IPython needs to display additional \n",
      "information, such as when you type `somefunction?` in a cell, the notebook\n",
      "opens a pane at the bottom where this information is shown.  You can keep\n",
      "this pager pane open for reference (it doesn't block input in the main area)\n",
      "or dismiss it by clicking on its divider bar."
     ]
    },
    {
     "cell_type": "heading",
     "level": 3,
     "metadata": {},
     "source": [
      "Tab completion and tooltips"
     ]
    },
    {
     "cell_type": "markdown",
     "metadata": {},
     "source": [
      "The notebook uses the same underlying machinery for tab completion that \n",
      "IPython uses at the terminal, but displays the information differently.\n",
      "Whey you complete with the `Tab` key, IPython shows a drop list with all\n",
      "available completions.  If you type more characters while this list is open,\n",
      "IPython automatically eliminates from the list options that don't match the\n",
      "new characters; once there is only one option left you can hit `Tab` once\n",
      "more (or `Enter`) to complete.  You can also select the completion you\n",
      "want with the arrow keys or the mouse, and then hit `Enter`.\n",
      "\n",
      "In addition, if you hit `Tab` inside of open parentheses, IPython will \n",
      "search for the docstring of the last object left of the parens and will\n",
      "display it on a tooltip. For example, type `list(<TAB>` and you will\n",
      "see the docstring for the builtin `list` constructor:"
     ]
    },
    {
     "cell_type": "code",
     "collapsed": false,
     "input": [
      "# Position your cursor after the ( and hit the Tab key:\n",
      "range("
     ],
     "language": "python",
     "metadata": {},
     "outputs": []
    },
    {
     "cell_type": "markdown",
     "metadata": {},
     "source": [
      "Moreover, pressing tab several time in a row allows you change the behaviour of the tooltip.\n",
      "\n",
      "* first `tab` press, you get a classical tooltip\n",
      "* second tab, the tooltip grow vertically, and allow you to scroll the docstring\n",
      "* third tab, tooltip will be made sticky for 10 seconds, allowing you to carry on typing while it stays open.\n",
      "* forth tab, the tooltip help is sent to the pager at the bottom of the screen.\n",
      "<script>\n",
      "    IPython.tooltip.tabs_functions = [  function(cell,text){\n",
      "                                    IPython.tooltip._request_tooltip(cell,text);\n",
      "                                    IPython.notification_widget.set_message('tab again to expand pager',2500);\n",
      "                                    setTimeout(function(){\n",
      "                                        $('.tooltiptext pre').text(\"function signture : You've invoked a tooltip !\\n\\nWell done! Here usualy lies the current function *call signature* and it's *docstring*. You can now expand the tooltip pressing <tab> a second time...\")},400);\n",
      "                                    },\n",
      "                                 function(){\n",
      "                                    IPython.tooltip.expand();\n",
      "                                    IPython.notification_widget.set_message('tab again to make pager sticky for 10s',2500);\n",
      "                                    setTimeout(function(){\n",
      "                                        $('.tooltiptext pre').text(\"Now the tooltip is expanded !\\\n",
      "                                          \\n\\nThis is really usefull if you have long docstring and if you want to be able to scroll them. \\\n",
      "For example, I can give you many information about the tooltip:\\n - The tooltip is smart, and \\\n",
      "you don't always need to press tab to invoke it, if you press an opening bracket `(` then nothing \\\n",
      "for some time, tooltip will be invoked by itself.\\\n",
      "\\n - Also you can hoover over the icon on the top right to know what they are dooing...\\\n",
      "\\n\\nBack to the next lesson.\\n\\nSometime you need to the tooltip to stay on screen while\\\n",
      "you type. That's the reason for the sticky mode (indicated by a small clock on the top left of the tooltip),\\\n",
      "\\n\\nNow press <tab> a 3rd time and continue typing some text to test it...\")\n",
      "                                            },400);\n",
      "                                 },\n",
      "                                 function(){\n",
      "                                     var time = 35;\n",
      "                                     IPython.tooltip.stick(time);\n",
      "                                     $('.tooltiptext pre').text(\"Type more text !...\\n\\n range(7,125,3)\\n\\n The tooltip is in sticky mode, it won't be dismissed for at least 10 secondes \",400);\n",
      "                                     setTimeout(function(){\n",
      "                                         $('.tooltiptext pre').text(\"That was sticky mode...\\nI'll keep it on 15 more seconds just for you.\\n\\nLast thing you can do is send the current help displayed in the tooltip to the pager at the bottom of the screen. To do that, press tab 4 time in a row after a parenthesis. \\n\\n Now I'll stop bothering you and let you Play with the tooltip !\");\n",
      "                                         reset_tooltip()\n",
      "                                            },15000);\n",
      "                                 },\n",
      "                                 function(cell){\n",
      "                                    IPython.tooltip.cancel_stick();\n",
      "                                    reset_tooltip()\n",
      "                                    IPython.tooltip.showInPager(cell);\n",
      "                                    IPython.tooltip._cmfocus();\n",
      "                                    }\n",
      "                                ];\n",
      "    \n",
      "    reset_tooltip = function(){\n",
      "    IPython.tooltip.tabs_functions = [  function(cell,text){\n",
      "                                    IPython.tooltip._request_tooltip(cell,text);\n",
      "                                    IPython.notification_widget.set_message('tab again to expand pager',2500);\n",
      "                                    },\n",
      "                                 function(){\n",
      "                                    IPython.tooltip.expand();\n",
      "                                    IPython.notification_widget.set_message('tab again to make pager sticky for 10s',2500);\n",
      "                                 },\n",
      "                                 function(){\n",
      "                                     IPython.tooltip.stick();\n",
      "                                     IPython.notification_widget.set_message('tab again to open help in pager',2500);\n",
      "                                 },\n",
      "                                 function(cell){\n",
      "                                    IPython.tooltip.cancel_stick();\n",
      "                                    IPython.tooltip.showInPager(cell);\n",
      "                                    IPython.tooltip._cmfocus();\n",
      "                                    }\n",
      "                                ];\n",
      "    }\n",
      "</script>"
     ]
    },
    {
     "cell_type": "heading",
     "level": 2,
     "metadata": {},
     "source": [
      "The frontend/kernel model"
     ]
    },
    {
     "cell_type": "markdown",
     "metadata": {},
     "source": [
      "The IPython notebook works on a client/server model where an *IPython kernel*\n",
      "starts in a separate process and acts as a server to executes the code you type,\n",
      "while the web browser provides acts as a client, providing a front end environment\n",
      "for you to type.  But one kernel is capable of simultaneously talking to more than\n",
      "one client, and they do not all need to be of the same kind.  All IPython frontends\n",
      "are capable of communicating with a kernel, and any number of them can be active\n",
      "at the same time.  In addition to allowing you to have, for example, more than one\n",
      "browser session active, this lets you connect clients with different user interface features.\n",
      "\n",
      "For example, you may want to connect a Qt console to your kernel and use it as a help\n",
      "browser, calling `??` on objects in the Qt console (whose pager is more flexible than the\n",
      "one in the notebook).  You can start a new Qt console connected to your current kernel by \n",
      "using the `%qtconsole` magic, this will automatically detect the necessary connection\n",
      "information.\n",
      "\n",
      "If you want to open one manually, or want to open a text console from a terminal, you can \n",
      "get your kernel's connection information with the `%connect_info` magic:"
     ]
    },
    {
     "cell_type": "code",
     "collapsed": false,
     "input": [
      "%connect_info"
     ],
     "language": "python",
     "metadata": {},
     "outputs": [
      {
       "output_type": "stream",
       "stream": "stdout",
       "text": [
        "{\n",
        "  \"stdin_port\": 52858, \n",
        "  \"ip\": \"127.0.0.1\", \n",
        "  \"hb_port\": 52859, \n",
        "  \"key\": \"7efd45ca-d8a2-41b0-9cea-d9116d0fb883\", \n",
        "  \"shell_port\": 52856, \n",
        "  \"iopub_port\": 52857\n",
        "}\n",
        "\n",
        "Paste the above JSON into a file, and connect with:\n",
        "    $> ipython <app> --existing <file>\n",
        "or, if you are local, you can connect with just:\n",
        "    $> ipython <app> --existing kernel-b3bac7c1-8b2c-4536-8082-8d1df24f99ac.json \n",
        "or even just:\n",
        "    $> ipython <app> --existing \n",
        "if this is the most recent IPython session you have started.\n"
       ]
      }
     ],
     "prompt_number": 6
    },
    {
     "cell_type": "heading",
     "level": 2,
     "metadata": {},
     "source": [
      "The kernel's `raw_input` and `%debug`"
     ]
    },
    {
     "cell_type": "markdown",
     "metadata": {},
     "source": [
      "The one feature the notebook currently doesn't support as a client is the ability to send data to the kernel's\n",
      "standard input socket.  That is, if the kernel requires information to be typed interactively by calling the\n",
      "builtin `raw_input` function, the notebook will be blocked.  This happens for example if you run a script\n",
      "that queries interactively for parameters, and very importantly, is how the interactive IPython debugger that \n",
      "activates when you type `%debug` works.\n",
      "\n",
      "So, in order to be able to use `%debug` or anything else that requires `raw_input`, you can either use a Qt \n",
      "console or a terminal console:\n",
      "\n",
      "- From the notebook, typing `%qtconsole` finds all the necessary connection data for you.\n",
      "- From the terminal, first type `%connect_info` while still in the notebook, and then copy and paste the \n",
      "resulting information, using `qtconsole` or `console` depending on which type of client you want."
     ]
    },
    {
     "cell_type": "heading",
     "level": 2,
     "metadata": {},
     "source": [
      "Display of complex objects"
     ]
    },
    {
     "cell_type": "markdown",
     "metadata": {},
     "source": [
      "As the 'tour' notebook shows, the IPython notebook has fairly sophisticated display capabilities.  In addition\n",
      "to the examples there, you can study the `display_protocol` notebook in this same examples folder, to \n",
      "learn how to customize arbitrary objects (in your own code or external libraries) to display in the notebook\n",
      "in any way you want, including graphical forms or mathematical expressions."
     ]
    },
    {
     "cell_type": "heading",
     "level": 2,
     "metadata": {},
     "source": [
      "Plotting support"
     ]
    },
    {
     "cell_type": "markdown",
     "metadata": {},
     "source": [
      "As we've explained already, the notebook is just another frontend talking to the same IPython kernel that\n",
      "you're familiar with, so the same options for plotting support apply.\n",
      "\n",
      "You can enable inline plotting with `%pylab inline`:"
     ]
    },
    {
     "cell_type": "code",
     "collapsed": false,
     "input": [
      "%pylab inline"
     ],
     "language": "python",
     "metadata": {},
     "outputs": [
      {
       "output_type": "stream",
       "stream": "stdout",
       "text": [
        "\n",
        "Welcome to pylab, a matplotlib-based Python environment [backend: module://IPython.zmq.pylab.backend_inline].\n",
        "For more information, type 'help(pylab)'.\n"
       ]
      }
     ],
     "prompt_number": 7
    },
    {
     "cell_type": "markdown",
     "metadata": {},
     "source": [
      "If you start the notebook server itself with `--pylab`, you will get matplotlib's floating, interactive windows and you\n",
      "can call the `display` function to paste figures into the notebook document.  If you start it with \n",
      "`--pylab inline`, all plots will appear inline automatically.  In this regard, the notebook works identically\n",
      "to the Qt console.\n",
      "\n",
      "Note that if you start the notebook server with pylab support, *all* kernels are automatically started in\n",
      "pylab mode and with the same choice of backend (i.e. floating windows or inline figures).\n",
      "For this reason, it is recommended that you\n",
      "start the notebook server simply by typing `ipython notebook`, and then selectively turn on pylab support \n",
      "only for the notebooks you want by using the `%pylab` magic (see its docstring for details)."
     ]
    },
    {
     "cell_type": "code",
     "collapsed": false,
     "input": [
      "plot(rand(100))"
     ],
     "language": "python",
     "metadata": {},
     "outputs": [
      {
       "output_type": "pyout",
       "prompt_number": 8,
       "text": [
        "[<matplotlib.lines.Line2D at 0x1124ba350>]"
       ]
      },
      {
       "output_type": "display_data",
       "png": "[encoded data removed]"
      }
     ],
     "prompt_number": 8
    },
    {
     "cell_type": "heading",
     "level": 2,
     "metadata": {},
     "source": [
      "Security"
     ]
    },
    {
     "cell_type": "markdown",
     "metadata": {},
     "source": [
      "By default the notebook only listens on localhost, so it does not expose your computer to attacks coming from\n",
      "the internet.  By default the notebook does not require any authentication, but you can configure it to\n",
      "ask for a password before allowing access to the files.  \n",
      "\n",
      "Furthermore, you can require the notebook to encrypt all communications by using SSL and making all connections\n",
      "using the https protocol instead of plain http.  This is a good idea if you decide to run your notebook on\n",
      "addresses that are visible from the internet.  For further details on how to configure this, see the\n",
      "[security section](http://ipython.org/ipython-doc/stable/interactive/htmlnotebook.html#security) of the \n",
      "manual.\n",
      "\n",
      "Finally, note that you can also run a notebook with the `--read-only` flag, which lets you provide access\n",
      "to your notebook documents to others without letting them execute code (which can be useful to broadcast\n",
      "a computation to colleagues or students, for example).  The read-only flag behaves differently depending\n",
      "on whether the server has a password or not:\n",
      "\n",
      "- Passwordless server: users directly see all notebooks in read-only mode.\n",
      "- Password-protected server: users can see all notebooks in read-only mode, but a login button is available\n",
      "and once a user authenticates, he or she obtains write/execute privileges.\n",
      "\n",
      "The first case above makes it easy to broadcast on the fly an existing notebook by simply starting a *second* \n",
      "notebook server in the same directory as the first, but in read-only mode.  This can be done without having\n",
      "to configure a password first (which requires calling a hashing function and editing a configuration file).\n",
      "\n",
      "**NOTE:**  IPython 0.13's javascript rewrite did not include read-only UI, so it does not work well.\n",
      "Code/notebooks are still protected from unauthorized access, but the UI is not appropriately restricted."
     ]
    }
   ],
   "metadata": {}
  }
 ]
}