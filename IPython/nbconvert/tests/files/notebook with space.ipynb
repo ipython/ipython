{
 "metadata": {
  "name": "notebook1"
 },
 "nbformat": 3,
 "nbformat_minor": 0,
 "worksheets": [
  {
   "cells": [
    {
     "cell_type": "heading",
     "level": 1,
     "metadata": {},
     "source": [
      "A simple SymPy example"
     ]
    },
    {
     "cell_type": "markdown",
     "metadata": {},
     "source": [
      "First we import SymPy and initialize printing:"
     ]
    },
    {
     "cell_type": "code",
     "collapsed": false,
     "input": [
      "from sympy import init_printing\n",
      "from sympy import *\n",
      " init_printing()"
     ],
     "language": "python",
     "metadata": {},
     "outputs": [],
     "prompt_number": 2
    },
    {
     "cell_type": "markdown",
     "metadata": {},
     "source": [
      "Create a few symbols:"
     ]
    },
    {
     "cell_type": "code",
     "collapsed": false,
     "input": [
      "x,y,z = symbols('x y z')"
     ],
     "language": "python",
     "metadata": {},
     "outputs": [],
     "prompt_number": 4
    },
    {
     "cell_type": "markdown",
     "metadata": {},
     "source": [
      "Here is a basic expression:"
     ]
    },
    {
     "cell_type": "code",
     "collapsed": false,
     "input": [
      "e = x**2 + 2.0*y + sin(z); e"
     ],
     "language": "python",
     "metadata": {},
     "outputs": [
      {
       "latex": [
        "$$x^{2} + 2.0 y + \\sin{\\left (z \\right )}$$"
       ],
       "metadata": {},
       "output_type": "pyout",
       "png": "[encoded data removed]",
       "prompt_number": 6,
       "text": [
        " 2                 \n",
        "x  + 2.0\u22c5y + sin(z)"
       ]
      }
     ],
     "prompt_number": 6
    },
    {
     "cell_type": "code",
     "collapsed": false,
     "input": [
      "diff(e, x)"
     ],
     "language": "python",
     "metadata": {},
     "outputs": [
      {
       "latex": [
        "$$2 x$$"
       ],
       "metadata": {},
       "output_type": "pyout",
       "png": "[encoded data removed]",
       "prompt_number": 7,
       "text": [
        "2\u22c5x"
       ]
      }
     ],
     "prompt_number": 7
    },
    {
     "cell_type": "code",
     "collapsed": false,
     "input": [
      "integrate(e, z)"
     ],
     "language": "python",
     "metadata": {},
     "outputs": [
      {
       "latex": [
        "$$x^{2} z + 2.0 y z - \\cos{\\left (z \\right )}$$"
       ],
       "metadata": {},
       "output_type": "pyout",
       "png": "[encoded data removed]",
       "prompt_number": 8,
       "text": [
        " 2                     \n",
        "x \u22c5z + 2.0\u22c5y\u22c5z - cos(z)"
       ]
      }
     ],
     "prompt_number": 8
    },
    {
     "cell_type": "code",
     "collapsed": false,
     "input": [],
     "language": "python",
     "metadata": {},
     "outputs": []
    }
   ],
   "metadata": {}
  }
 ]
}