{
 "metadata": {
  "name": "",
  "signature": "sha256:88564cd7a35d135f4ad16fe161d92ceba7d5f0c927fe88d129ee56fa047facb2"
 },
 "nbformat": 3,
 "nbformat_minor": 0,
 "worksheets": [
  {
   "cells": [
    {
     "cell_type": "heading",
     "level": 1,
     "metadata": {},
     "source": [
      "PaperJS + CoffeeScript in an Interactive Notebook"
     ]
    },
    {
     "cell_type": "markdown",
     "metadata": {},
     "source": [
      "[PaperJS](http://www.paperjs.org) is a JavaScript library for vector graphics. With the CoffeeScript extension for the [IPython notebook](http://ipython.org/notebook.html) you can mix explanations, [CoffeeScript](http://coffeescript.org/) code and results in a single interactive document. Thanks to IPython, the notebook document can be saved and converted to other formats like static HTML. Currently you need to use the IPython fork at https://github.com/mberth/ipython/tree/coffeescript_notebook for this."
     ]
    },
    {
     "cell_type": "markdown",
     "metadata": {},
     "source": [
      "Load the [IPython notebook](http://ipython.org/notebook.html) extension and use `%default_cell_magic` to have input interpreted as CoffeeScript by default."
     ]
    },
    {
     "cell_type": "code",
     "collapsed": false,
     "input": [
      "%reload_ext coffee_script_magic\n",
      "%reload_ext default_cell_magic\n",
      "%default_cell_magic coffee"
     ],
     "language": "python",
     "metadata": {},
     "outputs": [],
     "prompt_number": 1
    },
    {
     "cell_type": "markdown",
     "metadata": {},
     "source": [
      "A small example to show that we are actually executing CoffeeScript in the browser."
     ]
    },
    {
     "cell_type": "code",
     "collapsed": false,
     "input": [
      "a = 10\n",
      "Math.sqrt a * 100"
     ],
     "language": "python",
     "metadata": {},
     "outputs": [
      {
       "application/coffeescript": "a = 10\nMath.sqrt a * 100",
       "metadata": {},
       "output_type": "display_data"
      }
     ],
     "prompt_number": 247
    },
    {
     "cell_type": "heading",
     "level": 2,
     "metadata": {},
     "source": [
      "Inject paper.js into the page."
     ]
    },
    {
     "cell_type": "markdown",
     "metadata": {},
     "source": [
      "Manipulate the notebook HTML to insert the PaperJS script tag."
     ]
    },
    {
     "cell_type": "code",
     "collapsed": false,
     "input": [
      "s = document.createElement(\"script\")\n",
      "s.type = \"text/javascript\"\n",
      "s.src = \"http://paperjs.org/assets/js/paper.js\"\n",
      "$(\"head\").append(s)"
     ],
     "language": "python",
     "metadata": {},
     "outputs": [
      {
       "application/coffeescript": "s = document.createElement(\"script\")\ns.type = \"text/javascript\"\ns.src = \"http://paperjs.org/assets/js/paper.js\"\n$(\"head\").append(s)",
       "metadata": {},
       "output_type": "display_data"
      }
     ],
     "prompt_number": 129
    },
    {
     "cell_type": "heading",
     "level": 2,
     "metadata": {},
     "source": [
      "Make a canvas"
     ]
    },
    {
     "cell_type": "markdown",
     "metadata": {},
     "source": [
      "Make a new canvas element, initialize PaperJS to draw on it."
     ]
    },
    {
     "cell_type": "code",
     "collapsed": false,
     "input": [
      "makeCanvas = (canvasId=\"thecanvas\", width=600, height=300) ->\n",
      "    sheet = $(\"<canvas id='#{canvasId}' width='#{width}' height='#{height}' style='background:gray;'/>\")\n",
      "    $(context.element).find(\".output_subarea\").replaceWith(sheet)\n",
      "    setTimeout -> paper.setup document.getElementById(canvasId), 50"
     ],
     "language": "python",
     "metadata": {},
     "outputs": [
      {
       "application/coffeescript": "makeCanvas = (canvasId=\"thecanvas\", width=600, height=300) ->\n    sheet = $(\"<canvas id='#{canvasId}' width='#{width}' height='#{height}' style='background:gray;'/>\")\n    $(context.element).find(\".output_subarea\").replaceWith(sheet)\n    setTimeout -> paper.setup document.getElementById(canvasId), 50",
       "metadata": {},
       "output_type": "display_data"
      }
     ],
     "prompt_number": 242
    },
    {
     "cell_type": "heading",
     "level": 2,
     "metadata": {},
     "source": [
      "Examples"
     ]
    },
    {
     "cell_type": "markdown",
     "metadata": {},
     "source": [
      "Let's draw something... Start by creating a new canvas."
     ]
    },
    {
     "cell_type": "code",
     "collapsed": false,
     "input": [
      "makeCanvas()"
     ],
     "language": "python",
     "metadata": {},
     "outputs": [
      {
       "application/coffeescript": "makeCanvas()",
       "metadata": {},
       "output_type": "display_data"
      }
     ],
     "prompt_number": 265
    },
    {
     "cell_type": "markdown",
     "metadata": {},
     "source": [
      "Create a bunch of colored circles."
     ]
    },
    {
     "cell_type": "code",
     "collapsed": false,
     "input": [
      "circles = []\n",
      "for i in [360..0] by -1\n",
      "    color = new paper.Color hue: i, saturation: 1, brightness: 0.9\n",
      "    circles.push new paper.Path.Circle center: [300,150], radius: i, fillColor: color\n",
      "# Force PaperJS to redraw, this is necessary when you use it directly from JavaScript\n",
      "paper.view.draw()"
     ],
     "language": "python",
     "metadata": {},
     "outputs": [
      {
       "application/coffeescript": "circles = []\nfor i in [360..0] by -1\n    color = new paper.Color hue: i, saturation: 1, brightness: 0.9\n    circles.push new paper.Path.Circle center: [300,150], radius: i, fillColor: color\n# Force PaperJS to redraw, this is necessary when you use it directly from JavaScript\npaper.view.draw()",
       "metadata": {},
       "output_type": "display_data"
      }
     ],
     "prompt_number": 266
    },
    {
     "cell_type": "markdown",
     "metadata": {},
     "source": [
      "Add a square to the picture."
     ]
    },
    {
     "cell_type": "code",
     "collapsed": false,
     "input": [
      "width = 200\n",
      "square = new paper.Path.Rectangle [100,100], [width, width]\n",
      "square.set strokeColor: \"indigo\", strokeWidth: 10\n",
      "square.position = paper.view.center\n",
      "paper.view.draw()"
     ],
     "language": "python",
     "metadata": {},
     "outputs": [
      {
       "application/coffeescript": "width = 200\nsquare = new paper.Path.Rectangle [100,100], [width, width]\nsquare.set strokeColor: \"indigo\", strokeWidth: 10\nsquare.position = paper.view.center\npaper.view.draw()",
       "metadata": {},
       "output_type": "display_data"
      }
     ],
     "prompt_number": 267
    },
    {
     "cell_type": "markdown",
     "metadata": {},
     "source": [
      "Use the [onFrame()](http://paperjs.org/reference/path/#onframe) method \n",
      "to do some [animation](http://paperjs.org/tutorials/animation/creating-animations/). \n",
      "On every frame, turn the square by 1 degree and \n",
      "change the colors of the circles a little. "
     ]
    },
    {
     "cell_type": "code",
     "collapsed": false,
     "input": [
      "square.onFrame = (event) ->\n",
      "    @rotate 1\n",
      "    for c in circles\n",
      "        c.fillColor.hue += 0.5"
     ],
     "language": "python",
     "metadata": {},
     "outputs": [
      {
       "application/coffeescript": "square.onFrame = (event) ->\n    @rotate 1\n    for c in circles\n        c.fillColor.hue += 0.5",
       "metadata": {},
       "output_type": "display_data"
      }
     ],
     "prompt_number": 270
    },
    {
     "cell_type": "markdown",
     "metadata": {},
     "source": [
      "Now you can experiment with the example, just change the source and press Shift-Enter to execute it."
     ]
    }
   ],
   "metadata": {}
  }
 ]
}