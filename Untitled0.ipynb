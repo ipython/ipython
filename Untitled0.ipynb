{
 "metadata": {
  "name": "Untitled0"
 },
 "nbformat": 3,
 "nbformat_minor": 0,
 "worksheets": [
  {
   "cells": [
    {
     "cell_type": "code",
     "collapsed": false,
     "input": [
      "%pylab inline"
     ],
     "language": "python",
     "metadata": {},
     "outputs": [
      {
       "output_type": "stream",
       "stream": "stdout",
       "text": [
        "\n",
        "Welcome to pylab, a matplotlib-based Python environment [backend: module://IPython.kernel.zmq.pylab.backend_inline].\n",
        "For more information, type 'help(pylab)'.\n"
       ]
      }
     ],
     "prompt_number": 5
    },
    {
     "cell_type": "code",
     "collapsed": false,
     "input": [
      "%macro tmp http://matplotlib.org/mpl_examples/api/date_demo.py"
     ],
     "language": "python",
     "metadata": {},
     "outputs": [
      {
       "output_type": "stream",
       "stream": "stdout",
       "text": [
        "Macro `tmp` created. To execute, type its name (without quotes).\n",
        "=== Macro contents: ===\n",
        "#!/usr/bin/env python\n",
        "\"\"\"\n",
        "Show how to make date plots in matplotlib using date tick locators and\n",
        "formatters.  See major_minor_demo1.py for more information on\n",
        "controlling major and minor ticks\n",
        "\n",
        "All matplotlib date plotting is done by converting date instances into\n",
        "days since the 0001-01-01 UTC.  The conversion, tick locating and\n",
        "formatting is done behind the scenes so this is most transparent to\n",
        "you.  The dates module provides several converter functions date2num\n",
        "and num2date\n",
        "\n",
        "\"\"\"\n",
        "import datetime\n",
        "import numpy as np\n",
        "import matplotlib.pyplot as plt\n",
        "import matplotlib.dates as mdates\n",
        "import matplotlib.cbook as cbook\n",
        "\n",
        "years    = mdates.YearLocator()   # every year\n",
        "months   = mdates.MonthLocator()  # every month\n",
        "yearsFmt = mdates.DateFormatter('%Y')\n",
        "\n",
        "# load a numpy record array from yahoo csv data with fields date,\n",
        "# open, close, volume, adj_close from the mpl-data/example directory.\n",
        "# The record array stores python datetime.date as an object array in\n",
        "# the date column\n",
        "datafile = cbook.get_sample_data('goog.npy')\n",
        "r = np.load(datafile).view(np.recarray)\n",
        "\n",
        "fig = plt.figure()\n",
        "ax = fig.add_subplot(111)\n",
        "ax.plot(r.date, r.adj_close)\n",
        "\n",
        "\n",
        "# format the ticks\n",
        "ax.xaxis.set_major_locator(years)\n",
        "ax.xaxis.set_major_formatter(yearsFmt)\n",
        "ax.xaxis.set_minor_locator(months)\n",
        "\n",
        "datemin = datetime.date(r.date.min().year, 1, 1)\n",
        "datemax = datetime.date(r.date.max().year+1, 1, 1)\n",
        "ax.set_xlim(datemin, datemax)\n",
        "\n",
        "# format the coords message box\n",
        "def price(x): return '$%1.2f'%x\n",
        "ax.format_xdata = mdates.DateFormatter('%Y-%m-%d')\n",
        "ax.format_ydata = price\n",
        "ax.grid(True)\n",
        "\n",
        "# rotates and right aligns the x labels, and moves the bottom of the\n",
        "# axes up to make room for them\n",
        "fig.autofmt_xdate()\n",
        "\n",
        "plt.show()\n",
        "\n"
       ]
      }
     ],
     "prompt_number": 6
    },
    {
     "cell_type": "code",
     "collapsed": false,
     "input": [
      "%macro -q tmp2 http://matplotlib.org/mpl_examples/api/date_demo.py"
     ],
     "language": "python",
     "metadata": {},
     "outputs": [],
     "prompt_number": 7
    },
    {
     "cell_type": "code",
     "collapsed": false,
     "input": [
      "print tmp2"
     ],
     "language": "python",
     "metadata": {},
     "outputs": [
      {
       "output_type": "stream",
       "stream": "stdout",
       "text": [
        "#!/usr/bin/env python\n",
        "\"\"\"\n",
        "Show how to make date plots in matplotlib using date tick locators and\n",
        "formatters.  See major_minor_demo1.py for more information on\n",
        "controlling major and minor ticks\n",
        "\n",
        "All matplotlib date plotting is done by converting date instances into\n",
        "days since the 0001-01-01 UTC.  The conversion, tick locating and\n",
        "formatting is done behind the scenes so this is most transparent to\n",
        "you.  The dates module provides several converter functions date2num\n",
        "and num2date\n",
        "\n",
        "\"\"\"\n",
        "import datetime\n",
        "import numpy as np\n",
        "import matplotlib.pyplot as plt\n",
        "import matplotlib.dates as mdates\n",
        "import matplotlib.cbook as cbook\n",
        "\n",
        "years    = mdates.YearLocator()   # every year\n",
        "months   = mdates.MonthLocator()  # every month\n",
        "yearsFmt = mdates.DateFormatter('%Y')\n",
        "\n",
        "# load a numpy record array from yahoo csv data with fields date,\n",
        "# open, close, volume, adj_close from the mpl-data/example directory.\n",
        "# The record array stores python datetime.date as an object array in\n",
        "# the date column\n",
        "datafile = cbook.get_sample_data('goog.npy')\n",
        "r = np.load(datafile).view(np.recarray)\n",
        "\n",
        "fig = plt.figure()\n",
        "ax = fig.add_subplot(111)\n",
        "ax.plot(r.date, r.adj_close)\n",
        "\n",
        "\n",
        "# format the ticks\n",
        "ax.xaxis.set_major_locator(years)\n",
        "ax.xaxis.set_major_formatter(yearsFmt)\n",
        "ax.xaxis.set_minor_locator(months)\n",
        "\n",
        "datemin = datetime.date(r.date.min().year, 1, 1)\n",
        "datemax = datetime.date(r.date.max().year+1, 1, 1)\n",
        "ax.set_xlim(datemin, datemax)\n",
        "\n",
        "# format the coords message box\n",
        "def price(x): return '$%1.2f'%x\n",
        "ax.format_xdata = mdates.DateFormatter('%Y-%m-%d')\n",
        "ax.format_ydata = price\n",
        "ax.grid(True)\n",
        "\n",
        "# rotates and right aligns the x labels, and moves the bottom of the\n",
        "# axes up to make room for them\n",
        "fig.autofmt_xdate()\n",
        "\n",
        "plt.show()\n",
        "\n"
       ]
      }
     ],
     "prompt_number": 8
    },
    {
     "cell_type": "code",
     "collapsed": false,
     "input": [
      "tmp2"
     ],
     "language": "python",
     "metadata": {},
     "outputs": [
      {
       "metadata": {},
       "output_type": "display_data",
       "png": "[encoded data removed]",
       "text": [
        "<matplotlib.figure.Figure at 0x49f5310>"
       ]
      }
     ],
     "prompt_number": 9
    },
    {
     "cell_type": "code",
     "collapsed": false,
     "input": [
      "for i in range(3):\n",
      "    h = raw_input('Give me a number:')\n",
      "    #print(eval(h)/2.0)"
     ],
     "language": "python",
     "metadata": {},
     "outputs": []
    },
    {
     "cell_type": "code",
     "collapsed": false,
     "input": [
      "class temp:\n",
      "    def __init__(self,x):\n",
      "        self.x = x\n",
      "        \n",
      "    def method(self):\n",
      "        return self.x\n",
      "    \n",
      "A = temp( 5 )\n",
      "\n",
      "A.method()"
     ],
     "language": "python",
     "metadata": {},
     "outputs": []
    },
    {
     "cell_type": "code",
     "collapsed": false,
     "input": [
      "who_ls"
     ],
     "language": "python",
     "metadata": {},
     "outputs": []
    },
    {
     "cell_type": "code",
     "collapsed": false,
     "input": [
      "lsmagic"
     ],
     "language": "python",
     "metadata": {},
     "outputs": []
    },
    {
     "cell_type": "code",
     "collapsed": false,
     "input": [
      "%prun?"
     ],
     "language": "python",
     "metadata": {},
     "outputs": []
    },
    {
     "cell_type": "code",
     "collapsed": false,
     "input": [
      "%rerun?"
     ],
     "language": "python",
     "metadata": {},
     "outputs": []
    },
    {
     "cell_type": "code",
     "collapsed": false,
     "input": [],
     "language": "python",
     "metadata": {},
     "outputs": []
    },
    {
     "cell_type": "code",
     "collapsed": false,
     "input": [
      "A.method()"
     ],
     "language": "python",
     "metadata": {},
     "outputs": []
    },
    {
     "cell_type": "code",
     "collapsed": false,
     "input": [
      "plot( [x**2 for x in range(10)] )"
     ],
     "language": "python",
     "metadata": {},
     "outputs": []
    },
    {
     "cell_type": "code",
     "collapsed": false,
     "input": [
      "ion"
     ],
     "language": "python",
     "metadata": {},
     "outputs": []
    },
    {
     "cell_type": "code",
     "collapsed": false,
     "input": [
      "ion()"
     ],
     "language": "python",
     "metadata": {},
     "outputs": []
    },
    {
     "cell_type": "code",
     "collapsed": false,
     "input": [
      "ioff()"
     ],
     "language": "python",
     "metadata": {},
     "outputs": []
    },
    {
     "cell_type": "code",
     "collapsed": false,
     "input": [
      "%macro tmp http://matplotlib.org/mpl_examples/api/date_demo.py"
     ],
     "language": "python",
     "metadata": {},
     "outputs": []
    },
    {
     "cell_type": "code",
     "collapsed": false,
     "input": [],
     "language": "python",
     "metadata": {},
     "outputs": []
    }
   ],
   "metadata": {}
  }
 ]
}