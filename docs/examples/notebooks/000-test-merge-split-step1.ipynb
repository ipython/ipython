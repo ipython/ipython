{
 "metadata": {
  "name": "000-test-merge-split-step1"
 },
 "nbformat": 3,
 "nbformat_minor": 0,
 "worksheets": [
  {
   "cells": [
    {
     "cell_type": "code",
     "collapsed": false,
     "input": [
      "#------\n",
      "#cell-0\n",
      "#cell-1\n",
      "#------"
     ],
     "language": "python",
     "metadata": {
      "parents_id": [
       {
        "uuid-cell-0": []
       },
       {
        "uuid-cell-1": []
       }
      ],
      "uuid": "891C4A2AC4F04793B572414D0B85C999"
     },
     "outputs": [],
     "prompt_number": 11
    },
    {
     "cell_type": "code",
     "collapsed": false,
     "input": [
      "#------\n",
      "#cell-2\n",
      "#cell-3\n",
      "#------"
     ],
     "language": "python",
     "metadata": {
      "parents_id": [
       {
        "uuid-cell-2": []
       },
       {
        "uuid-cell-3": []
       }
      ],
      "uuid": "FCEC8434077C40A089C8F2085DE332CF"
     },
     "outputs": [],
     "prompt_number": 2
    },
    {
     "cell_type": "code",
     "collapsed": false,
     "input": [
      "#------\n",
      "#cell-4\n",
      "#cell-5\n",
      "#------"
     ],
     "language": "python",
     "metadata": {
      "parents_id": [
       {
        "uuid-cell-4": []
       },
       {
        "uuid-cell-5": []
       }
      ],
      "uuid": "D4E6A5AF8D464B7D9C57827F508A6ED8"
     },
     "outputs": [],
     "prompt_number": 4
    },
    {
     "cell_type": "code",
     "collapsed": false,
     "input": [
      "#------\n",
      "#cell-6\n",
      "#cell-7\n",
      "#------"
     ],
     "language": "python",
     "metadata": {
      "parents_id": [
       {
        "uuid-cell-6": []
       },
       {
        "uuid-cell-7": []
       }
      ],
      "uuid": "93C4CC933AD641C593B337E4FB47DE87"
     },
     "outputs": [],
     "prompt_number": 6
    },
    {
     "cell_type": "code",
     "collapsed": false,
     "input": [
      "#------\n",
      "#cell-8\n",
      "#cell-9\n",
      "#------"
     ],
     "language": "python",
     "metadata": {
      "parents_id": [
       {
        "uuid-cell-8": []
       },
       {
        "uuid-cell-9": []
       }
      ],
      "uuid": "B719D35D9FA44C24B0A1953B377DDA26"
     },
     "outputs": [],
     "prompt_number": 8
    }
   ],
   "metadata": {}
  }
 ]
}