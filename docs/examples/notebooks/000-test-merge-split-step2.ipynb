{
 "metadata": {
  "name": "000-test-merge-split-step2"
 },
 "nbformat": 3,
 "nbformat_minor": 0,
 "worksheets": [
  {
   "cells": [
    {
     "cell_type": "code",
     "collapsed": false,
     "input": [
      "#--\n",
      "#----\n",
      "#------\n",
      "#cell-0\n",
      "#cell-1\n",
      "#------\n",
      "#------\n",
      "#cell-2\n",
      "#cell-3\n",
      "#------\n",
      "#----\n",
      "#------\n",
      "#cell-4\n",
      "#cell-5\n",
      "#------\n",
      "#--"
     ],
     "language": "python",
     "metadata": {
      "parents_id": [
       {
        "36E4A8C535544F20BDF7A42B23C561B4": [
         {
          "891C4A2AC4F04793B572414D0B85C999": [
           {
            "uuid-cell-0": []
           },
           {
            "uuid-cell-1": []
           }
          ]
         },
         {
          "FCEC8434077C40A089C8F2085DE332CF": [
           {
            "uuid-cell-2": []
           },
           {
            "uuid-cell-3": []
           }
          ]
         }
        ]
       },
       {
        "D4E6A5AF8D464B7D9C57827F508A6ED8": [
         {
          "uuid-cell-4": []
         },
         {
          "uuid-cell-5": []
         }
        ]
       }
      ],
      "uuid": "6A86CF7B73C642B28E5B2774A561EFB5"
     },
     "outputs": [],
     "prompt_number": 4
    },
    {
     "cell_type": "code",
     "collapsed": false,
     "input": [
      "#------\n",
      "#cell-6\n",
      "#cell-7\n",
      "#------"
     ],
     "language": "python",
     "metadata": {
      "parents_id": [
       {
        "uuid-cell-6": []
       },
       {
        "uuid-cell-7": []
       }
      ],
      "uuid": "93C4CC933AD641C593B337E4FB47DE87"
     },
     "outputs": [],
     "prompt_number": 6
    },
    {
     "cell_type": "code",
     "collapsed": false,
     "input": [
      "#------\n",
      "#cell-8\n",
      "#cell-9\n",
      "#------"
     ],
     "language": "python",
     "metadata": {
      "parents_id": [
       {
        "uuid-cell-8": []
       },
       {
        "uuid-cell-9": []
       }
      ],
      "uuid": "B719D35D9FA44C24B0A1953B377DDA26"
     },
     "outputs": [],
     "prompt_number": 8
    }
   ],
   "metadata": {}
  }
 ]
}