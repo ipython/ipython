{
 "metadata": {
  "name": "000-test-merge-split"
 },
 "nbformat": 3,
 "nbformat_minor": 0,
 "worksheets": [
  {
   "cells": [
    {
     "cell_type": "code",
     "collapsed": false,
     "input": [
      "#cell-0"
     ],
     "language": "python",
     "metadata": {
      "parents_id": [],
      "uuid": "uuid-cell-0"
     },
     "outputs": [],
     "prompt_number": 11
    },
    {
     "cell_type": "code",
     "collapsed": false,
     "input": [
      "#cell-1"
     ],
     "language": "python",
     "metadata": {
      "parents_id": [],
      "uuid": "uuid-cell-1"
     },
     "outputs": [],
     "prompt_number": 10
    },
    {
     "cell_type": "code",
     "collapsed": false,
     "input": [
      "#cell-2"
     ],
     "language": "python",
     "metadata": {
      "parents_id": [],
      "uuid": "uuid-cell-2"
     },
     "outputs": [],
     "prompt_number": 2
    },
    {
     "cell_type": "code",
     "collapsed": false,
     "input": [
      "#cell-3"
     ],
     "language": "python",
     "metadata": {
      "parents_id": [],
      "uuid": "uuid-cell-3"
     },
     "outputs": [],
     "prompt_number": 3
    },
    {
     "cell_type": "code",
     "collapsed": false,
     "input": [
      "#cell-4"
     ],
     "language": "python",
     "metadata": {
      "parents_id": [],
      "uuid": "uuid-cell-4"
     },
     "outputs": [],
     "prompt_number": 4
    },
    {
     "cell_type": "code",
     "collapsed": false,
     "input": [
      "#cell-5"
     ],
     "language": "python",
     "metadata": {
      "parents_id": [],
      "uuid": "uuid-cell-5"
     },
     "outputs": [],
     "prompt_number": 5
    },
    {
     "cell_type": "code",
     "collapsed": false,
     "input": [
      "#cell-6"
     ],
     "language": "python",
     "metadata": {
      "parents_id": [],
      "uuid": "uuid-cell-6"
     },
     "outputs": [],
     "prompt_number": 6
    },
    {
     "cell_type": "code",
     "collapsed": false,
     "input": [
      "#cell-7"
     ],
     "language": "python",
     "metadata": {
      "parents_id": [],
      "uuid": "uuid-cell-7"
     },
     "outputs": [],
     "prompt_number": 7
    },
    {
     "cell_type": "code",
     "collapsed": false,
     "input": [
      "#cell-8"
     ],
     "language": "python",
     "metadata": {
      "parents_id": [],
      "uuid": "uuid-cell-8"
     },
     "outputs": [],
     "prompt_number": 8
    },
    {
     "cell_type": "code",
     "collapsed": false,
     "input": [
      "#cell-9"
     ],
     "language": "python",
     "metadata": {
      "parents_id": [],
      "uuid": "uuid-cell-9"
     },
     "outputs": [],
     "prompt_number": 9
    }
   ],
   "metadata": {}
  }
 ]
}
