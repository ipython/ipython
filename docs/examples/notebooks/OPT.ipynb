{
 "metadata": {
  "name": "OPT"
 },
 "nbformat": 3,
 "nbformat_minor": 0,
 "worksheets": [
  {
   "cells": [
    {
     "cell_type": "code",
     "collapsed": false,
     "input": [
      "from IPython.external.opt import pg_logger\n",
      "from IPython.display import display, Javascript\n",
      "from IPython.core.displaypub import publish_json\n",
      "from zmq.utils import jsonapi"
     ],
     "language": "python",
     "metadata": {},
     "outputs": [],
     "prompt_number": 1
    },
    {
     "cell_type": "code",
     "collapsed": false,
     "input": [
      "code = \"\"\"\n",
      "def fact(n):\n",
      "    if (n <= 1):\n",
      "        return 1\n",
      "    else:\n",
      "        return n * fact(n - 1)\n",
      "\n",
      "print(fact(6))\"\"\""
     ],
     "language": "python",
     "metadata": {},
     "outputs": [],
     "prompt_number": 2
    },
    {
     "cell_type": "code",
     "collapsed": false,
     "input": [
      "def finalizer(input_code, output_trace):\n",
      "    global data\n",
      "    ret = dict(code=input_code, trace=output_trace)\n",
      "    data = jsonapi.dumps(ret)"
     ],
     "language": "python",
     "metadata": {},
     "outputs": [],
     "prompt_number": 3
    },
    {
     "cell_type": "code",
     "collapsed": false,
     "input": [
      "pg_logger.exec_script_str(code, False, finalizer)"
     ],
     "language": "python",
     "metadata": {},
     "outputs": [],
     "prompt_number": 4
    },
    {
     "cell_type": "code",
     "collapsed": false,
     "input": [
      "publish_json(data, metadata=dict(foo=10))"
     ],
     "language": "python",
     "metadata": {},
     "outputs": [
      {
       "json": {
        "code": "\ndef fact(n):\n    if (n <= 1):\n        return 1\n    else:\n        return n * fact(n - 1)\n\nprint(fact(6))",
        "trace": [
         {
          "event": "step_line",
          "func_name": "<module>",
          "globals": {},
          "heap": {},
          "line": 2,
          "ordered_globals": [],
          "stack_to_render": [],
          "stdout": ""
         },
         {
          "event": "step_line",
          "func_name": "<module>",
          "globals": {
           "fact": [
            "REF",
            1
           ]
          },
          "heap": {
           "1": [
            "FUNCTION",
            "fact(n)",
            null
           ]
          },
          "line": 8,
          "ordered_globals": [
           "fact"
          ],
          "stack_to_render": [],
          "stdout": ""
         },
         {
          "event": "call",
          "func_name": "fact",
          "globals": {
           "fact": [
            "REF",
            1
           ]
          },
          "heap": {
           "1": [
            "FUNCTION",
            "fact(n)",
            null
           ]
          },
          "line": 2,
          "ordered_globals": [
           "fact"
          ],
          "stack_to_render": [
           {
            "encoded_locals": {
             "n": 6
            },
            "frame_id": 1,
            "func_name": "fact",
            "is_highlighted": true,
            "is_parent": false,
            "is_zombie": false,
            "ordered_varnames": [
             "n"
            ],
            "parent_frame_id_list": [],
            "unique_hash": "fact_f1"
           }
          ],
          "stdout": ""
         },
         {
          "event": "step_line",
          "func_name": "fact",
          "globals": {
           "fact": [
            "REF",
            1
           ]
          },
          "heap": {
           "1": [
            "FUNCTION",
            "fact(n)",
            null
           ]
          },
          "line": 3,
          "ordered_globals": [
           "fact"
          ],
          "stack_to_render": [
           {
            "encoded_locals": {
             "n": 6
            },
            "frame_id": 1,
            "func_name": "fact",
            "is_highlighted": true,
            "is_parent": false,
            "is_zombie": false,
            "ordered_varnames": [
             "n"
            ],
            "parent_frame_id_list": [],
            "unique_hash": "fact_f1"
           }
          ],
          "stdout": ""
         },
         {
          "event": "step_line",
          "func_name": "fact",
          "globals": {
           "fact": [
            "REF",
            1
           ]
          },
          "heap": {
           "1": [
            "FUNCTION",
            "fact(n)",
            null
           ]
          },
          "line": 6,
          "ordered_globals": [
           "fact"
          ],
          "stack_to_render": [
           {
            "encoded_locals": {
             "n": 6
            },
            "frame_id": 1,
            "func_name": "fact",
            "is_highlighted": true,
            "is_parent": false,
            "is_zombie": false,
            "ordered_varnames": [
             "n"
            ],
            "parent_frame_id_list": [],
            "unique_hash": "fact_f1"
           }
          ],
          "stdout": ""
         },
         {
          "event": "call",
          "func_name": "fact",
          "globals": {
           "fact": [
            "REF",
            1
           ]
          },
          "heap": {
           "1": [
            "FUNCTION",
            "fact(n)",
            null
           ]
          },
          "line": 2,
          "ordered_globals": [
           "fact"
          ],
          "stack_to_render": [
           {
            "encoded_locals": {
             "n": 6
            },
            "frame_id": 1,
            "func_name": "fact",
            "is_highlighted": false,
            "is_parent": false,
            "is_zombie": false,
            "ordered_varnames": [
             "n"
            ],
            "parent_frame_id_list": [],
            "unique_hash": "fact_f1"
           },
           {
            "encoded_locals": {
             "n": 5
            },
            "frame_id": 2,
            "func_name": "fact",
            "is_highlighted": true,
            "is_parent": false,
            "is_zombie": false,
            "ordered_varnames": [
             "n"
            ],
            "parent_frame_id_list": [],
            "unique_hash": "fact_f2"
           }
          ],
          "stdout": ""
         },
         {
          "event": "step_line",
          "func_name": "fact",
          "globals": {
           "fact": [
            "REF",
            1
           ]
          },
          "heap": {
           "1": [
            "FUNCTION",
            "fact(n)",
            null
           ]
          },
          "line": 3,
          "ordered_globals": [
           "fact"
          ],
          "stack_to_render": [
           {
            "encoded_locals": {
             "n": 6
            },
            "frame_id": 1,
            "func_name": "fact",
            "is_highlighted": false,
            "is_parent": false,
            "is_zombie": false,
            "ordered_varnames": [
             "n"
            ],
            "parent_frame_id_list": [],
            "unique_hash": "fact_f1"
           },
           {
            "encoded_locals": {
             "n": 5
            },
            "frame_id": 2,
            "func_name": "fact",
            "is_highlighted": true,
            "is_parent": false,
            "is_zombie": false,
            "ordered_varnames": [
             "n"
            ],
            "parent_frame_id_list": [],
            "unique_hash": "fact_f2"
           }
          ],
          "stdout": ""
         },
         {
          "event": "step_line",
          "func_name": "fact",
          "globals": {
           "fact": [
            "REF",
            1
           ]
          },
          "heap": {
           "1": [
            "FUNCTION",
            "fact(n)",
            null
           ]
          },
          "line": 6,
          "ordered_globals": [
           "fact"
          ],
          "stack_to_render": [
           {
            "encoded_locals": {
             "n": 6
            },
            "frame_id": 1,
            "func_name": "fact",
            "is_highlighted": false,
            "is_parent": false,
            "is_zombie": false,
            "ordered_varnames": [
             "n"
            ],
            "parent_frame_id_list": [],
            "unique_hash": "fact_f1"
           },
           {
            "encoded_locals": {
             "n": 5
            },
            "frame_id": 2,
            "func_name": "fact",
            "is_highlighted": true,
            "is_parent": false,
            "is_zombie": false,
            "ordered_varnames": [
             "n"
            ],
            "parent_frame_id_list": [],
            "unique_hash": "fact_f2"
           }
          ],
          "stdout": ""
         },
         {
          "event": "call",
          "func_name": "fact",
          "globals": {
           "fact": [
            "REF",
            1
           ]
          },
          "heap": {
           "1": [
            "FUNCTION",
            "fact(n)",
            null
           ]
          },
          "line": 2,
          "ordered_globals": [
           "fact"
          ],
          "stack_to_render": [
           {
            "encoded_locals": {
             "n": 6
            },
            "frame_id": 1,
            "func_name": "fact",
            "is_highlighted": false,
            "is_parent": false,
            "is_zombie": false,
            "ordered_varnames": [
             "n"
            ],
            "parent_frame_id_list": [],
            "unique_hash": "fact_f1"
           },
           {
            "encoded_locals": {
             "n": 5
            },
            "frame_id": 2,
            "func_name": "fact",
            "is_highlighted": false,
            "is_parent": false,
            "is_zombie": false,
            "ordered_varnames": [
             "n"
            ],
            "parent_frame_id_list": [],
            "unique_hash": "fact_f2"
           },
           {
            "encoded_locals": {
             "n": 4
            },
            "frame_id": 3,
            "func_name": "fact",
            "is_highlighted": true,
            "is_parent": false,
            "is_zombie": false,
            "ordered_varnames": [
             "n"
            ],
            "parent_frame_id_list": [],
            "unique_hash": "fact_f3"
           }
          ],
          "stdout": ""
         },
         {
          "event": "step_line",
          "func_name": "fact",
          "globals": {
           "fact": [
            "REF",
            1
           ]
          },
          "heap": {
           "1": [
            "FUNCTION",
            "fact(n)",
            null
           ]
          },
          "line": 3,
          "ordered_globals": [
           "fact"
          ],
          "stack_to_render": [
           {
            "encoded_locals": {
             "n": 6
            },
            "frame_id": 1,
            "func_name": "fact",
            "is_highlighted": false,
            "is_parent": false,
            "is_zombie": false,
            "ordered_varnames": [
             "n"
            ],
            "parent_frame_id_list": [],
            "unique_hash": "fact_f1"
           },
           {
            "encoded_locals": {
             "n": 5
            },
            "frame_id": 2,
            "func_name": "fact",
            "is_highlighted": false,
            "is_parent": false,
            "is_zombie": false,
            "ordered_varnames": [
             "n"
            ],
            "parent_frame_id_list": [],
            "unique_hash": "fact_f2"
           },
           {
            "encoded_locals": {
             "n": 4
            },
            "frame_id": 3,
            "func_name": "fact",
            "is_highlighted": true,
            "is_parent": false,
            "is_zombie": false,
            "ordered_varnames": [
             "n"
            ],
            "parent_frame_id_list": [],
            "unique_hash": "fact_f3"
           }
          ],
          "stdout": ""
         },
         {
          "event": "step_line",
          "func_name": "fact",
          "globals": {
           "fact": [
            "REF",
            1
           ]
          },
          "heap": {
           "1": [
            "FUNCTION",
            "fact(n)",
            null
           ]
          },
          "line": 6,
          "ordered_globals": [
           "fact"
          ],
          "stack_to_render": [
           {
            "encoded_locals": {
             "n": 6
            },
            "frame_id": 1,
            "func_name": "fact",
            "is_highlighted": false,
            "is_parent": false,
            "is_zombie": false,
            "ordered_varnames": [
             "n"
            ],
            "parent_frame_id_list": [],
            "unique_hash": "fact_f1"
           },
           {
            "encoded_locals": {
             "n": 5
            },
            "frame_id": 2,
            "func_name": "fact",
            "is_highlighted": false,
            "is_parent": false,
            "is_zombie": false,
            "ordered_varnames": [
             "n"
            ],
            "parent_frame_id_list": [],
            "unique_hash": "fact_f2"
           },
           {
            "encoded_locals": {
             "n": 4
            },
            "frame_id": 3,
            "func_name": "fact",
            "is_highlighted": true,
            "is_parent": false,
            "is_zombie": false,
            "ordered_varnames": [
             "n"
            ],
            "parent_frame_id_list": [],
            "unique_hash": "fact_f3"
           }
          ],
          "stdout": ""
         },
         {
          "event": "call",
          "func_name": "fact",
          "globals": {
           "fact": [
            "REF",
            1
           ]
          },
          "heap": {
           "1": [
            "FUNCTION",
            "fact(n)",
            null
           ]
          },
          "line": 2,
          "ordered_globals": [
           "fact"
          ],
          "stack_to_render": [
           {
            "encoded_locals": {
             "n": 6
            },
            "frame_id": 1,
            "func_name": "fact",
            "is_highlighted": false,
            "is_parent": false,
            "is_zombie": false,
            "ordered_varnames": [
             "n"
            ],
            "parent_frame_id_list": [],
            "unique_hash": "fact_f1"
           },
           {
            "encoded_locals": {
             "n": 5
            },
            "frame_id": 2,
            "func_name": "fact",
            "is_highlighted": false,
            "is_parent": false,
            "is_zombie": false,
            "ordered_varnames": [
             "n"
            ],
            "parent_frame_id_list": [],
            "unique_hash": "fact_f2"
           },
           {
            "encoded_locals": {
             "n": 4
            },
            "frame_id": 3,
            "func_name": "fact",
            "is_highlighted": false,
            "is_parent": false,
            "is_zombie": false,
            "ordered_varnames": [
             "n"
            ],
            "parent_frame_id_list": [],
            "unique_hash": "fact_f3"
           },
           {
            "encoded_locals": {
             "n": 3
            },
            "frame_id": 4,
            "func_name": "fact",
            "is_highlighted": true,
            "is_parent": false,
            "is_zombie": false,
            "ordered_varnames": [
             "n"
            ],
            "parent_frame_id_list": [],
            "unique_hash": "fact_f4"
           }
          ],
          "stdout": ""
         },
         {
          "event": "step_line",
          "func_name": "fact",
          "globals": {
           "fact": [
            "REF",
            1
           ]
          },
          "heap": {
           "1": [
            "FUNCTION",
            "fact(n)",
            null
           ]
          },
          "line": 3,
          "ordered_globals": [
           "fact"
          ],
          "stack_to_render": [
           {
            "encoded_locals": {
             "n": 6
            },
            "frame_id": 1,
            "func_name": "fact",
            "is_highlighted": false,
            "is_parent": false,
            "is_zombie": false,
            "ordered_varnames": [
             "n"
            ],
            "parent_frame_id_list": [],
            "unique_hash": "fact_f1"
           },
           {
            "encoded_locals": {
             "n": 5
            },
            "frame_id": 2,
            "func_name": "fact",
            "is_highlighted": false,
            "is_parent": false,
            "is_zombie": false,
            "ordered_varnames": [
             "n"
            ],
            "parent_frame_id_list": [],
            "unique_hash": "fact_f2"
           },
           {
            "encoded_locals": {
             "n": 4
            },
            "frame_id": 3,
            "func_name": "fact",
            "is_highlighted": false,
            "is_parent": false,
            "is_zombie": false,
            "ordered_varnames": [
             "n"
            ],
            "parent_frame_id_list": [],
            "unique_hash": "fact_f3"
           },
           {
            "encoded_locals": {
             "n": 3
            },
            "frame_id": 4,
            "func_name": "fact",
            "is_highlighted": true,
            "is_parent": false,
            "is_zombie": false,
            "ordered_varnames": [
             "n"
            ],
            "parent_frame_id_list": [],
            "unique_hash": "fact_f4"
           }
          ],
          "stdout": ""
         },
         {
          "event": "step_line",
          "func_name": "fact",
          "globals": {
           "fact": [
            "REF",
            1
           ]
          },
          "heap": {
           "1": [
            "FUNCTION",
            "fact(n)",
            null
           ]
          },
          "line": 6,
          "ordered_globals": [
           "fact"
          ],
          "stack_to_render": [
           {
            "encoded_locals": {
             "n": 6
            },
            "frame_id": 1,
            "func_name": "fact",
            "is_highlighted": false,
            "is_parent": false,
            "is_zombie": false,
            "ordered_varnames": [
             "n"
            ],
            "parent_frame_id_list": [],
            "unique_hash": "fact_f1"
           },
           {
            "encoded_locals": {
             "n": 5
            },
            "frame_id": 2,
            "func_name": "fact",
            "is_highlighted": false,
            "is_parent": false,
            "is_zombie": false,
            "ordered_varnames": [
             "n"
            ],
            "parent_frame_id_list": [],
            "unique_hash": "fact_f2"
           },
           {
            "encoded_locals": {
             "n": 4
            },
            "frame_id": 3,
            "func_name": "fact",
            "is_highlighted": false,
            "is_parent": false,
            "is_zombie": false,
            "ordered_varnames": [
             "n"
            ],
            "parent_frame_id_list": [],
            "unique_hash": "fact_f3"
           },
           {
            "encoded_locals": {
             "n": 3
            },
            "frame_id": 4,
            "func_name": "fact",
            "is_highlighted": true,
            "is_parent": false,
            "is_zombie": false,
            "ordered_varnames": [
             "n"
            ],
            "parent_frame_id_list": [],
            "unique_hash": "fact_f4"
           }
          ],
          "stdout": ""
         },
         {
          "event": "call",
          "func_name": "fact",
          "globals": {
           "fact": [
            "REF",
            1
           ]
          },
          "heap": {
           "1": [
            "FUNCTION",
            "fact(n)",
            null
           ]
          },
          "line": 2,
          "ordered_globals": [
           "fact"
          ],
          "stack_to_render": [
           {
            "encoded_locals": {
             "n": 6
            },
            "frame_id": 1,
            "func_name": "fact",
            "is_highlighted": false,
            "is_parent": false,
            "is_zombie": false,
            "ordered_varnames": [
             "n"
            ],
            "parent_frame_id_list": [],
            "unique_hash": "fact_f1"
           },
           {
            "encoded_locals": {
             "n": 5
            },
            "frame_id": 2,
            "func_name": "fact",
            "is_highlighted": false,
            "is_parent": false,
            "is_zombie": false,
            "ordered_varnames": [
             "n"
            ],
            "parent_frame_id_list": [],
            "unique_hash": "fact_f2"
           },
           {
            "encoded_locals": {
             "n": 4
            },
            "frame_id": 3,
            "func_name": "fact",
            "is_highlighted": false,
            "is_parent": false,
            "is_zombie": false,
            "ordered_varnames": [
             "n"
            ],
            "parent_frame_id_list": [],
            "unique_hash": "fact_f3"
           },
           {
            "encoded_locals": {
             "n": 3
            },
            "frame_id": 4,
            "func_name": "fact",
            "is_highlighted": false,
            "is_parent": false,
            "is_zombie": false,
            "ordered_varnames": [
             "n"
            ],
            "parent_frame_id_list": [],
            "unique_hash": "fact_f4"
           },
           {
            "encoded_locals": {
             "n": 2
            },
            "frame_id": 5,
            "func_name": "fact",
            "is_highlighted": true,
            "is_parent": false,
            "is_zombie": false,
            "ordered_varnames": [
             "n"
            ],
            "parent_frame_id_list": [],
            "unique_hash": "fact_f5"
           }
          ],
          "stdout": ""
         },
         {
          "event": "step_line",
          "func_name": "fact",
          "globals": {
           "fact": [
            "REF",
            1
           ]
          },
          "heap": {
           "1": [
            "FUNCTION",
            "fact(n)",
            null
           ]
          },
          "line": 3,
          "ordered_globals": [
           "fact"
          ],
          "stack_to_render": [
           {
            "encoded_locals": {
             "n": 6
            },
            "frame_id": 1,
            "func_name": "fact",
            "is_highlighted": false,
            "is_parent": false,
            "is_zombie": false,
            "ordered_varnames": [
             "n"
            ],
            "parent_frame_id_list": [],
            "unique_hash": "fact_f1"
           },
           {
            "encoded_locals": {
             "n": 5
            },
            "frame_id": 2,
            "func_name": "fact",
            "is_highlighted": false,
            "is_parent": false,
            "is_zombie": false,
            "ordered_varnames": [
             "n"
            ],
            "parent_frame_id_list": [],
            "unique_hash": "fact_f2"
           },
           {
            "encoded_locals": {
             "n": 4
            },
            "frame_id": 3,
            "func_name": "fact",
            "is_highlighted": false,
            "is_parent": false,
            "is_zombie": false,
            "ordered_varnames": [
             "n"
            ],
            "parent_frame_id_list": [],
            "unique_hash": "fact_f3"
           },
           {
            "encoded_locals": {
             "n": 3
            },
            "frame_id": 4,
            "func_name": "fact",
            "is_highlighted": false,
            "is_parent": false,
            "is_zombie": false,
            "ordered_varnames": [
             "n"
            ],
            "parent_frame_id_list": [],
            "unique_hash": "fact_f4"
           },
           {
            "encoded_locals": {
             "n": 2
            },
            "frame_id": 5,
            "func_name": "fact",
            "is_highlighted": true,
            "is_parent": false,
            "is_zombie": false,
            "ordered_varnames": [
             "n"
            ],
            "parent_frame_id_list": [],
            "unique_hash": "fact_f5"
           }
          ],
          "stdout": ""
         },
         {
          "event": "step_line",
          "func_name": "fact",
          "globals": {
           "fact": [
            "REF",
            1
           ]
          },
          "heap": {
           "1": [
            "FUNCTION",
            "fact(n)",
            null
           ]
          },
          "line": 6,
          "ordered_globals": [
           "fact"
          ],
          "stack_to_render": [
           {
            "encoded_locals": {
             "n": 6
            },
            "frame_id": 1,
            "func_name": "fact",
            "is_highlighted": false,
            "is_parent": false,
            "is_zombie": false,
            "ordered_varnames": [
             "n"
            ],
            "parent_frame_id_list": [],
            "unique_hash": "fact_f1"
           },
           {
            "encoded_locals": {
             "n": 5
            },
            "frame_id": 2,
            "func_name": "fact",
            "is_highlighted": false,
            "is_parent": false,
            "is_zombie": false,
            "ordered_varnames": [
             "n"
            ],
            "parent_frame_id_list": [],
            "unique_hash": "fact_f2"
           },
           {
            "encoded_locals": {
             "n": 4
            },
            "frame_id": 3,
            "func_name": "fact",
            "is_highlighted": false,
            "is_parent": false,
            "is_zombie": false,
            "ordered_varnames": [
             "n"
            ],
            "parent_frame_id_list": [],
            "unique_hash": "fact_f3"
           },
           {
            "encoded_locals": {
             "n": 3
            },
            "frame_id": 4,
            "func_name": "fact",
            "is_highlighted": false,
            "is_parent": false,
            "is_zombie": false,
            "ordered_varnames": [
             "n"
            ],
            "parent_frame_id_list": [],
            "unique_hash": "fact_f4"
           },
           {
            "encoded_locals": {
             "n": 2
            },
            "frame_id": 5,
            "func_name": "fact",
            "is_highlighted": true,
            "is_parent": false,
            "is_zombie": false,
            "ordered_varnames": [
             "n"
            ],
            "parent_frame_id_list": [],
            "unique_hash": "fact_f5"
           }
          ],
          "stdout": ""
         },
         {
          "event": "call",
          "func_name": "fact",
          "globals": {
           "fact": [
            "REF",
            1
           ]
          },
          "heap": {
           "1": [
            "FUNCTION",
            "fact(n)",
            null
           ]
          },
          "line": 2,
          "ordered_globals": [
           "fact"
          ],
          "stack_to_render": [
           {
            "encoded_locals": {
             "n": 6
            },
            "frame_id": 1,
            "func_name": "fact",
            "is_highlighted": false,
            "is_parent": false,
            "is_zombie": false,
            "ordered_varnames": [
             "n"
            ],
            "parent_frame_id_list": [],
            "unique_hash": "fact_f1"
           },
           {
            "encoded_locals": {
             "n": 5
            },
            "frame_id": 2,
            "func_name": "fact",
            "is_highlighted": false,
            "is_parent": false,
            "is_zombie": false,
            "ordered_varnames": [
             "n"
            ],
            "parent_frame_id_list": [],
            "unique_hash": "fact_f2"
           },
           {
            "encoded_locals": {
             "n": 4
            },
            "frame_id": 3,
            "func_name": "fact",
            "is_highlighted": false,
            "is_parent": false,
            "is_zombie": false,
            "ordered_varnames": [
             "n"
            ],
            "parent_frame_id_list": [],
            "unique_hash": "fact_f3"
           },
           {
            "encoded_locals": {
             "n": 3
            },
            "frame_id": 4,
            "func_name": "fact",
            "is_highlighted": false,
            "is_parent": false,
            "is_zombie": false,
            "ordered_varnames": [
             "n"
            ],
            "parent_frame_id_list": [],
            "unique_hash": "fact_f4"
           },
           {
            "encoded_locals": {
             "n": 2
            },
            "frame_id": 5,
            "func_name": "fact",
            "is_highlighted": false,
            "is_parent": false,
            "is_zombie": false,
            "ordered_varnames": [
             "n"
            ],
            "parent_frame_id_list": [],
            "unique_hash": "fact_f5"
           },
           {
            "encoded_locals": {
             "n": 1
            },
            "frame_id": 6,
            "func_name": "fact",
            "is_highlighted": true,
            "is_parent": false,
            "is_zombie": false,
            "ordered_varnames": [
             "n"
            ],
            "parent_frame_id_list": [],
            "unique_hash": "fact_f6"
           }
          ],
          "stdout": ""
         },
         {
          "event": "step_line",
          "func_name": "fact",
          "globals": {
           "fact": [
            "REF",
            1
           ]
          },
          "heap": {
           "1": [
            "FUNCTION",
            "fact(n)",
            null
           ]
          },
          "line": 3,
          "ordered_globals": [
           "fact"
          ],
          "stack_to_render": [
           {
            "encoded_locals": {
             "n": 6
            },
            "frame_id": 1,
            "func_name": "fact",
            "is_highlighted": false,
            "is_parent": false,
            "is_zombie": false,
            "ordered_varnames": [
             "n"
            ],
            "parent_frame_id_list": [],
            "unique_hash": "fact_f1"
           },
           {
            "encoded_locals": {
             "n": 5
            },
            "frame_id": 2,
            "func_name": "fact",
            "is_highlighted": false,
            "is_parent": false,
            "is_zombie": false,
            "ordered_varnames": [
             "n"
            ],
            "parent_frame_id_list": [],
            "unique_hash": "fact_f2"
           },
           {
            "encoded_locals": {
             "n": 4
            },
            "frame_id": 3,
            "func_name": "fact",
            "is_highlighted": false,
            "is_parent": false,
            "is_zombie": false,
            "ordered_varnames": [
             "n"
            ],
            "parent_frame_id_list": [],
            "unique_hash": "fact_f3"
           },
           {
            "encoded_locals": {
             "n": 3
            },
            "frame_id": 4,
            "func_name": "fact",
            "is_highlighted": false,
            "is_parent": false,
            "is_zombie": false,
            "ordered_varnames": [
             "n"
            ],
            "parent_frame_id_list": [],
            "unique_hash": "fact_f4"
           },
           {
            "encoded_locals": {
             "n": 2
            },
            "frame_id": 5,
            "func_name": "fact",
            "is_highlighted": false,
            "is_parent": false,
            "is_zombie": false,
            "ordered_varnames": [
             "n"
            ],
            "parent_frame_id_list": [],
            "unique_hash": "fact_f5"
           },
           {
            "encoded_locals": {
             "n": 1
            },
            "frame_id": 6,
            "func_name": "fact",
            "is_highlighted": true,
            "is_parent": false,
            "is_zombie": false,
            "ordered_varnames": [
             "n"
            ],
            "parent_frame_id_list": [],
            "unique_hash": "fact_f6"
           }
          ],
          "stdout": ""
         },
         {
          "event": "step_line",
          "func_name": "fact",
          "globals": {
           "fact": [
            "REF",
            1
           ]
          },
          "heap": {
           "1": [
            "FUNCTION",
            "fact(n)",
            null
           ]
          },
          "line": 4,
          "ordered_globals": [
           "fact"
          ],
          "stack_to_render": [
           {
            "encoded_locals": {
             "n": 6
            },
            "frame_id": 1,
            "func_name": "fact",
            "is_highlighted": false,
            "is_parent": false,
            "is_zombie": false,
            "ordered_varnames": [
             "n"
            ],
            "parent_frame_id_list": [],
            "unique_hash": "fact_f1"
           },
           {
            "encoded_locals": {
             "n": 5
            },
            "frame_id": 2,
            "func_name": "fact",
            "is_highlighted": false,
            "is_parent": false,
            "is_zombie": false,
            "ordered_varnames": [
             "n"
            ],
            "parent_frame_id_list": [],
            "unique_hash": "fact_f2"
           },
           {
            "encoded_locals": {
             "n": 4
            },
            "frame_id": 3,
            "func_name": "fact",
            "is_highlighted": false,
            "is_parent": false,
            "is_zombie": false,
            "ordered_varnames": [
             "n"
            ],
            "parent_frame_id_list": [],
            "unique_hash": "fact_f3"
           },
           {
            "encoded_locals": {
             "n": 3
            },
            "frame_id": 4,
            "func_name": "fact",
            "is_highlighted": false,
            "is_parent": false,
            "is_zombie": false,
            "ordered_varnames": [
             "n"
            ],
            "parent_frame_id_list": [],
            "unique_hash": "fact_f4"
           },
           {
            "encoded_locals": {
             "n": 2
            },
            "frame_id": 5,
            "func_name": "fact",
            "is_highlighted": false,
            "is_parent": false,
            "is_zombie": false,
            "ordered_varnames": [
             "n"
            ],
            "parent_frame_id_list": [],
            "unique_hash": "fact_f5"
           },
           {
            "encoded_locals": {
             "n": 1
            },
            "frame_id": 6,
            "func_name": "fact",
            "is_highlighted": true,
            "is_parent": false,
            "is_zombie": false,
            "ordered_varnames": [
             "n"
            ],
            "parent_frame_id_list": [],
            "unique_hash": "fact_f6"
           }
          ],
          "stdout": ""
         },
         {
          "event": "return",
          "func_name": "fact",
          "globals": {
           "fact": [
            "REF",
            1
           ]
          },
          "heap": {
           "1": [
            "FUNCTION",
            "fact(n)",
            null
           ]
          },
          "line": 4,
          "ordered_globals": [
           "fact"
          ],
          "stack_to_render": [
           {
            "encoded_locals": {
             "n": 6
            },
            "frame_id": 1,
            "func_name": "fact",
            "is_highlighted": false,
            "is_parent": false,
            "is_zombie": false,
            "ordered_varnames": [
             "n"
            ],
            "parent_frame_id_list": [],
            "unique_hash": "fact_f1"
           },
           {
            "encoded_locals": {
             "n": 5
            },
            "frame_id": 2,
            "func_name": "fact",
            "is_highlighted": false,
            "is_parent": false,
            "is_zombie": false,
            "ordered_varnames": [
             "n"
            ],
            "parent_frame_id_list": [],
            "unique_hash": "fact_f2"
           },
           {
            "encoded_locals": {
             "n": 4
            },
            "frame_id": 3,
            "func_name": "fact",
            "is_highlighted": false,
            "is_parent": false,
            "is_zombie": false,
            "ordered_varnames": [
             "n"
            ],
            "parent_frame_id_list": [],
            "unique_hash": "fact_f3"
           },
           {
            "encoded_locals": {
             "n": 3
            },
            "frame_id": 4,
            "func_name": "fact",
            "is_highlighted": false,
            "is_parent": false,
            "is_zombie": false,
            "ordered_varnames": [
             "n"
            ],
            "parent_frame_id_list": [],
            "unique_hash": "fact_f4"
           },
           {
            "encoded_locals": {
             "n": 2
            },
            "frame_id": 5,
            "func_name": "fact",
            "is_highlighted": false,
            "is_parent": false,
            "is_zombie": false,
            "ordered_varnames": [
             "n"
            ],
            "parent_frame_id_list": [],
            "unique_hash": "fact_f5"
           },
           {
            "encoded_locals": {
             "__return__": 1,
             "n": 1
            },
            "frame_id": 6,
            "func_name": "fact",
            "is_highlighted": true,
            "is_parent": false,
            "is_zombie": false,
            "ordered_varnames": [
             "n",
             "__return__"
            ],
            "parent_frame_id_list": [],
            "unique_hash": "fact_f6"
           }
          ],
          "stdout": ""
         },
         {
          "event": "return",
          "func_name": "fact",
          "globals": {
           "fact": [
            "REF",
            1
           ]
          },
          "heap": {
           "1": [
            "FUNCTION",
            "fact(n)",
            null
           ]
          },
          "line": 6,
          "ordered_globals": [
           "fact"
          ],
          "stack_to_render": [
           {
            "encoded_locals": {
             "n": 6
            },
            "frame_id": 1,
            "func_name": "fact",
            "is_highlighted": false,
            "is_parent": false,
            "is_zombie": false,
            "ordered_varnames": [
             "n"
            ],
            "parent_frame_id_list": [],
            "unique_hash": "fact_f1"
           },
           {
            "encoded_locals": {
             "n": 5
            },
            "frame_id": 2,
            "func_name": "fact",
            "is_highlighted": false,
            "is_parent": false,
            "is_zombie": false,
            "ordered_varnames": [
             "n"
            ],
            "parent_frame_id_list": [],
            "unique_hash": "fact_f2"
           },
           {
            "encoded_locals": {
             "n": 4
            },
            "frame_id": 3,
            "func_name": "fact",
            "is_highlighted": false,
            "is_parent": false,
            "is_zombie": false,
            "ordered_varnames": [
             "n"
            ],
            "parent_frame_id_list": [],
            "unique_hash": "fact_f3"
           },
           {
            "encoded_locals": {
             "n": 3
            },
            "frame_id": 4,
            "func_name": "fact",
            "is_highlighted": false,
            "is_parent": false,
            "is_zombie": false,
            "ordered_varnames": [
             "n"
            ],
            "parent_frame_id_list": [],
            "unique_hash": "fact_f4"
           },
           {
            "encoded_locals": {
             "__return__": 2,
             "n": 2
            },
            "frame_id": 5,
            "func_name": "fact",
            "is_highlighted": true,
            "is_parent": false,
            "is_zombie": false,
            "ordered_varnames": [
             "n",
             "__return__"
            ],
            "parent_frame_id_list": [],
            "unique_hash": "fact_f5"
           }
          ],
          "stdout": ""
         },
         {
          "event": "return",
          "func_name": "fact",
          "globals": {
           "fact": [
            "REF",
            1
           ]
          },
          "heap": {
           "1": [
            "FUNCTION",
            "fact(n)",
            null
           ]
          },
          "line": 6,
          "ordered_globals": [
           "fact"
          ],
          "stack_to_render": [
           {
            "encoded_locals": {
             "n": 6
            },
            "frame_id": 1,
            "func_name": "fact",
            "is_highlighted": false,
            "is_parent": false,
            "is_zombie": false,
            "ordered_varnames": [
             "n"
            ],
            "parent_frame_id_list": [],
            "unique_hash": "fact_f1"
           },
           {
            "encoded_locals": {
             "n": 5
            },
            "frame_id": 2,
            "func_name": "fact",
            "is_highlighted": false,
            "is_parent": false,
            "is_zombie": false,
            "ordered_varnames": [
             "n"
            ],
            "parent_frame_id_list": [],
            "unique_hash": "fact_f2"
           },
           {
            "encoded_locals": {
             "n": 4
            },
            "frame_id": 3,
            "func_name": "fact",
            "is_highlighted": false,
            "is_parent": false,
            "is_zombie": false,
            "ordered_varnames": [
             "n"
            ],
            "parent_frame_id_list": [],
            "unique_hash": "fact_f3"
           },
           {
            "encoded_locals": {
             "__return__": 6,
             "n": 3
            },
            "frame_id": 4,
            "func_name": "fact",
            "is_highlighted": true,
            "is_parent": false,
            "is_zombie": false,
            "ordered_varnames": [
             "n",
             "__return__"
            ],
            "parent_frame_id_list": [],
            "unique_hash": "fact_f4"
           }
          ],
          "stdout": ""
         },
         {
          "event": "return",
          "func_name": "fact",
          "globals": {
           "fact": [
            "REF",
            1
           ]
          },
          "heap": {
           "1": [
            "FUNCTION",
            "fact(n)",
            null
           ]
          },
          "line": 6,
          "ordered_globals": [
           "fact"
          ],
          "stack_to_render": [
           {
            "encoded_locals": {
             "n": 6
            },
            "frame_id": 1,
            "func_name": "fact",
            "is_highlighted": false,
            "is_parent": false,
            "is_zombie": false,
            "ordered_varnames": [
             "n"
            ],
            "parent_frame_id_list": [],
            "unique_hash": "fact_f1"
           },
           {
            "encoded_locals": {
             "n": 5
            },
            "frame_id": 2,
            "func_name": "fact",
            "is_highlighted": false,
            "is_parent": false,
            "is_zombie": false,
            "ordered_varnames": [
             "n"
            ],
            "parent_frame_id_list": [],
            "unique_hash": "fact_f2"
           },
           {
            "encoded_locals": {
             "__return__": 24,
             "n": 4
            },
            "frame_id": 3,
            "func_name": "fact",
            "is_highlighted": true,
            "is_parent": false,
            "is_zombie": false,
            "ordered_varnames": [
             "n",
             "__return__"
            ],
            "parent_frame_id_list": [],
            "unique_hash": "fact_f3"
           }
          ],
          "stdout": ""
         },
         {
          "event": "return",
          "func_name": "fact",
          "globals": {
           "fact": [
            "REF",
            1
           ]
          },
          "heap": {
           "1": [
            "FUNCTION",
            "fact(n)",
            null
           ]
          },
          "line": 6,
          "ordered_globals": [
           "fact"
          ],
          "stack_to_render": [
           {
            "encoded_locals": {
             "n": 6
            },
            "frame_id": 1,
            "func_name": "fact",
            "is_highlighted": false,
            "is_parent": false,
            "is_zombie": false,
            "ordered_varnames": [
             "n"
            ],
            "parent_frame_id_list": [],
            "unique_hash": "fact_f1"
           },
           {
            "encoded_locals": {
             "__return__": 120,
             "n": 5
            },
            "frame_id": 2,
            "func_name": "fact",
            "is_highlighted": true,
            "is_parent": false,
            "is_zombie": false,
            "ordered_varnames": [
             "n",
             "__return__"
            ],
            "parent_frame_id_list": [],
            "unique_hash": "fact_f2"
           }
          ],
          "stdout": ""
         },
         {
          "event": "return",
          "func_name": "fact",
          "globals": {
           "fact": [
            "REF",
            1
           ]
          },
          "heap": {
           "1": [
            "FUNCTION",
            "fact(n)",
            null
           ]
          },
          "line": 6,
          "ordered_globals": [
           "fact"
          ],
          "stack_to_render": [
           {
            "encoded_locals": {
             "__return__": 720,
             "n": 6
            },
            "frame_id": 1,
            "func_name": "fact",
            "is_highlighted": true,
            "is_parent": false,
            "is_zombie": false,
            "ordered_varnames": [
             "n",
             "__return__"
            ],
            "parent_frame_id_list": [],
            "unique_hash": "fact_f1"
           }
          ],
          "stdout": ""
         },
         {
          "event": "return",
          "func_name": "<module>",
          "globals": {
           "fact": [
            "REF",
            1
           ]
          },
          "heap": {
           "1": [
            "FUNCTION",
            "fact(n)",
            null
           ]
          },
          "line": 8,
          "ordered_globals": [
           "fact"
          ],
          "stack_to_render": [],
          "stdout": "720\n"
         }
        ]
       },
       "output_type": "display_data"
      }
     ],
     "prompt_number": 5
    },
    {
     "cell_type": "code",
     "collapsed": false,
     "input": [],
     "language": "python",
     "metadata": {},
     "outputs": []
    }
   ],
   "metadata": {}
  }
 ]
}