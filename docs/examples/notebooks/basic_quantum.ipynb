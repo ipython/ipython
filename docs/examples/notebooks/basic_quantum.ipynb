{
    "metadata": {
        "name": "basic_quantum"
    }, 
    "nbformat": 2, 
    "worksheets": [
        {
            "cells": [
                {
                    "cell_type": "markdown", 
                    "source": [
                        "<h1>Basic Symbolic Quantum Mechanics</h1>"
                    ]
                }, 
                {
                    "cell_type": "code", 
                    "collapsed": true, 
                    "input": [
                        "%load_ext sympyprinting"
                    ], 
                    "language": "python", 
                    "outputs": [], 
                    "prompt_number": 18
                }, 
                {
                    "cell_type": "code", 
                    "collapsed": true, 
                    "input": [
                        "from sympy import sqrt, symbols, Rational", 
                        "from sympy import expand, Eq, Symbol, simplify, exp, sin", 
                        "from sympy.physics.quantum import *", 
                        "from sympy.physics.quantum.qubit import *", 
                        "from sympy.physics.quantum.gate import *", 
                        "from sympy.physics.quantum.grover import *", 
                        "from sympy.physics.quantum.qft import QFT, IQFT, Fourier", 
                        "from sympy.physics.quantum.circuitplot import circuit_plot"
                    ], 
                    "language": "python", 
                    "outputs": [], 
                    "prompt_number": 19
                }, 
                {
                    "cell_type": "markdown", 
                    "source": [
                        "<h2>Bras and Kets</h2>"
                    ]
                }, 
                {
                    "cell_type": "markdown", 
                    "source": [
                        "Create symbolic states"
                    ]
                }, 
                {
                    "cell_type": "code", 
                    "collapsed": true, 
                    "input": [
                        "phi, psi = Ket('phi'), Ket('psi')", 
                        "alpha, beta = symbols('alpha beta', complex=True)"
                    ], 
                    "language": "python", 
                    "outputs": [], 
                    "prompt_number": 20
                }, 
                {
                    "cell_type": "markdown", 
                    "source": [
                        "Create a superposition"
                    ]
                }, 
                {
                    "cell_type": "code", 
                    "collapsed": false, 
                    "input": [
                        "state = alpha*psi + beta*phi; state"
                    ], 
                    "language": "python", 
                    "outputs": [
                        {
                            "latex": [
                                "$$\\alpha {\\left|\\psi\\right\\rangle } + \\beta {\\left|\\phi\\right\\rangle }$$"
                            ], 
                            "output_type": "pyout", 
                            "png": "[encoded data removed]", 
                            "prompt_number": 21, 
                            "text": [
                                "\u03b1\u22c5\u2758\u03c8\u27e9 + \u03b2\u22c5\u2758\u03c6\u27e9"
                            ]
                        }
                    ], 
                    "prompt_number": 21
                }, 
                {
                    "cell_type": "markdown", 
                    "source": [
                        "Dagger the superposition and multiply the original"
                    ]
                }, 
                {
                    "cell_type": "code", 
                    "collapsed": false, 
                    "input": [
                        "ip = Dagger(state)*state; ip"
                    ], 
                    "language": "python", 
                    "outputs": [
                        {
                            "latex": [
                                "$$\\left(\\overline{\\alpha} {\\left\\langle \\psi\\right|} + \\overline{\\beta} {\\left\\langle \\phi\\right|}\\right) \\left(\\alpha {\\left|\\psi\\right\\rangle } + \\beta {\\left|\\phi\\right\\rangle }\\right)$$"
                            ], 
                            "output_type": "pyout", 
                            "png": "[encoded data removed]", 
                            "prompt_number": 22, 
                            "text": [
                                "\u239b\u23bd       \u23bd    \u239e                ", 
                                "\u239d\u03b1\u22c5\u27e8\u03c8\u2758 + \u03b2\u22c5\u27e8\u03c6\u2758\u23a0\u22c5(\u03b1\u22c5\u2758\u03c8\u27e9 + \u03b2\u22c5\u2758\u03c6\u27e9)"
                            ]
                        }
                    ], 
                    "prompt_number": 22
                }, 
                {
                    "cell_type": "markdown", 
                    "source": [
                        "Distribute"
                    ]
                }, 
                {
                    "cell_type": "code", 
                    "collapsed": false, 
                    "input": [
                        "qapply(expand(ip))"
                    ], 
                    "language": "python", 
                    "outputs": [
                        {
                            "latex": [
                                "$$\\alpha \\overline{\\alpha} \\left\\langle \\psi \\right. {\\left|\\psi\\right\\rangle } + \\alpha \\overline{\\beta} \\left\\langle \\phi \\right. {\\left|\\psi\\right\\rangle } + \\beta \\overline{\\alpha} \\left\\langle \\psi \\right. {\\left|\\phi\\right\\rangle } + \\beta \\overline{\\beta} \\left\\langle \\phi \\right. {\\left|\\phi\\right\\rangle }$$"
                            ], 
                            "output_type": "pyout", 
                            "png": "[encoded data removed]", 
                            "prompt_number": 23, 
                            "text": [
                                "\u23bd           \u23bd           \u23bd           \u23bd      ", 
                                "\u03b1\u22c5\u03b1\u22c5\u27e8\u03c8\u2758\u03c8\u27e9 + \u03b1\u22c5\u03b2\u22c5\u27e8\u03c6\u2758\u03c8\u27e9 + \u03b2\u22c5\u03b1\u22c5\u27e8\u03c8\u2758\u03c6\u27e9 + \u03b2\u22c5\u03b2\u22c5\u27e8\u03c6\u2758\u03c6\u27e9"
                            ]
                        }
                    ], 
                    "prompt_number": 23
                }, 
                {
                    "cell_type": "markdown", 
                    "source": [
                        "<h2>Operators</h2>"
                    ]
                }, 
                {
                    "cell_type": "markdown", 
                    "source": [
                        "Create symbolic operators"
                    ]
                }, 
                {
                    "cell_type": "code", 
                    "collapsed": true, 
                    "input": [
                        "A = Operator('A')", 
                        "B = Operator('B')", 
                        "C = Operator('C')"
                    ], 
                    "language": "python", 
                    "outputs": [], 
                    "prompt_number": 24
                }, 
                {
                    "cell_type": "markdown", 
                    "source": [
                        "Test commutativity"
                    ]
                }, 
                {
                    "cell_type": "code", 
                    "collapsed": false, 
                    "input": [
                        "A*B == B*A"
                    ], 
                    "language": "python", 
                    "outputs": [
                        {
                            "output_type": "pyout", 
                            "prompt_number": 25, 
                            "text": [
                                "False"
                            ]
                        }
                    ], 
                    "prompt_number": 25
                }, 
                {
                    "cell_type": "markdown", 
                    "source": [
                        "Distribute A+B squared"
                    ]
                }, 
                {
                    "cell_type": "code", 
                    "collapsed": false, 
                    "input": [
                        "expand((A+B)**2)"
                    ], 
                    "language": "python", 
                    "outputs": [
                        {
                            "latex": [
                                "$$A B + \\left(A\\right)^{2} + B A + \\left(B\\right)^{2}$$"
                            ], 
                            "output_type": "pyout", 
                            "png": "[encoded data removed]", 
                            "prompt_number": 26, 
                            "text": [
                                "2          2", 
                                "A\u22c5B + A  + B\u22c5A + B"
                            ]
                        }
                    ], 
                    "prompt_number": 26
                }, 
                {
                    "cell_type": "markdown", 
                    "source": [
                        "Create a commutator"
                    ]
                }, 
                {
                    "cell_type": "code", 
                    "collapsed": false, 
                    "input": [
                        "comm = Commutator(A,B); comm"
                    ], 
                    "language": "python", 
                    "outputs": [
                        {
                            "latex": [
                                "$$\\left[A,B\\right]$$"
                            ], 
                            "output_type": "pyout", 
                            "png": "[encoded data removed]", 
                            "prompt_number": 27, 
                            "text": [
                                "[A,B]"
                            ]
                        }
                    ], 
                    "prompt_number": 27
                }, 
                {
                    "cell_type": "markdown", 
                    "source": [
                        "Carry out the commutator"
                    ]
                }, 
                {
                    "cell_type": "code", 
                    "collapsed": false, 
                    "input": [
                        "comm.doit()"
                    ], 
                    "language": "python", 
                    "outputs": [
                        {
                            "latex": [
                                "$$A B - B A$$"
                            ], 
                            "output_type": "pyout", 
                            "png": "[encoded data removed]", 
                            "prompt_number": 28, 
                            "text": [
                                "A\u22c5B - B\u22c5A"
                            ]
                        }
                    ], 
                    "prompt_number": 28
                }, 
                {
                    "cell_type": "markdown", 
                    "source": [
                        "Create a more fancy commutator"
                    ]
                }, 
                {
                    "cell_type": "code", 
                    "collapsed": false, 
                    "input": [
                        "comm = Commutator(A*B,B+C); comm"
                    ], 
                    "language": "python", 
                    "outputs": [
                        {
                            "latex": [
                                "$$\\left[A B,B + C\\right]$$"
                            ], 
                            "output_type": "pyout", 
                            "png": "[encoded data removed]", 
                            "prompt_number": 29, 
                            "text": [
                                "[A\u22c5B,B + C]"
                            ]
                        }
                    ], 
                    "prompt_number": 29
                }, 
                {
                    "cell_type": "markdown", 
                    "source": [
                        "Expand the commutator"
                    ]
                }, 
                {
                    "cell_type": "code", 
                    "collapsed": false, 
                    "input": [
                        "comm.expand(commutator=True)"
                    ], 
                    "language": "python", 
                    "outputs": [
                        {
                            "latex": [
                                "$$\\left[A,B\\right] B + \\left[A,C\\right] B + A \\left[B,C\\right]$$"
                            ], 
                            "output_type": "pyout", 
                            "png": "[encoded data removed]", 
                            "prompt_number": 30, 
                            "text": [
                                "[A,B]\u22c5B + [A,C]\u22c5B + A\u22c5[B,C]"
                            ]
                        }
                    ], 
                    "prompt_number": 30
                }, 
                {
                    "cell_type": "markdown", 
                    "source": [
                        "Carry out and expand the commutators"
                    ]
                }, 
                {
                    "cell_type": "code", 
                    "collapsed": false, 
                    "input": [
                        "_.doit().expand()"
                    ], 
                    "language": "python", 
                    "outputs": [
                        {
                            "latex": [
                                "$$A B C + A \\left(B\\right)^{2} - B A B - C A B$$"
                            ], 
                            "output_type": "pyout", 
                            "png": "[encoded data removed]", 
                            "prompt_number": 31, 
                            "text": [
                                "2                ", 
                                "A\u22c5B\u22c5C + A\u22c5B  - B\u22c5A\u22c5B - C\u22c5A\u22c5B"
                            ]
                        }
                    ], 
                    "prompt_number": 31
                }, 
                {
                    "cell_type": "markdown", 
                    "source": [
                        "Take the dagger"
                    ]
                }, 
                {
                    "cell_type": "code", 
                    "collapsed": false, 
                    "input": [
                        "Dagger(_)"
                    ], 
                    "language": "python", 
                    "outputs": [
                        {
                            "latex": [
                                "$$- B^{\\dagger} A^{\\dagger} B^{\\dagger} - B^{\\dagger} A^{\\dagger} C^{\\dagger} + \\left(B^{\\dagger}\\right)^{2} A^{\\dagger} + C^{\\dagger} B^{\\dagger} A^{\\dagger}$$"
                            ], 
                            "output_type": "pyout", 
                            "png": "[encoded data removed]", 
                            "prompt_number": 32, 
                            "text": [
                                "2              ", 
                                "   \u2020  \u2020  \u2020    \u2020  \u2020  \u2020   \u239b \u2020\u239e   \u2020    \u2020  \u2020  \u2020", 
                                "- B \u22c5A \u22c5B  - B \u22c5A \u22c5C  + \u239dB \u23a0 \u22c5A  + C \u22c5B \u22c5A"
                            ]
                        }
                    ], 
                    "prompt_number": 32
                }
            ]
        }
    ]
}