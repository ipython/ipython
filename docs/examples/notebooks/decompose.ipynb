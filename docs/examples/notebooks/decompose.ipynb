{
    "metadata": {
        "name": "decompose"
    }, 
    "nbformat": 2, 
    "worksheets": [
        {
            "cells": [
                {
                    "cell_type": "markdown", 
                    "source": [
                        "<h1>Gate Decomposition</h1>"
                    ]
                }, 
                {
                    "cell_type": "code", 
                    "collapsed": true, 
                    "input": [
                        "%load_ext sympyprinting"
                    ], 
                    "language": "python", 
                    "outputs": [], 
                    "prompt_number": 1
                }, 
                {
                    "cell_type": "code", 
                    "collapsed": true, 
                    "input": [
                        "from sympy import sqrt, symbols, Rational", 
                        "from sympy import expand, Eq, Symbol, simplify, exp, sin", 
                        "from sympy.physics.quantum import *", 
                        "from sympy.physics.quantum.qubit import *", 
                        "from sympy.physics.quantum.gate import *", 
                        "from sympy.physics.quantum.grover import *", 
                        "from sympy.physics.quantum.qft import QFT, IQFT, Fourier", 
                        "from sympy.physics.quantum.circuitplot import circuit_plot"
                    ], 
                    "language": "python", 
                    "outputs": [], 
                    "prompt_number": 2
                }, 
                {
                    "cell_type": "markdown", 
                    "source": [
                        "<h2>Example 1</h2>"
                    ]
                }, 
                {
                    "cell_type": "markdown", 
                    "source": [
                        "Create a symbolic controlled-Y gate"
                    ]
                }, 
                {
                    "cell_type": "code", 
                    "collapsed": false, 
                    "input": [
                        "CY10 = CGate(1, Y(0)); CY10"
                    ], 
                    "language": "python", 
                    "outputs": [
                        {
                            "latex": [
                                "$$C_{1}{\\left(Y_{0}\\right)}$$"
                            ], 
                            "output_type": "pyout", 
                            "png": "[encoded data removed]", 
                            "prompt_number": 3, 
                            "text": [
                                "C \u239bY \u239e", 
                                " 1\u239d 0\u23a0"
                            ]
                        }
                    ], 
                    "prompt_number": 3
                }, 
                {
                    "cell_type": "markdown", 
                    "source": [
                        "Decompose it into elementary gates and plot it"
                    ]
                }, 
                {
                    "cell_type": "code", 
                    "collapsed": false, 
                    "input": [
                        "CY10.decompose()"
                    ], 
                    "language": "python", 
                    "outputs": [
                        {
                            "latex": [
                                "$$S_{0} CNOT_{1,0} S_{0} Z_{0}$$"
                            ], 
                            "output_type": "pyout", 
                            "png": "[encoded data removed]", 
                            "prompt_number": 4, 
                            "text": [
                                "S \u22c5CNOT   \u22c5S \u22c5Z ", 
                                " 0     1,0  0  0"
                            ]
                        }
                    ], 
                    "prompt_number": 4
                }, 
                {
                    "cell_type": "code", 
                    "collapsed": false, 
                    "input": [
                        "circuit_plot(CY10.decompose(), nqubits=2)"
                    ], 
                    "language": "python", 
                    "outputs": [
                        {
                            "output_type": "pyout", 
                            "prompt_number": 5, 
                            "text": [
                                "&lt;sympy.physics.quantum.circuitplot.CircuitPlot object at 0x2c85f10&gt;"
                            ]
                        }, 
                        {
                            "output_type": "display_data", 
                            "png": "[encoded data removed]"
                        }
                    ], 
                    "prompt_number": 5
                }, 
                {
                    "cell_type": "markdown", 
                    "source": [
                        "<h2>Example 2</h2>"
                    ]
                }, 
                {
                    "cell_type": "markdown", 
                    "source": [
                        "Create a controlled-Z gate"
                    ]
                }, 
                {
                    "cell_type": "code", 
                    "collapsed": false, 
                    "input": [
                        "CZ01 = CGate(0, Z(1)); CZ01"
                    ], 
                    "language": "python", 
                    "outputs": [
                        {
                            "latex": [
                                "$$C_{0}{\\left(Z_{1}\\right)}$$"
                            ], 
                            "output_type": "pyout", 
                            "png": "[encoded data removed]", 
                            "prompt_number": 6, 
                            "text": [
                                "C \u239bZ \u239e", 
                                " 0\u239d 1\u23a0"
                            ]
                        }
                    ], 
                    "prompt_number": 6
                }, 
                {
                    "cell_type": "markdown", 
                    "source": [
                        "Decompose and plot it"
                    ]
                }, 
                {
                    "cell_type": "code", 
                    "collapsed": false, 
                    "input": [
                        "CZ01.decompose()"
                    ], 
                    "language": "python", 
                    "outputs": [
                        {
                            "latex": [
                                "$$H_{1} CNOT_{0,1} H_{1}$$"
                            ], 
                            "output_type": "pyout", 
                            "png": "[encoded data removed]", 
                            "prompt_number": 7, 
                            "text": [
                                "H \u22c5CNOT   \u22c5H ", 
                                " 1     0,1  1"
                            ]
                        }
                    ], 
                    "prompt_number": 7
                }, 
                {
                    "cell_type": "code", 
                    "collapsed": false, 
                    "input": [
                        "circuit_plot(CZ01.decompose(), nqubits=2)"
                    ], 
                    "language": "python", 
                    "outputs": [
                        {
                            "output_type": "pyout", 
                            "prompt_number": 8, 
                            "text": [
                                "&lt;sympy.physics.quantum.circuitplot.CircuitPlot object at 0x472d550&gt;"
                            ]
                        }, 
                        {
                            "output_type": "display_data", 
                            "png": "[encoded data removed]"
                        }
                    ], 
                    "prompt_number": 8
                }, 
                {
                    "cell_type": "markdown", 
                    "source": [
                        "<h2>Example 3</h2>"
                    ]
                }, 
                {
                    "cell_type": "markdown", 
                    "source": [
                        "Create a SWAP gate"
                    ]
                }, 
                {
                    "cell_type": "code", 
                    "collapsed": false, 
                    "input": [
                        "SWAP10 = SWAP(1, 0); SWAP10"
                    ], 
                    "language": "python", 
                    "outputs": [
                        {
                            "latex": [
                                "$$SWAP_{1,0}$$"
                            ], 
                            "output_type": "pyout", 
                            "png": "[encoded data removed]", 
                            "prompt_number": 9, 
                            "text": [
                                "SWAP   ", 
                                "    1,0"
                            ]
                        }
                    ], 
                    "prompt_number": 9
                }, 
                {
                    "cell_type": "markdown", 
                    "source": [
                        "Decompose and plot it"
                    ]
                }, 
                {
                    "cell_type": "code", 
                    "collapsed": false, 
                    "input": [
                        "SWAP10.decompose()"
                    ], 
                    "language": "python", 
                    "outputs": [
                        {
                            "latex": [
                                "$$CNOT_{1,0} CNOT_{0,1} CNOT_{1,0}$$"
                            ], 
                            "output_type": "pyout", 
                            "png": "[encoded data removed]", 
                            "prompt_number": 10, 
                            "text": [
                                "CNOT   \u22c5CNOT   \u22c5CNOT   ", 
                                "    1,0     0,1     1,0"
                            ]
                        }
                    ], 
                    "prompt_number": 10
                }, 
                {
                    "cell_type": "code", 
                    "collapsed": false, 
                    "input": [
                        "circuit_plot(SWAP10.decompose(), nqubits=2)"
                    ], 
                    "language": "python", 
                    "outputs": [
                        {
                            "output_type": "pyout", 
                            "prompt_number": 11, 
                            "text": [
                                "&lt;sympy.physics.quantum.circuitplot.CircuitPlot object at 0x7f082c973650&gt;"
                            ]
                        }, 
                        {
                            "output_type": "display_data", 
                            "png": "[encoded data removed]"
                        }
                    ], 
                    "prompt_number": 11
                }, 
                {
                    "cell_type": "markdown", 
                    "source": [
                        "<h2>All together now</h2>"
                    ]
                }, 
                {
                    "cell_type": "code", 
                    "collapsed": true, 
                    "input": [
                        "gates = [CGate(1,Y(0)), CGate(0,Z(1)), SWAP(1, 0)]"
                    ], 
                    "language": "python", 
                    "outputs": [], 
                    "prompt_number": 12
                }, 
                {
                    "cell_type": "code", 
                    "collapsed": false, 
                    "input": [
                        "for g in gates:", 
                        "    dg = g.decompose()", 
                        "    display(Eq(g, dg))", 
                        "    circuit_plot(g, nqubits=2)", 
                        "    circuit_plot(dg, nqubits=2)    "
                    ], 
                    "language": "python", 
                    "outputs": [
                        {
                            "latex": [
                                "$$C_{1}{\\left(Y_{0}\\right)} = S_{0} CNOT_{1,0} S_{0} Z_{0}$$"
                            ], 
                            "output_type": "display_data", 
                            "png": "[encoded data removed]", 
                            "text": [
                                "C \u239bY \u239e = S \u22c5CNOT   \u22c5S \u22c5Z ", 
                                " 1\u239d 0\u23a0    0     1,0  0  0"
                            ]
                        }, 
                        {
                            "latex": [
                                "$$C_{0}{\\left(Z_{1}\\right)} = H_{1} CNOT_{0,1} H_{1}$$"
                            ], 
                            "output_type": "display_data", 
                            "png": "[encoded data removed]", 
                            "text": [
                                "C \u239bZ \u239e = H \u22c5CNOT   \u22c5H ", 
                                " 0\u239d 1\u23a0    1     0,1  1"
                            ]
                        }, 
                        {
                            "latex": [
                                "$$SWAP_{1,0} = CNOT_{1,0} CNOT_{0,1} CNOT_{1,0}$$"
                            ], 
                            "output_type": "display_data", 
                            "png": "[encoded data removed]", 
                            "text": [
                                "SWAP    = CNOT   \u22c5CNOT   \u22c5CNOT   ", 
                                "    1,0       1,0     0,1     1,0"
                            ]
                        }, 
                        {
                            "output_type": "display_data", 
                            "png": "[encoded data removed]"
                        }, 
                        {
                            "output_type": "display_data", 
                            "png": "[encoded data removed]"
                        }, 
                        {
                            "output_type": "display_data", 
                            "png": "[encoded data removed]"
                        }, 
                        {
                            "output_type": "display_data", 
                            "png": "[encoded data removed]"
                        }, 
                        {
                            "output_type": "display_data", 
                            "png": "[encoded data removed]"
                        }, 
                        {
                            "output_type": "display_data", 
                            "png": "[encoded data removed]"
                        }
                    ], 
                    "prompt_number": 16
                }
            ]
        }
    ]
}