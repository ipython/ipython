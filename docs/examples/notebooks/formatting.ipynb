{
 "metadata": {
  "name": "formatting"
 }, 
 "nbformat": 2, 
 "worksheets": [
  {
   "cells": [
    {
     "cell_type": "markdown", 
     "source": [
      "# Examples of basic formatting in the notebook", 
      "", 
      "Normal and formatted text cells such as this one use the ", 
      "[Markdown](http://daringfireball.net/projects/markdown/basics) syntax.", 
      "", 
      "", 
      "# Title (h1)", 
      "", 
      "## Heading (h2)", 
      "", 
      "### Heading (h3)", 
      "", 
      "Here is a paragraph of text.", 
      "", 
      "* One.", 
      "    - Sublist", 
      "        - Here we go", 
      "  - Sublist", 
      "        - Here we go", 
      "        - Here we go", 
      "* Two.", 
      "  - Sublist", 
      "* Three.", 
      "  - Sublist", 
      "", 
      "Now another list:", 
      "", 
      "---", 
      "", 
      "1. Here we go", 
      "    1. Sublist", 
      "    2. Sublist", 
      "2. There we go", 
      "3. Now this", 
      "", 
      "And another paragraph.", 
      "", 
      "### Heading (h3)", 
      "", 
      "#### Heading (h4)", 
      "", 
      "##### Heading (h5)", 
      "", 
      "###### Heading (h6)", 
      "", 
      "## Heading (h2)"
     ]
    }, 
    {
     "cell_type": "markdown", 
     "source": [
      "# Heading (h1)", 
      "", 
      "## Heading (h2)", 
      "", 
      "### Heading (h3)", 
      "", 
      "#### Heading (h4)", 
      "", 
      "##### Heading (h5)", 
      "", 
      "###### Heading (h6)", 
      "", 
      "Now for a simple code example:", 
      "", 
      "    for i in range(10):", 
      "        print i", 
      "", 
      "Now more text"
     ]
    }, 
    {
     "cell_type": "markdown", 
     "source": [
      "## Heading (h2)", 
      "", 
      "Here is text.", 
      "", 
      "> This is a *block* quote. This is a block quote. This is a block quote.  ", 
      "> This is a **block** quote. This is a block quote. This is a block quote.  ", 
      "> This is a `block` quote. This is a block quote. This is a block quote.  ", 
      "> This is a block quote. This is a block quote. This is a block quote.  ", 
      "> This is a block quote. This is a block quote. This is a block quote.  ", 
      "> This is a block quote. This is a block quote. This is a block quote.  ", 
      "", 
      "Here is text", 
      "", 
      "<table>", 
      "<tr>", 
      "<th>Header 1</th>", 
      "<th>Header 2</th>", 
      "</tr>", 
      "<tr>", 
      "<td>row 1, cell 1</td>", 
      "<td>row 1, cell 2</td>", 
      "</tr>", 
      "<tr>", 
      "<td>row 2, cell 1</td>", 
      "<td>row 2, cell 2</td>", 
      "</tr>", 
      "</table>"
     ]
    }, 
    {
     "cell_type": "code", 
     "collapsed": true, 
     "input": [], 
     "language": "python", 
     "outputs": [],
     "prompt_number": "&nbsp;"
    }
   ]
  }
 ]
}