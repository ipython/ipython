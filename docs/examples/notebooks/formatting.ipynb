{
    "nbformat": 2, 
    "name": "formatting", 
    "worksheets": [
        {
            "cells": [
                {
                    "source": "# Title (h1)\n\n## Heading (h2)\n\n### Heading (h3)\n\nHere is a paragraph of text.\n\n* One.\n    - Sublist\n        - Here we go\n  - Sublist\n        - Here we go\n        - Here we go\n* Two.\n  - Sublist\n* Three.\n  - Sublist\n\nNow another list:\n\n---\n\n1. Here we go\n    1. Sublist\n    2. Sublist\n2. There we go\n3. Now this\n\nAnd another paragraph.\n\n### Heading (h3)\n\n#### Heading (h4)\n\n##### Heading (h5)\n\n###### Heading (h6)\n\n## Heading (h2)\n\n", 
                    "cell_type": "markdown"
                }, 
                {
                    "source": "# Heading (h1)\n\n## Heading (h2)\n\n### Heading (h3)\n\n#### Heading (h4)\n\n##### Heading (h5)\n\n###### Heading (h6)\n\nNow for a simpel code example:\n\n    for i in range(10):\n        print i\n\nNow more text", 
                    "cell_type": "markdown"
                }, 
                {
                    "source": "## Heading (h2)\n\nHere is text.\n\n> This is a *block* quote. This is a block quote. This is a block quote.  \n> This is a **block** quote. This is a block quote. This is a block quote.  \n> This is a `block` quote. This is a block quote. This is a block quote.  \n> This is a block quote. This is a block quote. This is a block quote.  \n> This is a block quote. This is a block quote. This is a block quote.  \n> This is a block quote. This is a block quote. This is a block quote.  \n\nHere is text\n\n<table>\n<tr>\n<th>Header 1</th>\n<th>Header 2</th>\n</tr>\n<tr>\n<td>row 1, cell 1</td>\n<td>row 1, cell 2</td>\n</tr>\n<tr>\n<td>row 2, cell 1</td>\n<td>row 2, cell 2</td>\n</tr>\n</table>", 
                    "cell_type": "markdown"
                }, 
                {
                    "outputs": [], 
                    "cell_type": "code", 
                    "collapsed": true, 
                    "language": "python"
                }
            ]
        }
    ]
}