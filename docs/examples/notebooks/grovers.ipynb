{
    "metadata": {
        "name": "grovers"
    }, 
    "nbformat": 2, 
    "worksheets": [
        {
            "cells": [
                {
                    "cell_type": "markdown", 
                    "source": [
                        "<h1>Grover's Algorithm</h1>"
                    ]
                }, 
                {
                    "cell_type": "code", 
                    "collapsed": true, 
                    "input": [
                        "%load_ext sympyprinting"
                    ], 
                    "language": "python", 
                    "outputs": [], 
                    "prompt_number": 1
                }, 
                {
                    "cell_type": "code", 
                    "collapsed": true, 
                    "input": [
                        "from sympy import sqrt, symbols, Rational", 
                        "from sympy import expand, Eq, Symbol, simplify, exp, sin", 
                        "from sympy.physics.quantum import *", 
                        "from sympy.physics.quantum.qubit import *", 
                        "from sympy.physics.quantum.gate import *", 
                        "from sympy.physics.quantum.grover import *", 
                        "from sympy.physics.quantum.qft import QFT, IQFT, Fourier", 
                        "from sympy.physics.quantum.circuitplot import circuit_plot"
                    ], 
                    "language": "python", 
                    "outputs": [], 
                    "prompt_number": 2
                }, 
                {
                    "cell_type": "code", 
                    "collapsed": true, 
                    "input": [
                        "nqubits = 3"
                    ], 
                    "language": "python", 
                    "outputs": [], 
                    "prompt_number": 3
                }, 
                {
                    "cell_type": "markdown", 
                    "source": [
                        "Grover's algorithm is a quantum algorithm which searches an unordered database (inverts a function).<br/>", 
                        "Provides polynomial speedup over classical brute-force search ($O(\\sqrt{N}) vs. O(N))$ "
                    ]
                }, 
                {
                    "cell_type": "markdown", 
                    "source": [
                        "Define a black box function that returns True if it is passed the state we are searching for."
                    ]
                }, 
                {
                    "cell_type": "code", 
                    "collapsed": true, 
                    "input": [
                        "def black_box(qubits):", 
                        "    return True if qubits == IntQubit(1, qubits.nqubits) else False"
                    ], 
                    "language": "python", 
                    "outputs": [], 
                    "prompt_number": 4
                }, 
                {
                    "cell_type": "markdown", 
                    "source": [
                        "Build a uniform superposition state to start the search."
                    ]
                }, 
                {
                    "cell_type": "code", 
                    "collapsed": false, 
                    "input": [
                        "psi = superposition_basis(nqubits); psi"
                    ], 
                    "language": "python", 
                    "outputs": [
                        {
                            "latex": [
                                "$$\\frac{1}{4} \\sqrt{2} {\\left|0\\right\\rangle } + \\frac{1}{4} \\sqrt{2} {\\left|1\\right\\rangle } + \\frac{1}{4} \\sqrt{2} {\\left|2\\right\\rangle } + \\frac{1}{4} \\sqrt{2} {\\left|3\\right\\rangle } + \\frac{1}{4} \\sqrt{2} {\\left|4\\right\\rangle } + \\frac{1}{4} \\sqrt{2} {\\left|5\\right\\rangle } + \\frac{1}{4} \\sqrt{2} {\\left|6\\right\\rangle } + \\frac{1}{4} \\sqrt{2} {\\left|7\\right\\rangle }$$"
                            ], 
                            "output_type": "pyout", 
                            "png": "[encoded data removed]", 
                            "prompt_number": 5, 
                            "text": [
                                "\u23bd\u23bd\u23bd         \u23bd\u23bd\u23bd         \u23bd\u23bd\u23bd         \u23bd\u23bd\u23bd         \u23bd\u23bd\u23bd         \u23bd\u23bd\u23bd         \u23bd\u23bd\u23bd ", 
                                "\u2572\u2571 2 \u22c5\u27580\u27e9   \u2572\u2571 2 \u22c5\u27581\u27e9   \u2572\u2571 2 \u22c5\u27582\u27e9   \u2572\u2571 2 \u22c5\u27583\u27e9   \u2572\u2571 2 \u22c5\u27584\u27e9   \u2572\u2571 2 \u22c5\u27585\u27e9   \u2572\u2571 2 \u22c5", 
                                "\u2500\u2500\u2500\u2500\u2500\u2500\u2500\u2500\u2500 + \u2500\u2500\u2500\u2500\u2500\u2500\u2500\u2500\u2500 + \u2500\u2500\u2500\u2500\u2500\u2500\u2500\u2500\u2500 + \u2500\u2500\u2500\u2500\u2500\u2500\u2500\u2500\u2500 + \u2500\u2500\u2500\u2500\u2500\u2500\u2500\u2500\u2500 + \u2500\u2500\u2500\u2500\u2500\u2500\u2500\u2500\u2500 + \u2500\u2500\u2500\u2500\u2500\u2500", 
                                "    4           4           4           4           4           4           4 ", 
                                "", 
                                "        \u23bd\u23bd\u23bd    ", 
                                "\u27586\u27e9   \u2572\u2571 2 \u22c5\u27587\u27e9", 
                                "\u2500\u2500\u2500 + \u2500\u2500\u2500\u2500\u2500\u2500\u2500\u2500\u2500", 
                                "          4"
                            ]
                        }
                    ], 
                    "prompt_number": 5
                }, 
                {
                    "cell_type": "code", 
                    "collapsed": true, 
                    "input": [
                        "v = OracleGate(nqubits, black_box)"
                    ], 
                    "language": "python", 
                    "outputs": [], 
                    "prompt_number": 6
                }, 
                {
                    "cell_type": "markdown", 
                    "source": [
                        "Perform two iterations of Grover's algorithm.  Each iteration, the amplitude of the target state increases."
                    ]
                }, 
                {
                    "cell_type": "code", 
                    "collapsed": false, 
                    "input": [
                        "iter1 = qapply(grover_iteration(psi, v)); iter1"
                    ], 
                    "language": "python", 
                    "outputs": [
                        {
                            "latex": [
                                "$$\\frac{1}{8} \\sqrt{2} {\\left|0\\right\\rangle } + \\frac{5}{8} \\sqrt{2} {\\left|1\\right\\rangle } + \\frac{1}{8} \\sqrt{2} {\\left|2\\right\\rangle } + \\frac{1}{8} \\sqrt{2} {\\left|3\\right\\rangle } + \\frac{1}{8} \\sqrt{2} {\\left|4\\right\\rangle } + \\frac{1}{8} \\sqrt{2} {\\left|5\\right\\rangle } + \\frac{1}{8} \\sqrt{2} {\\left|6\\right\\rangle } + \\frac{1}{8} \\sqrt{2} {\\left|7\\right\\rangle }$$"
                            ], 
                            "output_type": "pyout", 
                            "png": "[encoded data removed]", 
                            "prompt_number": 7, 
                            "text": [
                                "\u23bd\u23bd\u23bd           \u23bd\u23bd\u23bd         \u23bd\u23bd\u23bd         \u23bd\u23bd\u23bd         \u23bd\u23bd\u23bd         \u23bd\u23bd\u23bd         \u23bd\u23bd", 
                                "\u2572\u2571 2 \u22c5\u27580\u27e9   5\u22c5\u2572\u2571 2 \u22c5\u27581\u27e9   \u2572\u2571 2 \u22c5\u27582\u27e9   \u2572\u2571 2 \u22c5\u27583\u27e9   \u2572\u2571 2 \u22c5\u27584\u27e9   \u2572\u2571 2 \u22c5\u27585\u27e9   \u2572\u2571 2", 
                                "\u2500\u2500\u2500\u2500\u2500\u2500\u2500\u2500\u2500 + \u2500\u2500\u2500\u2500\u2500\u2500\u2500\u2500\u2500\u2500\u2500 + \u2500\u2500\u2500\u2500\u2500\u2500\u2500\u2500\u2500 + \u2500\u2500\u2500\u2500\u2500\u2500\u2500\u2500\u2500 + \u2500\u2500\u2500\u2500\u2500\u2500\u2500\u2500\u2500 + \u2500\u2500\u2500\u2500\u2500\u2500\u2500\u2500\u2500 + \u2500\u2500\u2500\u2500", 
                                "    8            8            8           8           8           8           ", 
                                "", 
                                "\u23bd         \u23bd\u23bd\u23bd    ", 
                                " \u22c5\u27586\u27e9   \u2572\u2571 2 \u22c5\u27587\u27e9", 
                                "\u2500\u2500\u2500\u2500\u2500 + \u2500\u2500\u2500\u2500\u2500\u2500\u2500\u2500\u2500", 
                                "8           8"
                            ]
                        }
                    ], 
                    "prompt_number": 7
                }, 
                {
                    "cell_type": "code", 
                    "collapsed": false, 
                    "input": [
                        "iter2 = qapply(grover_iteration(iter1, v)); iter2"
                    ], 
                    "language": "python", 
                    "outputs": [
                        {
                            "latex": [
                                "$$- \\frac{1}{16} \\sqrt{2} {\\left|0\\right\\rangle } + \\frac{11}{16} \\sqrt{2} {\\left|1\\right\\rangle } - \\frac{1}{16} \\sqrt{2} {\\left|2\\right\\rangle } - \\frac{1}{16} \\sqrt{2} {\\left|3\\right\\rangle } - \\frac{1}{16} \\sqrt{2} {\\left|4\\right\\rangle } - \\frac{1}{16} \\sqrt{2} {\\left|5\\right\\rangle } - \\frac{1}{16} \\sqrt{2} {\\left|6\\right\\rangle } - \\frac{1}{16} \\sqrt{2} {\\left|7\\right\\rangle }$$"
                            ], 
                            "output_type": "pyout", 
                            "png": "[encoded data removed]", 
                            "prompt_number": 8, 
                            "text": [
                                "\u23bd\u23bd\u23bd            \u23bd\u23bd\u23bd         \u23bd\u23bd\u23bd         \u23bd\u23bd\u23bd         \u23bd\u23bd\u23bd         \u23bd\u23bd\u23bd        ", 
                                "  \u2572\u2571 2 \u22c5\u27580\u27e9   11\u22c5\u2572\u2571 2 \u22c5\u27581\u27e9   \u2572\u2571 2 \u22c5\u27582\u27e9   \u2572\u2571 2 \u22c5\u27583\u27e9   \u2572\u2571 2 \u22c5\u27584\u27e9   \u2572\u2571 2 \u22c5\u27585\u27e9   \u2572", 
                                "- \u2500\u2500\u2500\u2500\u2500\u2500\u2500\u2500\u2500 + \u2500\u2500\u2500\u2500\u2500\u2500\u2500\u2500\u2500\u2500\u2500\u2500 - \u2500\u2500\u2500\u2500\u2500\u2500\u2500\u2500\u2500 - \u2500\u2500\u2500\u2500\u2500\u2500\u2500\u2500\u2500 - \u2500\u2500\u2500\u2500\u2500\u2500\u2500\u2500\u2500 - \u2500\u2500\u2500\u2500\u2500\u2500\u2500\u2500\u2500 - \u2500", 
                                "      16           16            16          16          16          16       ", 
                                "", 
                                " \u23bd\u23bd\u23bd         \u23bd\u23bd\u23bd    ", 
                                "\u2571 2 \u22c5\u27586\u27e9   \u2572\u2571 2 \u22c5\u27587\u27e9", 
                                "\u2500\u2500\u2500\u2500\u2500\u2500\u2500\u2500 - \u2500\u2500\u2500\u2500\u2500\u2500\u2500\u2500\u2500", 
                                "   16          16"
                            ]
                        }
                    ], 
                    "prompt_number": 8
                }, 
                {
                    "cell_type": "markdown", 
                    "source": [
                        "A single shot measurement is performed to retrieve the target state."
                    ]
                }, 
                {
                    "cell_type": "code", 
                    "collapsed": false, 
                    "input": [
                        "measure_all_oneshot(iter2)"
                    ], 
                    "language": "python", 
                    "outputs": [
                        {
                            "latex": [
                                "$${\\left|001\\right\\rangle }$$"
                            ], 
                            "output_type": "pyout", 
                            "png": "[encoded data removed]", 
                            "prompt_number": 9, 
                            "text": [
                                "\u2758001\u27e9"
                            ]
                        }
                    ], 
                    "prompt_number": 9
                }
            ]
        }
    ]
}