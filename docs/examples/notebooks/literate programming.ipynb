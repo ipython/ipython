{
 "metadata": {
  "name": "literate programming"
 },
 "nbformat": 3,
 "nbformat_minor": 0,
 "worksheets": [
  {
   "cells": [
    {
     "cell_type": "code",
     "collapsed": false,
     "input": [
      "import random\n",
      "x=random.randint(1,50)\n",
      "f= lambda x:x\n",
      "a = set((1,2))\n",
      "hello = 'world' "
     ],
     "language": "python",
     "metadata": {},
     "outputs": [],
     "prompt_number": 1
    },
    {
     "cell_type": "markdown",
     "metadata": {
      "literate": {
       "data": {
        "a": "set([1, 2])",
        "f": "<function <lambda> at 0x102383758>",
        "hello": "'world'",
        "iDontExist": "[ERROR] KeyError: u'iDontExist'",
        "x": "16"
       },
       "execution_count": 1
      },
      "literrate": {
       "data": {
        "a": "set([1, 2])",
        "f": "<function <lambda> at 0x1021b7140>",
        "hello": "'world'",
        "iDontExist": "[ERROR] KeyError: u'iDontExist'",
        "x": "2"
       }
      }
     },
     "source": [
      "This is a markdown cell, now, markdown can contain references to kernel variable.\n",
      "\n",
      "To do so just write the name of the varaible between 2 double colon like so : <code>&#58;&#58;variable&#58;&#58;</code>. (to write colon that wouldn't be interpretated, use html escape sequence `#&58;` ) now you can list a differentes varaible and their values :\n",
      "\n",
      "* simple type like float : x=::x::\n",
      "\n",
      "* Strings  hello=::hello::\n",
      "* more complex like sets a=::a::\n",
      "\n",
      "this also works in code environement (edit the cell to see the difference):\n",
      "\n",
      "    f=::f::\n",
      "    hello=::hello::\n",
      "Some object need to be put between backticks, like function because of the presence of angle bracket  :  \n",
      "\n",
      "f=::f:: \n",
      "\n",
      "versus \n",
      "\n",
      "`f=::f::`\n",
      "\n",
      "\n",
      "Undefined value print that they are undefined.\n",
      "\n",
      "* undefined=::iDontExist::\n",
      "\n",
      "Value are store in cell metadata updated when markdown cell are edited and reexecuted. This allow different markdown cell to show the evolution of a same value after execution of different cells. This also keep the data across kernel restart and notebook save/loading.\n"
     ]
    },
    {
     "cell_type": "code",
     "collapsed": false,
     "input": [
      "print 'x =',x\n",
      "x=x+1"
     ],
     "language": "python",
     "metadata": {},
     "outputs": [
      {
       "output_type": "stream",
       "stream": "stdout",
       "text": [
        "x = 16\n"
       ]
      }
     ],
     "prompt_number": 2
    },
    {
     "cell_type": "markdown",
     "metadata": {
      "literate": {
       "data": {
        "x": "17"
       },
       "execution_count": 2
      },
      "literrate": {
       "data": {
        "x": "3"
       }
      }
     },
     "source": [
      "now,  x=::x::"
     ]
    },
    {
     "cell_type": "code",
     "collapsed": false,
     "input": [
      "x='a string'"
     ],
     "language": "python",
     "metadata": {},
     "outputs": [],
     "prompt_number": 4
    },
    {
     "cell_type": "markdown",
     "metadata": {
      "literate": {
       "data": {
        "x": "'a string'"
       },
       "execution_count": 4
      },
      "literrate": {
       "data": {
        "x": "'a string'"
       }
      }
     },
     "source": [
      "the content of x is now `::x::`"
     ]
    },
    {
     "cell_type": "code",
     "collapsed": false,
     "input": [],
     "language": "python",
     "metadata": {},
     "outputs": [],
     "prompt_number": 3
    }
   ],
   "metadata": {}
  }
 ]
}