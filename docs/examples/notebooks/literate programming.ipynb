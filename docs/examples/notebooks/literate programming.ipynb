{
 "metadata": {
  "name": "literate programming"
 },
 "nbformat": 3,
 "nbformat_minor": 0,
 "worksheets": [
  {
   "cells": [
    {
     "cell_type": "heading",
     "level": 2,
     "metadata": {},
     "source": [
      "Literate Programming"
     ]
    },
    {
     "cell_type": "markdown",
     "metadata": {
      "literate": {
       "data": {},
       "execution_count": 6
      }
     },
     "source": [
      "Citation from [Wikipedia](http://en.wikipedia.org/wiki/Literate_programming) :\n",
      "> A literate program is an explanation of the program logic in a natural language, such as English, interspersed with snippets of macros and traditional source code. Macros in a literate source file are simply title-like or explanatory phrases in a human language that describe human abstractions created while solving the programming problem, and hiding chunks of code or lower-level macros. These macros are similar to the algorithms in pseudocode typically used in teaching computer science. These arbitrary explanatory phrases become precise new operators, created on the fly by the programmer, forming a meta-language on top of the underlying programming language."
     ]
    },
    {
     "cell_type": "markdown",
     "metadata": {
      "literate": {
       "data": {},
       "execution_count": 6
      }
     },
     "source": [
      "To demonstrate the use of literate programming on the notebook let's first defile a few variable and function of different type."
     ]
    },
    {
     "cell_type": "code",
     "collapsed": false,
     "input": [
      "import random\n",
      "x=random.randint(1,50)\n",
      "f= lambda x:x\n",
      "a = set((1,2))\n",
      "hello = 'world' "
     ],
     "language": "python",
     "metadata": {},
     "outputs": [],
     "prompt_number": 7
    },
    {
     "cell_type": "markdown",
     "metadata": {
      "literate": {
       "data": {},
       "execution_count": 7
      },
      "literrate": {
       "data": {
        "a": "set([1, 2])",
        "f": "<function <lambda> at 0x1021b7140>",
        "hello": "'world'",
        "iDontExist": "[ERROR] KeyError: u'iDontExist'",
        "x": "2"
       }
      }
     },
     "source": [
      "With literate programming enabled, markdown cell can contain references to kernel variable.\n",
      "\n",
      "To do so just write the name of the varaible between double brackets like so : {\\{variable\\}}, when the markdown cell will be rendered, the {\\{variable\\}} vill be replaced by it's value if it is defined.\n",
      "\n",
      "If you feel the need to write uninterpreted varaible between double bracket, escape at least one of the innermost bracket like so : {\\\\{variable\\\\}}\n",
      ". You could also simply use invalid syntax like multiple words between bracket : `{{ put your variable name here }}`. \n",
      "\n",
      "Now lets see howit behaves."
     ]
    },
    {
     "cell_type": "markdown",
     "metadata": {
      "literate": {
       "data": {
        "a": "set([1, 2])",
        "hello": "'world'",
        "x": "48"
       },
       "execution_count": 7
      }
     },
     "source": [
      "Now you can list a differentes varaible and their values :\n",
      "\n",
      "typing the following  in a Markdown cell: \n",
      "\n",
      "<!--code environement does not escape \\{\n",
      "but triple backquote does.\n",
      "But be carefull this cannot be converted to latex. \n",
      "-->\n",
      "<code>\n",
      "* simple type like float : x={\\{x\\}}\n",
      "* Strings  hello={\\{hello\\}}\n",
      "* more complex like sets a={\\{a\\}}\n",
      "</code>\n",
      "\n",
      "Will render like so:\n",
      "\n",
      "* simple type like float : x={{x}}\n",
      "* Strings  hello=:{{hello}}\n",
      "* more complex like sets a={{a}}"
     ]
    },
    {
     "cell_type": "markdown",
     "metadata": {
      "literate": {
       "data": {
        "f": "<function <lambda> at 0x10e79e230>",
        "hello": "'world'",
        "iDontExist": "[ERROR] KeyError: u'iDontExist'"
       },
       "execution_count": 7
      }
     },
     "source": [
      "this also works in code environement (edit the cell to see the difference):\n",
      "\n",
      "    f={{f}}\n",
      "    hello={{hello}}\n",
      "Some object need to be put between backticks, like function because of the presence of angle bracket  :  \n",
      "\n",
      "f={{f|}}\n",
      "\n",
      "versus \n",
      "\n",
      "`f={{f}}`\n",
      "\n",
      "\n",
      "Undefined value print that they are undefined.\n",
      "\n",
      "* undefined={{iDontExist}}\n",
      "\n",
      "Value are store in cell metadata updated when markdown cell are edited and reexecuted. This allow different markdown cell to show the evolution of a same value after execution of different cells. This also keep the data across kernel restart and notebook save/loading."
     ]
    },
    {
     "cell_type": "code",
     "collapsed": false,
     "input": [
      "print 'x =',x\n",
      "x=x+1"
     ],
     "language": "python",
     "metadata": {},
     "outputs": [
      {
       "output_type": "stream",
       "stream": "stdout",
       "text": [
        "x = 48\n"
       ]
      }
     ],
     "prompt_number": 8
    },
    {
     "cell_type": "markdown",
     "metadata": {
      "literate": {
       "data": {
        "x": "49"
       },
       "execution_count": 8
      },
      "literrate": {
       "data": {
        "x": "3"
       }
      }
     },
     "source": [
      "now,  x={{x}}"
     ]
    },
    {
     "cell_type": "code",
     "collapsed": false,
     "input": [
      "x='a string'"
     ],
     "language": "python",
     "metadata": {},
     "outputs": [],
     "prompt_number": 9
    },
    {
     "cell_type": "markdown",
     "metadata": {
      "literate": {
       "data": {
        "x": "'a string'"
       },
       "execution_count": 4
      },
      "literrate": {
       "data": {
        "x": "'a string'"
       }
      }
     },
     "source": [
      "the content of x is now `{{x}}`"
     ]
    },
    {
     "cell_type": "heading",
     "level": 3,
     "metadata": {},
     "source": [
      "Passing options"
     ]
    },
    {
     "cell_type": "markdown",
     "metadata": {
      "literate": {
       "data": {},
       "execution_count": 6
      }
     },
     "source": [
      "The syntax also support passing options, but the effect of option and their exact syntax is not defined yet. Using options you migh later be able to require a specific repr for the variable. Options are passed as a list of space or comma delimited values that are situated after the variable and separated from it by a Pipe like so :\n",
      "\n",
      "Variable with option : <code>&#123;&#123;variable | option1 option2 option3&#125;&#125;</code> or <code>&#123;&#123;variable | option1, option2, option3&#125;&#125;</code>"
     ]
    },
    {
     "cell_type": "markdown",
     "metadata": {
      "literate": {
       "data": {
        "x": "'a string'"
       },
       "execution_count": 9
      }
     },
     "source": [
      "Syntax test that should work:\n",
      "\n",
      "* {{x}}\n",
      "* {{ x }}\n",
      "* {{ x| }}\n",
      "* {{ x |}}\n",
      "* {{ x | }}\n",
      "* {{x|list of,options }}\n",
      "\n",
      "Syntax test that shouldn't match:\n",
      "\n",
      "* {{x+1}}\n",
      "* {{ x+1 }}\n",
      "* {{ x- }}\n",
      "* {{ x.y }}\n",
      "* {{ x()  }}\n",
      "* {{list of,options|x }}\n",
      "* {{ this should not be matched}}"
     ]
    },
    {
     "cell_type": "code",
     "collapsed": false,
     "input": [],
     "language": "python",
     "metadata": {},
     "outputs": []
    }
   ],
   "metadata": {}
  }
 ]
}