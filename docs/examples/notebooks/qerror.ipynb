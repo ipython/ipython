{
    "metadata": {
        "name": "qerror"
    }, 
    "nbformat": 2, 
    "worksheets": [
        {
            "cells": [
                {
                    "cell_type": "markdown", 
                    "source": [
                        "<h1>Quantum Error Correction</h1>"
                    ]
                }, 
                {
                    "cell_type": "code", 
                    "collapsed": true, 
                    "input": [
                        "%load_ext sympyprinting"
                    ], 
                    "language": "python", 
                    "outputs": [], 
                    "prompt_number": 1
                }, 
                {
                    "cell_type": "code", 
                    "collapsed": true, 
                    "input": [
                        "from sympy import sqrt, symbols, Rational", 
                        "from sympy import expand, Eq, Symbol, simplify, exp, sin", 
                        "from sympy.physics.quantum import *", 
                        "from sympy.physics.quantum.qubit import *", 
                        "from sympy.physics.quantum.gate import *", 
                        "from sympy.physics.quantum.grover import *", 
                        "from sympy.physics.quantum.qft import QFT, IQFT, Fourier", 
                        "from sympy.physics.quantum.circuitplot import circuit_plot"
                    ], 
                    "language": "python", 
                    "outputs": [], 
                    "prompt_number": 2
                }, 
                {
                    "cell_type": "markdown", 
                    "source": [
                        "<h2>5 qubit code</h2>"
                    ]
                }, 
                {
                    "cell_type": "code", 
                    "collapsed": false, 
                    "input": [
                        "M0 = Z(1)*X(2)*X(3)*Z(4); M0"
                    ], 
                    "language": "python", 
                    "outputs": [
                        {
                            "latex": [
                                "$$Z_{1} X_{2} X_{3} Z_{4}$$"
                            ], 
                            "output_type": "pyout", 
                            "png": "[encoded data removed]", 
                            "prompt_number": 3, 
                            "text": [
                                "Z \u22c5X \u22c5X \u22c5Z ", 
                                " 1  2  3  4"
                            ]
                        }
                    ], 
                    "prompt_number": 3
                }, 
                {
                    "cell_type": "code", 
                    "collapsed": false, 
                    "input": [
                        "M1 = Z(2)*X(3)*X(4)*Z(0); M1"
                    ], 
                    "language": "python", 
                    "outputs": [
                        {
                            "latex": [
                                "$$Z_{2} X_{3} X_{4} Z_{0}$$"
                            ], 
                            "output_type": "pyout", 
                            "png": "[encoded data removed]", 
                            "prompt_number": 4, 
                            "text": [
                                "Z \u22c5X \u22c5X \u22c5Z ", 
                                " 2  3  4  0"
                            ]
                        }
                    ], 
                    "prompt_number": 4
                }, 
                {
                    "cell_type": "code", 
                    "collapsed": false, 
                    "input": [
                        "M2 = Z(3)*X(4)*X(0)*Z(1); M2"
                    ], 
                    "language": "python", 
                    "outputs": [
                        {
                            "latex": [
                                "$$Z_{3} X_{4} X_{0} Z_{1}$$"
                            ], 
                            "output_type": "pyout", 
                            "png": "[encoded data removed]", 
                            "prompt_number": 5, 
                            "text": [
                                "Z \u22c5X \u22c5X \u22c5Z ", 
                                " 3  4  0  1"
                            ]
                        }
                    ], 
                    "prompt_number": 5
                }, 
                {
                    "cell_type": "code", 
                    "collapsed": false, 
                    "input": [
                        "M3 = Z(4)*X(0)*X(1)*Z(2); M3"
                    ], 
                    "language": "python", 
                    "outputs": [
                        {
                            "latex": [
                                "$$Z_{4} X_{0} X_{1} Z_{2}$$"
                            ], 
                            "output_type": "pyout", 
                            "png": "[encoded data removed]", 
                            "prompt_number": 6, 
                            "text": [
                                "Z \u22c5X \u22c5X \u22c5Z ", 
                                " 4  0  1  2"
                            ]
                        }
                    ], 
                    "prompt_number": 6
                }, 
                {
                    "cell_type": "markdown", 
                    "source": [
                        "These operators should mutually commute."
                    ]
                }, 
                {
                    "cell_type": "code", 
                    "collapsed": false, 
                    "input": [
                        "gate_simp(Commutator(M0,M1).doit())"
                    ], 
                    "language": "python", 
                    "outputs": [
                        {
                            "latex": [
                                "$$0$$"
                            ], 
                            "output_type": "pyout", 
                            "png": "[encoded data removed]", 
                            "prompt_number": 7, 
                            "text": [
                                "0"
                            ]
                        }
                    ], 
                    "prompt_number": 7
                }, 
                {
                    "cell_type": "markdown", 
                    "source": [
                        "And square to the identity."
                    ]
                }, 
                {
                    "cell_type": "code", 
                    "collapsed": false, 
                    "input": [
                        "for o in [M0,M1,M2,M3]:", 
                        "    display(gate_simp(o*o))"
                    ], 
                    "language": "python", 
                    "outputs": [
                        {
                            "latex": [
                                "$$1$$"
                            ], 
                            "output_type": "display_data", 
                            "png": "[encoded data removed]", 
                            "text": [
                                "1"
                            ]
                        }, 
                        {
                            "latex": [
                                "$$1$$"
                            ], 
                            "output_type": "display_data", 
                            "png": "[encoded data removed]", 
                            "text": [
                                "1"
                            ]
                        }, 
                        {
                            "latex": [
                                "$$1$$"
                            ], 
                            "output_type": "display_data", 
                            "png": "[encoded data removed]", 
                            "text": [
                                "1"
                            ]
                        }, 
                        {
                            "latex": [
                                "$$1$$"
                            ], 
                            "output_type": "display_data", 
                            "png": "[encoded data removed]", 
                            "text": [
                                "1"
                            ]
                        }
                    ], 
                    "prompt_number": 8
                }, 
                {
                    "cell_type": "markdown", 
                    "source": [
                        "<h2>Codewords</h2>"
                    ]
                }, 
                {
                    "cell_type": "code", 
                    "collapsed": false, 
                    "input": [
                        "zero = Rational(1,4)*(1+M0)*(1+M1)*(1+M2)*(1+M3)*IntQubit(0, 5); zero"
                    ], 
                    "language": "python", 
                    "outputs": [
                        {
                            "latex": [
                                "$$\\frac{1}{4} \\left(1 + Z_{1} X_{2} X_{3} Z_{4}\\right) \\left(1 + Z_{2} X_{3} X_{4} Z_{0}\\right) \\left(1 + Z_{3} X_{4} X_{0} Z_{1}\\right) \\left(1 + Z_{4} X_{0} X_{1} Z_{2}\\right) {\\left|0\\right\\rangle }$$"
                            ], 
                            "output_type": "pyout", 
                            "png": "[encoded data removed]", 
                            "prompt_number": 9, 
                            "text": [
                                "\u239b1 + Z \u22c5X \u22c5X \u22c5Z \u239e\u22c5\u239b1 + Z \u22c5X \u22c5X \u22c5Z \u239e\u22c5\u239b1 + Z \u22c5X \u22c5X \u22c5Z \u239e\u22c5\u239b1 + Z \u22c5X \u22c5X \u22c5Z \u239e\u22c5\u27580\u27e9", 
                                "\u239d     1  2  3  4\u23a0 \u239d     2  3  4  0\u23a0 \u239d     3  4  0  1\u23a0 \u239d     4  0  1  2\u23a0    ", 
                                "\u2500\u2500\u2500\u2500\u2500\u2500\u2500\u2500\u2500\u2500\u2500\u2500\u2500\u2500\u2500\u2500\u2500\u2500\u2500\u2500\u2500\u2500\u2500\u2500\u2500\u2500\u2500\u2500\u2500\u2500\u2500\u2500\u2500\u2500\u2500\u2500\u2500\u2500\u2500\u2500\u2500\u2500\u2500\u2500\u2500\u2500\u2500\u2500\u2500\u2500\u2500\u2500\u2500\u2500\u2500\u2500\u2500\u2500\u2500\u2500\u2500\u2500\u2500\u2500\u2500\u2500\u2500\u2500\u2500\u2500\u2500\u2500\u2500\u2500\u2500", 
                                "                                     4"
                            ]
                        }
                    ], 
                    "prompt_number": 9
                }, 
                {
                    "cell_type": "code", 
                    "collapsed": false, 
                    "input": [
                        "qapply(4*zero)"
                    ], 
                    "language": "python", 
                    "outputs": [
                        {
                            "latex": [
                                "$${\\left|0\\right\\rangle } + {\\left|3\\right\\rangle } - {\\left|5\\right\\rangle } + {\\left|6\\right\\rangle } - {\\left|9\\right\\rangle } - {\\left|10\\right\\rangle } + {\\left|12\\right\\rangle } - {\\left|15\\right\\rangle } + {\\left|17\\right\\rangle } - {\\left|18\\right\\rangle } - {\\left|20\\right\\rangle } - {\\left|23\\right\\rangle } + {\\left|24\\right\\rangle } - {\\left|27\\right\\rangle } - {\\left|29\\right\\rangle } - {\\left|30\\right\\rangle }$$"
                            ], 
                            "output_type": "pyout", 
                            "png": "[encoded data removed]", 
                            "prompt_number": 10, 
                            "text": [
                                "\u27580\u27e9 + \u27583\u27e9 - \u27585\u27e9 + \u27586\u27e9 - \u27589\u27e9 - \u275810\u27e9 + \u275812\u27e9 - \u275815\u27e9 + \u275817\u27e9 - \u275818\u27e9 - \u275820\u27e9 - \u275823\u27e9 +", 
                                " \u275824\u27e9 - \u275827\u27e9 - \u275829\u27e9 - \u275830\u27e9"
                            ]
                        }
                    ], 
                    "prompt_number": 10
                }, 
                {
                    "cell_type": "code", 
                    "collapsed": false, 
                    "input": [
                        "one = Rational(1,4)*(1+M0)*(1+M1)*(1+M2)*(1+M3)*IntQubit(2**5-1, 5); one"
                    ], 
                    "language": "python", 
                    "outputs": [
                        {
                            "latex": [
                                "$$\\frac{1}{4} \\left(1 + Z_{1} X_{2} X_{3} Z_{4}\\right) \\left(1 + Z_{2} X_{3} X_{4} Z_{0}\\right) \\left(1 + Z_{3} X_{4} X_{0} Z_{1}\\right) \\left(1 + Z_{4} X_{0} X_{1} Z_{2}\\right) {\\left|31\\right\\rangle }$$"
                            ], 
                            "output_type": "pyout", 
                            "png": "[encoded data removed]", 
                            "prompt_number": 11, 
                            "text": [
                                "\u239b1 + Z \u22c5X \u22c5X \u22c5Z \u239e\u22c5\u239b1 + Z \u22c5X \u22c5X \u22c5Z \u239e\u22c5\u239b1 + Z \u22c5X \u22c5X \u22c5Z \u239e\u22c5\u239b1 + Z \u22c5X \u22c5X \u22c5Z \u239e\u22c5\u275831\u27e9", 
                                "\u239d     1  2  3  4\u23a0 \u239d     2  3  4  0\u23a0 \u239d     3  4  0  1\u23a0 \u239d     4  0  1  2\u23a0     ", 
                                "\u2500\u2500\u2500\u2500\u2500\u2500\u2500\u2500\u2500\u2500\u2500\u2500\u2500\u2500\u2500\u2500\u2500\u2500\u2500\u2500\u2500\u2500\u2500\u2500\u2500\u2500\u2500\u2500\u2500\u2500\u2500\u2500\u2500\u2500\u2500\u2500\u2500\u2500\u2500\u2500\u2500\u2500\u2500\u2500\u2500\u2500\u2500\u2500\u2500\u2500\u2500\u2500\u2500\u2500\u2500\u2500\u2500\u2500\u2500\u2500\u2500\u2500\u2500\u2500\u2500\u2500\u2500\u2500\u2500\u2500\u2500\u2500\u2500\u2500\u2500\u2500", 
                                "                                     4"
                            ]
                        }
                    ], 
                    "prompt_number": 11
                }, 
                {
                    "cell_type": "code", 
                    "collapsed": false, 
                    "input": [
                        "qapply(4*one)"
                    ], 
                    "language": "python", 
                    "outputs": [
                        {
                            "latex": [
                                "$$- {\\left|1\\right\\rangle } - {\\left|2\\right\\rangle } - {\\left|4\\right\\rangle } + {\\left|7\\right\\rangle } - {\\left|8\\right\\rangle } - {\\left|11\\right\\rangle } - {\\left|13\\right\\rangle } + {\\left|14\\right\\rangle } - {\\left|16\\right\\rangle } + {\\left|19\\right\\rangle } - {\\left|21\\right\\rangle } - {\\left|22\\right\\rangle } + {\\left|25\\right\\rangle } - {\\left|26\\right\\rangle } + {\\left|28\\right\\rangle } + {\\left|31\\right\\rangle }$$"
                            ], 
                            "output_type": "pyout", 
                            "png": "[encoded data removed]", 
                            "prompt_number": 12, 
                            "text": [
                                "-\u27581\u27e9 - \u27582\u27e9 - \u27584\u27e9 + \u27587\u27e9 - \u27588\u27e9 - \u275811\u27e9 - \u275813\u27e9 + \u275814\u27e9 - \u275816\u27e9 + \u275819\u27e9 - \u275821\u27e9 - \u275822\u27e9 ", 
                                "+ \u275825\u27e9 - \u275826\u27e9 + \u275828\u27e9 + \u275831\u27e9"
                            ]
                        }
                    ], 
                    "prompt_number": 12
                }, 
                {
                    "cell_type": "markdown", 
                    "source": [
                        "<h2>The encoding circuit</h2>"
                    ]
                }, 
                {
                    "cell_type": "code", 
                    "collapsed": true, 
                    "input": [
                        "encoding_circuit = H(3)*H(4)*CNOT(2,0)*CNOT(3,0)*CNOT(4,0)*H(1)*H(4)*\\", 
                        "                   CNOT(2,1)*CNOT(4,1)*H(2)*CNOT(3,2)*CNOT(4,2)*H(3)*\\", 
                        "                   H(4)*CNOT(4, 3)*Z(4)*H(4)*Z(4)"
                    ], 
                    "language": "python", 
                    "outputs": [], 
                    "prompt_number": 13
                }, 
                {
                    "cell_type": "code", 
                    "collapsed": false, 
                    "input": [
                        "circuit_plot(encoding_circuit, nqubits=5, scale=0.5)"
                    ], 
                    "language": "python", 
                    "outputs": [
                        {
                            "output_type": "pyout", 
                            "prompt_number": 14, 
                            "text": [
                                "&lt;sympy.physics.quantum.circuitplot.CircuitPlot object at 0x38a6950&gt;"
                            ]
                        }, 
                        {
                            "output_type": "display_data", 
                            "png": "[encoded data removed]"
                        }
                    ], 
                    "prompt_number": 14
                }, 
                {
                    "cell_type": "code", 
                    "collapsed": false, 
                    "input": [
                        "represent(4*encoding_circuit, nqubits=5)"
                    ], 
                    "language": "python", 
                    "outputs": [
                        {
                            "latex": [
                                "$$\\left(\\begin{smallmatrix}1 & 0 & 1 & 0 & 1 & 0 & 1 & 0 & 0 & -1 & 0 & -1 & 0 & -1 & 0 & -1 & 0 & -1 & 0 & -1 & 0 & -1 & 0 & -1 & -1 & 0 & -1 & 0 & -1 & 0 & -1 & 0\\\\0 & 1 & 0 & 1 & 0 & 1 & 0 & 1 & -1 & 0 & -1 & 0 & -1 & 0 & -1 & 0 & -1 & 0 & -1 & 0 & -1 & 0 & -1 & 0 & 0 & -1 & 0 & -1 & 0 & -1 & 0 & -1\\\\0 & 1 & 0 & -1 & 0 & 1 & 0 & -1 & -1 & 0 & 1 & 0 & -1 & 0 & 1 & 0 & -1 & 0 & 1 & 0 & -1 & 0 & 1 & 0 & 0 & -1 & 0 & 1 & 0 & -1 & 0 & 1\\\\1 & 0 & -1 & 0 & 1 & 0 & -1 & 0 & 0 & -1 & 0 & 1 & 0 & -1 & 0 & 1 & 0 & -1 & 0 & 1 & 0 & -1 & 0 & 1 & -1 & 0 & 1 & 0 & -1 & 0 & 1 & 0\\\\0 & -1 & 0 & -1 & 0 & 1 & 0 & 1 & 1 & 0 & 1 & 0 & -1 & 0 & -1 & 0 & -1 & 0 & -1 & 0 & 1 & 0 & 1 & 0 & 0 & -1 & 0 & -1 & 0 & 1 & 0 & 1\\\\-1 & 0 & -1 & 0 & 1 & 0 & 1 & 0 & 0 & 1 & 0 & 1 & 0 & -1 & 0 & -1 & 0 & -1 & 0 & -1 & 0 & 1 & 0 & 1 & -1 & 0 & -1 & 0 & 1 & 0 & 1 & 0\\\\1 & 0 & -1 & 0 & -1 & 0 & 1 & 0 & 0 & -1 & 0 & 1 & 0 & 1 & 0 & -1 & 0 & 1 & 0 & -1 & 0 & -1 & 0 & 1 & 1 & 0 & -1 & 0 & -1 & 0 & 1 & 0\\\\0 & 1 & 0 & -1 & 0 & -1 & 0 & 1 & -1 & 0 & 1 & 0 & 1 & 0 & -1 & 0 & 1 & 0 & -1 & 0 & -1 & 0 & 1 & 0 & 0 & 1 & 0 & -1 & 0 & -1 & 0 & 1\\\\0 & -1 & 0 & -1 & 0 & -1 & 0 & -1 & 1 & 0 & 1 & 0 & 1 & 0 & 1 & 0 & -1 & 0 & -1 & 0 & -1 & 0 & -1 & 0 & 0 & -1 & 0 & -1 & 0 & -1 & 0 & -1\\\\-1 & 0 & -1 & 0 & -1 & 0 & -1 & 0 & 0 & 1 & 0 & 1 & 0 & 1 & 0 & 1 & 0 & -1 & 0 & -1 & 0 & -1 & 0 & -1 & -1 & 0 & -1 & 0 & -1 & 0 & -1 & 0\\\\-1 & 0 & 1 & 0 & -1 & 0 & 1 & 0 & 0 & 1 & 0 & -1 & 0 & 1 & 0 & -1 & 0 & -1 & 0 & 1 & 0 & -1 & 0 & 1 & -1 & 0 & 1 & 0 & -1 & 0 & 1 & 0\\\\0 & -1 & 0 & 1 & 0 & -1 & 0 & 1 & 1 & 0 & -1 & 0 & 1 & 0 & -1 & 0 & -1 & 0 & 1 & 0 & -1 & 0 & 1 & 0 & 0 & -1 & 0 & 1 & 0 & -1 & 0 & 1\\\\1 & 0 & 1 & 0 & -1 & 0 & -1 & 0 & 0 & -1 & 0 & -1 & 0 & 1 & 0 & 1 & 0 & -1 & 0 & -1 & 0 & 1 & 0 & 1 & -1 & 0 & -1 & 0 & 1 & 0 & 1 & 0\\\\0 & 1 & 0 & 1 & 0 & -1 & 0 & -1 & -1 & 0 & -1 & 0 & 1 & 0 & 1 & 0 & -1 & 0 & -1 & 0 & 1 & 0 & 1 & 0 & 0 & -1 & 0 & -1 & 0 & 1 & 0 & 1\\\\0 & -1 & 0 & 1 & 0 & 1 & 0 & -1 & 1 & 0 & -1 & 0 & -1 & 0 & 1 & 0 & 1 & 0 & -1 & 0 & -1 & 0 & 1 & 0 & 0 & 1 & 0 & -1 & 0 & -1 & 0 & 1\\\\-1 & 0 & 1 & 0 & 1 & 0 & -1 & 0 & 0 & 1 & 0 & -1 & 0 & -1 & 0 & 1 & 0 & 1 & 0 & -1 & 0 & -1 & 0 & 1 & 1 & 0 & -1 & 0 & -1 & 0 & 1 & 0\\\\0 & 1 & 0 & 1 & 0 & 1 & 0 & 1 & 1 & 0 & 1 & 0 & 1 & 0 & 1 & 0 & -1 & 0 & -1 & 0 & -1 & 0 & -1 & 0 & 0 & 1 & 0 & 1 & 0 & 1 & 0 & 1\\\\1 & 0 & 1 & 0 & 1 & 0 & 1 & 0 & 0 & 1 & 0 & 1 & 0 & 1 & 0 & 1 & 0 & -1 & 0 & -1 & 0 & -1 & 0 & -1 & 1 & 0 & 1 & 0 & 1 & 0 & 1 & 0\\\\-1 & 0 & 1 & 0 & -1 & 0 & 1 & 0 & 0 & -1 & 0 & 1 & 0 & -1 & 0 & 1 & 0 & 1 & 0 & -1 & 0 & 1 & 0 & -1 & -1 & 0 & 1 & 0 & -1 & 0 & 1 & 0\\\\0 & -1 & 0 & 1 & 0 & -1 & 0 & 1 & -1 & 0 & 1 & 0 & -1 & 0 & 1 & 0 & 1 & 0 & -1 & 0 & 1 & 0 & -1 & 0 & 0 & -1 & 0 & 1 & 0 & -1 & 0 & 1\\\\-1 & 0 & -1 & 0 & 1 & 0 & 1 & 0 & 0 & -1 & 0 & -1 & 0 & 1 & 0 & 1 & 0 & -1 & 0 & -1 & 0 & 1 & 0 & 1 & 1 & 0 & 1 & 0 & -1 & 0 & -1 & 0\\\\0 & -1 & 0 & -1 & 0 & 1 & 0 & 1 & -1 & 0 & -1 & 0 & 1 & 0 & 1 & 0 & -1 & 0 & -1 & 0 & 1 & 0 & 1 & 0 & 0 & 1 & 0 & 1 & 0 & -1 & 0 & -1\\\\0 & -1 & 0 & 1 & 0 & 1 & 0 & -1 & -1 & 0 & 1 & 0 & 1 & 0 & -1 & 0 & -1 & 0 & 1 & 0 & 1 & 0 & -1 & 0 & 0 & 1 & 0 & -1 & 0 & -1 & 0 & 1\\\\-1 & 0 & 1 & 0 & 1 & 0 & -1 & 0 & 0 & -1 & 0 & 1 & 0 & 1 & 0 & -1 & 0 & -1 & 0 & 1 & 0 & 1 & 0 & -1 & 1 & 0 & -1 & 0 & -1 & 0 & 1 & 0\\\\1 & 0 & 1 & 0 & 1 & 0 & 1 & 0 & 0 & 1 & 0 & 1 & 0 & 1 & 0 & 1 & 0 & 1 & 0 & 1 & 0 & 1 & 0 & 1 & -1 & 0 & -1 & 0 & -1 & 0 & -1 & 0\\\\0 & 1 & 0 & 1 & 0 & 1 & 0 & 1 & 1 & 0 & 1 & 0 & 1 & 0 & 1 & 0 & 1 & 0 & 1 & 0 & 1 & 0 & 1 & 0 & 0 & -1 & 0 & -1 & 0 & -1 & 0 & -1\\\\0 & -1 & 0 & 1 & 0 & -1 & 0 & 1 & -1 & 0 & 1 & 0 & -1 & 0 & 1 & 0 & -1 & 0 & 1 & 0 & -1 & 0 & 1 & 0 & 0 & 1 & 0 & -1 & 0 & 1 & 0 & -1\\\\-1 & 0 & 1 & 0 & -1 & 0 & 1 & 0 & 0 & -1 & 0 & 1 & 0 & -1 & 0 & 1 & 0 & -1 & 0 & 1 & 0 & -1 & 0 & 1 & 1 & 0 & -1 & 0 & 1 & 0 & -1 & 0\\\\0 & -1 & 0 & -1 & 0 & 1 & 0 & 1 & -1 & 0 & -1 & 0 & 1 & 0 & 1 & 0 & 1 & 0 & 1 & 0 & -1 & 0 & -1 & 0 & 0 & -1 & 0 & -1 & 0 & 1 & 0 & 1\\\\-1 & 0 & -1 & 0 & 1 & 0 & 1 & 0 & 0 & -1 & 0 & -1 & 0 & 1 & 0 & 1 & 0 & 1 & 0 & 1 & 0 & -1 & 0 & -1 & -1 & 0 & -1 & 0 & 1 & 0 & 1 & 0\\\\-1 & 0 & 1 & 0 & 1 & 0 & -1 & 0 & 0 & -1 & 0 & 1 & 0 & 1 & 0 & -1 & 0 & 1 & 0 & -1 & 0 & -1 & 0 & 1 & -1 & 0 & 1 & 0 & 1 & 0 & -1 & 0\\\\0 & -1 & 0 & 1 & 0 & 1 & 0 & -1 & -1 & 0 & 1 & 0 & 1 & 0 & -1 & 0 & 1 & 0 & -1 & 0 & -1 & 0 & 1 & 0 & 0 & -1 & 0 & 1 & 0 & 1 & 0 & -1\\end{smallmatrix}\\right)$$"
                            ], 
                            "output_type": "pyout", 
                            "prompt_number": 15, 
                            "text": [
                                "\u23a11   0   1   0   1   0   1   0   0   -1  0   -1  0   -1  0   -1  0   -1  0   -", 
                                "\u23a2                                                                             ", 
                                "\u23a20   1   0   1   0   1   0   1   -1  0   -1  0   -1  0   -1  0   -1  0   -1  0", 
                                "\u23a2                                                                             ", 
                                "\u23a20   1   0   -1  0   1   0   -1  -1  0   1   0   -1  0   1   0   -1  0   1   0", 
                                "\u23a2                                                                             ", 
                                "\u23a21   0   -1  0   1   0   -1  0   0   -1  0   1   0   -1  0   1   0   -1  0   1", 
                                "\u23a2                                                                             ", 
                                "\u23a20   -1  0   -1  0   1   0   1   1   0   1   0   -1  0   -1  0   -1  0   -1  0", 
                                "\u23a2                                                                             ", 
                                "\u23a2-1  0   -1  0   1   0   1   0   0   1   0   1   0   -1  0   -1  0   -1  0   -", 
                                "\u23a2                                                                             ", 
                                "\u23a21   0   -1  0   -1  0   1   0   0   -1  0   1   0   1   0   -1  0   1   0   -", 
                                "\u23a2                                                                             ", 
                                "\u23a20   1   0   -1  0   -1  0   1   -1  0   1   0   1   0   -1  0   1   0   -1  0", 
                                "\u23a2                                                                             ", 
                                "\u23a20   -1  0   -1  0   -1  0   -1  1   0   1   0   1   0   1   0   -1  0   -1  0", 
                                "\u23a2                                                                             ", 
                                "\u23a2-1  0   -1  0   -1  0   -1  0   0   1   0   1   0   1   0   1   0   -1  0   -", 
                                "\u23a2                                                                             ", 
                                "\u23a2-1  0   1   0   -1  0   1   0   0   1   0   -1  0   1   0   -1  0   -1  0   1", 
                                "\u23a2                                                                             ", 
                                "\u23a20   -1  0   1   0   -1  0   1   1   0   -1  0   1   0   -1  0   -1  0   1   0", 
                                "\u23a2                                                                             ", 
                                "\u23a21   0   1   0   -1  0   -1  0   0   -1  0   -1  0   1   0   1   0   -1  0   -", 
                                "\u23a2                                                                             ", 
                                "\u23a20   1   0   1   0   -1  0   -1  -1  0   -1  0   1   0   1   0   -1  0   -1  0", 
                                "\u23a2                                                                             ", 
                                "\u23a20   -1  0   1   0   1   0   -1  1   0   -1  0   -1  0   1   0   1   0   -1  0", 
                                "\u23a2                                                                             ", 
                                "\u23a2-1  0   1   0   1   0   -1  0   0   1   0   -1  0   -1  0   1   0   1   0   -", 
                                "\u23a2                                                                             ", 
                                "\u23a20   1   0   1   0   1   0   1   1   0   1   0   1   0   1   0   -1  0   -1  0", 
                                "\u23a2                                                                             ", 
                                "\u23a21   0   1   0   1   0   1   0   0   1   0   1   0   1   0   1   0   -1  0   -", 
                                "\u23a2                                                                             ", 
                                "\u23a2-1  0   1   0   -1  0   1   0   0   -1  0   1   0   -1  0   1   0   1   0   -", 
                                "\u23a2                                                                             ", 
                                "\u23a20   -1  0   1   0   -1  0   1   -1  0   1   0   -1  0   1   0   1   0   -1  0", 
                                "\u23a2                                                                             ", 
                                "\u23a2-1  0   -1  0   1   0   1   0   0   -1  0   -1  0   1   0   1   0   -1  0   -", 
                                "\u23a2                                                                             ", 
                                "\u23a20   -1  0   -1  0   1   0   1   -1  0   -1  0   1   0   1   0   -1  0   -1  0", 
                                "\u23a2                                                                             ", 
                                "\u23a20   -1  0   1   0   1   0   -1  -1  0   1   0   1   0   -1  0   -1  0   1   0", 
                                "\u23a2                                                                             ", 
                                "\u23a2-1  0   1   0   1   0   -1  0   0   -1  0   1   0   1   0   -1  0   -1  0   1", 
                                "\u23a2                                                                             ", 
                                "\u23a21   0   1   0   1   0   1   0   0   1   0   1   0   1   0   1   0   1   0   1", 
                                "\u23a2                                                                             ", 
                                "\u23a20   1   0   1   0   1   0   1   1   0   1   0   1   0   1   0   1   0   1   0", 
                                "\u23a2                                                                             ", 
                                "\u23a20   -1  0   1   0   -1  0   1   -1  0   1   0   -1  0   1   0   -1  0   1   0", 
                                "\u23a2                                                                             ", 
                                "\u23a2-1  0   1   0   -1  0   1   0   0   -1  0   1   0   -1  0   1   0   -1  0   1", 
                                "\u23a2                                                                             ", 
                                "\u23a20   -1  0   -1  0   1   0   1   -1  0   -1  0   1   0   1   0   1   0   1   0", 
                                "\u23a2                                                                             ", 
                                "\u23a2-1  0   -1  0   1   0   1   0   0   -1  0   -1  0   1   0   1   0   1   0   1", 
                                "\u23a2                                                                             ", 
                                "\u23a2-1  0   1   0   1   0   -1  0   0   -1  0   1   0   1   0   -1  0   1   0   -", 
                                "\u23a2                                                                             ", 
                                "\u23a30   -1  0   1   0   1   0   -1  -1  0   1   0   1   0   -1  0   1   0   -1  0", 
                                "", 
                                "1  0   -1  0   -1  -1  0   -1  0   -1  0   -1  0 \u23a4", 
                                "                                                 \u23a5", 
                                "   -1  0   -1  0   0   -1  0   -1  0   -1  0   -1\u23a5", 
                                "                                                 \u23a5", 
                                "   -1  0   1   0   0   -1  0   1   0   -1  0   1 \u23a5", 
                                "                                                 \u23a5", 
                                "   0   -1  0   1   -1  0   1   0   -1  0   1   0 \u23a5", 
                                "                                                 \u23a5", 
                                "   1   0   1   0   0   -1  0   -1  0   1   0   1 \u23a5", 
                                "                                                 \u23a5", 
                                "1  0   1   0   1   -1  0   -1  0   1   0   1   0 \u23a5", 
                                "                                                 \u23a5", 
                                "1  0   -1  0   1   1   0   -1  0   -1  0   1   0 \u23a5", 
                                "                                                 \u23a5", 
                                "   -1  0   1   0   0   1   0   -1  0   -1  0   1 \u23a5", 
                                "                                                 \u23a5", 
                                "   -1  0   -1  0   0   -1  0   -1  0   -1  0   -1\u23a5", 
                                "                                                 \u23a5", 
                                "1  0   -1  0   -1  -1  0   -1  0   -1  0   -1  0 \u23a5", 
                                "                                                 \u23a5", 
                                "   0   -1  0   1   -1  0   1   0   -1  0   1   0 \u23a5", 
                                "                                                 \u23a5", 
                                "   -1  0   1   0   0   -1  0   1   0   -1  0   1 \u23a5", 
                                "                                                 \u23a5", 
                                "1  0   1   0   1   -1  0   -1  0   1   0   1   0 \u23a5", 
                                "                                                 \u23a5", 
                                "   1   0   1   0   0   -1  0   -1  0   1   0   1 \u23a5", 
                                "                                                 \u23a5", 
                                "   -1  0   1   0   0   1   0   -1  0   -1  0   1 \u23a5", 
                                "                                                 \u23a5", 
                                "1  0   -1  0   1   1   0   -1  0   -1  0   1   0 \u23a5", 
                                "                                                 \u23a5", 
                                "   -1  0   -1  0   0   1   0   1   0   1   0   1 \u23a5", 
                                "                                                 \u23a5", 
                                "1  0   -1  0   -1  1   0   1   0   1   0   1   0 \u23a5", 
                                "                                                 \u23a5", 
                                "1  0   1   0   -1  -1  0   1   0   -1  0   1   0 \u23a5", 
                                "                                                 \u23a5", 
                                "   1   0   -1  0   0   -1  0   1   0   -1  0   1 \u23a5", 
                                "                                                 \u23a5", 
                                "1  0   1   0   1   1   0   1   0   -1  0   -1  0 \u23a5", 
                                "                                                 \u23a5", 
                                "   1   0   1   0   0   1   0   1   0   -1  0   -1\u23a5", 
                                "                                                 \u23a5", 
                                "   1   0   -1  0   0   1   0   -1  0   -1  0   1 \u23a5", 
                                "                                                 \u23a5", 
                                "   0   1   0   -1  1   0   -1  0   -1  0   1   0 \u23a5", 
                                "                                                 \u23a5", 
                                "   0   1   0   1   -1  0   -1  0   -1  0   -1  0 \u23a5", 
                                "                                                 \u23a5", 
                                "   1   0   1   0   0   -1  0   -1  0   -1  0   -1\u23a5", 
                                "                                                 \u23a5", 
                                "   -1  0   1   0   0   1   0   -1  0   1   0   -1\u23a5", 
                                "                                                 \u23a5", 
                                "   0   -1  0   1   1   0   -1  0   1   0   -1  0 \u23a5", 
                                "                                                 \u23a5", 
                                "   -1  0   -1  0   0   -1  0   -1  0   1   0   1 \u23a5", 
                                "                                                 \u23a5", 
                                "   0   -1  0   -1  -1  0   -1  0   1   0   1   0 \u23a5", 
                                "                                                 \u23a5", 
                                "1  0   -1  0   1   -1  0   1   0   1   0   -1  0 \u23a5", 
                                "                                                 \u23a5", 
                                "   -1  0   1   0   0   -1  0   1   0   1   0   -1\u23a6"
                            ]
                        }
                    ], 
                    "prompt_number": 15
                }
            ]
        }
    ]
}