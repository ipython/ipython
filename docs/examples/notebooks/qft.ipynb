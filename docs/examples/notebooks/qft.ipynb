{
    "metadata": {
        "name": "qft"
    }, 
    "nbformat": 2, 
    "worksheets": [
        {
            "cells": [
                {
                    "cell_type": "markdown", 
                    "source": [
                        "<h1>Quantum Fourier Transform</h1>"
                    ]
                }, 
                {
                    "cell_type": "code", 
                    "collapsed": true, 
                    "input": [
                        "%load_ext sympyprinting"
                    ], 
                    "language": "python", 
                    "outputs": [], 
                    "prompt_number": 1
                }, 
                {
                    "cell_type": "code", 
                    "collapsed": true, 
                    "input": [
                        "from sympy import sqrt, symbols, Rational", 
                        "from sympy import expand, Eq, Symbol, simplify, exp, sin", 
                        "from sympy.physics.quantum import *", 
                        "from sympy.physics.quantum.qubit import *", 
                        "from sympy.physics.quantum.gate import *", 
                        "from sympy.physics.quantum.grover import *", 
                        "from sympy.physics.quantum.qft import QFT, IQFT, Fourier", 
                        "from sympy.physics.quantum.circuitplot import circuit_plot"
                    ], 
                    "language": "python", 
                    "outputs": [], 
                    "prompt_number": 2
                }, 
                {
                    "cell_type": "markdown", 
                    "source": [
                        "QFT is useful for a quantum algorithm for factoring numbers which is exponentially faster than what is thought to be possible on a classical machine.<br>", 
                        "The transform does a DFT on the state of a quantum system<br>", 
                        "There is a simple decomposition of the QFT in terms of a few elementary gates."
                    ]
                }, 
                {
                    "cell_type": "markdown", 
                    "source": [
                        "<h2>QFT Gate and Circuit</h2>"
                    ]
                }, 
                {
                    "cell_type": "markdown", 
                    "source": [
                        "Build a 3 qubit QFT and decompose it into primitive gates."
                    ]
                }, 
                {
                    "cell_type": "code", 
                    "collapsed": false, 
                    "input": [
                        "fourier = QFT(0,3).decompose(); fourier"
                    ], 
                    "language": "python", 
                    "outputs": [
                        {
                            "latex": [
                                "$$SWAP_{0,2} H_{0} C_{0}{\\left(S_{1}\\right)} H_{1} C_{0}{\\left(T_{2}\\right)} C_{1}{\\left(S_{2}\\right)} H_{2}$$"
                            ], 
                            "output_type": "pyout", 
                            "png": "[encoded data removed]", 
                            "prompt_number": 3, 
                            "text": [
                                "SWAP   \u22c5H \u22c5C \u239bS \u239e\u22c5H \u22c5C \u239bT \u239e\u22c5C \u239bS \u239e\u22c5H ", 
                                "    0,2  0  0\u239d 1\u23a0  1  0\u239d 2\u23a0  1\u239d 2\u23a0  2"
                            ]
                        }
                    ], 
                    "prompt_number": 3
                }, 
                {
                    "cell_type": "code", 
                    "collapsed": false, 
                    "input": [
                        "circuit_plot(fourier, nqubits=3)"
                    ], 
                    "language": "python", 
                    "outputs": [
                        {
                            "output_type": "pyout", 
                            "prompt_number": 4, 
                            "text": [
                                "&lt;sympy.physics.quantum.circuitplot.CircuitPlot object at 0x4992910&gt;"
                            ]
                        }, 
                        {
                            "output_type": "display_data", 
                            "png": "[encoded data removed]"
                        }
                    ], 
                    "prompt_number": 4
                }, 
                {
                    "cell_type": "markdown", 
                    "source": [
                        "The QFT circuit can be represented in various symbolic forms."
                    ]
                }, 
                {
                    "cell_type": "code", 
                    "collapsed": true, 
                    "input": [
                        "m = represent(fourier, nqubits=3)"
                    ], 
                    "language": "python", 
                    "outputs": [], 
                    "prompt_number": 5
                }, 
                {
                    "cell_type": "code", 
                    "collapsed": false, 
                    "input": [
                        "m"
                    ], 
                    "language": "python", 
                    "outputs": [
                        {
                            "latex": [
                                "$$\\left(\\begin{smallmatrix}\\frac{1}{4} \\sqrt{2} & \\frac{1}{4} \\sqrt{2} & \\frac{1}{4} \\sqrt{2} & \\frac{1}{4} \\sqrt{2} & \\frac{1}{4} \\sqrt{2} & \\frac{1}{4} \\sqrt{2} & \\frac{1}{4} \\sqrt{2} & \\frac{1}{4} \\sqrt{2}\\\\\\frac{1}{4} \\sqrt{2} & \\frac{1}{4} \\sqrt{2} e^{\\frac{1}{4} \\mathbf{\\imath} \\pi} & \\frac{1}{4} \\sqrt{2} \\mathbf{\\imath} & \\frac{1}{4} \\sqrt{2} \\mathbf{\\imath} e^{\\frac{1}{4} \\mathbf{\\imath} \\pi} & - \\frac{1}{4} \\sqrt{2} & - \\frac{1}{4} \\sqrt{2} e^{\\frac{1}{4} \\mathbf{\\imath} \\pi} & - \\frac{1}{4} \\sqrt{2} \\mathbf{\\imath} & - \\frac{1}{4} \\sqrt{2} \\mathbf{\\imath} e^{\\frac{1}{4} \\mathbf{\\imath} \\pi}\\\\\\frac{1}{4} \\sqrt{2} & \\frac{1}{4} \\sqrt{2} \\mathbf{\\imath} & - \\frac{1}{4} \\sqrt{2} & - \\frac{1}{4} \\sqrt{2} \\mathbf{\\imath} & \\frac{1}{4} \\sqrt{2} & \\frac{1}{4} \\sqrt{2} \\mathbf{\\imath} & - \\frac{1}{4} \\sqrt{2} & - \\frac{1}{4} \\sqrt{2} \\mathbf{\\imath}\\\\\\frac{1}{4} \\sqrt{2} & \\frac{1}{4} \\sqrt{2} \\mathbf{\\imath} e^{\\frac{1}{4} \\mathbf{\\imath} \\pi} & - \\frac{1}{4} \\sqrt{2} \\mathbf{\\imath} & \\frac{1}{4} \\sqrt{2} e^{\\frac{1}{4} \\mathbf{\\imath} \\pi} & - \\frac{1}{4} \\sqrt{2} & - \\frac{1}{4} \\sqrt{2} \\mathbf{\\imath} e^{\\frac{1}{4} \\mathbf{\\imath} \\pi} & \\frac{1}{4} \\sqrt{2} \\mathbf{\\imath} & - \\frac{1}{4} \\sqrt{2} e^{\\frac{1}{4} \\mathbf{\\imath} \\pi}\\\\\\frac{1}{4} \\sqrt{2} & - \\frac{1}{4} \\sqrt{2} & \\frac{1}{4} \\sqrt{2} & - \\frac{1}{4} \\sqrt{2} & \\frac{1}{4} \\sqrt{2} & - \\frac{1}{4} \\sqrt{2} & \\frac{1}{4} \\sqrt{2} & - \\frac{1}{4} \\sqrt{2}\\\\\\frac{1}{4} \\sqrt{2} & - \\frac{1}{4} \\sqrt{2} e^{\\frac{1}{4} \\mathbf{\\imath} \\pi} & \\frac{1}{4} \\sqrt{2} \\mathbf{\\imath} & - \\frac{1}{4} \\sqrt{2} \\mathbf{\\imath} e^{\\frac{1}{4} \\mathbf{\\imath} \\pi} & - \\frac{1}{4} \\sqrt{2} & \\frac{1}{4} \\sqrt{2} e^{\\frac{1}{4} \\mathbf{\\imath} \\pi} & - \\frac{1}{4} \\sqrt{2} \\mathbf{\\imath} & \\frac{1}{4} \\sqrt{2} \\mathbf{\\imath} e^{\\frac{1}{4} \\mathbf{\\imath} \\pi}\\\\\\frac{1}{4} \\sqrt{2} & - \\frac{1}{4} \\sqrt{2} \\mathbf{\\imath} & - \\frac{1}{4} \\sqrt{2} & \\frac{1}{4} \\sqrt{2} \\mathbf{\\imath} & \\frac{1}{4} \\sqrt{2} & - \\frac{1}{4} \\sqrt{2} \\mathbf{\\imath} & - \\frac{1}{4} \\sqrt{2} & \\frac{1}{4} \\sqrt{2} \\mathbf{\\imath}\\\\\\frac{1}{4} \\sqrt{2} & - \\frac{1}{4} \\sqrt{2} \\mathbf{\\imath} e^{\\frac{1}{4} \\mathbf{\\imath} \\pi} & - \\frac{1}{4} \\sqrt{2} \\mathbf{\\imath} & - \\frac{1}{4} \\sqrt{2} e^{\\frac{1}{4} \\mathbf{\\imath} \\pi} & - \\frac{1}{4} \\sqrt{2} & \\frac{1}{4} \\sqrt{2} \\mathbf{\\imath} e^{\\frac{1}{4} \\mathbf{\\imath} \\pi} & \\frac{1}{4} \\sqrt{2} \\mathbf{\\imath} & \\frac{1}{4} \\sqrt{2} e^{\\frac{1}{4} \\mathbf{\\imath} \\pi}\\end{smallmatrix}\\right)$$"
                            ], 
                            "output_type": "pyout", 
                            "prompt_number": 6, 
                            "text": [
                                "\u23a1  \u23bd\u23bd\u23bd        \u23bd\u23bd\u23bd         \u23bd\u23bd\u23bd          \u23bd\u23bd\u23bd        \u23bd\u23bd\u23bd         \u23bd\u23bd\u23bd         \u23bd\u23bd\u23bd ", 
                                "\u23a2\u2572\u2571 2       \u2572\u2571 2        \u2572\u2571 2         \u2572\u2571 2       \u2572\u2571 2        \u2572\u2571 2        \u2572\u2571 2  ", 
                                "\u23a2\u2500\u2500\u2500\u2500\u2500      \u2500\u2500\u2500\u2500\u2500       \u2500\u2500\u2500\u2500\u2500        \u2500\u2500\u2500\u2500\u2500      \u2500\u2500\u2500\u2500\u2500       \u2500\u2500\u2500\u2500\u2500       \u2500\u2500\u2500\u2500\u2500 ", 
                                "\u23a2  4          4           4            4          4           4           4   ", 
                                "\u23a2                                                                             ", 
                                "\u23a2               \u2148\u22c5\u03c0                       \u2148\u22c5\u03c0                    \u2148\u22c5\u03c0          ", 
                                "\u23a2               \u2500\u2500\u2500                       \u2500\u2500\u2500                    \u2500\u2500\u2500          ", 
                                "\u23a2  \u23bd\u23bd\u23bd     \u23bd\u23bd\u23bd   4       \u23bd\u23bd\u23bd       \u23bd\u23bd\u23bd     4       \u23bd\u23bd\u23bd      \u23bd\u23bd\u23bd   4       \u23bd\u23bd\u23bd ", 
                                "\u23a2\u2572\u2571 2    \u2572\u2571 2 \u22c5\u212f       \u2572\u2571 2 \u22c5\u2148   \u2572\u2571 2 \u22c5\u2148\u22c5\u212f      -\u2572\u2571 2    -\u2572\u2571 2 \u22c5\u212f      -\u2572\u2571 2 \u22c5", 
                                "\u23a2\u2500\u2500\u2500\u2500\u2500   \u2500\u2500\u2500\u2500\u2500\u2500\u2500\u2500\u2500\u2500    \u2500\u2500\u2500\u2500\u2500\u2500\u2500   \u2500\u2500\u2500\u2500\u2500\u2500\u2500\u2500\u2500\u2500\u2500\u2500   \u2500\u2500\u2500\u2500\u2500\u2500   \u2500\u2500\u2500\u2500\u2500\u2500\u2500\u2500\u2500\u2500\u2500   \u2500\u2500\u2500\u2500\u2500\u2500\u2500", 
                                "\u23a2  4         4            4           4           4           4           4   ", 
                                "\u23a2                                                                             ", 
                                "\u23a2  \u23bd\u23bd\u23bd       \u23bd\u23bd\u23bd           \u23bd\u23bd\u23bd        \u23bd\u23bd\u23bd         \u23bd\u23bd\u23bd        \u23bd\u23bd\u23bd           \u23bd\u23bd\u23bd", 
                                "\u23a2\u2572\u2571 2      \u2572\u2571 2 \u22c5\u2148      -\u2572\u2571 2      -\u2572\u2571 2 \u22c5\u2148     \u2572\u2571 2       \u2572\u2571 2 \u22c5\u2148      -\u2572\u2571 2 ", 
                                "\u23a2\u2500\u2500\u2500\u2500\u2500     \u2500\u2500\u2500\u2500\u2500\u2500\u2500      \u2500\u2500\u2500\u2500\u2500\u2500     \u2500\u2500\u2500\u2500\u2500\u2500\u2500\u2500     \u2500\u2500\u2500\u2500\u2500      \u2500\u2500\u2500\u2500\u2500\u2500\u2500      \u2500\u2500\u2500\u2500\u2500\u2500", 
                                "\u23a2  4          4           4           4           4           4           4   ", 
                                "\u23a2                                                                             ", 
                                "\u23a2                \u2148\u22c5\u03c0                     \u2148\u22c5\u03c0                      \u2148\u22c5\u03c0         ", 
                                "\u23a2                \u2500\u2500\u2500                     \u2500\u2500\u2500                      \u2500\u2500\u2500         ", 
                                "\u23a2  \u23bd\u23bd\u23bd    \u23bd\u23bd\u23bd     4       \u23bd\u23bd\u23bd       \u23bd\u23bd\u23bd   4        \u23bd\u23bd\u23bd     \u23bd\u23bd\u23bd     4     \u23bd\u23bd\u23bd  ", 
                                "\u23a2\u2572\u2571 2   \u2572\u2571 2 \u22c5\u2148\u22c5\u212f      -\u2572\u2571 2 \u22c5\u2148   \u2572\u2571 2 \u22c5\u212f       -\u2572\u2571 2   -\u2572\u2571 2 \u22c5\u2148\u22c5\u212f     \u2572\u2571 2 \u22c5\u2148", 
                                "\u23a2\u2500\u2500\u2500\u2500\u2500  \u2500\u2500\u2500\u2500\u2500\u2500\u2500\u2500\u2500\u2500\u2500\u2500   \u2500\u2500\u2500\u2500\u2500\u2500\u2500\u2500   \u2500\u2500\u2500\u2500\u2500\u2500\u2500\u2500\u2500\u2500    \u2500\u2500\u2500\u2500\u2500\u2500  \u2500\u2500\u2500\u2500\u2500\u2500\u2500\u2500\u2500\u2500\u2500\u2500\u2500  \u2500\u2500\u2500\u2500\u2500\u2500\u2500", 
                                "\u23a2  4         4            4           4           4           4           4   ", 
                                "\u23a2                                                                             ", 
                                "\u23a2  \u23bd\u23bd\u23bd        \u23bd\u23bd\u23bd         \u23bd\u23bd\u23bd          \u23bd\u23bd\u23bd        \u23bd\u23bd\u23bd         \u23bd\u23bd\u23bd         \u23bd\u23bd\u23bd ", 
                                "\u23a2\u2572\u2571 2      -\u2572\u2571 2        \u2572\u2571 2        -\u2572\u2571 2       \u2572\u2571 2       -\u2572\u2571 2        \u2572\u2571 2  ", 
                                "\u23a2\u2500\u2500\u2500\u2500\u2500     \u2500\u2500\u2500\u2500\u2500\u2500       \u2500\u2500\u2500\u2500\u2500       \u2500\u2500\u2500\u2500\u2500\u2500      \u2500\u2500\u2500\u2500\u2500      \u2500\u2500\u2500\u2500\u2500\u2500       \u2500\u2500\u2500\u2500\u2500 ", 
                                "\u23a2  4         4            4           4           4          4            4   ", 
                                "\u23a2                                                                             ", 
                                "\u23a2                \u2148\u22c5\u03c0                       \u2148\u22c5\u03c0                  \u2148\u22c5\u03c0           ", 
                                "\u23a2                \u2500\u2500\u2500                       \u2500\u2500\u2500                  \u2500\u2500\u2500           ", 
                                "\u23a2  \u23bd\u23bd\u23bd      \u23bd\u23bd\u23bd   4      \u23bd\u23bd\u23bd        \u23bd\u23bd\u23bd     4      \u23bd\u23bd\u23bd     \u23bd\u23bd\u23bd   4        \u23bd\u23bd\u23bd ", 
                                "\u23a2\u2572\u2571 2    -\u2572\u2571 2 \u22c5\u212f      \u2572\u2571 2 \u22c5\u2148   -\u2572\u2571 2 \u22c5\u2148\u22c5\u212f     -\u2572\u2571 2    \u2572\u2571 2 \u22c5\u212f       -\u2572\u2571 2 \u22c5", 
                                "\u23a2\u2500\u2500\u2500\u2500\u2500   \u2500\u2500\u2500\u2500\u2500\u2500\u2500\u2500\u2500\u2500\u2500   \u2500\u2500\u2500\u2500\u2500\u2500\u2500   \u2500\u2500\u2500\u2500\u2500\u2500\u2500\u2500\u2500\u2500\u2500\u2500\u2500  \u2500\u2500\u2500\u2500\u2500\u2500   \u2500\u2500\u2500\u2500\u2500\u2500\u2500\u2500\u2500\u2500    \u2500\u2500\u2500\u2500\u2500\u2500\u2500", 
                                "\u23a2  4          4           4            4          4          4            4   ", 
                                "\u23a2                                                                             ", 
                                "\u23a2  \u23bd\u23bd\u23bd       \u23bd\u23bd\u23bd           \u23bd\u23bd\u23bd        \u23bd\u23bd\u23bd         \u23bd\u23bd\u23bd        \u23bd\u23bd\u23bd           \u23bd\u23bd\u23bd", 
                                "\u23a2\u2572\u2571 2     -\u2572\u2571 2 \u22c5\u2148      -\u2572\u2571 2       \u2572\u2571 2 \u22c5\u2148     \u2572\u2571 2      -\u2572\u2571 2 \u22c5\u2148      -\u2572\u2571 2 ", 
                                "\u23a2\u2500\u2500\u2500\u2500\u2500    \u2500\u2500\u2500\u2500\u2500\u2500\u2500\u2500      \u2500\u2500\u2500\u2500\u2500\u2500      \u2500\u2500\u2500\u2500\u2500\u2500\u2500     \u2500\u2500\u2500\u2500\u2500     \u2500\u2500\u2500\u2500\u2500\u2500\u2500\u2500      \u2500\u2500\u2500\u2500\u2500\u2500", 
                                "\u23a2  4         4            4            4          4          4            4   ", 
                                "\u23a2                                                                             ", 
                                "\u23a2                 \u2148\u22c5\u03c0                     \u2148\u22c5\u03c0                    \u2148\u22c5\u03c0          ", 
                                "\u23a2                 \u2500\u2500\u2500                     \u2500\u2500\u2500                    \u2500\u2500\u2500          ", 
                                "\u23a2  \u23bd\u23bd\u23bd     \u23bd\u23bd\u23bd     4      \u23bd\u23bd\u23bd        \u23bd\u23bd\u23bd   4       \u23bd\u23bd\u23bd    \u23bd\u23bd\u23bd     4      \u23bd\u23bd\u23bd  ", 
                                "\u23a2\u2572\u2571 2   -\u2572\u2571 2 \u22c5\u2148\u22c5\u212f     -\u2572\u2571 2 \u22c5\u2148   -\u2572\u2571 2 \u22c5\u212f      -\u2572\u2571 2   \u2572\u2571 2 \u22c5\u2148\u22c5\u212f      \u2572\u2571 2 \u22c5\u2148", 
                                "\u23a2\u2500\u2500\u2500\u2500\u2500  \u2500\u2500\u2500\u2500\u2500\u2500\u2500\u2500\u2500\u2500\u2500\u2500\u2500  \u2500\u2500\u2500\u2500\u2500\u2500\u2500\u2500   \u2500\u2500\u2500\u2500\u2500\u2500\u2500\u2500\u2500\u2500\u2500   \u2500\u2500\u2500\u2500\u2500\u2500  \u2500\u2500\u2500\u2500\u2500\u2500\u2500\u2500\u2500\u2500\u2500\u2500   \u2500\u2500\u2500\u2500\u2500\u2500\u2500", 
                                "\u23a3  4          4           4            4          4          4            4   ", 
                                "", 
                                "         \u23bd\u23bd\u23bd    \u23a4", 
                                "       \u2572\u2571 2     \u23a5", 
                                "       \u2500\u2500\u2500\u2500\u2500    \u23a5", 
                                "         4      \u23a5", 
                                "                \u23a5", 
                                "             \u2148\u22c5\u03c0\u23a5", 
                                "             \u2500\u2500\u2500\u23a5", 
                                "      \u23bd\u23bd\u23bd     4 \u23a5", 
                                "\u2148  -\u2572\u2571 2 \u22c5\u2148\u22c5\u212f   \u23a5", 
                                "\u2500  \u2500\u2500\u2500\u2500\u2500\u2500\u2500\u2500\u2500\u2500\u2500\u2500\u2500\u23a5", 
                                "         4      \u23a5", 
                                "                \u23a5", 
                                "        \u23bd\u23bd\u23bd     \u23a5", 
                                "     -\u2572\u2571 2 \u22c5\u2148   \u23a5", 
                                "     \u2500\u2500\u2500\u2500\u2500\u2500\u2500\u2500   \u23a5", 
                                "        4       \u23a5", 
                                "                \u23a5", 
                                "            \u2148\u22c5\u03c0 \u23a5", 
                                "            \u2500\u2500\u2500 \u23a5", 
                                "       \u23bd\u23bd\u23bd   4  \u23a5", 
                                "    -\u2572\u2571 2 \u22c5\u212f    \u23a5", 
                                "    \u2500\u2500\u2500\u2500\u2500\u2500\u2500\u2500\u2500\u2500\u2500 \u23a5", 
                                "         4      \u23a5", 
                                "                \u23a5", 
                                "         \u23bd\u23bd\u23bd    \u23a5", 
                                "      -\u2572\u2571 2     \u23a5", 
                                "      \u2500\u2500\u2500\u2500\u2500\u2500    \u23a5", 
                                "        4       \u23a5", 
                                "                \u23a5", 
                                "            \u2148\u22c5\u03c0 \u23a5", 
                                "            \u2500\u2500\u2500 \u23a5", 
                                "     \u23bd\u23bd\u23bd     4  \u23a5", 
                                "\u2148  \u2572\u2571 2 \u22c5\u2148\u22c5\u212f    \u23a5", 
                                "\u2500  \u2500\u2500\u2500\u2500\u2500\u2500\u2500\u2500\u2500\u2500\u2500\u2500 \u23a5", 
                                "        4       \u23a5", 
                                "                \u23a5", 
                                "        \u23bd\u23bd\u23bd     \u23a5", 
                                "      \u2572\u2571 2 \u22c5\u2148   \u23a5", 
                                "      \u2500\u2500\u2500\u2500\u2500\u2500\u2500   \u23a5", 
                                "         4      \u23a5", 
                                "                \u23a5", 
                                "           \u2148\u22c5\u03c0  \u23a5", 
                                "           \u2500\u2500\u2500  \u23a5", 
                                "      \u23bd\u23bd\u23bd   4   \u23a5", 
                                "    \u2572\u2571 2 \u22c5\u212f     \u23a5", 
                                "    \u2500\u2500\u2500\u2500\u2500\u2500\u2500\u2500\u2500\u2500  \u23a5", 
                                "        4       \u23a6"
                            ]
                        }
                    ], 
                    "prompt_number": 6
                }, 
                {
                    "cell_type": "code", 
                    "collapsed": false, 
                    "input": [
                        "represent(Fourier(0,3), nqubits=3)*4/sqrt(2)"
                    ], 
                    "language": "python", 
                    "outputs": [
                        {
                            "latex": [
                                "$$\\left(\\begin{smallmatrix}1 & 1 & 1 & 1 & 1 & 1 & 1 & 1\\\\1 & \\omega & \\omega^{2} & \\omega^{3} & \\omega^{4} & \\omega^{5} & \\omega^{6} & \\omega^{7}\\\\1 & \\omega^{2} & \\omega^{4} & \\omega^{6} & 1 & \\omega^{2} & \\omega^{4} & \\omega^{6}\\\\1 & \\omega^{3} & \\omega^{6} & \\omega & \\omega^{4} & \\omega^{7} & \\omega^{2} & \\omega^{5}\\\\1 & \\omega^{4} & 1 & \\omega^{4} & 1 & \\omega^{4} & 1 & \\omega^{4}\\\\1 & \\omega^{5} & \\omega^{2} & \\omega^{7} & \\omega^{4} & \\omega & \\omega^{6} & \\omega^{3}\\\\1 & \\omega^{6} & \\omega^{4} & \\omega^{2} & 1 & \\omega^{6} & \\omega^{4} & \\omega^{2}\\\\1 & \\omega^{7} & \\omega^{6} & \\omega^{5} & \\omega^{4} & \\omega^{3} & \\omega^{2} & \\omega\\end{smallmatrix}\\right)$$"
                            ], 
                            "output_type": "pyout", 
                            "prompt_number": 7, 
                            "text": [
                                "\u23a11  1   1   1   1   1   1   1 \u23a4", 
                                "\u23a2                             \u23a5", 
                                "\u23a2        2   3   4   5   6   7\u23a5", 
                                "\u23a21  \u03c9   \u03c9   \u03c9   \u03c9   \u03c9   \u03c9   \u03c9 \u23a5", 
                                "\u23a2                             \u23a5", 
                                "\u23a2    2   4   6       2   4   6\u23a5", 
                                "\u23a21  \u03c9   \u03c9   \u03c9   1   \u03c9   \u03c9   \u03c9 \u23a5", 
                                "\u23a2                             \u23a5", 
                                "\u23a2    3   6       4   7   2   5\u23a5", 
                                "\u23a21  \u03c9   \u03c9   \u03c9   \u03c9   \u03c9   \u03c9   \u03c9 \u23a5", 
                                "\u23a2                             \u23a5", 
                                "\u23a2    4       4       4       4\u23a5", 
                                "\u23a21  \u03c9   1   \u03c9   1   \u03c9   1   \u03c9 \u23a5", 
                                "\u23a2                             \u23a5", 
                                "\u23a2    5   2   7   4       6   3\u23a5", 
                                "\u23a21  \u03c9   \u03c9   \u03c9   \u03c9   \u03c9   \u03c9   \u03c9 \u23a5", 
                                "\u23a2                             \u23a5", 
                                "\u23a2    6   4   2       6   4   2\u23a5", 
                                "\u23a21  \u03c9   \u03c9   \u03c9   1   \u03c9   \u03c9   \u03c9 \u23a5", 
                                "\u23a2                             \u23a5", 
                                "\u23a2    7   6   5   4   3   2    \u23a5", 
                                "\u23a31  \u03c9   \u03c9   \u03c9   \u03c9   \u03c9   \u03c9   \u03c9 \u23a6"
                            ]
                        }
                    ], 
                    "prompt_number": 7
                }, 
                {
                    "cell_type": "markdown", 
                    "source": [
                        "<h2>QFT in Action</h2>"
                    ]
                }, 
                {
                    "cell_type": "markdown", 
                    "source": [
                        "Build a 3 qubit state to take the QFT of."
                    ]
                }, 
                {
                    "cell_type": "code", 
                    "collapsed": false, 
                    "input": [
                        "state = (Qubit('000') + Qubit('010') + Qubit('100') + Qubit('110'))/sqrt(4); state"
                    ], 
                    "language": "python", 
                    "outputs": [
                        {
                            "latex": [
                                "$$\\frac{1}{2} \\left({\\left|000\\right\\rangle } + {\\left|010\\right\\rangle } + {\\left|100\\right\\rangle } + {\\left|110\\right\\rangle }\\right)$$"
                            ], 
                            "output_type": "pyout", 
                            "png": "[encoded data removed]", 
                            "prompt_number": 8, 
                            "text": [
                                "\u2758000\u27e9 + \u2758010\u27e9 + \u2758100\u27e9 + \u2758110\u27e9", 
                                "\u2500\u2500\u2500\u2500\u2500\u2500\u2500\u2500\u2500\u2500\u2500\u2500\u2500\u2500\u2500\u2500\u2500\u2500\u2500\u2500\u2500\u2500\u2500\u2500\u2500\u2500\u2500\u2500\u2500", 
                                "              2"
                            ]
                        }
                    ], 
                    "prompt_number": 8
                }, 
                {
                    "cell_type": "markdown", 
                    "source": [
                        "Perform the QFT."
                    ]
                }, 
                {
                    "cell_type": "code", 
                    "collapsed": false, 
                    "input": [
                        "qapply(fourier*state)"
                    ], 
                    "language": "python", 
                    "outputs": [
                        {
                            "latex": [
                                "$$\\frac{1}{2} \\sqrt{2} {\\left|000\\right\\rangle } + \\frac{1}{2} \\sqrt{2} {\\left|100\\right\\rangle }$$"
                            ], 
                            "output_type": "pyout", 
                            "png": "[encoded data removed]", 
                            "prompt_number": 9, 
                            "text": [
                                "\u23bd\u23bd\u23bd           \u23bd\u23bd\u23bd      ", 
                                "\u2572\u2571 2 \u22c5\u2758000\u27e9   \u2572\u2571 2 \u22c5\u2758100\u27e9", 
                                "\u2500\u2500\u2500\u2500\u2500\u2500\u2500\u2500\u2500\u2500\u2500 + \u2500\u2500\u2500\u2500\u2500\u2500\u2500\u2500\u2500\u2500\u2500", 
                                "     2             2"
                            ]
                        }
                    ], 
                    "prompt_number": 9
                }
            ]
        }
    ]
}