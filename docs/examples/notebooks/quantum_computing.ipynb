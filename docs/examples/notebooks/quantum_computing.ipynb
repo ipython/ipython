{
    "metadata": {
        "name": "quantum_computing"
    }, 
    "nbformat": 2, 
    "worksheets": [
        {
            "cells": [
                {
                    "cell_type": "markdown", 
                    "source": [
                        "<h1>Symbolic Quantum Computing</h1>"
                    ]
                }, 
                {
                    "cell_type": "code", 
                    "collapsed": true, 
                    "input": [
                        "%load_ext sympyprinting"
                    ], 
                    "language": "python", 
                    "outputs": [], 
                    "prompt_number": 1
                }, 
                {
                    "cell_type": "code", 
                    "collapsed": true, 
                    "input": [
                        "from sympy import sqrt, symbols, Rational", 
                        "from sympy import expand, Eq, Symbol, simplify, exp, sin", 
                        "from sympy.physics.quantum import *", 
                        "from sympy.physics.quantum.qubit import *", 
                        "from sympy.physics.quantum.gate import *", 
                        "from sympy.physics.quantum.grover import *", 
                        "from sympy.physics.quantum.qft import QFT, IQFT, Fourier", 
                        "from sympy.physics.quantum.circuitplot import circuit_plot"
                    ], 
                    "language": "python", 
                    "outputs": [], 
                    "prompt_number": 2
                }, 
                {
                    "cell_type": "markdown", 
                    "source": [
                        "<h2>Qubits</h2>"
                    ]
                }, 
                {
                    "cell_type": "markdown", 
                    "source": [
                        "The state of a set of qubits (Two state systems) is the quantum state that is of interest in Quantum Computing."
                    ]
                }, 
                {
                    "cell_type": "code", 
                    "collapsed": true, 
                    "input": [
                        "alpha, beta = symbols('alpha beta',real=True)"
                    ], 
                    "language": "python", 
                    "outputs": [], 
                    "prompt_number": 3
                }, 
                {
                    "cell_type": "code", 
                    "collapsed": false, 
                    "input": [
                        "psi = alpha*Qubit('00') + beta*Qubit('11'); psi"
                    ], 
                    "language": "python", 
                    "outputs": [
                        {
                            "latex": [
                                "$$\\alpha {\\left|00\\right\\rangle } + \\beta {\\left|11\\right\\rangle }$$"
                            ], 
                            "output_type": "pyout", 
                            "png": "[encoded data removed]", 
                            "prompt_number": 4, 
                            "text": [
                                "\u03b1\u22c5\u275800\u27e9 + \u03b2\u22c5\u275811\u27e9"
                            ]
                        }
                    ], 
                    "prompt_number": 4
                }, 
                {
                    "cell_type": "code", 
                    "collapsed": false, 
                    "input": [
                        "Dagger(psi)"
                    ], 
                    "language": "python", 
                    "outputs": [
                        {
                            "latex": [
                                "$$\\alpha {\\left\\langle 00\\right|} + \\beta {\\left\\langle 11\\right|}$$"
                            ], 
                            "output_type": "pyout", 
                            "png": "[encoded data removed]", 
                            "prompt_number": 5, 
                            "text": [
                                "\u03b1\u22c5\u27e800\u2758 + \u03b2\u22c5\u27e811\u2758"
                            ]
                        }
                    ], 
                    "prompt_number": 5
                }, 
                {
                    "cell_type": "code", 
                    "collapsed": false, 
                    "input": [
                        "qapply(Dagger(Qubit('00'))*psi)"
                    ], 
                    "language": "python", 
                    "outputs": [
                        {
                            "latex": [
                                "$$\\alpha$$"
                            ], 
                            "output_type": "pyout", 
                            "png": "[encoded data removed]", 
                            "prompt_number": 6, 
                            "text": [
                                "\u03b1"
                            ]
                        }
                    ], 
                    "prompt_number": 6
                }, 
                {
                    "cell_type": "markdown", 
                    "source": [
                        "SymPy supports many different types of measurements."
                    ]
                }, 
                {
                    "cell_type": "code", 
                    "collapsed": false, 
                    "input": [
                        "for state, prob in measure_all(psi):", 
                        "    display(state)", 
                        "    display(prob)"
                    ], 
                    "language": "python", 
                    "outputs": [
                        {
                            "latex": [
                                "$${\\left|00\\right\\rangle }$$"
                            ], 
                            "output_type": "display_data", 
                            "png": "[encoded data removed]", 
                            "text": [
                                "\u275800\u27e9"
                            ]
                        }, 
                        {
                            "latex": [
                                "$$\\frac{\\alpha^{2}}{\\alpha^{2} + \\beta^{2}}$$"
                            ], 
                            "output_type": "display_data", 
                            "png": "[encoded data removed]", 
                            "text": [
                                "2  ", 
                                "   \u03b1   ", 
                                "\u2500\u2500\u2500\u2500\u2500\u2500\u2500", 
                                " 2    2", 
                                "\u03b1  + \u03b2"
                            ]
                        }, 
                        {
                            "latex": [
                                "$${\\left|11\\right\\rangle }$$"
                            ], 
                            "output_type": "display_data", 
                            "png": "[encoded data removed]", 
                            "text": [
                                "\u275811\u27e9"
                            ]
                        }, 
                        {
                            "latex": [
                                "$$\\frac{\\beta^{2}}{\\alpha^{2} + \\beta^{2}}$$"
                            ], 
                            "output_type": "display_data", 
                            "png": "[encoded data removed]", 
                            "text": [
                                "2  ", 
                                "   \u03b2   ", 
                                "\u2500\u2500\u2500\u2500\u2500\u2500\u2500", 
                                " 2    2", 
                                "\u03b1  + \u03b2"
                            ]
                        }
                    ], 
                    "prompt_number": 7
                }, 
                {
                    "cell_type": "markdown", 
                    "source": [
                        "Qubits can be represented in the computational basis."
                    ]
                }, 
                {
                    "cell_type": "code", 
                    "collapsed": false, 
                    "input": [
                        "represent(psi)"
                    ], 
                    "language": "python", 
                    "outputs": [
                        {
                            "latex": [
                                "$$\\left(\\begin{smallmatrix}\\alpha\\\\0\\\\0\\\\\\beta\\end{smallmatrix}\\right)$$"
                            ], 
                            "output_type": "pyout", 
                            "prompt_number": 8, 
                            "text": [
                                "\u23a1\u03b1\u23a4", 
                                "\u23a2 \u23a5", 
                                "\u23a20\u23a5", 
                                "\u23a2 \u23a5", 
                                "\u23a20\u23a5", 
                                "\u23a2 \u23a5", 
                                "\u23a3\u03b2\u23a6"
                            ]
                        }
                    ], 
                    "prompt_number": 8
                }, 
                {
                    "cell_type": "markdown", 
                    "source": [
                        "<h2>Gates</h2>"
                    ]
                }, 
                {
                    "cell_type": "markdown", 
                    "source": [
                        "Gate objects are the operators which act on a quantum state."
                    ]
                }, 
                {
                    "cell_type": "code", 
                    "collapsed": false, 
                    "input": [
                        "g = X(0); g"
                    ], 
                    "language": "python", 
                    "outputs": [
                        {
                            "latex": [
                                "$$X_{0}$$"
                            ], 
                            "output_type": "pyout", 
                            "png": "[encoded data removed]", 
                            "prompt_number": 9, 
                            "text": [
                                "X ", 
                                " 0"
                            ]
                        }
                    ], 
                    "prompt_number": 9
                }, 
                {
                    "cell_type": "code", 
                    "collapsed": false, 
                    "input": [
                        "represent(g, nqubits=2)"
                    ], 
                    "language": "python", 
                    "outputs": [
                        {
                            "latex": [
                                "$$\\left(\\begin{smallmatrix}0 & 1 & 0 & 0\\\\1 & 0 & 0 & 0\\\\0 & 0 & 0 & 1\\\\0 & 0 & 1 & 0\\end{smallmatrix}\\right)$$"
                            ], 
                            "output_type": "pyout", 
                            "prompt_number": 10, 
                            "text": [
                                "\u23a10  1  0  0\u23a4", 
                                "\u23a2          \u23a5", 
                                "\u23a21  0  0  0\u23a5", 
                                "\u23a2          \u23a5", 
                                "\u23a20  0  0  1\u23a5", 
                                "\u23a2          \u23a5", 
                                "\u23a30  0  1  0\u23a6"
                            ]
                        }
                    ], 
                    "prompt_number": 10
                }, 
                {
                    "cell_type": "code", 
                    "collapsed": false, 
                    "input": [
                        "c = H(0)*Qubit('00'); c"
                    ], 
                    "language": "python", 
                    "outputs": [
                        {
                            "latex": [
                                "$$H_{0} {\\left|00\\right\\rangle }$$"
                            ], 
                            "output_type": "pyout", 
                            "png": "[encoded data removed]", 
                            "prompt_number": 11, 
                            "text": [
                                "H \u22c5\u275800\u27e9", 
                                " 0"
                            ]
                        }
                    ], 
                    "prompt_number": 11
                }, 
                {
                    "cell_type": "code", 
                    "collapsed": false, 
                    "input": [
                        "qapply(c)"
                    ], 
                    "language": "python", 
                    "outputs": [
                        {
                            "latex": [
                                "$$\\frac{1}{2} \\sqrt{2} {\\left|00\\right\\rangle } + \\frac{1}{2} \\sqrt{2} {\\left|01\\right\\rangle }$$"
                            ], 
                            "output_type": "pyout", 
                            "png": "[encoded data removed]", 
                            "prompt_number": 12, 
                            "text": [
                                "\u23bd\u23bd\u23bd          \u23bd\u23bd\u23bd     ", 
                                "\u2572\u2571 2 \u22c5\u275800\u27e9   \u2572\u2571 2 \u22c5\u275801\u27e9", 
                                "\u2500\u2500\u2500\u2500\u2500\u2500\u2500\u2500\u2500\u2500 + \u2500\u2500\u2500\u2500\u2500\u2500\u2500\u2500\u2500\u2500", 
                                "    2            2"
                            ]
                        }
                    ], 
                    "prompt_number": 12
                }, 
                {
                    "cell_type": "code", 
                    "collapsed": false, 
                    "input": [
                        "for gate in [H,X,Y,Z,S,T]:", 
                        "    for state in [Qubit('0'),Qubit('1')]:", 
                        "        lhs = gate(0)*state", 
                        "        rhs = qapply(lhs)", 
                        "        display(Eq(lhs,rhs))"
                    ], 
                    "language": "python", 
                    "outputs": [
                        {
                            "latex": [
                                "$$H_{0} {\\left|0\\right\\rangle } = \\frac{1}{2} \\sqrt{2} {\\left|0\\right\\rangle } + \\frac{1}{2} \\sqrt{2} {\\left|1\\right\\rangle }$$"
                            ], 
                            "output_type": "display_data", 
                            "png": "[encoded data removed]", 
                            "text": [
                                "\u23bd\u23bd\u23bd         \u23bd\u23bd\u23bd    ", 
                                "         \u2572\u2571 2 \u22c5\u27580\u27e9   \u2572\u2571 2 \u22c5\u27581\u27e9", 
                                "H \u22c5\u27580\u27e9 = \u2500\u2500\u2500\u2500\u2500\u2500\u2500\u2500\u2500 + \u2500\u2500\u2500\u2500\u2500\u2500\u2500\u2500\u2500", 
                                " 0           2           2"
                            ]
                        }, 
                        {
                            "latex": [
                                "$$H_{0} {\\left|1\\right\\rangle } = \\frac{1}{2} \\sqrt{2} {\\left|0\\right\\rangle } - \\frac{1}{2} \\sqrt{2} {\\left|1\\right\\rangle }$$"
                            ], 
                            "output_type": "display_data", 
                            "png": "[encoded data removed]", 
                            "text": [
                                "\u23bd\u23bd\u23bd         \u23bd\u23bd\u23bd    ", 
                                "         \u2572\u2571 2 \u22c5\u27580\u27e9   \u2572\u2571 2 \u22c5\u27581\u27e9", 
                                "H \u22c5\u27581\u27e9 = \u2500\u2500\u2500\u2500\u2500\u2500\u2500\u2500\u2500 - \u2500\u2500\u2500\u2500\u2500\u2500\u2500\u2500\u2500", 
                                " 0           2           2"
                            ]
                        }, 
                        {
                            "latex": [
                                "$$X_{0} {\\left|0\\right\\rangle } = {\\left|1\\right\\rangle }$$"
                            ], 
                            "output_type": "display_data", 
                            "png": "[encoded data removed]", 
                            "text": [
                                "X \u22c5\u27580\u27e9 = \u27581\u27e9", 
                                " 0"
                            ]
                        }, 
                        {
                            "latex": [
                                "$$X_{0} {\\left|1\\right\\rangle } = {\\left|0\\right\\rangle }$$"
                            ], 
                            "output_type": "display_data", 
                            "png": "[encoded data removed]", 
                            "text": [
                                "X \u22c5\u27581\u27e9 = \u27580\u27e9", 
                                " 0"
                            ]
                        }, 
                        {
                            "latex": [
                                "$$Y_{0} {\\left|0\\right\\rangle } = \\mathbf{\\imath} {\\left|1\\right\\rangle }$$"
                            ], 
                            "output_type": "display_data", 
                            "png": "[encoded data removed]", 
                            "text": [
                                "Y \u22c5\u27580\u27e9 = \u2148\u22c5\u27581\u27e9", 
                                " 0"
                            ]
                        }, 
                        {
                            "latex": [
                                "$$Y_{0} {\\left|1\\right\\rangle } = - \\mathbf{\\imath} {\\left|0\\right\\rangle }$$"
                            ], 
                            "output_type": "display_data", 
                            "png": "[encoded data removed]", 
                            "text": [
                                "Y \u22c5\u27581\u27e9 = -\u2148\u22c5\u27580\u27e9", 
                                " 0"
                            ]
                        }, 
                        {
                            "latex": [
                                "$$Z_{0} {\\left|0\\right\\rangle } = {\\left|0\\right\\rangle }$$"
                            ], 
                            "output_type": "display_data", 
                            "png": "[encoded data removed]", 
                            "text": [
                                "Z \u22c5\u27580\u27e9 = \u27580\u27e9", 
                                " 0"
                            ]
                        }, 
                        {
                            "latex": [
                                "$$Z_{0} {\\left|1\\right\\rangle } = - {\\left|1\\right\\rangle }$$"
                            ], 
                            "output_type": "display_data", 
                            "png": "[encoded data removed]", 
                            "text": [
                                "Z \u22c5\u27581\u27e9 = -\u27581\u27e9", 
                                " 0"
                            ]
                        }, 
                        {
                            "latex": [
                                "$$S_{0} {\\left|0\\right\\rangle } = {\\left|0\\right\\rangle }$$"
                            ], 
                            "output_type": "display_data", 
                            "png": "[encoded data removed]", 
                            "text": [
                                "S \u22c5\u27580\u27e9 = \u27580\u27e9", 
                                " 0"
                            ]
                        }, 
                        {
                            "latex": [
                                "$$S_{0} {\\left|1\\right\\rangle } = \\mathbf{\\imath} {\\left|1\\right\\rangle }$$"
                            ], 
                            "output_type": "display_data", 
                            "png": "[encoded data removed]", 
                            "text": [
                                "S \u22c5\u27581\u27e9 = \u2148\u22c5\u27581\u27e9", 
                                " 0"
                            ]
                        }, 
                        {
                            "latex": [
                                "$$T_{0} {\\left|0\\right\\rangle } = {\\left|0\\right\\rangle }$$"
                            ], 
                            "output_type": "display_data", 
                            "png": "[encoded data removed]", 
                            "text": [
                                "T \u22c5\u27580\u27e9 = \u27580\u27e9", 
                                " 0"
                            ]
                        }, 
                        {
                            "latex": [
                                "$$T_{0} {\\left|1\\right\\rangle } = e^{\\frac{1}{4} \\mathbf{\\imath} \\pi} {\\left|1\\right\\rangle }$$"
                            ], 
                            "output_type": "display_data", 
                            "png": "[encoded data removed]", 
                            "text": [
                                "\u2148\u22c5\u03c0    ", 
                                "          \u2500\u2500\u2500    ", 
                                "           4     ", 
                                "T \u22c5\u27581\u27e9 = \u212f   \u22c5\u27581\u27e9", 
                                " 0"
                            ]
                        }
                    ], 
                    "prompt_number": 13
                }, 
                {
                    "cell_type": "markdown", 
                    "source": [
                        "<h2>Symbolic gate rules and circuit simplification</h2>"
                    ]
                }, 
                {
                    "cell_type": "code", 
                    "collapsed": false, 
                    "input": [
                        "for g1 in (Y,Z,H):", 
                        "    for g2 in (Y,Z,H):", 
                        "        e = Commutator(g1(0),g2(0))", 
                        "        if g1 != g2:", 
                        "            display(Eq(e,e.doit()))"
                    ], 
                    "language": "python", 
                    "outputs": [
                        {
                            "latex": [
                                "$$\\left[Y_{0},Z_{0}\\right] = 2 \\mathbf{\\imath} X_{0}$$"
                            ], 
                            "output_type": "display_data", 
                            "png": "[encoded data removed]", 
                            "text": [
                                "\u23a1Y ,Z \u23a4 = 2\u22c5\u2148\u22c5X ", 
                                "\u23a3 0  0\u23a6        0"
                            ]
                        }, 
                        {
                            "latex": [
                                "$$- \\left[H_{0},Y_{0}\\right] = - \\sqrt{2} \\mathbf{\\imath} \\left(- X_{0} + Z_{0}\\right)$$"
                            ], 
                            "output_type": "display_data", 
                            "png": "[encoded data removed]", 
                            "text": [
                                "\u23bd\u23bd\u23bd              ", 
                                "-\u23a1H ,Y \u23a4 = -\u2572\u2571 2 \u22c5\u2148\u22c5\u239b- X  + Z \u239e", 
                                " \u23a3 0  0\u23a6            \u239d   0    0\u23a0"
                            ]
                        }, 
                        {
                            "latex": [
                                "$$- \\left[Y_{0},Z_{0}\\right] = - 2 \\mathbf{\\imath} X_{0}$$"
                            ], 
                            "output_type": "display_data", 
                            "png": "[encoded data removed]", 
                            "text": [
                                "-\u23a1Y ,Z \u23a4 = -2\u22c5\u2148\u22c5X ", 
                                " \u23a3 0  0\u23a6         0"
                            ]
                        }, 
                        {
                            "latex": [
                                "$$- \\left[H_{0},Z_{0}\\right] = \\sqrt{2} \\mathbf{\\imath} Y_{0}$$"
                            ], 
                            "output_type": "display_data", 
                            "png": "[encoded data removed]", 
                            "text": [
                                "\u23bd\u23bd\u23bd     ", 
                                "-\u23a1H ,Z \u23a4 = \u2572\u2571 2 \u22c5\u2148\u22c5Y ", 
                                " \u23a3 0  0\u23a6            0"
                            ]
                        }, 
                        {
                            "latex": [
                                "$$\\left[H_{0},Y_{0}\\right] = \\sqrt{2} \\mathbf{\\imath} \\left(- X_{0} + Z_{0}\\right)$$"
                            ], 
                            "output_type": "display_data", 
                            "png": "[encoded data removed]", 
                            "text": [
                                "\u23bd\u23bd\u23bd              ", 
                                "\u23a1H ,Y \u23a4 = \u2572\u2571 2 \u22c5\u2148\u22c5\u239b- X  + Z \u239e", 
                                "\u23a3 0  0\u23a6           \u239d   0    0\u23a0"
                            ]
                        }, 
                        {
                            "latex": [
                                "$$\\left[H_{0},Z_{0}\\right] = - \\sqrt{2} \\mathbf{\\imath} Y_{0}$$"
                            ], 
                            "output_type": "display_data", 
                            "png": "[encoded data removed]", 
                            "text": [
                                "\u23bd\u23bd\u23bd     ", 
                                "\u23a1H ,Z \u23a4 = -\u2572\u2571 2 \u22c5\u2148\u22c5Y ", 
                                "\u23a3 0  0\u23a6             0"
                            ]
                        }
                    ], 
                    "prompt_number": 14
                }, 
                {
                    "cell_type": "code", 
                    "collapsed": false, 
                    "input": [
                        "c = H(0)*X(1)*H(0)**2*CNOT(0,1)*X(1)**3*X(0)*Z(1)**2; c"
                    ], 
                    "language": "python", 
                    "outputs": [
                        {
                            "latex": [
                                "$$H_{0} X_{1} \\left(H_{0}\\right)^{2} CNOT_{0,1} X_{1} X_{0}$$"
                            ], 
                            "output_type": "pyout", 
                            "png": "[encoded data removed]", 
                            "prompt_number": 15, 
                            "text": [
                                "2              ", 
                                "H \u22c5X \u22c5\u239bH \u239e \u22c5CNOT   \u22c5X \u22c5X ", 
                                " 0  1 \u239d 0\u23a0      0,1  1  0"
                            ]
                        }
                    ], 
                    "prompt_number": 15
                }, 
                {
                    "cell_type": "code", 
                    "collapsed": false, 
                    "input": [
                        "circuit_plot(c, nqubits=2)"
                    ], 
                    "language": "python", 
                    "outputs": [
                        {
                            "output_type": "pyout", 
                            "prompt_number": 16, 
                            "text": [
                                "&lt;sympy.physics.quantum.circuitplot.CircuitPlot object at 0x48cd350&gt;"
                            ]
                        }, 
                        {
                            "output_type": "display_data", 
                            "png": "[encoded data removed]"
                        }
                    ], 
                    "prompt_number": 16
                }, 
                {
                    "cell_type": "markdown", 
                    "source": [
                        "This performs a commutator/anticommutator aware bubble sort algorithm to simplify a circuit."
                    ]
                }, 
                {
                    "cell_type": "code", 
                    "collapsed": false, 
                    "input": [
                        "gate_simp(c)"
                    ], 
                    "language": "python", 
                    "outputs": [
                        {
                            "latex": [
                                "$$H_{0} CNOT_{0,1} X_{0}$$"
                            ], 
                            "output_type": "pyout", 
                            "png": "[encoded data removed]", 
                            "prompt_number": 17, 
                            "text": [
                                "H \u22c5CNOT   \u22c5X ", 
                                " 0     0,1  0"
                            ]
                        }
                    ], 
                    "prompt_number": 17
                }, 
                {
                    "cell_type": "code", 
                    "collapsed": false, 
                    "input": [
                        "circuit_plot(gate_simp(c),nqubits=2)"
                    ], 
                    "language": "python", 
                    "outputs": [
                        {
                            "output_type": "pyout", 
                            "prompt_number": 18, 
                            "text": [
                                "&lt;sympy.physics.quantum.circuitplot.CircuitPlot object at 0x3da1990&gt;"
                            ]
                        }, 
                        {
                            "output_type": "display_data", 
                            "png": "[encoded data removed]"
                        }
                    ], 
                    "prompt_number": 18
                }
            ]
        }
    ]
}