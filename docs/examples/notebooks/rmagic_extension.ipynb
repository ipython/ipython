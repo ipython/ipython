{
 "metadata": {
  "name": "rmagic_extension"
 },
 "nbformat": 3,
 "nbformat_minor": 0,
 "worksheets": [
  {
   "cells": [
    {
     "cell_type": "heading",
     "level": 1,
     "metadata": {},
     "source": [
      "Rmagic Functions Extension"
     ]
    },
    {
     "cell_type": "code",
     "collapsed": false,
     "input": [
      "%pylab inline"
     ],
     "language": "python",
     "metadata": {},
     "outputs": [
      {
       "output_type": "stream",
       "stream": "stdout",
       "text": [
        "\n",
        "Welcome to pylab, a matplotlib-based Python environment [backend: module://IPython.zmq.pylab.backend_inline].\n",
        "For more information, type 'help(pylab)'.\n"
       ]
      }
     ],
     "prompt_number": 30
    },
    {
     "cell_type": "heading",
     "level": 2,
     "metadata": {},
     "source": [
      "Line magics"
     ]
    },
    {
     "cell_type": "markdown",
     "metadata": {},
     "source": [
      "IPython has an `rmagic` extension that contains a some magic functions for working with R via rpy2. This extension can be loaded using the `%load_ext` magic as follows:"
     ]
    },
    {
     "cell_type": "code",
     "collapsed": true,
     "input": [
      "%load_ext rmagic "
     ],
     "language": "python",
     "metadata": {},
     "outputs": [],
     "prompt_number": 31
    },
    {
     "cell_type": "markdown",
     "metadata": {},
     "source": [
      "A typical use case one imagines is having some numpy arrays, wanting to compute some statistics of interest on these\n",
      " arrays and return the result back to python. Let's suppose we just want to fit a simple linear model to a scatterplot."
     ]
    },
    {
     "cell_type": "code",
     "collapsed": false,
     "input": [
      "import numpy as np\n",
      "import pylab\n",
      "X = np.array([0,1,2,3,4])\n",
      "Y = np.array([3,5,4,6,7])\n",
      "pylab.scatter(X, Y)"
     ],
     "language": "python",
     "metadata": {},
     "outputs": [
      {
       "output_type": "pyout",
       "prompt_number": 32,
       "text": [
        "<matplotlib.collections.PathCollection at 0x1085084d0>"
       ]
      },
      {
       "output_type": "display_data",
       "png": "[encoded data removed]",
       "text": [
        "<matplotlib.figure.Figure at 0x1083e7a50>"
       ]
      }
     ],
     "prompt_number": 32
    },
    {
     "cell_type": "heading",
     "level": 3,
     "metadata": {},
     "source": [
      "Putting data into R: %Rpush"
     ]
    },
    {
     "cell_type": "markdown",
     "metadata": {},
     "source": [
      "We can accomplish this by first pushing variables to R, fitting a model and returning the results. The line magic %Rpush copies its arguments to variables of the same name in rpy2. The %R line magic evaluates the string in rpy2 and returns the results. In this case, the coefficients of a linear model."
     ]
    },
    {
     "cell_type": "code",
     "collapsed": false,
     "input": [
      "%Rpush X Y\n",
      "%R lm(Y~X)$coef"
     ],
     "language": "python",
     "metadata": {},
     "outputs": [
      {
       "output_type": "display_data",
       "text": [
        "    lm(Y ~ X)$coef\n",
        "\u0000"
       ]
      },
      {
       "output_type": "display_data",
       "text": [
        "    ## (Intercept)           X \n",
        "    ##         3.2         0.9\n",
        "\u0000"
       ]
      }
     ],
     "prompt_number": 33
    },
    {
     "cell_type": "markdown",
     "metadata": {},
     "source": [
      "We can check that this is correct fairly easily:"
     ]
    },
    {
     "cell_type": "code",
     "collapsed": false,
     "input": [
      "Xr = X - X.mean(); Yr = Y - Y.mean()\n",
      "slope = (Xr*Yr).sum() / (Xr**2).sum()\n",
      "intercept = Y.mean() - X.mean() * slope\n",
      "(intercept, slope)"
     ],
     "language": "python",
     "metadata": {},
     "outputs": [
      {
       "output_type": "pyout",
       "prompt_number": 34,
       "text": [
        "(3.2000000000000002, 0.90000000000000002)"
       ]
      }
     ],
     "prompt_number": 34
    },
    {
     "cell_type": "heading",
     "level": 3,
     "metadata": {},
     "source": [
      "Retrieving data from R: %Rpull and %Rget"
     ]
    },
    {
     "cell_type": "markdown",
     "metadata": {},
     "source": [
      "It is also possible to return more than one value with %R."
     ]
    },
    {
     "cell_type": "code",
     "collapsed": false,
     "input": [
      "%R lm(Y~X);mycoef=coef(lm(Y~X)) \n"
     ],
     "language": "python",
     "metadata": {},
     "outputs": [
      {
       "output_type": "display_data",
       "text": [
        "    lm(Y ~ X)\n",
        "\u0000"
       ]
      },
      {
       "output_type": "display_data",
       "text": [
        "    ## \n",
        "    ## Call:\n",
        "    ## lm(formula = Y ~ X)\n",
        "    ## \n",
        "    ## Coefficients:\n",
        "    ## (Intercept)            X  \n",
        "    ##         3.2          0.9\n",
        "\u0000"
       ]
      },
      {
       "output_type": "display_data",
       "text": [
        "    mycoef = coef(lm(Y ~ X))\n",
        "\u0000"
       ]
      }
     ],
     "prompt_number": 35
    },
    {
     "cell_type": "code",
     "collapsed": false,
     "input": [
      "%R lm(Y~X);mycoef=coef(lm(Y~X)) \n",
      "%Rpull mycoef\n",
      "mycoef"
     ],
     "language": "python",
     "metadata": {},
     "outputs": [
      {
       "output_type": "display_data",
       "text": [
        "    lm(Y ~ X)\n",
        "\u0000"
       ]
      },
      {
       "output_type": "display_data",
       "text": [
        "    ## \n",
        "    ## Call:\n",
        "    ## lm(formula = Y ~ X)\n",
        "    ## \n",
        "    ## Coefficients:\n",
        "    ## (Intercept)            X  \n",
        "    ##         3.2          0.9\n",
        "\u0000"
       ]
      },
      {
       "output_type": "display_data",
       "text": [
        "    mycoef = coef(lm(Y ~ X))\n",
        "\u0000"
       ]
      },
      {
       "output_type": "pyout",
       "prompt_number": 36,
       "text": [
        "array([ 3.2,  0.9])"
       ]
      }
     ],
     "prompt_number": 36
    },
    {
     "cell_type": "markdown",
     "metadata": {},
     "source": [
      "To retrieve data from R, there is one more magic:  %Rpull and %Rget. Both are useful after some R code has been executed and there are variables\n",
      "in the rpy2 namespace that one would like to retrieve. The main difference is that one\n",
      "returns the value (%Rget), while the other pulls it to self.shell.user_ns (%Rpull). Imagine we've stored the results\n",
      "of some calculation in the variable \"a\" in rpy2's namespace. By using the %R magic, we can obtain these results and\n",
      "store them in b. We can also pull them directly to user_ns with %Rpull. They are both views on the same data."
     ]
    },
    {
     "cell_type": "code",
     "collapsed": false,
     "input": [
      "%R a=resid(lm(Y~X))\n",
      "b = %Rget a\n",
      "%Rpull a\n",
      "print a\n",
      "assert id(b.data) == id(a.data)\n"
     ],
     "language": "python",
     "metadata": {},
     "outputs": [
      {
       "output_type": "display_data",
       "text": [
        "    a = resid(lm(Y ~ X))\n",
        "\u0000"
       ]
      },
      {
       "output_type": "stream",
       "stream": "stdout",
       "text": [
        "[-0.2  0.9 -1.   0.1  0.2]\n"
       ]
      }
     ],
     "prompt_number": 37
    },
    {
     "cell_type": "markdown",
     "metadata": {},
     "source": [
      "%Rpull is equivalent to calling %R with just -o. Multiple variables with one single -o flag as long as they are comma separated with no spaces in between.\n"
     ]
    },
    {
     "cell_type": "code",
     "collapsed": false,
     "input": [
      "%R d=resid(lm(Y~X)); e=coef(lm(Y~X))\n",
      "%R -o d,e\n",
      "print e\n",
      "print d\n",
      "np.testing.assert_almost_equal(d, a)"
     ],
     "language": "python",
     "metadata": {},
     "outputs": [
      {
       "output_type": "display_data",
       "text": [
        "    d = resid(lm(Y ~ X))\n",
        "\u0000"
       ]
      },
      {
       "output_type": "display_data",
       "text": [
        "    e = coef(lm(Y ~ X))\n",
        "\u0000"
       ]
      },
      {
       "output_type": "stream",
       "stream": "stdout",
       "text": [
        "[ 3.2  0.9]\n",
        "[-0.2  0.9 -1.   0.1  0.2]\n"
       ]
      }
     ],
     "prompt_number": 38
    },
    {
     "cell_type": "markdown",
     "metadata": {},
     "source": [
      "On the other hand %Rpush is equivalent to calling %R with just -i."
     ]
    },
    {
     "cell_type": "code",
     "collapsed": false,
     "input": [
      "A = np.arange(20)\n",
      "%R -i A\n",
      "%R mean(A)\n"
     ],
     "language": "python",
     "metadata": {},
     "outputs": [
      {
       "output_type": "display_data",
       "text": [
        "    mean(A)\n",
        "\u0000"
       ]
      },
      {
       "output_type": "display_data",
       "text": [
        "    ## [1] 9.5\n",
        "\u0000"
       ]
      }
     ],
     "prompt_number": 39
    },
    {
     "cell_type": "markdown",
     "metadata": {},
     "source": [
      "The magic %Rget retrieves something from R, it can be used without assigning the variable a name in `R`. For example:"
     ]
    },
    {
     "cell_type": "code",
     "collapsed": false,
     "input": [
      "%Rget resid(lm(Y~X))"
     ],
     "language": "python",
     "metadata": {},
     "outputs": [
      {
       "output_type": "pyout",
       "prompt_number": 40,
       "text": [
        "array([-0.2,  0.9, -1. ,  0.1,  0.2])"
       ]
      }
     ],
     "prompt_number": 40
    },
    {
     "cell_type": "heading",
     "level": 2,
     "metadata": {},
     "source": [
      "Plotting and capturing output"
     ]
    },
    {
     "cell_type": "markdown",
     "metadata": {},
     "source": [
      "R's console (i.e. its stdout() connection) is captured by ipython, as are any plots which are published as PNG files like the notebook with arguments --pylab inline."
     ]
    },
    {
     "cell_type": "code",
     "collapsed": false,
     "input": [
      "%R plot(X,Y); print(summary(lm(Y~X))); vv=mean(X)*mean(Y)\n",
      "v2 = %Rget mean(X)*mean(Y)\n",
      "print 'v2 is:', v2"
     ],
     "language": "python",
     "metadata": {},
     "outputs": [
      {
       "output_type": "display_data",
       "text": [
        "    plot(X, Y)\n",
        "\u0000"
       ]
      },
      {
       "output_type": "display_data",
       "png": "[encoded data removed]"
      },
      {
       "output_type": "display_data",
       "text": [
        "    print(summary(lm(Y ~ X)))\n",
        "\u0000"
       ]
      },
      {
       "output_type": "display_data",
       "text": [
        "    ## \n",
        "    ## Call:\n",
        "    ## lm(formula = Y ~ X)\n",
        "    ## \n",
        "    ## Residuals:\n",
        "    ##    1    2    3    4    5 \n",
        "    ## -0.2  0.9 -1.0  0.1  0.2 \n",
        "    ## \n",
        "    ## Coefficients:\n",
        "    ##             Estimate Std. Error t value Pr(>|t|)  \n",
        "    ## (Intercept)    3.200      0.616    5.19    0.014 *\n",
        "    ## X              0.900      0.252    3.58    0.037 *\n",
        "    ## ---\n",
        "    ## Signif. codes:  0 '***' 0.001 '**' 0.01 '*' 0.05 '.' 0.1 ' ' 1 \n",
        "    ## \n",
        "    ## Residual standard error: 0.796 on 3 degrees of freedom\n",
        "    ## Multiple R-squared: 0.81,\tAdjusted R-squared: 0.747 \n",
        "    ## F-statistic: 12.8 on 1 and 3 DF,  p-value: 0.0374\n",
        "\u0000"
       ]
      },
      {
       "output_type": "display_data",
       "text": [
        "    vv = mean(X) * mean(Y)\n",
        "\u0000"
       ]
      },
      {
       "output_type": "stream",
       "stream": "stdout",
       "text": [
        "v2 is: [ 10.]\n"
       ]
      }
     ],
     "prompt_number": 41
    },
    {
     "cell_type": "heading",
     "level": 2,
     "metadata": {},
     "source": [
      "What value is returned from %R?"
     ]
    },
    {
     "cell_type": "markdown",
     "metadata": {},
     "source": [
      "`%R` returns `None` in `knitr` mode. To return something directly to python, use %Rget."
     ]
    },
    {
     "cell_type": "code",
     "collapsed": false,
     "input": [
      "%R plot(X,Y)\n"
     ],
     "language": "python",
     "metadata": {},
     "outputs": [
      {
       "output_type": "display_data",
       "text": [
        "    plot(X, Y)\n",
        "\u0000"
       ]
      },
      {
       "output_type": "display_data",
       "png": "[encoded data removed]"
      }
     ],
     "prompt_number": 42
    },
    {
     "cell_type": "heading",
     "level": 2,
     "metadata": {},
     "source": [
      "Cell level magic"
     ]
    },
    {
     "cell_type": "markdown",
     "metadata": {},
     "source": [
      "Often, we will want to do more than a simple linear regression model. There may be several lines of R code that we want to \n",
      "use before returning to python. This is the cell-level magic.\n",
      "\n",
      "\n",
      "For the cell level magic, inputs can be passed via the -i or --inputs argument in the line. These variables are copied \n",
      "from the shell namespace to R's namespace using rpy2.robjects.r.assign. It would be nice not to have to copy these into R: rnumpy ( http://bitbucket.org/njs/rnumpy/wiki/API ) has done some work to limit or at least make transparent the number of copies of an array. This seems like a natural thing to try to build on. Arrays can be output from R via the -o or --outputs argument in the line. All other arguments are sent to R's png function, which is the graphics device used to create the plots.\n",
      "\n",
      "We can redo the above calculations in one ipython cell. We might also want to add some output such as a summary\n",
      " from R or perhaps the standard plotting diagnostics of the lm."
     ]
    },
    {
     "cell_type": "code",
     "collapsed": false,
     "input": [
      "%%R -i X,Y -o XYcoef\n",
      "XYlm = lm(Y~X)\n",
      "XYcoef = coef(XYlm)\n",
      "summary(XYlm)\n",
      "par(mfrow=c(2,2))\n",
      "plot(XYlm)"
     ],
     "language": "python",
     "metadata": {},
     "outputs": [
      {
       "output_type": "display_data",
       "text": [
        "    XYlm = lm(Y ~ X)\n",
        "    XYcoef = coef(XYlm)\n",
        "    summary(XYlm)\n",
        "\u0000"
       ]
      },
      {
       "output_type": "display_data",
       "text": [
        "    ## \n",
        "    ## Call:\n",
        "    ## lm(formula = Y ~ X)\n",
        "    ## \n",
        "    ## Residuals:\n",
        "    ##    1    2    3    4    5 \n",
        "    ## -0.2  0.9 -1.0  0.1  0.2 \n",
        "    ## \n",
        "    ## Coefficients:\n",
        "    ##             Estimate Std. Error t value Pr(>|t|)  \n",
        "    ## (Intercept)    3.200      0.616    5.19    0.014 *\n",
        "    ## X              0.900      0.252    3.58    0.037 *\n",
        "    ## ---\n",
        "    ## Signif. codes:  0 '***' 0.001 '**' 0.01 '*' 0.05 '.' 0.1 ' ' 1 \n",
        "    ## \n",
        "    ## Residual standard error: 0.796 on 3 degrees of freedom\n",
        "    ## Multiple R-squared: 0.81,\tAdjusted R-squared: 0.747 \n",
        "    ## F-statistic: 12.8 on 1 and 3 DF,  p-value: 0.0374\n",
        "\u0000"
       ]
      },
      {
       "output_type": "display_data",
       "text": [
        "    par(mfrow = c(2, 2))\n",
        "    plot(XYlm)\n",
        "\u0000"
       ]
      },
      {
       "output_type": "display_data",
       "png": "[encoded data removed]"
      }
     ],
     "prompt_number": 43
    },
    {
     "cell_type": "heading",
     "level": 2,
     "metadata": {},
     "source": [
      "Passing data back and forth"
     ]
    },
    {
     "cell_type": "markdown",
     "metadata": {},
     "source": [
      "Currently, data is passed through RMagics.pyconverter when going from python to R and RMagics.Rconverter when \n",
      "going from R to python. These currently default to numpy.ndarray. Future work will involve writing better converters, most likely involving integration with http://pandas.sourceforge.net.\n",
      "\n",
      "Passing ndarrays into R seems to require a copy, though once an object is returned to python, this object is NOT copied, and it is possible to change its values.\n"
     ]
    },
    {
     "cell_type": "code",
     "collapsed": true,
     "input": [
      "seq1 = np.arange(10)"
     ],
     "language": "python",
     "metadata": {},
     "outputs": [],
     "prompt_number": 44
    },
    {
     "cell_type": "code",
     "collapsed": false,
     "input": [
      "%%R -i seq1 -o seq2\n",
      "seq2 = rep(seq1, 2)\n",
      "seq2"
     ],
     "language": "python",
     "metadata": {},
     "outputs": [
      {
       "output_type": "display_data",
       "text": [
        "    seq2 = rep(seq1, 2)\n",
        "    seq2\n",
        "\u0000"
       ]
      },
      {
       "output_type": "display_data",
       "text": [
        "    ##  [1] 0 1 2 3 4 5 6 7 8 9 0 1 2 3 4 5 6 7 8 9\n",
        "\u0000"
       ]
      }
     ],
     "prompt_number": 45
    },
    {
     "cell_type": "code",
     "collapsed": false,
     "input": [
      "seq2[::2] = 0\n",
      "seq2"
     ],
     "language": "python",
     "metadata": {},
     "outputs": [
      {
       "output_type": "pyout",
       "prompt_number": 46,
       "text": [
        "array([0, 1, 0, 3, 0, 5, 0, 7, 0, 9, 0, 1, 0, 3, 0, 5, 0, 7, 0, 9], dtype=int32)"
       ]
      }
     ],
     "prompt_number": 46
    },
    {
     "cell_type": "code",
     "collapsed": false,
     "input": [
      "%%R\n",
      "seq2"
     ],
     "language": "python",
     "metadata": {},
     "outputs": [
      {
       "output_type": "display_data",
       "text": [
        "    seq2\n",
        "\u0000"
       ]
      },
      {
       "output_type": "display_data",
       "text": [
        "    ##  [1] 0 1 0 3 0 5 0 7 0 9 0 1 0 3 0 5 0 7 0 9\n",
        "\u0000"
       ]
      }
     ],
     "prompt_number": 47
    },
    {
     "cell_type": "markdown",
     "metadata": {},
     "source": [
      "Once the array data has been passed to R, modifying its contents does not modify R's copy of the data."
     ]
    },
    {
     "cell_type": "code",
     "collapsed": false,
     "input": [
      "seq1[0] = 200\n",
      "%R seq1"
     ],
     "language": "python",
     "metadata": {},
     "outputs": [
      {
       "output_type": "display_data",
       "text": [
        "    seq1\n",
        "\u0000"
       ]
      },
      {
       "output_type": "display_data",
       "text": [
        "    ##  [1] 0 1 2 3 4 5 6 7 8 9\n",
        "\u0000"
       ]
      }
     ],
     "prompt_number": 48
    },
    {
     "cell_type": "markdown",
     "metadata": {},
     "source": [
      "But, if we pass data as both input and output, then the value of \"data\" in user_ns will be overwritten and the\n",
      "new array will be a view of the data in R's copy."
     ]
    },
    {
     "cell_type": "code",
     "collapsed": false,
     "input": [
      "print seq1\n",
      "%R -i seq1 -o seq1\n",
      "print seq1\n",
      "seq1[0] = 200\n",
      "%R seq1\n",
      "seq1_view = %Rget seq1\n",
      "assert(id(seq1_view.data) == id(seq1.data))"
     ],
     "language": "python",
     "metadata": {},
     "outputs": [
      {
       "output_type": "stream",
       "stream": "stdout",
       "text": [
        "[200   1   2   3   4   5   6   7   8   9]\n",
        "[200   1   2   3   4   5   6   7   8   9]\n"
       ]
      },
      {
       "output_type": "display_data",
       "text": [
        "    seq1\n",
        "\u0000"
       ]
      },
      {
       "output_type": "display_data",
       "text": [
        "    ##  [1] 200   1   2   3   4   5   6   7   8   9\n",
        "\u0000"
       ]
      }
     ],
     "prompt_number": 49
    },
    {
     "cell_type": "heading",
     "level": 2,
     "metadata": {},
     "source": [
      "Exception handling\n"
     ]
    },
    {
     "cell_type": "markdown",
     "metadata": {},
     "source": [
      "Exceptions are from `%R`, usually with `R`'s error message. This is the case unless handled a --ingore_errors flag is passed to `%R` in which case it prints `R`'s error message to `stderr`."
     ]
    },
    {
     "cell_type": "code",
     "collapsed": false,
     "input": [
      "%R nosuchvar --ingore_errors"
     ],
     "language": "python",
     "metadata": {},
     "outputs": [
      {
       "output_type": "stream",
       "stream": "stderr",
       "text": [
        "R error message:     ## Error: object 'nosuchvar' not found\n",
        "\u0000"
       ]
      }
     ],
     "prompt_number": 50
    },
    {
     "cell_type": "code",
     "collapsed": false,
     "input": [
      "try:\n",
      "    %R nosuchvar\n",
      "except Exception as e:\n",
      "    print unicode(e)\n",
      "    pass"
     ],
     "language": "python",
     "metadata": {},
     "outputs": [
      {
       "output_type": "stream",
       "stream": "stdout",
       "text": [
        "R error message:     ## Error: object 'nosuchvar' not found\n",
        "\u0000\n"
       ]
      }
     ],
     "prompt_number": 51
    },
    {
     "cell_type": "heading",
     "level": 2,
     "metadata": {},
     "source": [
      "Structured arrays and data frames\n"
     ]
    },
    {
     "cell_type": "markdown",
     "metadata": {},
     "source": [
      "In R, data frames play an important role as they allow array-like objects of mixed type with column names (and row names). In numpy, the closest analogy is a structured array with named fields. In future work, it would be nice to use pandas to return full-fledged DataFrames from rpy2. In the mean time, structured arrays can be passed back and forth with the -d flag to %R, %Rpull, and %Rget"
     ]
    },
    {
     "cell_type": "code",
     "collapsed": true,
     "input": [
      "datapy= np.array([(1, 2.9, 'a'), (2, 3.5, 'b'), (3, 2.1, 'c')],\n",
      "          dtype=[('x', '<i4'), ('y', '<f8'), ('z', '|S1')])\n"
     ],
     "language": "python",
     "metadata": {},
     "outputs": [],
     "prompt_number": 52
    },
    {
     "cell_type": "code",
     "collapsed": true,
     "input": [
      "%%R -i datapy -d datar\n",
      "datar = datapy"
     ],
     "language": "python",
     "metadata": {},
     "outputs": [
      {
       "output_type": "display_data",
       "text": [
        "    datar = datapy\n",
        "\u0000"
       ]
      }
     ],
     "prompt_number": 53
    },
    {
     "cell_type": "code",
     "collapsed": false,
     "input": [
      "datar"
     ],
     "language": "python",
     "metadata": {},
     "outputs": [
      {
       "output_type": "pyout",
       "prompt_number": 54,
       "text": [
        "array([(1, 2.9, 'a'), (2, 3.5, 'b'), (3, 2.1, 'c')], \n",
        "      dtype=[('x', '<i4'), ('y', '<f8'), ('z', '|S1')])"
       ]
      }
     ],
     "prompt_number": 54
    },
    {
     "cell_type": "code",
     "collapsed": false,
     "input": [
      "%R datar2 = datapy\n",
      "%Rpull -d datar2\n",
      "datar2"
     ],
     "language": "python",
     "metadata": {},
     "outputs": [
      {
       "output_type": "display_data",
       "text": [
        "    datar2 = datapy\n",
        "\u0000"
       ]
      },
      {
       "output_type": "pyout",
       "prompt_number": 55,
       "text": [
        "array([(1, 2.9, 'a'), (2, 3.5, 'b'), (3, 2.1, 'c')], \n",
        "      dtype=[('x', '<i4'), ('y', '<f8'), ('z', '|S1')])"
       ]
      }
     ],
     "prompt_number": 55
    },
    {
     "cell_type": "code",
     "collapsed": false,
     "input": [
      "%Rget -d datar2"
     ],
     "language": "python",
     "metadata": {},
     "outputs": [
      {
       "output_type": "pyout",
       "prompt_number": 56,
       "text": [
        "array([(1, 2.9, 'a'), (2, 3.5, 'b'), (3, 2.1, 'c')], \n",
        "      dtype=[('x', '<i4'), ('y', '<f8'), ('z', '|S1')])"
       ]
      }
     ],
     "prompt_number": 56
    },
    {
     "cell_type": "markdown",
     "metadata": {},
     "source": [
      "For arrays without names, the -d argument has no effect because the R object has no colnames or names."
     ]
    },
    {
     "cell_type": "code",
     "collapsed": false,
     "input": [
      "Z = np.arange(6)\n",
      "%R -i Z\n",
      "%Rget -d Z"
     ],
     "language": "python",
     "metadata": {},
     "outputs": [
      {
       "output_type": "pyout",
       "prompt_number": 57,
       "text": [
        "array([0, 1, 2, 3, 4, 5], dtype=int32)"
       ]
      }
     ],
     "prompt_number": 57
    },
    {
     "cell_type": "markdown",
     "metadata": {},
     "source": [
      "For mixed-type data frames in R, if the -d flag is not used, then an array of a single type is returned and\n",
      "its value is transposed. This would be nice to fix, but it seems something that should be fixed at the rpy2 level (See: https://bitbucket.org/lgautier/rpy2/issue/44/numpyrecarray-as-dataframe)"
     ]
    },
    {
     "cell_type": "code",
     "collapsed": false,
     "input": [
      "%Rget datar2"
     ],
     "language": "python",
     "metadata": {},
     "outputs": [
      {
       "output_type": "pyout",
       "prompt_number": 58,
       "text": [
        "array([['1', '2', '3'],\n",
        "       ['2', '3', '2'],\n",
        "       ['a', 'b', 'c']], \n",
        "      dtype='|S1')"
       ]
      }
     ],
     "prompt_number": 58
    }
   ],
   "metadata": {}
  }
 ]
}