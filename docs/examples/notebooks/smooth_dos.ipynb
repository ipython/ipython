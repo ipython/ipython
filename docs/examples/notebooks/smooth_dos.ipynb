{
    "metadata": {
        "name": "smooth_dos"
    }, 
    "nbformat": 2, 
    "worksheets": [
        {
            "cells": [
                {
                    "cell_type": "code", 
                    "collapsed": true, 
                    "input": [
                        "from sympy import *", 
                        "import numpy as np", 
                        "import math"
                    ], 
                    "language": "python", 
                    "outputs": [], 
                    "prompt_number": 1
                }, 
                {
                    "cell_type": "markdown", 
                    "source": [
                        "<h2>Strutinsky Energy Averaging Method</h2>"
                    ]
                }, 
                {
                    "cell_type": "markdown", 
                    "source": [
                        "Define a callable class for computing the smooth part of the density of states $\\tilde{g}_m(E)$ with curvature", 
                        "correction of order $2M$."
                    ]
                }, 
                {
                    "cell_type": "code", 
                    "collapsed": true, 
                    "input": [
                        "class SmoothDOS(object):", 
                        "", 
                        "    def __init__(self, energies):", 
                        "        self.energies = energies", 
                        "", 
                        "    def gaussian_smoothing_func(self, M, x):", 
                        "        return (mpmath.laguerre(M,0.5,x**2)*exp(-x**2)/sqrt(pi)).evalf()", 
                        "", 
                        "    def __call__(self, e, M=3, gamma=1.0):", 
                        "        return sum(self.gaussian_smoothing_func(M, (e-ei)/gamma)/gamma for ei in self.energies)"
                    ], 
                    "language": "python", 
                    "outputs": [], 
                    "prompt_number": 2
                }, 
                {
                    "cell_type": "code", 
                    "collapsed": true, 
                    "input": [
                        "def avgf(M, x):", 
                        "    return (mpmath.laguerre(M,0.5,x**2)*exp(-x**2)/sqrt(pi)).evalf()"
                    ], 
                    "language": "python", 
                    "outputs": [], 
                    "prompt_number": 3
                }, 
                {
                    "cell_type": "code", 
                    "collapsed": true, 
                    "input": [
                        "def smooth_dos(gamma, M, e, energies):", 
                        "    return sum(avgf(M, (e-ei)/gamma)/gamma for ei in energies)"
                    ], 
                    "language": "python", 
                    "outputs": [], 
                    "prompt_number": 4
                }, 
                {
                    "cell_type": "markdown", 
                    "source": [
                        "<h2>1D Simple Harmonic Oscillator DOS</h2>"
                    ]
                }, 
                {
                    "cell_type": "code", 
                    "collapsed": true, 
                    "input": [
                        "def sho_smooth_dos(e):", 
                        "    \"\"\"Compute the exact smooth DOS.\"\"\"", 
                        "    return 1"
                    ], 
                    "language": "python", 
                    "outputs": [], 
                    "prompt_number": 5
                }, 
                {
                    "cell_type": "code", 
                    "collapsed": true, 
                    "input": [
                        "def sho_spectrum(nmax):", 
                        "    \"\"\"Compute the first nmax energies of the 1D SHO.\"\"\"", 
                        "    return [n+0.5 for n in range(nmax)]"
                    ], 
                    "language": "python", 
                    "outputs": [], 
                    "prompt_number": 6
                }, 
                {
                    "cell_type": "code", 
                    "collapsed": true, 
                    "input": [
                        "sho_evalues = np.linspace(0.0,20,100)"
                    ], 
                    "language": "python", 
                    "outputs": [], 
                    "prompt_number": 7
                }, 
                {
                    "cell_type": "code", 
                    "collapsed": true, 
                    "input": [
                        "sho_dos = SmoothDOS(sho_spectrum(30))"
                    ], 
                    "language": "python", 
                    "outputs": [], 
                    "prompt_number": 8
                }, 
                {
                    "cell_type": "code", 
                    "collapsed": true, 
                    "input": [
                        "sho_exact_dos = [sho_smooth_dos(e) for e in sho_evalues]"
                    ], 
                    "language": "python", 
                    "outputs": [], 
                    "prompt_number": 10
                }, 
                {
                    "cell_type": "code", 
                    "collapsed": true, 
                    "input": [
                        "sho_approx_dos = [sho_dos(e,M=3,gamma=10.0) for e in sho_evalues]"
                    ], 
                    "language": "python", 
                    "outputs": [], 
                    "prompt_number": 23
                }, 
                {
                    "cell_type": "code", 
                    "collapsed": false, 
                    "input": [
                        "plot(sho_evalues, sho_exact_dos, label=\"exact\")", 
                        "plot(sho_evalues, sho_approx_dos, label=\"approx\")", 
                        "title(\"Smooth part of the DOS for the 1D SHO\")", 
                        "xlabel(\"Energy\"); ylabel(\"$g(E)$\")", 
                        "legend(loc=4)"
                    ], 
                    "language": "python", 
                    "outputs": [
                        {
                            "output_type": "pyout", 
                            "prompt_number": 24, 
                            "text": [
                                "&lt;matplotlib.legend.Legend at 0x7f1790f77990&gt;"
                            ]
                        }, 
                        {
                            "output_type": "display_data", 
                            "png": "[encoded data removed]"
                        }
                    ], 
                    "prompt_number": 24
                }, 
                {
                    "cell_type": "markdown", 
                    "source": [
                        "Note how the exact smoothed DOS and the Strutinsky approximation agree once the energy is away from", 
                        "0. In general, these are edge effects and are also present at the right limit if you don't use enough energy", 
                        "levels.  Here we have used 30, so the right side doesn't show these artifacts."
                    ]
                }, 
                {
                    "cell_type": "markdown", 
                    "source": [
                        "<h2>1D Particle in a BOX (PIAB) DOS</h2>"
                    ]
                }, 
                {
                    "cell_type": "code", 
                    "collapsed": true, 
                    "input": [
                        "def piab_smooth_dos(e):", 
                        "    \"\"\"Compute the exact smooth DOS.\"\"\"", 
                        "    return 1.0/(2.0*math.sqrt(e*math.pi**2/2))"
                    ], 
                    "language": "python", 
                    "outputs": [], 
                    "prompt_number": 16
                }, 
                {
                    "cell_type": "code", 
                    "collapsed": true, 
                    "input": [
                        "def piab_spectrum(nmax):", 
                        "    \"\"\"Compute the first nmax energies of the 1D PIAB.\"\"\"", 
                        "    return [0.5*math.pi**2*(n+1)**2 for n in range(nmax)]"
                    ], 
                    "language": "python", 
                    "outputs": [], 
                    "prompt_number": 17
                }, 
                {
                    "cell_type": "code", 
                    "collapsed": true, 
                    "input": [
                        "piab_evalues = linspace(1.0,1000.0,100)"
                    ], 
                    "language": "python", 
                    "outputs": [], 
                    "prompt_number": 18
                }, 
                {
                    "cell_type": "code", 
                    "collapsed": true, 
                    "input": [
                        "piab_dos = SmoothDOS(piab_spectrum(20))"
                    ], 
                    "language": "python", 
                    "outputs": [], 
                    "prompt_number": 19
                }, 
                {
                    "cell_type": "code", 
                    "collapsed": true, 
                    "input": [
                        "piab_exact_dos = [piab_smooth_dos(e) for e in piab_evalues]"
                    ], 
                    "language": "python", 
                    "outputs": [], 
                    "prompt_number": 20
                }, 
                {
                    "cell_type": "code", 
                    "collapsed": true, 
                    "input": [
                        "piab_approx_dos = [piab_dos(e, M=4, gamma=150.0) for e in piab_evalues]"
                    ], 
                    "language": "python", 
                    "outputs": [], 
                    "prompt_number": 21
                }, 
                {
                    "cell_type": "code", 
                    "collapsed": false, 
                    "input": [
                        "plot(piab_evalues, piab_exact_dos, label=\"exact\")", 
                        "plot(piab_evalues, piab_approx_dos, label=\"approx\")", 
                        "title(\"Smooth part of the DOS for the 1D PIAB\")", 
                        "xlabel(\"Energy\"); ylabel(\"$g(E)$\")", 
                        "legend(loc=1)"
                    ], 
                    "language": "python", 
                    "outputs": [
                        {
                            "output_type": "pyout", 
                            "prompt_number": 22, 
                            "text": [
                                "&lt;matplotlib.legend.Legend at 0x6107410&gt;"
                            ]
                        }, 
                        {
                            "output_type": "display_data", 
                            "png": "[encoded data removed]"
                        }
                    ], 
                    "prompt_number": 22
                }, 
                {
                    "cell_type": "code", 
                    "collapsed": true, 
                    "input": [], 
                    "language": "python", 
                    "outputs": []
                }
            ]
        }
    ]
}