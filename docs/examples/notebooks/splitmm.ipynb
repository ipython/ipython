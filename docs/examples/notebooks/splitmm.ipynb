{
 "metadata": {
  "name": "mergedof"
 }, 
 "nbformat": 3, 
 "nbformat_minor": 0, 
 "worksheets": [
  {
   "cells": [
    {
     "cell_type": "raw", 
     "metadata": {}, 
     "source": "@@ diff for cell 1 @@\n--- 8_old_cells\n+++ 1_new_cell\n@@ -1,8 +1,20 @@\n+#------\n #cell-6\n #cell-7\n+#------\n+#--\n+#----\n+#------\n #cell-0\n #cell-1\n+#------\n+#------\n #cell-2\n #cell-3\n+#------\n+#----\n+#------\n #cell-4\n #cell-5\n+#------\n+#--"
    }, 
    {
     "cell_type": "raw", 
     "metadata": {}, 
     "source": "@@ diff for cell 2 @@\n--- 2_old_cells\n+++ 1_new_cell\n@@ -1,2 +1,4 @@\n+#------\n #cell-8\n #cell-9\n+#------"
    }, 
    {
     "cell_type": "raw", 
     "metadata": {}, 
     "source": "@@ diff for cell 3 @@"
    }
   ], 
   "metadata": {}, 
   "name": "u0"
  }
 ]
}
