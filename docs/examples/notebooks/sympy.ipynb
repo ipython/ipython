{
 "metadata": {
  "name": "sympy"
 }, 
 "nbformat": 2, 
 "worksheets": [
  {
   "cells": [
    {
     "cell_type": "markdown", 
     "source": [
      "# SymPy: Open Source Symbolic Mathematics", 
      "", 
      "This notebook uses the [SymPy](http://sympy.org) package to perform symbolic manipulations,", 
      "and combined with numpy and matplotlib, also displays numerical visualizations of symbolically", 
      "constructed expressions.", 
      "", 
      "We first load sympy printing and plotting support, as well as all of sympy:"
     ]
    }, 
    {
     "cell_type": "code", 
     "collapsed": false, 
     "input": [
      "%load_ext sympyprinting", 
      "%pylab inline", 
      "", 
      "from __future__ import division", 
      "import sympy as sym", 
      "from sympy import *", 
      "x, y, z = symbols(\"x y z\")", 
      "k, m, n = symbols(\"k m n\", integer=True)", 
      "f, g, h = map(Function, 'fgh')"
     ], 
     "language": "python", 
     "outputs": [
      {
       "output_type": "stream", 
       "stream": "stdout", 
       "text": [
        "", 
        "Welcome to pylab, a matplotlib-based Python environment [backend: module://IPython.zmq.pylab.backend_inline].", 
        "For more information, type 'help(pylab)'."
       ]
      }
     ], 
     "prompt_number": 1
    }, 
    {
     "cell_type": "markdown", 
     "source": [
      "<h2>Elementary operations</h2>"
     ]
    }, 
    {
     "cell_type": "code", 
     "collapsed": false, 
     "input": [
      "Rational(3,2)*pi + exp(I*x) / (x**2 + y)"
     ], 
     "language": "python", 
     "outputs": [
      {
       "latex": [
        "$$\\frac{3}{2} \\pi + \\frac{e^{\\mathbf{\\imath} x}}{x^{2} + y}$$"
       ], 
       "output_type": "pyout", 
       "png": "[encoded data removed]", 
       "prompt_number": 2, 
       "text": [
        "", 
        "        \u2148\u22c5x ", 
        "3\u22c5\u03c0    \u212f    ", 
        "\u2500\u2500\u2500 + \u2500\u2500\u2500\u2500\u2500\u2500", 
        " 2     2    ", 
        "      x  + y"
       ]
      }
     ], 
     "prompt_number": 2
    }, 
    {
     "cell_type": "code", 
     "collapsed": false, 
     "input": [
      "exp(I*x).subs(x,pi).evalf()"
     ], 
     "language": "python", 
     "outputs": [
      {
       "latex": [
        "$$-1.0$$"
       ], 
       "output_type": "pyout", 
       "png": "[encoded data removed]", 
       "prompt_number": 4, 
       "text": [
        "-1.00000000000000"
       ]
      }
     ], 
     "prompt_number": 4
    }, 
    {
     "cell_type": "code", 
     "collapsed": true, 
     "input": [
      "e = x + 2*y"
     ], 
     "language": "python", 
     "outputs": [], 
     "prompt_number": 5
    }, 
    {
     "cell_type": "code", 
     "collapsed": false, 
     "input": [
      "srepr(e)"
     ], 
     "language": "python", 
     "outputs": [
      {
       "output_type": "pyout", 
       "prompt_number": 6, 
       "text": [
        "Add(Symbol('x'), Mul(Integer(2), Symbol('y')))"
       ]
      }
     ], 
     "prompt_number": 6
    }, 
    {
     "cell_type": "code", 
     "collapsed": false, 
     "input": [
      "exp(pi * sqrt(163)).evalf(50)"
     ], 
     "language": "python", 
     "outputs": [
      {
       "latex": [
        "$$262537412640768743.99999999999925007259719818568888$$"
       ], 
       "output_type": "pyout", 
       "png": "[encoded data removed]", 
       "prompt_number": 7, 
       "text": [
        "262537412640768743.99999999999925007259719818568888"
       ]
      }
     ], 
     "prompt_number": 7
    }, 
    {
     "cell_type": "markdown", 
     "source": [
      "<h2>Algebra<h2>"
     ]
    }, 
    {
     "cell_type": "code", 
     "collapsed": false, 
     "input": [
      "eq = ((x+y)**2 * (x+1))", 
      "eq"
     ], 
     "language": "python", 
     "outputs": [
      {
       "latex": [
        "$$\\left(x + 1\\right) \\left(x + y\\right)^{2}$$"
       ], 
       "output_type": "pyout", 
       "png": "[encoded data removed]", 
       "prompt_number": 8, 
       "text": [
        "", 
        "               2", 
        "(x + 1)\u22c5(x + y) "
       ]
      }
     ], 
     "prompt_number": 8
    }, 
    {
     "cell_type": "code", 
     "collapsed": false, 
     "input": [
      "expand(eq)"
     ], 
     "language": "python", 
     "outputs": [
      {
       "latex": [
        "$$x^{3} + 2 x^{2} y + x^{2} + x y^{2} + 2 x y + y^{2}$$"
       ], 
       "output_type": "pyout", 
       "png": "[encoded data removed]", 
       "prompt_number": 9, 
       "text": [
        "", 
        " 3      2      2      2            2", 
        "x  + 2\u22c5x \u22c5y + x  + x\u22c5y  + 2\u22c5x\u22c5y + y "
       ]
      }
     ], 
     "prompt_number": 9
    }, 
    {
     "cell_type": "code", 
     "collapsed": false, 
     "input": [
      "a = 1/x + (x*sin(x) - 1)/x", 
      "a"
     ], 
     "language": "python", 
     "outputs": [
      {
       "latex": [
        "$$\\frac{x \\operatorname{sin}\\left(x\\right) -1}{x} + \\frac{1}{x}$$"
       ], 
       "output_type": "pyout", 
       "png": "[encoded data removed]", 
       "prompt_number": 10, 
       "text": [
        "", 
        "x\u22c5sin(x) - 1   1", 
        "\u2500\u2500\u2500\u2500\u2500\u2500\u2500\u2500\u2500\u2500\u2500\u2500 + \u2500", 
        "     x         x"
       ]
      }
     ], 
     "prompt_number": 10
    }, 
    {
     "cell_type": "code", 
     "collapsed": false, 
     "input": [
      "simplify(a)"
     ], 
     "language": "python", 
     "outputs": [
      {
       "latex": [
        "$$\\operatorname{sin}\\left(x\\right)$$"
       ], 
       "output_type": "pyout", 
       "png": "[encoded data removed]", 
       "prompt_number": 11, 
       "text": [
        "sin(x)"
       ]
      }
     ], 
     "prompt_number": 11
    }, 
    {
     "cell_type": "code", 
     "collapsed": false, 
     "input": [
      "eq = Eq(x**3 + 2*x**2 + 4*x + 8, 0)", 
      "eq"
     ], 
     "language": "python", 
     "outputs": [
      {
       "latex": [
        "$$x^{3} + 2 x^{2} + 4 x + 8 = 0$$"
       ], 
       "output_type": "pyout", 
       "png": "[encoded data removed]", 
       "prompt_number": 12, 
       "text": [
        "", 
        " 3      2              ", 
        "x  + 2\u22c5x  + 4\u22c5x + 8 = 0"
       ]
      }
     ], 
     "prompt_number": 12
    }, 
    {
     "cell_type": "code", 
     "collapsed": false, 
     "input": [
      "solve(eq, x)"
     ], 
     "language": "python", 
     "outputs": [
      {
       "output_type": "pyout", 
       "prompt_number": 13, 
       "text": [
        "[-2, -2\u22c5\u2148, 2\u22c5\u2148]"
       ]
      }
     ], 
     "prompt_number": 13
    }, 
    {
     "cell_type": "code", 
     "collapsed": false, 
     "input": [
      "a, b = symbols('a b')", 
      "Sum(6*n**2 + 2**n, (n, a, b))"
     ], 
     "language": "python", 
     "outputs": [
      {
       "latex": [
        "$$\\sum_{n=a}^{b} \\left(2^{n} + 6 n^{2}\\right)$$"
       ], 
       "output_type": "pyout", 
       "png": "[encoded data removed]", 
       "prompt_number": 14, 
       "text": [
        "", 
        "  b              ", 
        " ___             ", 
        " \u2572               ",
        "  \u2572   \u239b n      2\u239e",
        "  \u2571   \u239d2  + 6\u22c5n \u23a0",
        " \u2571               ",
        " \u203e\u203e\u203e             ",
        "n = a            "
       ]
      }
     ], 
     "prompt_number": 14
    }, 
    {
     "cell_type": "markdown", 
     "source": [
      "<h2>Calculus</h2>"
     ]
    }, 
    {
     "cell_type": "code", 
     "collapsed": false, 
     "input": [
      "limit((sin(x)-x)/x**3, x, 0)"
     ], 
     "language": "python", 
     "outputs": [
      {
       "latex": [
        "$$- \\frac{1}{6}$$"
       ], 
       "output_type": "pyout", 
       "png": "[encoded data removed]", 
       "prompt_number": 15, 
       "text": [
        "-1/6"
       ]
      }
     ], 
     "prompt_number": 15
    }, 
    {
     "cell_type": "code", 
     "collapsed": false, 
     "input": [
      "(1/cos(x)).series(x, 0, 6)"
     ], 
     "language": "python", 
     "outputs": [
      {
       "latex": [
        "$$1 + \\frac{1}{2} x^{2} + \\frac{5}{24} x^{4} + \\operatorname{\\mathcal{O}}\\left(x^{6}\\right)$$"
       ], 
       "output_type": "pyout", 
       "png": "[encoded data removed]", 
       "prompt_number": 16, 
       "text": [
        "", 
        "     2      4        ", 
        "    x    5\u22c5x     \u239b 6\u239e", 
        "1 + \u2500\u2500 + \u2500\u2500\u2500\u2500 + O\u239dx \u23a0", 
        "    2     24         "
       ]
      }
     ], 
     "prompt_number": 16
    }, 
    {
     "cell_type": "code", 
     "collapsed": false, 
     "input": [
      "diff(cos(x**2)**2 / (1+x), x)"
     ], 
     "language": "python", 
     "outputs": [
      {
       "latex": [
        "$$- 4 \\frac{x \\operatorname{sin}\\left(x^{2}\\right) \\operatorname{cos}\\left(x^{2}\\right)}{x + 1} - \\frac{\\operatorname{cos}^{2}\\left(x^{2}\\right)}{\\left(x + 1\\right)^{2}}$$"
       ], 
       "output_type": "pyout", 
       "png": "[encoded data removed]", 
       "prompt_number": 17, 
       "text": [
        "", 
        "                           2    ", 
        "         \u239b 2\u239e    \u239b 2\u239e       \u239b 2\u239e", 
        "  4\u22c5x\u22c5sin\u239dx \u23a0\u22c5cos\u239dx \u23a0   cos \u239dx \u23a0", 
        "- \u2500\u2500\u2500\u2500\u2500\u2500\u2500\u2500\u2500\u2500\u2500\u2500\u2500\u2500\u2500\u2500\u2500\u2500\u2500 - \u2500\u2500\u2500\u2500\u2500\u2500\u2500\u2500", 
        "         x + 1                 2", 
        "                        (x + 1) "
       ]
      }
     ], 
     "prompt_number": 17
    }, 
    {
     "cell_type": "code", 
     "collapsed": false, 
     "input": [
      "integrate(x**2 * cos(x), (x, 0, pi/2))"
     ], 
     "language": "python", 
     "outputs": [
      {
       "latex": [
        "$$-2 + \\frac{1}{4} \\pi^{2}$$"
       ], 
       "output_type": "pyout", 
       "png": "[encoded data removed]", 
       "prompt_number": 18, 
       "text": [
        "", 
        "      2", 
        "     \u03c0 ", 
        "-2 + \u2500\u2500", 
        "     4 "
       ]
      }
     ], 
     "prompt_number": 18
    }, 
    {
     "cell_type": "code", 
     "collapsed": false, 
     "input": [
      "eqn = Eq(Derivative(f(x),x,x) + 9*f(x), 1)", 
      "display(eqn)", 
      "dsolve(eqn, f(x))"
     ], 
     "language": "python", 
     "outputs": [
      {
       "latex": [
        "$$9 \\operatorname{f}\\left(x\\right) + \\frac{\\partial^{2}}{\\partial^{2} x}  \\operatorname{f}\\left(x\\right) = 1$$"
       ], 
       "output_type": "display_data", 
       "png": "[encoded data removed]", 
       "text": [
        "", 
        "           2          ", 
        "          d           ", 
        "9\u22c5f(x) + \u2500\u2500\u2500(f(x)) = 1", 
        "           2          ", 
        "         dx           "
       ]
      }, 
      {
       "latex": [
        "$$\\operatorname{f}\\left(x\\right) = C_{1} \\operatorname{sin}\\left(3 x\\right) + C_{2} \\operatorname{cos}\\left(3 x\\right) + \\frac{1}{9}$$"
       ], 
       "output_type": "pyout", 
       "png": "[encoded data removed]", 
       "prompt_number": 19, 
       "text": [
        "f(x) = C\u2081\u22c5sin(3\u22c5x) + C\u2082\u22c5cos(3\u22c5x) + 1/9"
       ]
      }
     ], 
     "prompt_number": 19
    }, 
    {
     "cell_type": "markdown", 
     "source": [
      "# Illustrating Taylor series", 
      "", 
      "We will define a function to compute the Taylor series expansions of a symbolically defined expression at", 
      "various orders and visualize all the approximations together with the original function"
     ]
    }, 
    {
     "cell_type": "code", 
     "collapsed": true, 
     "input": [
      "# You can change the default figure size to be a bit larger if you want,", 
      "# uncomment the next line for that:", 
      "#plt.rc('figure', figsize=(10, 6))"
     ], 
     "language": "python", 
     "outputs": [], 
     "prompt_number": 20
    }, 
    {
     "cell_type": "code", 
     "collapsed": true, 
     "input": [
      "def plot_taylor_approximations(func, x0=None, orders=(2, 4), xrange=(0,1), yrange=None, npts=200):", 
      "    \"\"\"Plot the Taylor series approximations to a function at various orders.", 
      "", 
      "    Parameters", 
      "    ----------", 
      "    func : a sympy function", 
      "    x0 : float", 
      "      Origin of the Taylor series expansion.  If not given, x0=xrange[0].", 
      "    orders : list", 
      "      List of integers with the orders of Taylor series to show.  Default is (2, 4).", 
      "    xrange : 2-tuple or array.", 
      "      Either an (xmin, xmax) tuple indicating the x range for the plot (default is (0, 1)),", 
      "      or the actual array of values to use.", 
      "    yrange : 2-tuple", 
      "      (ymin, ymax) tuple indicating the y range for the plot.  If not given,", 
      "      the full range of values will be automatically used. ", 
      "    npts : int", 
      "      Number of points to sample the x range with.  Default is 200.", 
      "    \"\"\"", 
      "    if not callable(func):", 
      "        raise ValueError('func must be callable')", 
      "    if isinstance(xrange, (list, tuple)):", 
      "        x = np.linspace(float(xrange[0]), float(xrange[1]), npts)", 
      "    else:", 
      "        x = xrange", 
      "    if x0 is None: x0 = x[0]", 
      "    xs = sym.Symbol('x')", 
      "    # Make a numpy-callable form of the original function for plotting", 
      "    fx = func(xs)", 
      "    f = sym.lambdify(xs, fx, modules=['numpy'])", 
      "    # We could use latex(fx) instead of str(), but matploblib gets confused", 
      "    # with some of the (valid) latex constructs sympy emits.  So we play it safe.", 
      "    plot(x, f(x), label=str(fx), lw=2)", 
      "    # Build the Taylor approximations, plotting as we go", 
      "    apps = {}", 
      "    for order in orders:", 
      "        app = fx.series(xs, x0, n=order).removeO()", 
      "        apps[order] = app", 
      "        # Must be careful here: if the approximation is a constant, we can't", 
      "        # blindly use lambdify as it won't do the right thing.  In that case, ", 
      "        # evaluate the number as a float and fill the y array with that value.", 
      "        if isinstance(app, sym.numbers.Number):", 
      "            y = np.zeros_like(x)", 
      "            y.fill(app.evalf())", 
      "        else:", 
      "            fa = sym.lambdify(xs, app, modules=['numpy'])", 
      "            y = fa(x)", 
      "        tex = sym.latex(app).replace('$', '')", 
      "        plot(x, y, label=r'$n=%s:\\, %s$' % (order, tex) )", 
      "        ", 
      "    # Plot refinements", 
      "    if yrange is not None:", 
      "        plt.ylim(*yrange)", 
      "    grid()", 
      "    legend(loc='best').get_frame().set_alpha(0.8)"
     ], 
     "language": "python", 
     "outputs": [], 
     "prompt_number": 21
    }, 
    {
     "cell_type": "markdown", 
     "source": [
      "With this function defined, we can now use it for any sympy function or expression"
     ]
    }, 
    {
     "cell_type": "code", 
     "collapsed": false, 
     "input": [
      "plot_taylor_approximations(sin, 0, [2, 4, 6], (0, 2*pi), (-2,2))"
     ], 
     "language": "python", 
     "outputs": [
      {
       "output_type": "display_data", 
       "png": "[encoded data removed]"
      }
     ], 
     "prompt_number": 22
    }, 
    {
     "cell_type": "code", 
     "collapsed": false, 
     "input": [
      "plot_taylor_approximations(cos, 0, [2, 4, 6], (0, 2*pi), (-2,2))"
     ], 
     "language": "python", 
     "outputs": [
      {
       "output_type": "display_data", 
       "png": "[encoded data removed]"
      }
     ], 
     "prompt_number": 23
    }, 
    {
     "cell_type": "markdown", 
     "source": [
      "This shows easily how a Taylor series is useless beyond its convergence radius, illustrated by ", 
      "a simple function that has singularities on the real axis:"
     ]
    }, 
    {
     "cell_type": "code", 
     "collapsed": false, 
     "input": [
      "# For an expression made from elementary functions, we must first make it into", 
      "# a callable function, the simplest way is to use the Python lambda construct.", 
      "plot_taylor_approximations(lambda x: 1/cos(x), 0, [2,4,6], (0, 2*pi), (-5,5))"
     ], 
     "language": "python", 
     "outputs": [
      {
       "output_type": "display_data", 
       "png": "[encoded data removed]"
      }
     ], 
     "prompt_number": 24
    }
   ]
  }
 ]
}