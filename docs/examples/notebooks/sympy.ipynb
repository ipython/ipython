{
    "metadata": {
        "name": "sympy"
    }, 
    "nbformat": 2, 
    "worksheets": [
        {
            "cells": [
                {
                    "cell_type": "markdown", 
                    "source": [
                        "<h1>SymPy: Open Source Symbolic Mathematics</h1>"
                    ]
                }, 
                {
                    "cell_type": "code", 
                    "collapsed": true, 
                    "input": [
                        "%load_ext sympyprinting"
                    ], 
                    "language": "python", 
                    "outputs": [], 
                    "prompt_number": 1
                }, 
                {
                    "cell_type": "code", 
                    "collapsed": true, 
                    "input": [
                        "from __future__ import division", 
                        "from sympy import *", 
                        "x, y, z = symbols(\"x y z\")", 
                        "k, m, n = symbols(\"k m n\", integer=True)", 
                        "f, g, h = map(Function, 'fgh')"
                    ], 
                    "language": "python", 
                    "outputs": [], 
                    "prompt_number": 2
                }, 
                {
                    "cell_type": "markdown", 
                    "source": [
                        "<h2>Elementary operations</h2>"
                    ]
                }, 
                {
                    "cell_type": "code", 
                    "collapsed": false, 
                    "input": [
                        "Rational(3,2)*pi + exp(I*x) / (x**2 + y)"
                    ], 
                    "language": "python", 
                    "outputs": [
                        {
                            "latex": [
                                "$$\\frac{3}{2} \\pi + \\frac{e^{\\mathbf{\\imath} x}}{x^{2} + y}$$"
                            ], 
                            "output_type": "pyout", 
                            "png": "[encoded data removed]", 
                            "prompt_number": 3, 
                            "text": [
                                "\u2148\u22c5x ", 
                                "3\u22c5\u03c0    \u212f    ", 
                                "\u2500\u2500\u2500 + \u2500\u2500\u2500\u2500\u2500\u2500", 
                                " 2     2    ", 
                                "      x  + y"
                            ]
                        }
                    ], 
                    "prompt_number": 3
                }, 
                {
                    "cell_type": "code", 
                    "collapsed": false, 
                    "input": [
                        "exp(I*x).subs(x,pi).evalf()"
                    ], 
                    "language": "python", 
                    "outputs": [
                        {
                            "latex": [
                                "$$-1.0$$"
                            ], 
                            "output_type": "pyout", 
                            "png": "[encoded data removed]", 
                            "prompt_number": 4, 
                            "text": [
                                "-1.00000000000000"
                            ]
                        }
                    ], 
                    "prompt_number": 4
                }, 
                {
                    "cell_type": "code", 
                    "collapsed": true, 
                    "input": [
                        "e = x + 2*y"
                    ], 
                    "language": "python", 
                    "outputs": [], 
                    "prompt_number": 5
                }, 
                {
                    "cell_type": "code", 
                    "collapsed": false, 
                    "input": [
                        "srepr(e)"
                    ], 
                    "language": "python", 
                    "outputs": [
                        {
                            "output_type": "pyout", 
                            "prompt_number": 6, 
                            "text": [
                                "Add(Symbol(&apos;x&apos;), Mul(Integer(2), Symbol(&apos;y&apos;)))"
                            ]
                        }
                    ], 
                    "prompt_number": 6
                }, 
                {
                    "cell_type": "code", 
                    "collapsed": false, 
                    "input": [
                        "exp(pi * sqrt(163)).evalf(50)"
                    ], 
                    "language": "python", 
                    "outputs": [
                        {
                            "latex": [
                                "$$262537412640768743.99999999999925007259719818568888$$"
                            ], 
                            "output_type": "pyout", 
                            "png": "[encoded data removed]", 
                            "prompt_number": 7, 
                            "text": [
                                "262537412640768743.99999999999925007259719818568888"
                            ]
                        }
                    ], 
                    "prompt_number": 7
                }, 
                {
                    "cell_type": "markdown", 
                    "source": [
                        "<h2>Algebra<h2>"
                    ]
                }, 
                {
                    "cell_type": "code", 
                    "collapsed": false, 
                    "input": [
                        "((x+y)**2 * (x+1)).expand()"
                    ], 
                    "language": "python", 
                    "outputs": [
                        {
                            "latex": [
                                "$$x^{3} + 2 x^{2} y + x^{2} + x y^{2} + 2 x y + y^{2}$$"
                            ], 
                            "output_type": "pyout", 
                            "png": "[encoded data removed]", 
                            "prompt_number": 8, 
                            "text": [
                                "3      2      2      2            2", 
                                "x  + 2\u22c5x \u22c5y + x  + x\u22c5y  + 2\u22c5x\u22c5y + y"
                            ]
                        }
                    ], 
                    "prompt_number": 8
                }, 
                {
                    "cell_type": "code", 
                    "collapsed": false, 
                    "input": [
                        "a = 1/x + (x*sin(x) - 1)/x", 
                        "display(a)", 
                        "simplify(a)"
                    ], 
                    "language": "python", 
                    "outputs": [
                        {
                            "latex": [
                                "$$\\frac{x \\operatorname{sin}\\left(x\\right) -1}{x} + \\frac{1}{x}$$"
                            ], 
                            "output_type": "display_data", 
                            "png": "[encoded data removed]", 
                            "text": [
                                "x\u22c5sin(x) - 1   1", 
                                "\u2500\u2500\u2500\u2500\u2500\u2500\u2500\u2500\u2500\u2500\u2500\u2500 + \u2500", 
                                "     x         x"
                            ]
                        }, 
                        {
                            "latex": [
                                "$$\\operatorname{sin}\\left(x\\right)$$"
                            ], 
                            "output_type": "pyout", 
                            "png": "[encoded data removed]", 
                            "prompt_number": 9, 
                            "text": [
                                "sin(x)"
                            ]
                        }
                    ], 
                    "prompt_number": 9
                }, 
                {
                    "cell_type": "code", 
                    "collapsed": false, 
                    "input": [
                        "solve(Eq(x**3 + 2*x**2 + 4*x + 8, 0), x)"
                    ], 
                    "language": "python", 
                    "outputs": [
                        {
                            "output_type": "pyout", 
                            "prompt_number": 10, 
                            "text": [
                                "[-2\u22c5\u2148, 2\u22c5\u2148, -2]"
                            ]
                        }
                    ], 
                    "prompt_number": 10
                }, 
                {
                    "cell_type": "code", 
                    "collapsed": false, 
                    "input": [
                        "a, b = symbols('a b')", 
                        "Sum(6*n**2 + 2**n, (n, a, b))"
                    ], 
                    "language": "python", 
                    "outputs": [
                        {
                            "latex": [
                                "$$\\sum_{n=a}^{b} \\left(2^{n} + 6 n^{2}\\right)$$"
                            ], 
                            "output_type": "pyout", 
                            "png": "[encoded data removed]", 
                            "prompt_number": 11, 
                            "text": [
                                "b              ", 
                                " ___             ", 
                                " \\  &#96;            ", 
                                "  \\   \u239b n      2\u239e", 
                                "  /   \u239d2  + 6\u22c5n \u23a0", 
                                " /__,            ", 
                                "n = a"
                            ]
                        }
                    ], 
                    "prompt_number": 11
                }, 
                {
                    "cell_type": "markdown", 
                    "source": [
                        "<h2>Calculus</h2>"
                    ]
                }, 
                {
                    "cell_type": "code", 
                    "collapsed": false, 
                    "input": [
                        "limit((sin(x)-x)/x**3, x, 0)"
                    ], 
                    "language": "python", 
                    "outputs": [
                        {
                            "latex": [
                                "$$- \\frac{1}{6}$$"
                            ], 
                            "output_type": "pyout", 
                            "png": "[encoded data removed]", 
                            "prompt_number": 12, 
                            "text": [
                                "-1/6"
                            ]
                        }
                    ], 
                    "prompt_number": 12
                }, 
                {
                    "cell_type": "code", 
                    "collapsed": false, 
                    "input": [
                        "(1/cos(x)).series(x, 0, 6)"
                    ], 
                    "language": "python", 
                    "outputs": [
                        {
                            "latex": [
                                "$$1 + \\frac{1}{2} x^{2} + \\frac{5}{24} x^{4} + \\operatorname{\\mathcal{O}}\\left(x^{6}\\right)$$"
                            ], 
                            "output_type": "pyout", 
                            "png": "[encoded data removed]", 
                            "prompt_number": 13, 
                            "text": [
                                "2      4          ", 
                                "    x    5\u22c5x           ", 
                                "1 + \u2500\u2500 + \u2500\u2500\u2500\u2500 + O(x**6)", 
                                "    2     24"
                            ]
                        }
                    ], 
                    "prompt_number": 13
                }, 
                {
                    "cell_type": "code", 
                    "collapsed": false, 
                    "input": [
                        "diff(cos(x**2)**2 / (1+x), x)"
                    ], 
                    "language": "python", 
                    "outputs": [
                        {
                            "latex": [
                                "$$- 4 \\frac{x \\operatorname{sin}\\left(x^{2}\\right) \\operatorname{cos}\\left(x^{2}\\right)}{x + 1} - \\frac{\\operatorname{cos}^{2}\\left(x^{2}\\right)}{\\left(x + 1\\right)^{2}}$$"
                            ], 
                            "output_type": "pyout", 
                            "png": "[encoded data removed]", 
                            "prompt_number": 14, 
                            "text": [
                                "2    ", 
                                "         \u239b 2\u239e    \u239b 2\u239e       \u239b 2\u239e", 
                                "  4\u22c5x\u22c5sin\u239dx \u23a0\u22c5cos\u239dx \u23a0   cos \u239dx \u23a0", 
                                "- \u2500\u2500\u2500\u2500\u2500\u2500\u2500\u2500\u2500\u2500\u2500\u2500\u2500\u2500\u2500\u2500\u2500\u2500\u2500 - \u2500\u2500\u2500\u2500\u2500\u2500\u2500\u2500", 
                                "         x + 1                 2", 
                                "                        (x + 1)"
                            ]
                        }
                    ], 
                    "prompt_number": 14
                }, 
                {
                    "cell_type": "code", 
                    "collapsed": false, 
                    "input": [
                        "integrate(x**2 * cos(x), (x, 0, pi/2))"
                    ], 
                    "language": "python", 
                    "outputs": [
                        {
                            "latex": [
                                "$$-2 + \\frac{1}{4} \\pi^{2}$$"
                            ], 
                            "output_type": "pyout", 
                            "png": "[encoded data removed]", 
                            "prompt_number": 15, 
                            "text": [
                                "2", 
                                "     \u03c0 ", 
                                "-2 + \u2500\u2500", 
                                "     4"
                            ]
                        }
                    ], 
                    "prompt_number": 15
                }, 
                {
                    "cell_type": "code", 
                    "collapsed": false, 
                    "input": [
                        "eqn = Eq(Derivative(f(x),x,x) + 9*f(x), 1)", 
                        "display(eqn)", 
                        "dsolve(eqn, f(x))"
                    ], 
                    "language": "python", 
                    "outputs": [
                        {
                            "latex": [
                                "$$9 \\operatorname{f}\\left(x\\right) + \\frac{\\partial^{2}}{\\partial^{2} x}  \\operatorname{f}\\left(x\\right) = 1$$"
                            ], 
                            "output_type": "display_data", 
                            "png": "[encoded data removed]", 
                            "text": [
                                "2          ", 
                                "          d           ", 
                                "9\u22c5f(x) + \u2500\u2500\u2500(f(x)) = 1", 
                                "           2          ", 
                                "         dx"
                            ]
                        }, 
                        {
                            "latex": [
                                "$$\\operatorname{f}\\left(x\\right) = C_{1} \\operatorname{cos}\\left(3 x\\right) + C_{2} \\operatorname{sin}\\left(3 x\\right) + \\frac{1}{9}$$"
                            ], 
                            "output_type": "pyout", 
                            "png": "[encoded data removed]", 
                            "prompt_number": 16, 
                            "text": [
                                "f(x) = C\u2081\u22c5cos(3\u22c5x) + C\u2082\u22c5sin(3\u22c5x) + 1/9"
                            ]
                        }
                    ], 
                    "prompt_number": 16
                }
            ]
        }
    ]
}