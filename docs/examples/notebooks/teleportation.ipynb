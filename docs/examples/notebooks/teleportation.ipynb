{
    "metadata": {
        "name": "teleportation"
    }, 
    "nbformat": 2, 
    "worksheets": [
        {
            "cells": [
                {
                    "cell_type": "markdown", 
                    "source": [
                        "<h1>Teleportation</h1>"
                    ]
                }, 
                {
                    "cell_type": "code", 
                    "collapsed": true, 
                    "input": [
                        "%load_ext sympyprinting"
                    ], 
                    "language": "python", 
                    "outputs": [], 
                    "prompt_number": 5
                }, 
                {
                    "cell_type": "code", 
                    "collapsed": true, 
                    "input": [
                        "from sympy import sqrt, symbols, Rational", 
                        "from sympy import expand, Eq, Symbol, simplify, exp, sin", 
                        "from sympy.physics.quantum import *", 
                        "from sympy.physics.quantum.qubit import *", 
                        "from sympy.physics.quantum.gate import *", 
                        "from sympy.physics.quantum.grover import *", 
                        "from sympy.physics.quantum.qft import QFT, IQFT, Fourier", 
                        "from sympy.physics.quantum.circuitplot import circuit_plot"
                    ], 
                    "language": "python", 
                    "outputs": [], 
                    "prompt_number": 6
                }, 
                {
                    "cell_type": "code", 
                    "collapsed": false, 
                    "input": [
                        "a,b = symbols('a b', real=True)", 
                        "state = Qubit('000')*a + Qubit('001')*b; state"
                    ], 
                    "language": "python", 
                    "outputs": [
                        {
                            "latex": [
                                "$$a {\\left|000\\right\\rangle } + b {\\left|001\\right\\rangle }$$"
                            ], 
                            "output_type": "pyout", 
                            "png": "[encoded data removed]", 
                            "prompt_number": 7, 
                            "text": [
                                "a\u22c5\u2758000\u27e9 + b\u22c5\u2758001\u27e9"
                            ]
                        }
                    ], 
                    "prompt_number": 7
                }, 
                {
                    "cell_type": "code", 
                    "collapsed": false, 
                    "input": [
                        "entangle1_2 = CNOT(1,2)*HadamardGate(1); entangle1_2"
                    ], 
                    "language": "python", 
                    "outputs": [
                        {
                            "latex": [
                                "$$CNOT_{1,2} H_{1}$$"
                            ], 
                            "output_type": "pyout", 
                            "png": "[encoded data removed]", 
                            "prompt_number": 8, 
                            "text": [
                                "CNOT   \u22c5H ", 
                                "    1,2  1"
                            ]
                        }
                    ], 
                    "prompt_number": 8
                }, 
                {
                    "cell_type": "code", 
                    "collapsed": false, 
                    "input": [
                        "state = qapply(entangle1_2*state); state"
                    ], 
                    "language": "python", 
                    "outputs": [
                        {
                            "latex": [
                                "$$\\frac{1}{2} \\sqrt{2} a {\\left|000\\right\\rangle } + \\frac{1}{2} \\sqrt{2} a {\\left|110\\right\\rangle } + \\frac{1}{2} \\sqrt{2} b {\\left|001\\right\\rangle } + \\frac{1}{2} \\sqrt{2} b {\\left|111\\right\\rangle }$$"
                            ], 
                            "output_type": "pyout", 
                            "png": "[encoded data removed]", 
                            "prompt_number": 9, 
                            "text": [
                                "\u23bd\u23bd\u23bd             \u23bd\u23bd\u23bd             \u23bd\u23bd\u23bd             \u23bd\u23bd\u23bd        ", 
                                "\u2572\u2571 2 \u22c5a\u22c5\u2758000\u27e9   \u2572\u2571 2 \u22c5a\u22c5\u2758110\u27e9   \u2572\u2571 2 \u22c5b\u22c5\u2758001\u27e9   \u2572\u2571 2 \u22c5b\u22c5\u2758111\u27e9", 
                                "\u2500\u2500\u2500\u2500\u2500\u2500\u2500\u2500\u2500\u2500\u2500\u2500\u2500 + \u2500\u2500\u2500\u2500\u2500\u2500\u2500\u2500\u2500\u2500\u2500\u2500\u2500 + \u2500\u2500\u2500\u2500\u2500\u2500\u2500\u2500\u2500\u2500\u2500\u2500\u2500 + \u2500\u2500\u2500\u2500\u2500\u2500\u2500\u2500\u2500\u2500\u2500\u2500\u2500", 
                                "      2               2               2               2"
                            ]
                        }
                    ], 
                    "prompt_number": 9
                }, 
                {
                    "cell_type": "code", 
                    "collapsed": false, 
                    "input": [
                        "entangle0_1 = HadamardGate(0)*CNOT(0,1); entangle0_1"
                    ], 
                    "language": "python", 
                    "outputs": [
                        {
                            "latex": [
                                "$$H_{0} CNOT_{0,1}$$"
                            ], 
                            "output_type": "pyout", 
                            "png": "[encoded data removed]", 
                            "prompt_number": 10, 
                            "text": [
                                "H \u22c5CNOT   ", 
                                " 0     0,1"
                            ]
                        }
                    ], 
                    "prompt_number": 10
                }, 
                {
                    "cell_type": "code", 
                    "collapsed": false, 
                    "input": [
                        "circuit_plot(entangle0_1*entangle1_2, nqubits=3)"
                    ], 
                    "language": "python", 
                    "outputs": [
                        {
                            "output_type": "pyout", 
                            "prompt_number": 11, 
                            "text": [
                                "&lt;sympy.physics.quantum.circuitplot.CircuitPlot object at 0x3b9fb90&gt;"
                            ]
                        }, 
                        {
                            "output_type": "display_data", 
                            "png": "[encoded data removed]"
                        }
                    ], 
                    "prompt_number": 11
                }, 
                {
                    "cell_type": "code", 
                    "collapsed": false, 
                    "input": [
                        "state = qapply(entangle0_1*state); state"
                    ], 
                    "language": "python", 
                    "outputs": [
                        {
                            "latex": [
                                "$$\\frac{1}{2} a {\\left|000\\right\\rangle } + \\frac{1}{2} a {\\left|001\\right\\rangle } + \\frac{1}{2} a {\\left|110\\right\\rangle } + \\frac{1}{2} a {\\left|111\\right\\rangle } + \\frac{1}{2} b {\\left|010\\right\\rangle } - \\frac{1}{2} b {\\left|011\\right\\rangle } + \\frac{1}{2} b {\\left|100\\right\\rangle } - \\frac{1}{2} b {\\left|101\\right\\rangle }$$"
                            ], 
                            "output_type": "pyout", 
                            "png": "[encoded data removed]", 
                            "prompt_number": 12, 
                            "text": [
                                "a\u22c5\u2758000\u27e9   a\u22c5\u2758001\u27e9   a\u22c5\u2758110\u27e9   a\u22c5\u2758111\u27e9   b\u22c5\u2758010\u27e9   b\u22c5\u2758011\u27e9   b\u22c5\u2758100\u27e9   b\u22c5\u2758101\u27e9", 
                                "\u2500\u2500\u2500\u2500\u2500\u2500\u2500 + \u2500\u2500\u2500\u2500\u2500\u2500\u2500 + \u2500\u2500\u2500\u2500\u2500\u2500\u2500 + \u2500\u2500\u2500\u2500\u2500\u2500\u2500 + \u2500\u2500\u2500\u2500\u2500\u2500\u2500 - \u2500\u2500\u2500\u2500\u2500\u2500\u2500 + \u2500\u2500\u2500\u2500\u2500\u2500\u2500 - \u2500\u2500\u2500\u2500\u2500\u2500\u2500", 
                                "   2         2         2         2         2         2         2         2"
                            ]
                        }
                    ], 
                    "prompt_number": 12
                }, 
                {
                    "cell_type": "code", 
                    "collapsed": true, 
                    "input": [
                        "result = measure_partial(state, (0,1))"
                    ], 
                    "language": "python", 
                    "outputs": [], 
                    "prompt_number": 13
                }, 
                {
                    "cell_type": "code", 
                    "collapsed": false, 
                    "input": [
                        "state = (result[2][0]*2).expand(); state"
                    ], 
                    "language": "python", 
                    "outputs": [
                        {
                            "latex": [
                                "$$\\frac{a {\\left|110\\right\\rangle }}{\\sqrt{a^{2} + b^{2}} \\sqrt{\\frac{1}{4} \\lvert{\\frac{a}{\\sqrt{a^{2} + b^{2}}}}\\rvert^{2} + \\frac{1}{4} \\lvert{\\frac{b}{\\sqrt{a^{2} + b^{2}}}}\\rvert^{2}}} + \\frac{b {\\left|010\\right\\rangle }}{\\sqrt{a^{2} + b^{2}} \\sqrt{\\frac{1}{4} \\lvert{\\frac{a}{\\sqrt{a^{2} + b^{2}}}}\\rvert^{2} + \\frac{1}{4} \\lvert{\\frac{b}{\\sqrt{a^{2} + b^{2}}}}\\rvert^{2}}}$$"
                            ], 
                            "output_type": "pyout", 
                            "prompt_number": 14, 
                            "text": [
                                "a\u22c5\u2758110\u27e9                                              ", 
                                "\u2500\u2500\u2500\u2500\u2500\u2500\u2500\u2500\u2500\u2500\u2500\u2500\u2500\u2500\u2500\u2500\u2500\u2500\u2500\u2500\u2500\u2500\u2500\u2500\u2500\u2500\u2500\u2500\u2500\u2500\u2500\u2500\u2500\u2500\u2500\u2500\u2500\u2500\u2500\u2500\u2500\u2500\u2500\u2500\u2500\u2500\u2500\u2500\u2500\u2500\u2500\u2500\u2500\u2500\u2500\u2500\u2500 + \u2500\u2500\u2500\u2500\u2500\u2500\u2500\u2500\u2500\u2500\u2500\u2500\u2500\u2500\u2500\u2500\u2500\u2500", 
                                "                      \u23bd\u23bd\u23bd\u23bd\u23bd\u23bd\u23bd\u23bd\u23bd\u23bd\u23bd\u23bd\u23bd\u23bd\u23bd\u23bd\u23bd\u23bd\u23bd\u23bd\u23bd\u23bd\u23bd\u23bd\u23bd\u23bd\u23bd\u23bd\u23bd\u23bd\u23bd\u23bd\u23bd\u23bd\u23bd                     ", 
                                "                     \u2571               2                 2                      ", 
                                "                    \u2571  \u2502     a      \u2502    \u2502     b      \u2502                       ", 
                                "                   \u2571   \u2502\u2500\u2500\u2500\u2500\u2500\u2500\u2500\u2500\u2500\u2500\u2500\u2500\u2502    \u2502\u2500\u2500\u2500\u2500\u2500\u2500\u2500\u2500\u2500\u2500\u2500\u2500\u2502                       ", 
                                "                  \u2571    \u2502   \u23bd\u23bd\u23bd\u23bd\u23bd\u23bd\u23bd\u23bd\u23bd\u2502    \u2502   \u23bd\u23bd\u23bd\u23bd\u23bd\u23bd\u23bd\u23bd\u23bd\u2502                       ", 
                                "   \u23bd\u23bd\u23bd\u23bd\u23bd\u23bd\u23bd\u23bd\u23bd     \u2571     \u2502  \u2571  2    2 \u2502    \u2502  \u2571  2    2 \u2502        \u23bd\u23bd\u23bd\u23bd\u23bd\u23bd\u23bd\u23bd\u23bd     \u2571", 
                                "  \u2571  2    2     \u2571      \u2502\u2572\u2571  a  + b  \u2502    \u2502\u2572\u2571  a  + b  \u2502       \u2571  2    2     \u2571 ", 
                                "\u2572\u2571  a  + b  \u22c5  \u2571       \u2500\u2500\u2500\u2500\u2500\u2500\u2500\u2500\u2500\u2500\u2500\u2500\u2500\u2500\u2500 + \u2500\u2500\u2500\u2500\u2500\u2500\u2500\u2500\u2500\u2500\u2500\u2500\u2500\u2500\u2500    \u2572\u2571  a  + b  \u22c5  \u2571  ", 
                                "             \u2572\u2571               4                 4                        \u2572\u2571   ", 
                                "", 
                                "       b\u22c5\u2758010\u27e9                         ", 
                                "\u2500\u2500\u2500\u2500\u2500\u2500\u2500\u2500\u2500\u2500\u2500\u2500\u2500\u2500\u2500\u2500\u2500\u2500\u2500\u2500\u2500\u2500\u2500\u2500\u2500\u2500\u2500\u2500\u2500\u2500\u2500\u2500\u2500\u2500\u2500\u2500\u2500\u2500\u2500", 
                                "    \u23bd\u23bd\u23bd\u23bd\u23bd\u23bd\u23bd\u23bd\u23bd\u23bd\u23bd\u23bd\u23bd\u23bd\u23bd\u23bd\u23bd\u23bd\u23bd\u23bd\u23bd\u23bd\u23bd\u23bd\u23bd\u23bd\u23bd\u23bd\u23bd\u23bd\u23bd\u23bd\u23bd\u23bd\u23bd", 
                                "   \u2571               2                 2 ", 
                                "  \u2571  \u2502     a      \u2502    \u2502     b      \u2502  ", 
                                " \u2571   \u2502\u2500\u2500\u2500\u2500\u2500\u2500\u2500\u2500\u2500\u2500\u2500\u2500\u2502    \u2502\u2500\u2500\u2500\u2500\u2500\u2500\u2500\u2500\u2500\u2500\u2500\u2500\u2502  ", 
                                "\u2571    \u2502   \u23bd\u23bd\u23bd\u23bd\u23bd\u23bd\u23bd\u23bd\u23bd\u2502    \u2502   \u23bd\u23bd\u23bd\u23bd\u23bd\u23bd\u23bd\u23bd\u23bd\u2502  ", 
                                "     \u2502  \u2571  2    2 \u2502    \u2502  \u2571  2    2 \u2502  ", 
                                "     \u2502\u2572\u2571  a  + b  \u2502    \u2502\u2572\u2571  a  + b  \u2502  ", 
                                "     \u2500\u2500\u2500\u2500\u2500\u2500\u2500\u2500\u2500\u2500\u2500\u2500\u2500\u2500\u2500 + \u2500\u2500\u2500\u2500\u2500\u2500\u2500\u2500\u2500\u2500\u2500\u2500\u2500\u2500\u2500 ", 
                                "            4                 4"
                            ]
                        }
                    ], 
                    "prompt_number": 14
                }, 
                {
                    "cell_type": "code", 
                    "collapsed": false, 
                    "input": [
                        "state = qapply(XGate(2)*state); state"
                    ], 
                    "language": "python", 
                    "outputs": [
                        {
                            "latex": [
                                "$$\\frac{a {\\left|010\\right\\rangle }}{\\sqrt{a^{2} + b^{2}} \\sqrt{\\frac{1}{4} \\lvert{\\frac{a}{\\sqrt{a^{2} + b^{2}}}}\\rvert^{2} + \\frac{1}{4} \\lvert{\\frac{b}{\\sqrt{a^{2} + b^{2}}}}\\rvert^{2}}} + \\frac{b {\\left|110\\right\\rangle }}{\\sqrt{a^{2} + b^{2}} \\sqrt{\\frac{1}{4} \\lvert{\\frac{a}{\\sqrt{a^{2} + b^{2}}}}\\rvert^{2} + \\frac{1}{4} \\lvert{\\frac{b}{\\sqrt{a^{2} + b^{2}}}}\\rvert^{2}}}$$"
                            ], 
                            "output_type": "pyout", 
                            "prompt_number": 15, 
                            "text": [
                                "a\u22c5\u2758010\u27e9                                              ", 
                                "\u2500\u2500\u2500\u2500\u2500\u2500\u2500\u2500\u2500\u2500\u2500\u2500\u2500\u2500\u2500\u2500\u2500\u2500\u2500\u2500\u2500\u2500\u2500\u2500\u2500\u2500\u2500\u2500\u2500\u2500\u2500\u2500\u2500\u2500\u2500\u2500\u2500\u2500\u2500\u2500\u2500\u2500\u2500\u2500\u2500\u2500\u2500\u2500\u2500\u2500\u2500\u2500\u2500\u2500\u2500\u2500\u2500 + \u2500\u2500\u2500\u2500\u2500\u2500\u2500\u2500\u2500\u2500\u2500\u2500\u2500\u2500\u2500\u2500\u2500\u2500", 
                                "                      \u23bd\u23bd\u23bd\u23bd\u23bd\u23bd\u23bd\u23bd\u23bd\u23bd\u23bd\u23bd\u23bd\u23bd\u23bd\u23bd\u23bd\u23bd\u23bd\u23bd\u23bd\u23bd\u23bd\u23bd\u23bd\u23bd\u23bd\u23bd\u23bd\u23bd\u23bd\u23bd\u23bd\u23bd\u23bd                     ", 
                                "                     \u2571               2                 2                      ", 
                                "                    \u2571  \u2502     a      \u2502    \u2502     b      \u2502                       ", 
                                "                   \u2571   \u2502\u2500\u2500\u2500\u2500\u2500\u2500\u2500\u2500\u2500\u2500\u2500\u2500\u2502    \u2502\u2500\u2500\u2500\u2500\u2500\u2500\u2500\u2500\u2500\u2500\u2500\u2500\u2502                       ", 
                                "                  \u2571    \u2502   \u23bd\u23bd\u23bd\u23bd\u23bd\u23bd\u23bd\u23bd\u23bd\u2502    \u2502   \u23bd\u23bd\u23bd\u23bd\u23bd\u23bd\u23bd\u23bd\u23bd\u2502                       ", 
                                "   \u23bd\u23bd\u23bd\u23bd\u23bd\u23bd\u23bd\u23bd\u23bd     \u2571     \u2502  \u2571  2    2 \u2502    \u2502  \u2571  2    2 \u2502        \u23bd\u23bd\u23bd\u23bd\u23bd\u23bd\u23bd\u23bd\u23bd     \u2571", 
                                "  \u2571  2    2     \u2571      \u2502\u2572\u2571  a  + b  \u2502    \u2502\u2572\u2571  a  + b  \u2502       \u2571  2    2     \u2571 ", 
                                "\u2572\u2571  a  + b  \u22c5  \u2571       \u2500\u2500\u2500\u2500\u2500\u2500\u2500\u2500\u2500\u2500\u2500\u2500\u2500\u2500\u2500 + \u2500\u2500\u2500\u2500\u2500\u2500\u2500\u2500\u2500\u2500\u2500\u2500\u2500\u2500\u2500    \u2572\u2571  a  + b  \u22c5  \u2571  ", 
                                "             \u2572\u2571               4                 4                        \u2572\u2571   ", 
                                "", 
                                "       b\u22c5\u2758110\u27e9                         ", 
                                "\u2500\u2500\u2500\u2500\u2500\u2500\u2500\u2500\u2500\u2500\u2500\u2500\u2500\u2500\u2500\u2500\u2500\u2500\u2500\u2500\u2500\u2500\u2500\u2500\u2500\u2500\u2500\u2500\u2500\u2500\u2500\u2500\u2500\u2500\u2500\u2500\u2500\u2500\u2500", 
                                "    \u23bd\u23bd\u23bd\u23bd\u23bd\u23bd\u23bd\u23bd\u23bd\u23bd\u23bd\u23bd\u23bd\u23bd\u23bd\u23bd\u23bd\u23bd\u23bd\u23bd\u23bd\u23bd\u23bd\u23bd\u23bd\u23bd\u23bd\u23bd\u23bd\u23bd\u23bd\u23bd\u23bd\u23bd\u23bd", 
                                "   \u2571               2                 2 ", 
                                "  \u2571  \u2502     a      \u2502    \u2502     b      \u2502  ", 
                                " \u2571   \u2502\u2500\u2500\u2500\u2500\u2500\u2500\u2500\u2500\u2500\u2500\u2500\u2500\u2502    \u2502\u2500\u2500\u2500\u2500\u2500\u2500\u2500\u2500\u2500\u2500\u2500\u2500\u2502  ", 
                                "\u2571    \u2502   \u23bd\u23bd\u23bd\u23bd\u23bd\u23bd\u23bd\u23bd\u23bd\u2502    \u2502   \u23bd\u23bd\u23bd\u23bd\u23bd\u23bd\u23bd\u23bd\u23bd\u2502  ", 
                                "     \u2502  \u2571  2    2 \u2502    \u2502  \u2571  2    2 \u2502  ", 
                                "     \u2502\u2572\u2571  a  + b  \u2502    \u2502\u2572\u2571  a  + b  \u2502  ", 
                                "     \u2500\u2500\u2500\u2500\u2500\u2500\u2500\u2500\u2500\u2500\u2500\u2500\u2500\u2500\u2500 + \u2500\u2500\u2500\u2500\u2500\u2500\u2500\u2500\u2500\u2500\u2500\u2500\u2500\u2500\u2500 ", 
                                "            4                 4"
                            ]
                        }
                    ], 
                    "prompt_number": 15
                }
            ]
        }
    ]
}