{
    "metadata": {
        "name": "trapezoid_rule"
    }, 
    "nbformat": 2, 
    "worksheets": [
        {
            "cells": [
                {
                    "cell_type": "markdown", 
                    "source": [
                        "Basic numerical integration: the trapezoid rule", 
                        "===============================================", 
                        "", 
                        "A simple illustration of the trapezoid rule for definite integration:", 
                        "", 
                        "$$", 
                        "\\int_{a}^{b} f(x)\\, dx \\approx \\frac{1}{2} \\sum_{k=1}^{N} \\left( x_{k} - x_{k-1} \\right) \\left( f(x_{k}) + f(x_{k-1}) \\right).", 
                        "$$", 
                        "<br>", 
                        "First, we define a simple function and sample it between 0 and 10 at 200 points"
                    ]
                }, 
                {
                    "cell_type": "code", 
                    "collapsed": true, 
                    "input": [
                        "def f(x):", 
                        "    return (x-3)*(x-5)*(x-7)+85", 
                        "", 
                        "x = linspace(0, 10, 200)", 
                        "y = f(x)"
                    ], 
                    "language": "python", 
                    "outputs": [], 
                    "prompt_number": 1
                }, 
                {
                    "cell_type": "markdown", 
                    "source": [
                        "Choose a region to integrate over and take only a few points in that region"
                    ]
                }, 
                {
                    "cell_type": "code", 
                    "collapsed": true, 
                    "input": [
                        "a, b = 1, 9", 
                        "xint = x[logical_and(x>=a, x<=b)][::30]", 
                        "yint = y[logical_and(x>=a, x<=b)][::30]"
                    ], 
                    "language": "python", 
                    "outputs": [], 
                    "prompt_number": 2
                }, 
                {
                    "cell_type": "markdown", 
                    "source": [
                        "Plot both the function and the area below it in the trapezoid approximation"
                    ]
                }, 
                {
                    "cell_type": "code", 
                    "collapsed": false, 
                    "input": [
                        "plot(x, y, lw=2)", 
                        "axis([0, 10, 0, 140])", 
                        "fill_between(xint, 0, yint, facecolor='gray', alpha=0.4)", 
                        "text(0.5 * (a + b), 30,r\"$\\int_a^b f(x)dx$\", horizontalalignment='center', fontsize=20);"
                    ], 
                    "language": "python", 
                    "outputs": [
                        {
                            "output_type": "display_data", 
                            "png": "[encoded data removed]"
                        }
                    ], 
                    "prompt_number": 3
                }, 
                {
                    "cell_type": "markdown", 
                    "source": [
                        "Compute the integral both at high accuracy and with the trapezoid approximation"
                    ]
                }, 
                {
                    "cell_type": "code", 
                    "collapsed": false, 
                    "input": [
                        "from scipy.integrate import quad, trapz", 
                        "integral, error = quad(f, 1, 9)", 
                        "print \"The integral is:\", integral, \"+/-\", error", 
                        "print \"The trapezoid approximation with\", len(xint), \"points is:\", trapz(yint, xint)"
                    ], 
                    "language": "python", 
                    "outputs": [
                        {
                            "output_type": "stream", 
                            "stream": "stdout", 
                            "text": [
                                "The integral is: 680.0 +/- 7.54951656745e-12", 
                                "The trapezoid approximation with 6 points is: 621.286411141"
                            ]
                        }
                    ], 
                    "prompt_number": 4
                }, 
                {
                    "cell_type": "code", 
                    "collapsed": true, 
                    "input": [], 
                    "language": "python", 
                    "outputs": []
                }
            ]
        }
    ]
}