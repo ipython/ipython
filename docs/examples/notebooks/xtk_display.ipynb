{
 "metadata": {
  "name": "xtk_display"
 },
 "nbformat": 3,
 "nbformat_minor": 0,
 "worksheets": [
  {
   "cells": [
    {
     "cell_type": "heading",
     "level": 1,
     "metadata": {},
     "source": [
      "Using XTK for 3D Visualizations"
     ]
    },
    {
     "cell_type": "markdown",
     "metadata": {},
     "source": [
      "IPython has support for performing 3D visualizations in the Notebook using the [XTK](https://github.com/xtk/X#readme) JavaScript library.  First we import the `Mesh` object:"
     ]
    },
    {
     "cell_type": "code",
     "collapsed": false,
     "input": [
      "from IPython.lib.xtk import Mesh, Sphere, Renderer3D, Cube, Cylinder, load_xtk\n",
      "from IPython.display import display\n",
      "load_xtk()"
     ],
     "language": "python",
     "metadata": {},
     "outputs": [
      {
       "javascript": [
        "$.getScript(\"http://get.goXTK.com/xtk_edge.js\", function () {\n",
        "alert(\"XTK library loaded\");});\n"
       ],
       "output_type": "display_data",
       "text": [
        "<IPython.core.display.Javascript at 0x107f57050>"
       ]
      }
     ],
     "prompt_number": 1
    },
    {
     "cell_type": "markdown",
     "metadata": {},
     "source": [
      "The first argument to the `Mesh` constructor is the URL of an XTK support file type. These URLs can be absolute, as in this case:"
     ]
    },
    {
     "cell_type": "code",
     "collapsed": false,
     "input": [
      "m = Mesh('http://x.babymri.org/?skull.vtk')\n",
      "r = Renderer3D(width=600, height=400)\n",
      "r.add(m)\n",
      "r.render()"
     ],
     "language": "python",
     "metadata": {},
     "outputs": [
      {
       "javascript": [
        "$.getScript(\"http://get.goXTK.com/xtk_edge.js\", function () {\n",
        "\n",
        "    container.show();\n",
        "    var id = 'xtkwidget_' + utils.uuid();\n",
        "    var xtkdiv = $('<div/>').attr('id',id);\n",
        "    xtkdiv.css('background-color','#000').width(600).height(400);\n",
        "    element.append(xtkdiv);\n",
        "    var obj_bd575c49678740f7a464c8bf28f9bdd4 = new X.renderer3D();\n",
        "    obj_bd575c49678740f7a464c8bf28f9bdd4.container = id;\n",
        "    obj_bd575c49678740f7a464c8bf28f9bdd4.init();\n",
        "\n",
        "    var obj_f0b5414cb5ec45b5adf1832d3b9406ce = new X.mesh();\n",
        "    obj_f0b5414cb5ec45b5adf1832d3b9406ce.magicmode = false;\n",
        "    obj_f0b5414cb5ec45b5adf1832d3b9406ce.opacity = 1.000000;\n",
        "    obj_f0b5414cb5ec45b5adf1832d3b9406ce.color = [1.000000,1.000000,1.000000];\n",
        "    obj_f0b5414cb5ec45b5adf1832d3b9406ce.file = \"http://x.babymri.org/?skull.vtk\";\n",
        "    obj_bd575c49678740f7a464c8bf28f9bdd4.add(obj_f0b5414cb5ec45b5adf1832d3b9406ce);\n",
        "    obj_bd575c49678740f7a464c8bf28f9bdd4.render();\n",
        "});\n"
       ],
       "output_type": "display_data",
       "text": [
        "<IPython.core.display.Javascript at 0x10800bb90>"
       ]
      }
     ],
     "prompt_number": 5
    },
    {
     "cell_type": "markdown",
     "metadata": {},
     "source": [
      "Or these URLS can be relative to the Notebooks working directory:"
     ]
    },
    {
     "cell_type": "code",
     "collapsed": false,
     "input": [
      "m = Mesh('files/smallsurface.vtk', opacity=0.7, magicmode=True)\n",
      "r = Renderer3D(bgcolor='#FFF')\n",
      "r.add(m)\n",
      "r.render()"
     ],
     "language": "python",
     "metadata": {},
     "outputs": [
      {
       "output_type": "stream",
       "stream": "stdout",
       "text": [
        "\n",
        "    container.show();\n",
        "    var id = 'xtkwidget_' + utils.uuid();\n",
        "    console.log(id);\n",
        "    var xtkdiv = $('<div/>').attr('id',id);\n",
        "    xtkdiv.css('background-color','#FFF').width(400).height(300);\n",
        "    element.append(xtkdiv);\n",
        "    var obj_268de400443e4ea19ef37c267f72646c = new X.renderer3D();\n",
        "    obj_268de400443e4ea19ef37c267f72646c.container = id;\n",
        "    //obj_268de400443e4ea19ef37c267f72646c.init();\n",
        "\n",
        "    //var obj_5080ab732ebb4db6ba8b1017638a26e7 = new X.mesh();\n",
        "    //obj_5080ab732ebb4db6ba8b1017638a26e7.magicmode = true;\n",
        "    //obj_5080ab732ebb4db6ba8b1017638a26e7.opacity = 0.700000;\n",
        "    //obj_5080ab732ebb4db6ba8b1017638a26e7.color = [1.000000,1.000000,1.000000];\n",
        "    //obj_5080ab732ebb4db6ba8b1017638a26e7.file = \"files/smallsurface.vtk\";\n",
        "    //obj_268de400443e4ea19ef37c267f72646c.add(obj_5080ab732ebb4db6ba8b1017638a26e7);\n",
        "    //obj_268de400443e4ea19ef37c267f72646c.render();\n",
        "\n"
       ]
      },
      {
       "javascript": [
        "\n",
        "    container.show();\n",
        "    var id = 'xtkwidget_' + utils.uuid();\n",
        "    console.log(id);\n",
        "    var xtkdiv = $('<div/>').attr('id',id);\n",
        "    xtkdiv.css('background-color','#FFF').width(400).height(300);\n",
        "    element.append(xtkdiv);\n",
        "    var obj_268de400443e4ea19ef37c267f72646c = new X.renderer3D();\n",
        "    obj_268de400443e4ea19ef37c267f72646c.container = id;\n",
        "    //obj_268de400443e4ea19ef37c267f72646c.init();\n",
        "\n",
        "    //var obj_5080ab732ebb4db6ba8b1017638a26e7 = new X.mesh();\n",
        "    //obj_5080ab732ebb4db6ba8b1017638a26e7.magicmode = true;\n",
        "    //obj_5080ab732ebb4db6ba8b1017638a26e7.opacity = 0.700000;\n",
        "    //obj_5080ab732ebb4db6ba8b1017638a26e7.color = [1.000000,1.000000,1.000000];\n",
        "    //obj_5080ab732ebb4db6ba8b1017638a26e7.file = \"files/smallsurface.vtk\";\n",
        "    //obj_268de400443e4ea19ef37c267f72646c.add(obj_5080ab732ebb4db6ba8b1017638a26e7);\n",
        "    //obj_268de400443e4ea19ef37c267f72646c.render();\n"
       ],
       "output_type": "display_data",
       "text": [
        "<IPython.core.display.Javascript at 0x107f57890>"
       ]
      }
     ],
     "prompt_number": 2
    },
    {
     "cell_type": "code",
     "collapsed": false,
     "input": [
      "r = Renderer3D()\n",
      "s = Sphere((0,0,0),1,color=(1.0,0.0,0.0))\n",
      "r.add(s)\n",
      "c = Cube((1,1,1),(1,1,1),color=(0.0,1.0,0.0))\n",
      "r.add(c)\n",
      "cy = Cylinder((2,0,0),(4,0,0),1,color=(0.0,0.0,1.0))\n",
      "r.add(cy)\n",
      "r.render()"
     ],
     "language": "python",
     "metadata": {},
     "outputs": [
      {
       "output_type": "stream",
       "stream": "stdout",
       "text": [
        "\n",
        "    container.show();\n",
        "    var id = 'xtkwidget_' + utils.uuid();\n",
        "    console.log(id);\n",
        "    var xtkdiv = $('<div/>').attr('id',id);\n",
        "    xtkdiv.css('background-color','#000').width(400).height(300);\n",
        "    element.append(xtkdiv);\n",
        "    var obj_6b118f2c172644d59d18f083a5b4f473 = new X.renderer3D();\n",
        "    obj_6b118f2c172644d59d18f083a5b4f473.container = id;\n",
        "    //obj_6b118f2c172644d59d18f083a5b4f473.init();\n",
        "\n",
        "    //var obj_5bdf9b9644674e54bfc79aeb6db8082f = new X.sphere();\n",
        "    //obj_5bdf9b9644674e54bfc79aeb6db8082f.magicmode = false;\n",
        "    //obj_5bdf9b9644674e54bfc79aeb6db8082f.opacity = 1.000000;\n",
        "    //obj_5bdf9b9644674e54bfc79aeb6db8082f.color = [1.000000,0.000000,0.000000];\n",
        "    obj_5bdf9b9644674e54bfc79aeb6db8082f.center = [0.000000,0.000000,0.000000];\n",
        "    obj_5bdf9b9644674e54bfc79aeb6db8082f.radius = 1.000000;\n",
        "    //obj_6b118f2c172644d59d18f083a5b4f473.add(obj_5bdf9b9644674e54bfc79aeb6db8082f);\n",
        "\n",
        "    //var obj_0300e58b0a5a455fb012689c6fc856e9 = new X.cube();\n",
        "    //obj_0300e58b0a5a455fb012689c6fc856e9.magicmode = false;\n",
        "    //obj_0300e58b0a5a455fb012689c6fc856e9.opacity = 1.000000;\n",
        "    //obj_0300e58b0a5a455fb012689c6fc856e9.color = [0.000000,1.000000,0.000000];\n",
        "    obj_0300e58b0a5a455fb012689c6fc856e9.center = [1.000000,1.000000,1.000000];\n",
        "    obj_0300e58b0a5a455fb012689c6fc856e9.lengthX = 1.000000;\n",
        "    obj_0300e58b0a5a455fb012689c6fc856e9.lengthY = 1.000000;\n",
        "    obj_0300e58b0a5a455fb012689c6fc856e9.lengthZ = 1.000000;\n",
        "    //obj_6b118f2c172644d59d18f083a5b4f473.add(obj_0300e58b0a5a455fb012689c6fc856e9);\n",
        "\n",
        "    //var obj_50327728520a4dc0a665dff4d645b0b4 = new X.cylinder();\n",
        "    //obj_50327728520a4dc0a665dff4d645b0b4.magicmode = false;\n",
        "    //obj_50327728520a4dc0a665dff4d645b0b4.opacity = 1.000000;\n",
        "    //obj_50327728520a4dc0a665dff4d645b0b4.color = [0.000000,0.000000,1.000000];\n",
        "    obj_50327728520a4dc0a665dff4d645b0b4.start = [2.000000,0.000000,0.000000];\n",
        "    obj_50327728520a4dc0a665dff4d645b0b4.end = [4.000000,0.000000,0.000000];\n",
        "    obj_50327728520a4dc0a665dff4d645b0b4.radius = 1.000000;\n",
        "    //obj_6b118f2c172644d59d18f083a5b4f473.add(obj_50327728520a4dc0a665dff4d645b0b4);\n",
        "    //obj_6b118f2c172644d59d18f083a5b4f473.render();\n",
        "\n"
       ]
      },
      {
       "javascript": [
        "\n",
        "    container.show();\n",
        "    var id = 'xtkwidget_' + utils.uuid();\n",
        "    console.log(id);\n",
        "    var xtkdiv = $('<div/>').attr('id',id);\n",
        "    xtkdiv.css('background-color','#000').width(400).height(300);\n",
        "    element.append(xtkdiv);\n",
        "    var obj_6b118f2c172644d59d18f083a5b4f473 = new X.renderer3D();\n",
        "    obj_6b118f2c172644d59d18f083a5b4f473.container = id;\n",
        "    //obj_6b118f2c172644d59d18f083a5b4f473.init();\n",
        "\n",
        "    //var obj_5bdf9b9644674e54bfc79aeb6db8082f = new X.sphere();\n",
        "    //obj_5bdf9b9644674e54bfc79aeb6db8082f.magicmode = false;\n",
        "    //obj_5bdf9b9644674e54bfc79aeb6db8082f.opacity = 1.000000;\n",
        "    //obj_5bdf9b9644674e54bfc79aeb6db8082f.color = [1.000000,0.000000,0.000000];\n",
        "    obj_5bdf9b9644674e54bfc79aeb6db8082f.center = [0.000000,0.000000,0.000000];\n",
        "    obj_5bdf9b9644674e54bfc79aeb6db8082f.radius = 1.000000;\n",
        "    //obj_6b118f2c172644d59d18f083a5b4f473.add(obj_5bdf9b9644674e54bfc79aeb6db8082f);\n",
        "\n",
        "    //var obj_0300e58b0a5a455fb012689c6fc856e9 = new X.cube();\n",
        "    //obj_0300e58b0a5a455fb012689c6fc856e9.magicmode = false;\n",
        "    //obj_0300e58b0a5a455fb012689c6fc856e9.opacity = 1.000000;\n",
        "    //obj_0300e58b0a5a455fb012689c6fc856e9.color = [0.000000,1.000000,0.000000];\n",
        "    obj_0300e58b0a5a455fb012689c6fc856e9.center = [1.000000,1.000000,1.000000];\n",
        "    obj_0300e58b0a5a455fb012689c6fc856e9.lengthX = 1.000000;\n",
        "    obj_0300e58b0a5a455fb012689c6fc856e9.lengthY = 1.000000;\n",
        "    obj_0300e58b0a5a455fb012689c6fc856e9.lengthZ = 1.000000;\n",
        "    //obj_6b118f2c172644d59d18f083a5b4f473.add(obj_0300e58b0a5a455fb012689c6fc856e9);\n",
        "\n",
        "    //var obj_50327728520a4dc0a665dff4d645b0b4 = new X.cylinder();\n",
        "    //obj_50327728520a4dc0a665dff4d645b0b4.magicmode = false;\n",
        "    //obj_50327728520a4dc0a665dff4d645b0b4.opacity = 1.000000;\n",
        "    //obj_50327728520a4dc0a665dff4d645b0b4.color = [0.000000,0.000000,1.000000];\n",
        "    obj_50327728520a4dc0a665dff4d645b0b4.start = [2.000000,0.000000,0.000000];\n",
        "    obj_50327728520a4dc0a665dff4d645b0b4.end = [4.000000,0.000000,0.000000];\n",
        "    obj_50327728520a4dc0a665dff4d645b0b4.radius = 1.000000;\n",
        "    //obj_6b118f2c172644d59d18f083a5b4f473.add(obj_50327728520a4dc0a665dff4d645b0b4);\n",
        "    //obj_6b118f2c172644d59d18f083a5b4f473.render();\n"
       ],
       "output_type": "display_data",
       "text": [
        "<IPython.core.display.Javascript at 0x107f5d350>"
       ]
      }
     ],
     "prompt_number": 2
    },
    {
     "cell_type": "code",
     "collapsed": false,
     "input": [],
     "language": "python",
     "metadata": {},
     "outputs": []
    }
   ],
   "metadata": {}
  }
 ]
}