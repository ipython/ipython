{
 "metadata": {
  "name": "directview"
 },
 "nbformat": 3,
 "worksheets": [
  {
   "cells": [
    {
     "cell_type": "code",
     "input": [
      "from directview import interact",
      "from IPython.parallel import Client"
     ],
     "language": "python",
     "outputs": []
    },
    {
     "cell_type": "code",
     "input": [
      "c = Client()",
      "dv = c[:]"
     ],
     "language": "python",
     "outputs": []
    },
    {
     "cell_type": "code",
     "input": [
      "interact(dv)"
     ],
     "language": "python",
     "outputs": []
    }
   ]
  }
 ]
}