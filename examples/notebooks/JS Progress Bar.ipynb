{
 "metadata": {
  "name": "JS Progress Bar"
 },
 "nbformat": 3,
 "nbformat_minor": 0,
 "worksheets": [
  {
   "cells": [
    {
     "cell_type": "heading",
     "level": 1,
     "metadata": {},
     "source": [
      "A Javascript Progress Bar"
     ]
    },
    {
     "cell_type": "markdown",
     "metadata": {},
     "source": [
      "Here is a simple progress bar using HTML/Javascript:"
     ]
    },
    {
     "cell_type": "code",
     "collapsed": false,
     "input": [
      "import uuid\n",
      "import time\n",
      "from IPython.display import HTML, Javascript, display\n",
      "\n",
      "divid = str(uuid.uuid4())\n",
      "\n",
      "pb = HTML(\n",
      "\"\"\"\n",
      "<div style=\"border: 1px solid black; width:500px\">\n",
      "  <div id=\"%s\" style=\"background-color:blue; width:0%%\">&nbsp;</div>\n",
      "</div> \n",
      "\"\"\" % divid)\n",
      "display(pb)\n",
      "for i in range(1,101):\n",
      "    time.sleep(0.1)\n",
      "    \n",
      "    display(Javascript(\"$('div#%s').width('%i%%')\" % (divid, i)))"
     ],
     "language": "python",
     "metadata": {},
     "outputs": [
      {
       "html": [
        "\n",
        "<div style=\"border: 1px solid black; width:500px\">\n",
        "  <div id=\"9f6aa1a1-e30d-43d4-ae49-5ffe0e86e95f\" style=\"background-color:blue; width:0%\">&nbsp;</div>\n",
        "</div> \n"
       ],
       "output_type": "display_data",
       "text": [
        "<IPython.core.display.HTML at 0x1087be210>"
       ]
      },
      {
       "javascript": [
        "$('div#9f6aa1a1-e30d-43d4-ae49-5ffe0e86e95f').width('1%')"
       ],
       "output_type": "display_data",
       "text": [
        "<IPython.core.display.Javascript at 0x1087be250>"
       ]
      },
      {
       "javascript": [
        "$('div#9f6aa1a1-e30d-43d4-ae49-5ffe0e86e95f').width('2%')"
       ],
       "output_type": "display_data",
       "text": [
        "<IPython.core.display.Javascript at 0x1087be250>"
       ]
      },
      {
       "javascript": [
        "$('div#9f6aa1a1-e30d-43d4-ae49-5ffe0e86e95f').width('3%')"
       ],
       "output_type": "display_data",
       "text": [
        "<IPython.core.display.Javascript at 0x1087be250>"
       ]
      },
      {
       "javascript": [
        "$('div#9f6aa1a1-e30d-43d4-ae49-5ffe0e86e95f').width('4%')"
       ],
       "output_type": "display_data",
       "text": [
        "<IPython.core.display.Javascript at 0x1087be250>"
       ]
      },
      {
       "javascript": [
        "$('div#9f6aa1a1-e30d-43d4-ae49-5ffe0e86e95f').width('5%')"
       ],
       "output_type": "display_data",
       "text": [
        "<IPython.core.display.Javascript at 0x1087be250>"
       ]
      },
      {
       "javascript": [
        "$('div#9f6aa1a1-e30d-43d4-ae49-5ffe0e86e95f').width('6%')"
       ],
       "output_type": "display_data",
       "text": [
        "<IPython.core.display.Javascript at 0x1087be250>"
       ]
      },
      {
       "javascript": [
        "$('div#9f6aa1a1-e30d-43d4-ae49-5ffe0e86e95f').width('7%')"
       ],
       "output_type": "display_data",
       "text": [
        "<IPython.core.display.Javascript at 0x1087be250>"
       ]
      },
      {
       "javascript": [
        "$('div#9f6aa1a1-e30d-43d4-ae49-5ffe0e86e95f').width('8%')"
       ],
       "output_type": "display_data",
       "text": [
        "<IPython.core.display.Javascript at 0x1087be250>"
       ]
      },
      {
       "javascript": [
        "$('div#9f6aa1a1-e30d-43d4-ae49-5ffe0e86e95f').width('9%')"
       ],
       "output_type": "display_data",
       "text": [
        "<IPython.core.display.Javascript at 0x1087be250>"
       ]
      },
      {
       "javascript": [
        "$('div#9f6aa1a1-e30d-43d4-ae49-5ffe0e86e95f').width('10%')"
       ],
       "output_type": "display_data",
       "text": [
        "<IPython.core.display.Javascript at 0x1087be250>"
       ]
      },
      {
       "javascript": [
        "$('div#9f6aa1a1-e30d-43d4-ae49-5ffe0e86e95f').width('11%')"
       ],
       "output_type": "display_data",
       "text": [
        "<IPython.core.display.Javascript at 0x1087be250>"
       ]
      },
      {
       "javascript": [
        "$('div#9f6aa1a1-e30d-43d4-ae49-5ffe0e86e95f').width('12%')"
       ],
       "output_type": "display_data",
       "text": [
        "<IPython.core.display.Javascript at 0x1087be250>"
       ]
      },
      {
       "javascript": [
        "$('div#9f6aa1a1-e30d-43d4-ae49-5ffe0e86e95f').width('13%')"
       ],
       "output_type": "display_data",
       "text": [
        "<IPython.core.display.Javascript at 0x1087be250>"
       ]
      },
      {
       "javascript": [
        "$('div#9f6aa1a1-e30d-43d4-ae49-5ffe0e86e95f').width('14%')"
       ],
       "output_type": "display_data",
       "text": [
        "<IPython.core.display.Javascript at 0x1087be250>"
       ]
      },
      {
       "javascript": [
        "$('div#9f6aa1a1-e30d-43d4-ae49-5ffe0e86e95f').width('15%')"
       ],
       "output_type": "display_data",
       "text": [
        "<IPython.core.display.Javascript at 0x1087be250>"
       ]
      },
      {
       "javascript": [
        "$('div#9f6aa1a1-e30d-43d4-ae49-5ffe0e86e95f').width('16%')"
       ],
       "output_type": "display_data",
       "text": [
        "<IPython.core.display.Javascript at 0x1087be250>"
       ]
      },
      {
       "javascript": [
        "$('div#9f6aa1a1-e30d-43d4-ae49-5ffe0e86e95f').width('17%')"
       ],
       "output_type": "display_data",
       "text": [
        "<IPython.core.display.Javascript at 0x1087be250>"
       ]
      },
      {
       "javascript": [
        "$('div#9f6aa1a1-e30d-43d4-ae49-5ffe0e86e95f').width('18%')"
       ],
       "output_type": "display_data",
       "text": [
        "<IPython.core.display.Javascript at 0x1087be250>"
       ]
      },
      {
       "javascript": [
        "$('div#9f6aa1a1-e30d-43d4-ae49-5ffe0e86e95f').width('19%')"
       ],
       "output_type": "display_data",
       "text": [
        "<IPython.core.display.Javascript at 0x1087be250>"
       ]
      },
      {
       "javascript": [
        "$('div#9f6aa1a1-e30d-43d4-ae49-5ffe0e86e95f').width('20%')"
       ],
       "output_type": "display_data",
       "text": [
        "<IPython.core.display.Javascript at 0x1087be250>"
       ]
      },
      {
       "javascript": [
        "$('div#9f6aa1a1-e30d-43d4-ae49-5ffe0e86e95f').width('21%')"
       ],
       "output_type": "display_data",
       "text": [
        "<IPython.core.display.Javascript at 0x1087be250>"
       ]
      },
      {
       "javascript": [
        "$('div#9f6aa1a1-e30d-43d4-ae49-5ffe0e86e95f').width('22%')"
       ],
       "output_type": "display_data",
       "text": [
        "<IPython.core.display.Javascript at 0x1087be250>"
       ]
      },
      {
       "javascript": [
        "$('div#9f6aa1a1-e30d-43d4-ae49-5ffe0e86e95f').width('23%')"
       ],
       "output_type": "display_data",
       "text": [
        "<IPython.core.display.Javascript at 0x1087be250>"
       ]
      },
      {
       "javascript": [
        "$('div#9f6aa1a1-e30d-43d4-ae49-5ffe0e86e95f').width('24%')"
       ],
       "output_type": "display_data",
       "text": [
        "<IPython.core.display.Javascript at 0x1087be250>"
       ]
      },
      {
       "javascript": [
        "$('div#9f6aa1a1-e30d-43d4-ae49-5ffe0e86e95f').width('25%')"
       ],
       "output_type": "display_data",
       "text": [
        "<IPython.core.display.Javascript at 0x1087be250>"
       ]
      },
      {
       "javascript": [
        "$('div#9f6aa1a1-e30d-43d4-ae49-5ffe0e86e95f').width('26%')"
       ],
       "output_type": "display_data",
       "text": [
        "<IPython.core.display.Javascript at 0x1087be250>"
       ]
      },
      {
       "javascript": [
        "$('div#9f6aa1a1-e30d-43d4-ae49-5ffe0e86e95f').width('27%')"
       ],
       "output_type": "display_data",
       "text": [
        "<IPython.core.display.Javascript at 0x1087be250>"
       ]
      },
      {
       "javascript": [
        "$('div#9f6aa1a1-e30d-43d4-ae49-5ffe0e86e95f').width('28%')"
       ],
       "output_type": "display_data",
       "text": [
        "<IPython.core.display.Javascript at 0x1087be250>"
       ]
      },
      {
       "javascript": [
        "$('div#9f6aa1a1-e30d-43d4-ae49-5ffe0e86e95f').width('29%')"
       ],
       "output_type": "display_data",
       "text": [
        "<IPython.core.display.Javascript at 0x1087be250>"
       ]
      },
      {
       "javascript": [
        "$('div#9f6aa1a1-e30d-43d4-ae49-5ffe0e86e95f').width('30%')"
       ],
       "output_type": "display_data",
       "text": [
        "<IPython.core.display.Javascript at 0x1087be250>"
       ]
      },
      {
       "javascript": [
        "$('div#9f6aa1a1-e30d-43d4-ae49-5ffe0e86e95f').width('31%')"
       ],
       "output_type": "display_data",
       "text": [
        "<IPython.core.display.Javascript at 0x1087be250>"
       ]
      },
      {
       "javascript": [
        "$('div#9f6aa1a1-e30d-43d4-ae49-5ffe0e86e95f').width('32%')"
       ],
       "output_type": "display_data",
       "text": [
        "<IPython.core.display.Javascript at 0x1087be250>"
       ]
      },
      {
       "javascript": [
        "$('div#9f6aa1a1-e30d-43d4-ae49-5ffe0e86e95f').width('33%')"
       ],
       "output_type": "display_data",
       "text": [
        "<IPython.core.display.Javascript at 0x1087be250>"
       ]
      },
      {
       "javascript": [
        "$('div#9f6aa1a1-e30d-43d4-ae49-5ffe0e86e95f').width('34%')"
       ],
       "output_type": "display_data",
       "text": [
        "<IPython.core.display.Javascript at 0x1087be250>"
       ]
      },
      {
       "javascript": [
        "$('div#9f6aa1a1-e30d-43d4-ae49-5ffe0e86e95f').width('35%')"
       ],
       "output_type": "display_data",
       "text": [
        "<IPython.core.display.Javascript at 0x1087be250>"
       ]
      },
      {
       "javascript": [
        "$('div#9f6aa1a1-e30d-43d4-ae49-5ffe0e86e95f').width('36%')"
       ],
       "output_type": "display_data",
       "text": [
        "<IPython.core.display.Javascript at 0x1087be250>"
       ]
      },
      {
       "javascript": [
        "$('div#9f6aa1a1-e30d-43d4-ae49-5ffe0e86e95f').width('37%')"
       ],
       "output_type": "display_data",
       "text": [
        "<IPython.core.display.Javascript at 0x1087be250>"
       ]
      },
      {
       "javascript": [
        "$('div#9f6aa1a1-e30d-43d4-ae49-5ffe0e86e95f').width('38%')"
       ],
       "output_type": "display_data",
       "text": [
        "<IPython.core.display.Javascript at 0x1087be250>"
       ]
      },
      {
       "javascript": [
        "$('div#9f6aa1a1-e30d-43d4-ae49-5ffe0e86e95f').width('39%')"
       ],
       "output_type": "display_data",
       "text": [
        "<IPython.core.display.Javascript at 0x1087be250>"
       ]
      },
      {
       "javascript": [
        "$('div#9f6aa1a1-e30d-43d4-ae49-5ffe0e86e95f').width('40%')"
       ],
       "output_type": "display_data",
       "text": [
        "<IPython.core.display.Javascript at 0x1087be250>"
       ]
      },
      {
       "javascript": [
        "$('div#9f6aa1a1-e30d-43d4-ae49-5ffe0e86e95f').width('41%')"
       ],
       "output_type": "display_data",
       "text": [
        "<IPython.core.display.Javascript at 0x1087be250>"
       ]
      },
      {
       "javascript": [
        "$('div#9f6aa1a1-e30d-43d4-ae49-5ffe0e86e95f').width('42%')"
       ],
       "output_type": "display_data",
       "text": [
        "<IPython.core.display.Javascript at 0x1087be250>"
       ]
      },
      {
       "javascript": [
        "$('div#9f6aa1a1-e30d-43d4-ae49-5ffe0e86e95f').width('43%')"
       ],
       "output_type": "display_data",
       "text": [
        "<IPython.core.display.Javascript at 0x1087be250>"
       ]
      },
      {
       "javascript": [
        "$('div#9f6aa1a1-e30d-43d4-ae49-5ffe0e86e95f').width('44%')"
       ],
       "output_type": "display_data",
       "text": [
        "<IPython.core.display.Javascript at 0x1087be250>"
       ]
      },
      {
       "javascript": [
        "$('div#9f6aa1a1-e30d-43d4-ae49-5ffe0e86e95f').width('45%')"
       ],
       "output_type": "display_data",
       "text": [
        "<IPython.core.display.Javascript at 0x1087be250>"
       ]
      },
      {
       "javascript": [
        "$('div#9f6aa1a1-e30d-43d4-ae49-5ffe0e86e95f').width('46%')"
       ],
       "output_type": "display_data",
       "text": [
        "<IPython.core.display.Javascript at 0x1087be250>"
       ]
      },
      {
       "javascript": [
        "$('div#9f6aa1a1-e30d-43d4-ae49-5ffe0e86e95f').width('47%')"
       ],
       "output_type": "display_data",
       "text": [
        "<IPython.core.display.Javascript at 0x1087be250>"
       ]
      },
      {
       "javascript": [
        "$('div#9f6aa1a1-e30d-43d4-ae49-5ffe0e86e95f').width('48%')"
       ],
       "output_type": "display_data",
       "text": [
        "<IPython.core.display.Javascript at 0x1087be250>"
       ]
      },
      {
       "javascript": [
        "$('div#9f6aa1a1-e30d-43d4-ae49-5ffe0e86e95f').width('49%')"
       ],
       "output_type": "display_data",
       "text": [
        "<IPython.core.display.Javascript at 0x1087be250>"
       ]
      },
      {
       "javascript": [
        "$('div#9f6aa1a1-e30d-43d4-ae49-5ffe0e86e95f').width('50%')"
       ],
       "output_type": "display_data",
       "text": [
        "<IPython.core.display.Javascript at 0x1087be250>"
       ]
      },
      {
       "javascript": [
        "$('div#9f6aa1a1-e30d-43d4-ae49-5ffe0e86e95f').width('51%')"
       ],
       "output_type": "display_data",
       "text": [
        "<IPython.core.display.Javascript at 0x1087be250>"
       ]
      },
      {
       "javascript": [
        "$('div#9f6aa1a1-e30d-43d4-ae49-5ffe0e86e95f').width('52%')"
       ],
       "output_type": "display_data",
       "text": [
        "<IPython.core.display.Javascript at 0x1087be250>"
       ]
      },
      {
       "javascript": [
        "$('div#9f6aa1a1-e30d-43d4-ae49-5ffe0e86e95f').width('53%')"
       ],
       "output_type": "display_data",
       "text": [
        "<IPython.core.display.Javascript at 0x1087be250>"
       ]
      },
      {
       "javascript": [
        "$('div#9f6aa1a1-e30d-43d4-ae49-5ffe0e86e95f').width('54%')"
       ],
       "output_type": "display_data",
       "text": [
        "<IPython.core.display.Javascript at 0x1087be250>"
       ]
      },
      {
       "javascript": [
        "$('div#9f6aa1a1-e30d-43d4-ae49-5ffe0e86e95f').width('55%')"
       ],
       "output_type": "display_data",
       "text": [
        "<IPython.core.display.Javascript at 0x1087be250>"
       ]
      },
      {
       "javascript": [
        "$('div#9f6aa1a1-e30d-43d4-ae49-5ffe0e86e95f').width('56%')"
       ],
       "output_type": "display_data",
       "text": [
        "<IPython.core.display.Javascript at 0x1087be250>"
       ]
      },
      {
       "javascript": [
        "$('div#9f6aa1a1-e30d-43d4-ae49-5ffe0e86e95f').width('57%')"
       ],
       "output_type": "display_data",
       "text": [
        "<IPython.core.display.Javascript at 0x1087be250>"
       ]
      },
      {
       "javascript": [
        "$('div#9f6aa1a1-e30d-43d4-ae49-5ffe0e86e95f').width('58%')"
       ],
       "output_type": "display_data",
       "text": [
        "<IPython.core.display.Javascript at 0x1087be250>"
       ]
      },
      {
       "javascript": [
        "$('div#9f6aa1a1-e30d-43d4-ae49-5ffe0e86e95f').width('59%')"
       ],
       "output_type": "display_data",
       "text": [
        "<IPython.core.display.Javascript at 0x1087be250>"
       ]
      },
      {
       "javascript": [
        "$('div#9f6aa1a1-e30d-43d4-ae49-5ffe0e86e95f').width('60%')"
       ],
       "output_type": "display_data",
       "text": [
        "<IPython.core.display.Javascript at 0x1087be250>"
       ]
      },
      {
       "javascript": [
        "$('div#9f6aa1a1-e30d-43d4-ae49-5ffe0e86e95f').width('61%')"
       ],
       "output_type": "display_data",
       "text": [
        "<IPython.core.display.Javascript at 0x1087be250>"
       ]
      },
      {
       "javascript": [
        "$('div#9f6aa1a1-e30d-43d4-ae49-5ffe0e86e95f').width('62%')"
       ],
       "output_type": "display_data",
       "text": [
        "<IPython.core.display.Javascript at 0x1087be250>"
       ]
      },
      {
       "javascript": [
        "$('div#9f6aa1a1-e30d-43d4-ae49-5ffe0e86e95f').width('63%')"
       ],
       "output_type": "display_data",
       "text": [
        "<IPython.core.display.Javascript at 0x1087be250>"
       ]
      },
      {
       "javascript": [
        "$('div#9f6aa1a1-e30d-43d4-ae49-5ffe0e86e95f').width('64%')"
       ],
       "output_type": "display_data",
       "text": [
        "<IPython.core.display.Javascript at 0x1087be250>"
       ]
      },
      {
       "javascript": [
        "$('div#9f6aa1a1-e30d-43d4-ae49-5ffe0e86e95f').width('65%')"
       ],
       "output_type": "display_data",
       "text": [
        "<IPython.core.display.Javascript at 0x1087be250>"
       ]
      },
      {
       "javascript": [
        "$('div#9f6aa1a1-e30d-43d4-ae49-5ffe0e86e95f').width('66%')"
       ],
       "output_type": "display_data",
       "text": [
        "<IPython.core.display.Javascript at 0x1087be250>"
       ]
      },
      {
       "javascript": [
        "$('div#9f6aa1a1-e30d-43d4-ae49-5ffe0e86e95f').width('67%')"
       ],
       "output_type": "display_data",
       "text": [
        "<IPython.core.display.Javascript at 0x1087be250>"
       ]
      },
      {
       "javascript": [
        "$('div#9f6aa1a1-e30d-43d4-ae49-5ffe0e86e95f').width('68%')"
       ],
       "output_type": "display_data",
       "text": [
        "<IPython.core.display.Javascript at 0x1087be250>"
       ]
      },
      {
       "javascript": [
        "$('div#9f6aa1a1-e30d-43d4-ae49-5ffe0e86e95f').width('69%')"
       ],
       "output_type": "display_data",
       "text": [
        "<IPython.core.display.Javascript at 0x1087be250>"
       ]
      },
      {
       "javascript": [
        "$('div#9f6aa1a1-e30d-43d4-ae49-5ffe0e86e95f').width('70%')"
       ],
       "output_type": "display_data",
       "text": [
        "<IPython.core.display.Javascript at 0x1087be250>"
       ]
      },
      {
       "javascript": [
        "$('div#9f6aa1a1-e30d-43d4-ae49-5ffe0e86e95f').width('71%')"
       ],
       "output_type": "display_data",
       "text": [
        "<IPython.core.display.Javascript at 0x1087be250>"
       ]
      },
      {
       "javascript": [
        "$('div#9f6aa1a1-e30d-43d4-ae49-5ffe0e86e95f').width('72%')"
       ],
       "output_type": "display_data",
       "text": [
        "<IPython.core.display.Javascript at 0x1087be250>"
       ]
      },
      {
       "javascript": [
        "$('div#9f6aa1a1-e30d-43d4-ae49-5ffe0e86e95f').width('73%')"
       ],
       "output_type": "display_data",
       "text": [
        "<IPython.core.display.Javascript at 0x1087be250>"
       ]
      },
      {
       "javascript": [
        "$('div#9f6aa1a1-e30d-43d4-ae49-5ffe0e86e95f').width('74%')"
       ],
       "output_type": "display_data",
       "text": [
        "<IPython.core.display.Javascript at 0x1087be250>"
       ]
      },
      {
       "javascript": [
        "$('div#9f6aa1a1-e30d-43d4-ae49-5ffe0e86e95f').width('75%')"
       ],
       "output_type": "display_data",
       "text": [
        "<IPython.core.display.Javascript at 0x1087be250>"
       ]
      },
      {
       "javascript": [
        "$('div#9f6aa1a1-e30d-43d4-ae49-5ffe0e86e95f').width('76%')"
       ],
       "output_type": "display_data",
       "text": [
        "<IPython.core.display.Javascript at 0x1087be250>"
       ]
      },
      {
       "javascript": [
        "$('div#9f6aa1a1-e30d-43d4-ae49-5ffe0e86e95f').width('77%')"
       ],
       "output_type": "display_data",
       "text": [
        "<IPython.core.display.Javascript at 0x1087be250>"
       ]
      },
      {
       "javascript": [
        "$('div#9f6aa1a1-e30d-43d4-ae49-5ffe0e86e95f').width('78%')"
       ],
       "output_type": "display_data",
       "text": [
        "<IPython.core.display.Javascript at 0x1087be250>"
       ]
      },
      {
       "javascript": [
        "$('div#9f6aa1a1-e30d-43d4-ae49-5ffe0e86e95f').width('79%')"
       ],
       "output_type": "display_data",
       "text": [
        "<IPython.core.display.Javascript at 0x1087be250>"
       ]
      },
      {
       "javascript": [
        "$('div#9f6aa1a1-e30d-43d4-ae49-5ffe0e86e95f').width('80%')"
       ],
       "output_type": "display_data",
       "text": [
        "<IPython.core.display.Javascript at 0x1087be250>"
       ]
      },
      {
       "javascript": [
        "$('div#9f6aa1a1-e30d-43d4-ae49-5ffe0e86e95f').width('81%')"
       ],
       "output_type": "display_data",
       "text": [
        "<IPython.core.display.Javascript at 0x1087be250>"
       ]
      },
      {
       "javascript": [
        "$('div#9f6aa1a1-e30d-43d4-ae49-5ffe0e86e95f').width('82%')"
       ],
       "output_type": "display_data",
       "text": [
        "<IPython.core.display.Javascript at 0x1087be250>"
       ]
      },
      {
       "javascript": [
        "$('div#9f6aa1a1-e30d-43d4-ae49-5ffe0e86e95f').width('83%')"
       ],
       "output_type": "display_data",
       "text": [
        "<IPython.core.display.Javascript at 0x1087be250>"
       ]
      },
      {
       "javascript": [
        "$('div#9f6aa1a1-e30d-43d4-ae49-5ffe0e86e95f').width('84%')"
       ],
       "output_type": "display_data",
       "text": [
        "<IPython.core.display.Javascript at 0x1087be250>"
       ]
      },
      {
       "javascript": [
        "$('div#9f6aa1a1-e30d-43d4-ae49-5ffe0e86e95f').width('85%')"
       ],
       "output_type": "display_data",
       "text": [
        "<IPython.core.display.Javascript at 0x1087be250>"
       ]
      },
      {
       "javascript": [
        "$('div#9f6aa1a1-e30d-43d4-ae49-5ffe0e86e95f').width('86%')"
       ],
       "output_type": "display_data",
       "text": [
        "<IPython.core.display.Javascript at 0x1087be250>"
       ]
      },
      {
       "javascript": [
        "$('div#9f6aa1a1-e30d-43d4-ae49-5ffe0e86e95f').width('87%')"
       ],
       "output_type": "display_data",
       "text": [
        "<IPython.core.display.Javascript at 0x1087be250>"
       ]
      },
      {
       "javascript": [
        "$('div#9f6aa1a1-e30d-43d4-ae49-5ffe0e86e95f').width('88%')"
       ],
       "output_type": "display_data",
       "text": [
        "<IPython.core.display.Javascript at 0x1087be250>"
       ]
      },
      {
       "javascript": [
        "$('div#9f6aa1a1-e30d-43d4-ae49-5ffe0e86e95f').width('89%')"
       ],
       "output_type": "display_data",
       "text": [
        "<IPython.core.display.Javascript at 0x1087be250>"
       ]
      },
      {
       "javascript": [
        "$('div#9f6aa1a1-e30d-43d4-ae49-5ffe0e86e95f').width('90%')"
       ],
       "output_type": "display_data",
       "text": [
        "<IPython.core.display.Javascript at 0x1087be250>"
       ]
      },
      {
       "javascript": [
        "$('div#9f6aa1a1-e30d-43d4-ae49-5ffe0e86e95f').width('91%')"
       ],
       "output_type": "display_data",
       "text": [
        "<IPython.core.display.Javascript at 0x1087be250>"
       ]
      },
      {
       "javascript": [
        "$('div#9f6aa1a1-e30d-43d4-ae49-5ffe0e86e95f').width('92%')"
       ],
       "output_type": "display_data",
       "text": [
        "<IPython.core.display.Javascript at 0x1087be250>"
       ]
      },
      {
       "javascript": [
        "$('div#9f6aa1a1-e30d-43d4-ae49-5ffe0e86e95f').width('93%')"
       ],
       "output_type": "display_data",
       "text": [
        "<IPython.core.display.Javascript at 0x1087be250>"
       ]
      },
      {
       "javascript": [
        "$('div#9f6aa1a1-e30d-43d4-ae49-5ffe0e86e95f').width('94%')"
       ],
       "output_type": "display_data",
       "text": [
        "<IPython.core.display.Javascript at 0x1087be250>"
       ]
      },
      {
       "javascript": [
        "$('div#9f6aa1a1-e30d-43d4-ae49-5ffe0e86e95f').width('95%')"
       ],
       "output_type": "display_data",
       "text": [
        "<IPython.core.display.Javascript at 0x1087be250>"
       ]
      },
      {
       "javascript": [
        "$('div#9f6aa1a1-e30d-43d4-ae49-5ffe0e86e95f').width('96%')"
       ],
       "output_type": "display_data",
       "text": [
        "<IPython.core.display.Javascript at 0x1087be250>"
       ]
      },
      {
       "javascript": [
        "$('div#9f6aa1a1-e30d-43d4-ae49-5ffe0e86e95f').width('97%')"
       ],
       "output_type": "display_data",
       "text": [
        "<IPython.core.display.Javascript at 0x1087be250>"
       ]
      },
      {
       "javascript": [
        "$('div#9f6aa1a1-e30d-43d4-ae49-5ffe0e86e95f').width('98%')"
       ],
       "output_type": "display_data",
       "text": [
        "<IPython.core.display.Javascript at 0x1087be250>"
       ]
      },
      {
       "javascript": [
        "$('div#9f6aa1a1-e30d-43d4-ae49-5ffe0e86e95f').width('99%')"
       ],
       "output_type": "display_data",
       "text": [
        "<IPython.core.display.Javascript at 0x1087be250>"
       ]
      },
      {
       "javascript": [
        "$('div#9f6aa1a1-e30d-43d4-ae49-5ffe0e86e95f').width('100%')"
       ],
       "output_type": "display_data",
       "text": [
        "<IPython.core.display.Javascript at 0x1087be250>"
       ]
      }
     ],
     "prompt_number": 2
    },
    {
     "cell_type": "markdown",
     "metadata": {},
     "source": [
      "The above simply makes a div that is a box, and a blue div inside it with a unique ID \n",
      "(so that the javascript won't collide with other similar progress bars on the same page).  \n",
      "\n",
      "Then, at every progress point, we run a simple jQuery call to resize the blue box to\n",
      "the appropriate fraction of the width of its containing box, and voil\u00e0 a nice\n",
      "HTML/Javascript progress bar!"
     ]
    },
    {
     "cell_type": "heading",
     "level": 1,
     "metadata": {},
     "source": [
      "ProgressBar class"
     ]
    },
    {
     "cell_type": "markdown",
     "metadata": {},
     "source": [
      "And finally, here is a progress bar *class* extracted from [PyMC](http://code.google.com/p/pymc/), which will work in regular Python as well as in the IPython Notebook"
     ]
    },
    {
     "cell_type": "code",
     "collapsed": true,
     "input": [
      "import sys, time\n",
      "\n",
      "class ProgressBar:\n",
      "    def __init__(self, iterations):\n",
      "        self.iterations = iterations\n",
      "        self.prog_bar = '[]'\n",
      "        self.fill_char = '*'\n",
      "        self.width = 50\n",
      "        self.__update_amount(0)\n",
      "\n",
      "    def animate(self, iter):\n",
      "        print '\\r', self,\n",
      "        sys.stdout.flush()\n",
      "        self.update_iteration(iter + 1)\n",
      "\n",
      "    def update_iteration(self, elapsed_iter):\n",
      "        self.__update_amount((elapsed_iter / float(self.iterations)) * 100.0)\n",
      "        self.prog_bar += '  %d of %s complete' % (elapsed_iter, self.iterations)\n",
      "\n",
      "    def __update_amount(self, new_amount):\n",
      "        percent_done = int(round((new_amount / 100.0) * 100.0))\n",
      "        all_full = self.width - 2\n",
      "        num_hashes = int(round((percent_done / 100.0) * all_full))\n",
      "        self.prog_bar = '[' + self.fill_char * num_hashes + ' ' * (all_full - num_hashes) + ']'\n",
      "        pct_place = (len(self.prog_bar) // 2) - len(str(percent_done))\n",
      "        pct_string = '%d%%' % percent_done\n",
      "        self.prog_bar = self.prog_bar[0:pct_place] + \\\n",
      "            (pct_string + self.prog_bar[pct_place + len(pct_string):])\n",
      "\n",
      "    def __str__(self):\n",
      "        return str(self.prog_bar)"
     ],
     "language": "python",
     "metadata": {},
     "outputs": [],
     "prompt_number": 3
    },
    {
     "cell_type": "code",
     "collapsed": false,
     "input": [
      "p = ProgressBar(1000)\n",
      "for i in range(1001):\n",
      "    time.sleep(0.002)\n",
      "    p.animate(i)"
     ],
     "language": "python",
     "metadata": {},
     "outputs": [
      {
       "output_type": "stream",
       "stream": "stdout",
       "text": [
        "\r",
        "[                       0%                       ]"
       ]
      },
      {
       "output_type": "stream",
       "stream": "stdout",
       "text": [
        " \r",
        "[                       0%                       ]  1 of 1000 complete"
       ]
      },
      {
       "output_type": "stream",
       "stream": "stdout",
       "text": [
        " \r",
        "[                       0%                       ]  2 of 1000 complete"
       ]
      },
      {
       "output_type": "stream",
       "stream": "stdout",
       "text": [
        " \r",
        "[                       0%                       ]  3 of 1000 complete"
       ]
      },
      {
       "output_type": "stream",
       "stream": "stdout",
       "text": [
        " \r",
        "[                       0%                       ]  4 of 1000 complete"
       ]
      },
      {
       "output_type": "stream",
       "stream": "stdout",
       "text": [
        " \r",
        "[                       1%                       ]  5 of 1000 complete"
       ]
      },
      {
       "output_type": "stream",
       "stream": "stdout",
       "text": [
        " \r",
        "[                       1%                       ]  6 of 1000 complete"
       ]
      },
      {
       "output_type": "stream",
       "stream": "stdout",
       "text": [
        " \r",
        "[                       1%                       ]  7 of 1000 complete"
       ]
      },
      {
       "output_type": "stream",
       "stream": "stdout",
       "text": [
        " \r",
        "[                       1%                       ]  8 of 1000 complete"
       ]
      },
      {
       "output_type": "stream",
       "stream": "stdout",
       "text": [
        " \r",
        "[                       1%                       ]  9 of 1000 complete"
       ]
      },
      {
       "output_type": "stream",
       "stream": "stdout",
       "text": [
        " \r",
        "[                       1%                       ]  10 of 1000 complete"
       ]
      },
      {
       "output_type": "stream",
       "stream": "stdout",
       "text": [
        " \r",
        "[                       1%                       ]  11 of 1000 complete"
       ]
      },
      {
       "output_type": "stream",
       "stream": "stdout",
       "text": [
        " \r",
        "[                       1%                       ]  12 of 1000 complete"
       ]
      },
      {
       "output_type": "stream",
       "stream": "stdout",
       "text": [
        " \r",
        "[                       1%                       ]  13 of 1000 complete"
       ]
      },
      {
       "output_type": "stream",
       "stream": "stdout",
       "text": [
        " \r",
        "[                       1%                       ]  14 of 1000 complete"
       ]
      },
      {
       "output_type": "stream",
       "stream": "stdout",
       "text": [
        " \r",
        "[*                      2%                       ]  15 of 1000 complete"
       ]
      },
      {
       "output_type": "stream",
       "stream": "stdout",
       "text": [
        " \r",
        "[*                      2%                       ]  16 of 1000 complete"
       ]
      },
      {
       "output_type": "stream",
       "stream": "stdout",
       "text": [
        " \r",
        "[*                      2%                       ]  17 of 1000 complete"
       ]
      },
      {
       "output_type": "stream",
       "stream": "stdout",
       "text": [
        " \r",
        "[*                      2%                       ]  18 of 1000 complete"
       ]
      },
      {
       "output_type": "stream",
       "stream": "stdout",
       "text": [
        " \r",
        "[*                      2%                       ]  19 of 1000 complete"
       ]
      },
      {
       "output_type": "stream",
       "stream": "stdout",
       "text": [
        " \r",
        "[*                      2%                       ]  20 of 1000 complete"
       ]
      },
      {
       "output_type": "stream",
       "stream": "stdout",
       "text": [
        " \r",
        "[*                      2%                       ]  21 of 1000 complete"
       ]
      },
      {
       "output_type": "stream",
       "stream": "stdout",
       "text": [
        " \r",
        "[*                      2%                       ]  22 of 1000 complete"
       ]
      },
      {
       "output_type": "stream",
       "stream": "stdout",
       "text": [
        " \r",
        "[*                      2%                       ]  23 of 1000 complete"
       ]
      },
      {
       "output_type": "stream",
       "stream": "stdout",
       "text": [
        " \r",
        "[*                      2%                       ]  24 of 1000 complete"
       ]
      },
      {
       "output_type": "stream",
       "stream": "stdout",
       "text": [
        " \r",
        "[*                      3%                       ]  25 of 1000 complete"
       ]
      },
      {
       "output_type": "stream",
       "stream": "stdout",
       "text": [
        " \r",
        "[*                      3%                       ]  26 of 1000 complete"
       ]
      },
      {
       "output_type": "stream",
       "stream": "stdout",
       "text": [
        " \r",
        "[*                      3%                       ]  27 of 1000 complete"
       ]
      },
      {
       "output_type": "stream",
       "stream": "stdout",
       "text": [
        " \r",
        "[*                      3%                       ]  28 of 1000 complete"
       ]
      },
      {
       "output_type": "stream",
       "stream": "stdout",
       "text": [
        " \r",
        "[*                      3%                       ]  29 of 1000 complete"
       ]
      },
      {
       "output_type": "stream",
       "stream": "stdout",
       "text": [
        " \r",
        "[*                      3%                       ]  30 of 1000 complete"
       ]
      },
      {
       "output_type": "stream",
       "stream": "stdout",
       "text": [
        " \r",
        "[*                      3%                       ]  31 of 1000 complete"
       ]
      },
      {
       "output_type": "stream",
       "stream": "stdout",
       "text": [
        " \r",
        "[*                      3%                       ]  32 of 1000 complete"
       ]
      },
      {
       "output_type": "stream",
       "stream": "stdout",
       "text": [
        " \r",
        "[*                      3%                       ]  33 of 1000 complete"
       ]
      },
      {
       "output_type": "stream",
       "stream": "stdout",
       "text": [
        " \r",
        "[*                      3%                       ]  34 of 1000 complete"
       ]
      },
      {
       "output_type": "stream",
       "stream": "stdout",
       "text": [
        " \r",
        "[**                     4%                       ]  35 of 1000 complete"
       ]
      },
      {
       "output_type": "stream",
       "stream": "stdout",
       "text": [
        " \r",
        "[**                     4%                       ]  36 of 1000 complete"
       ]
      },
      {
       "output_type": "stream",
       "stream": "stdout",
       "text": [
        " \r",
        "[**                     4%                       ]  37 of 1000 complete"
       ]
      },
      {
       "output_type": "stream",
       "stream": "stdout",
       "text": [
        " \r",
        "[**                     4%                       ]  38 of 1000 complete"
       ]
      },
      {
       "output_type": "stream",
       "stream": "stdout",
       "text": [
        " \r",
        "[**                     4%                       ]  39 of 1000 complete"
       ]
      },
      {
       "output_type": "stream",
       "stream": "stdout",
       "text": [
        " \r",
        "[**                     4%                       ]  40 of 1000 complete"
       ]
      },
      {
       "output_type": "stream",
       "stream": "stdout",
       "text": [
        " \r",
        "[**                     4%                       ]  41 of 1000 complete"
       ]
      },
      {
       "output_type": "stream",
       "stream": "stdout",
       "text": [
        " \r",
        "[**                     4%                       ]  42 of 1000 complete"
       ]
      },
      {
       "output_type": "stream",
       "stream": "stdout",
       "text": [
        " \r",
        "[**                     4%                       ]  43 of 1000 complete"
       ]
      },
      {
       "output_type": "stream",
       "stream": "stdout",
       "text": [
        " \r",
        "[**                     4%                       ]  44 of 1000 complete"
       ]
      },
      {
       "output_type": "stream",
       "stream": "stdout",
       "text": [
        " \r",
        "[**                     5%                       ]  45 of 1000 complete"
       ]
      },
      {
       "output_type": "stream",
       "stream": "stdout",
       "text": [
        " \r",
        "[**                     5%                       ]  46 of 1000 complete"
       ]
      },
      {
       "output_type": "stream",
       "stream": "stdout",
       "text": [
        " \r",
        "[**                     5%                       ]  47 of 1000 complete"
       ]
      },
      {
       "output_type": "stream",
       "stream": "stdout",
       "text": [
        " \r",
        "[**                     5%                       ]  48 of 1000 complete"
       ]
      },
      {
       "output_type": "stream",
       "stream": "stdout",
       "text": [
        " \r",
        "[**                     5%                       ]  49 of 1000 complete"
       ]
      },
      {
       "output_type": "stream",
       "stream": "stdout",
       "text": [
        " \r",
        "[**                     5%                       ]  50 of 1000 complete"
       ]
      },
      {
       "output_type": "stream",
       "stream": "stdout",
       "text": [
        " \r",
        "[**                     5%                       ]  51 of 1000 complete"
       ]
      },
      {
       "output_type": "stream",
       "stream": "stdout",
       "text": [
        " \r",
        "[**                     5%                       ]  52 of 1000 complete"
       ]
      },
      {
       "output_type": "stream",
       "stream": "stdout",
       "text": [
        " \r",
        "[**                     5%                       ]  53 of 1000 complete"
       ]
      },
      {
       "output_type": "stream",
       "stream": "stdout",
       "text": [
        " \r",
        "[**                     5%                       ]  54 of 1000 complete"
       ]
      },
      {
       "output_type": "stream",
       "stream": "stdout",
       "text": [
        " \r",
        "[***                    6%                       ]  55 of 1000 complete"
       ]
      },
      {
       "output_type": "stream",
       "stream": "stdout",
       "text": [
        " \r",
        "[***                    6%                       ]  56 of 1000 complete"
       ]
      },
      {
       "output_type": "stream",
       "stream": "stdout",
       "text": [
        " \r",
        "[***                    6%                       ]  57 of 1000 complete"
       ]
      },
      {
       "output_type": "stream",
       "stream": "stdout",
       "text": [
        " \r",
        "[***                    6%                       ]  58 of 1000 complete"
       ]
      },
      {
       "output_type": "stream",
       "stream": "stdout",
       "text": [
        " \r",
        "[***                    6%                       ]  59 of 1000 complete"
       ]
      },
      {
       "output_type": "stream",
       "stream": "stdout",
       "text": [
        " \r",
        "[***                    6%                       ]  60 of 1000 complete"
       ]
      },
      {
       "output_type": "stream",
       "stream": "stdout",
       "text": [
        " \r",
        "[***                    6%                       ]  61 of 1000 complete"
       ]
      },
      {
       "output_type": "stream",
       "stream": "stdout",
       "text": [
        " \r",
        "[***                    6%                       ]  62 of 1000 complete"
       ]
      },
      {
       "output_type": "stream",
       "stream": "stdout",
       "text": [
        " \r",
        "[***                    6%                       ]  63 of 1000 complete"
       ]
      },
      {
       "output_type": "stream",
       "stream": "stdout",
       "text": [
        " \r",
        "[***                    6%                       ]  64 of 1000 complete"
       ]
      },
      {
       "output_type": "stream",
       "stream": "stdout",
       "text": [
        " \r",
        "[***                    7%                       ]  65 of 1000 complete"
       ]
      },
      {
       "output_type": "stream",
       "stream": "stdout",
       "text": [
        " \r",
        "[***                    7%                       ]  66 of 1000 complete"
       ]
      },
      {
       "output_type": "stream",
       "stream": "stdout",
       "text": [
        " \r",
        "[***                    7%                       ]  67 of 1000 complete"
       ]
      },
      {
       "output_type": "stream",
       "stream": "stdout",
       "text": [
        " \r",
        "[***                    7%                       ]  68 of 1000 complete"
       ]
      },
      {
       "output_type": "stream",
       "stream": "stdout",
       "text": [
        " \r",
        "[***                    7%                       ]  69 of 1000 complete"
       ]
      },
      {
       "output_type": "stream",
       "stream": "stdout",
       "text": [
        " \r",
        "[***                    7%                       ]  70 of 1000 complete"
       ]
      },
      {
       "output_type": "stream",
       "stream": "stdout",
       "text": [
        " \r",
        "[***                    7%                       ]  71 of 1000 complete"
       ]
      },
      {
       "output_type": "stream",
       "stream": "stdout",
       "text": [
        " \r",
        "[***                    7%                       ]  72 of 1000 complete"
       ]
      },
      {
       "output_type": "stream",
       "stream": "stdout",
       "text": [
        " \r",
        "[***                    7%                       ]  73 of 1000 complete"
       ]
      },
      {
       "output_type": "stream",
       "stream": "stdout",
       "text": [
        " \r",
        "[***                    7%                       ]  74 of 1000 complete"
       ]
      },
      {
       "output_type": "stream",
       "stream": "stdout",
       "text": [
        " \r",
        "[****                   8%                       ]  75 of 1000 complete"
       ]
      },
      {
       "output_type": "stream",
       "stream": "stdout",
       "text": [
        " \r",
        "[****                   8%                       ]  76 of 1000 complete"
       ]
      },
      {
       "output_type": "stream",
       "stream": "stdout",
       "text": [
        " \r",
        "[****                   8%                       ]  77 of 1000 complete"
       ]
      },
      {
       "output_type": "stream",
       "stream": "stdout",
       "text": [
        " \r",
        "[****                   8%                       ]  78 of 1000 complete"
       ]
      },
      {
       "output_type": "stream",
       "stream": "stdout",
       "text": [
        " \r",
        "[****                   8%                       ]  79 of 1000 complete"
       ]
      },
      {
       "output_type": "stream",
       "stream": "stdout",
       "text": [
        " \r",
        "[****                   8%                       ]  80 of 1000 complete"
       ]
      },
      {
       "output_type": "stream",
       "stream": "stdout",
       "text": [
        " \r",
        "[****                   8%                       ]  81 of 1000 complete"
       ]
      },
      {
       "output_type": "stream",
       "stream": "stdout",
       "text": [
        " \r",
        "[****                   8%                       ]  82 of 1000 complete"
       ]
      },
      {
       "output_type": "stream",
       "stream": "stdout",
       "text": [
        " \r",
        "[****                   8%                       ]  83 of 1000 complete"
       ]
      },
      {
       "output_type": "stream",
       "stream": "stdout",
       "text": [
        " \r",
        "[****                   8%                       ]  84 of 1000 complete"
       ]
      },
      {
       "output_type": "stream",
       "stream": "stdout",
       "text": [
        " \r",
        "[****                   9%                       ]  85 of 1000 complete"
       ]
      },
      {
       "output_type": "stream",
       "stream": "stdout",
       "text": [
        " \r",
        "[****                   9%                       ]  86 of 1000 complete"
       ]
      },
      {
       "output_type": "stream",
       "stream": "stdout",
       "text": [
        " \r",
        "[****                   9%                       ]  87 of 1000 complete"
       ]
      },
      {
       "output_type": "stream",
       "stream": "stdout",
       "text": [
        " \r",
        "[****                   9%                       ]  88 of 1000 complete"
       ]
      },
      {
       "output_type": "stream",
       "stream": "stdout",
       "text": [
        " \r",
        "[****                   9%                       ]  89 of 1000 complete"
       ]
      },
      {
       "output_type": "stream",
       "stream": "stdout",
       "text": [
        " \r",
        "[****                   9%                       ]  90 of 1000 complete"
       ]
      },
      {
       "output_type": "stream",
       "stream": "stdout",
       "text": [
        " \r",
        "[****                   9%                       ]  91 of 1000 complete"
       ]
      },
      {
       "output_type": "stream",
       "stream": "stdout",
       "text": [
        " \r",
        "[****                   9%                       ]  92 of 1000 complete"
       ]
      },
      {
       "output_type": "stream",
       "stream": "stdout",
       "text": [
        " \r",
        "[****                   9%                       ]  93 of 1000 complete"
       ]
      },
      {
       "output_type": "stream",
       "stream": "stdout",
       "text": [
        " \r",
        "[****                   9%                       ]  94 of 1000 complete"
       ]
      },
      {
       "output_type": "stream",
       "stream": "stdout",
       "text": [
        " \r",
        "[*****                 10%                       ]  95 of 1000 complete"
       ]
      },
      {
       "output_type": "stream",
       "stream": "stdout",
       "text": [
        " \r",
        "[*****                 10%                       ]  96 of 1000 complete"
       ]
      },
      {
       "output_type": "stream",
       "stream": "stdout",
       "text": [
        " \r",
        "[*****                 10%                       ]  97 of 1000 complete"
       ]
      },
      {
       "output_type": "stream",
       "stream": "stdout",
       "text": [
        " \r",
        "[*****                 10%                       ]  98 of 1000 complete"
       ]
      },
      {
       "output_type": "stream",
       "stream": "stdout",
       "text": [
        " \r",
        "[*****                 10%                       ]  99 of 1000 complete"
       ]
      },
      {
       "output_type": "stream",
       "stream": "stdout",
       "text": [
        " \r",
        "[*****                 10%                       ]  100 of 1000 complete"
       ]
      },
      {
       "output_type": "stream",
       "stream": "stdout",
       "text": [
        " \r",
        "[*****                 10%                       ]  101 of 1000 complete"
       ]
      },
      {
       "output_type": "stream",
       "stream": "stdout",
       "text": [
        " \r",
        "[*****                 10%                       ]  102 of 1000 complete"
       ]
      },
      {
       "output_type": "stream",
       "stream": "stdout",
       "text": [
        " \r",
        "[*****                 10%                       ]  103 of 1000 complete"
       ]
      },
      {
       "output_type": "stream",
       "stream": "stdout",
       "text": [
        " \r",
        "[*****                 10%                       ]  104 of 1000 complete"
       ]
      },
      {
       "output_type": "stream",
       "stream": "stdout",
       "text": [
        " \r",
        "[*****                 11%                       ]  105 of 1000 complete"
       ]
      },
      {
       "output_type": "stream",
       "stream": "stdout",
       "text": [
        " \r",
        "[*****                 11%                       ]  106 of 1000 complete"
       ]
      },
      {
       "output_type": "stream",
       "stream": "stdout",
       "text": [
        " \r",
        "[*****                 11%                       ]  107 of 1000 complete"
       ]
      },
      {
       "output_type": "stream",
       "stream": "stdout",
       "text": [
        " \r",
        "[*****                 11%                       ]  108 of 1000 complete"
       ]
      },
      {
       "output_type": "stream",
       "stream": "stdout",
       "text": [
        " \r",
        "[*****                 11%                       ]  109 of 1000 complete"
       ]
      },
      {
       "output_type": "stream",
       "stream": "stdout",
       "text": [
        " \r",
        "[*****                 11%                       ]  110 of 1000 complete"
       ]
      },
      {
       "output_type": "stream",
       "stream": "stdout",
       "text": [
        " \r",
        "[*****                 11%                       ]  111 of 1000 complete"
       ]
      },
      {
       "output_type": "stream",
       "stream": "stdout",
       "text": [
        " \r",
        "[*****                 11%                       ]  112 of 1000 complete"
       ]
      },
      {
       "output_type": "stream",
       "stream": "stdout",
       "text": [
        " \r",
        "[*****                 11%                       ]  113 of 1000 complete"
       ]
      },
      {
       "output_type": "stream",
       "stream": "stdout",
       "text": [
        " \r",
        "[*****                 11%                       ]  114 of 1000 complete"
       ]
      },
      {
       "output_type": "stream",
       "stream": "stdout",
       "text": [
        " \r",
        "[******                12%                       ]  115 of 1000 complete"
       ]
      },
      {
       "output_type": "stream",
       "stream": "stdout",
       "text": [
        " \r",
        "[******                12%                       ]  116 of 1000 complete"
       ]
      },
      {
       "output_type": "stream",
       "stream": "stdout",
       "text": [
        " \r",
        "[******                12%                       ]  117 of 1000 complete"
       ]
      },
      {
       "output_type": "stream",
       "stream": "stdout",
       "text": [
        " \r",
        "[******                12%                       ]  118 of 1000 complete"
       ]
      },
      {
       "output_type": "stream",
       "stream": "stdout",
       "text": [
        " \r",
        "[******                12%                       ]  119 of 1000 complete"
       ]
      },
      {
       "output_type": "stream",
       "stream": "stdout",
       "text": [
        " \r",
        "[******                12%                       ]  120 of 1000 complete"
       ]
      },
      {
       "output_type": "stream",
       "stream": "stdout",
       "text": [
        " \r",
        "[******                12%                       ]  121 of 1000 complete"
       ]
      },
      {
       "output_type": "stream",
       "stream": "stdout",
       "text": [
        " \r",
        "[******                12%                       ]  122 of 1000 complete"
       ]
      },
      {
       "output_type": "stream",
       "stream": "stdout",
       "text": [
        " \r",
        "[******                12%                       ]  123 of 1000 complete"
       ]
      },
      {
       "output_type": "stream",
       "stream": "stdout",
       "text": [
        " \r",
        "[******                12%                       ]  124 of 1000 complete"
       ]
      },
      {
       "output_type": "stream",
       "stream": "stdout",
       "text": [
        " \r",
        "[******                13%                       ]  125 of 1000 complete"
       ]
      },
      {
       "output_type": "stream",
       "stream": "stdout",
       "text": [
        " \r",
        "[******                13%                       ]  126 of 1000 complete"
       ]
      },
      {
       "output_type": "stream",
       "stream": "stdout",
       "text": [
        " \r",
        "[******                13%                       ]  127 of 1000 complete"
       ]
      },
      {
       "output_type": "stream",
       "stream": "stdout",
       "text": [
        " \r",
        "[******                13%                       ]  128 of 1000 complete"
       ]
      },
      {
       "output_type": "stream",
       "stream": "stdout",
       "text": [
        " \r",
        "[******                13%                       ]  129 of 1000 complete"
       ]
      },
      {
       "output_type": "stream",
       "stream": "stdout",
       "text": [
        " \r",
        "[******                13%                       ]  130 of 1000 complete"
       ]
      },
      {
       "output_type": "stream",
       "stream": "stdout",
       "text": [
        " \r",
        "[******                13%                       ]  131 of 1000 complete"
       ]
      },
      {
       "output_type": "stream",
       "stream": "stdout",
       "text": [
        " \r",
        "[******                13%                       ]  132 of 1000 complete"
       ]
      },
      {
       "output_type": "stream",
       "stream": "stdout",
       "text": [
        " \r",
        "[******                13%                       ]  133 of 1000 complete"
       ]
      },
      {
       "output_type": "stream",
       "stream": "stdout",
       "text": [
        " \r",
        "[******                13%                       ]  134 of 1000 complete"
       ]
      },
      {
       "output_type": "stream",
       "stream": "stdout",
       "text": [
        " \r",
        "[*******               14%                       ]  135 of 1000 complete"
       ]
      },
      {
       "output_type": "stream",
       "stream": "stdout",
       "text": [
        " \r",
        "[*******               14%                       ]  136 of 1000 complete"
       ]
      },
      {
       "output_type": "stream",
       "stream": "stdout",
       "text": [
        " \r",
        "[*******               14%                       ]  137 of 1000 complete"
       ]
      },
      {
       "output_type": "stream",
       "stream": "stdout",
       "text": [
        " \r",
        "[*******               14%                       ]  138 of 1000 complete"
       ]
      },
      {
       "output_type": "stream",
       "stream": "stdout",
       "text": [
        " \r",
        "[*******               14%                       ]  139 of 1000 complete"
       ]
      },
      {
       "output_type": "stream",
       "stream": "stdout",
       "text": [
        " \r",
        "[*******               14%                       ]  140 of 1000 complete"
       ]
      },
      {
       "output_type": "stream",
       "stream": "stdout",
       "text": [
        " \r",
        "[*******               14%                       ]  141 of 1000 complete"
       ]
      },
      {
       "output_type": "stream",
       "stream": "stdout",
       "text": [
        " \r",
        "[*******               14%                       ]  142 of 1000 complete"
       ]
      },
      {
       "output_type": "stream",
       "stream": "stdout",
       "text": [
        " \r",
        "[*******               14%                       ]  143 of 1000 complete"
       ]
      },
      {
       "output_type": "stream",
       "stream": "stdout",
       "text": [
        " \r",
        "[*******               14%                       ]  144 of 1000 complete"
       ]
      },
      {
       "output_type": "stream",
       "stream": "stdout",
       "text": [
        " \r",
        "[*******               14%                       ]  145 of 1000 complete"
       ]
      },
      {
       "output_type": "stream",
       "stream": "stdout",
       "text": [
        " \r",
        "[*******               15%                       ]  146 of 1000 complete"
       ]
      },
      {
       "output_type": "stream",
       "stream": "stdout",
       "text": [
        " \r",
        "[*******               15%                       ]  147 of 1000 complete"
       ]
      },
      {
       "output_type": "stream",
       "stream": "stdout",
       "text": [
        " \r",
        "[*******               15%                       ]  148 of 1000 complete"
       ]
      },
      {
       "output_type": "stream",
       "stream": "stdout",
       "text": [
        " \r",
        "[*******               15%                       ]  149 of 1000 complete"
       ]
      },
      {
       "output_type": "stream",
       "stream": "stdout",
       "text": [
        " \r",
        "[*******               15%                       ]  150 of 1000 complete"
       ]
      },
      {
       "output_type": "stream",
       "stream": "stdout",
       "text": [
        " \r",
        "[*******               15%                       ]  151 of 1000 complete"
       ]
      },
      {
       "output_type": "stream",
       "stream": "stdout",
       "text": [
        " \r",
        "[*******               15%                       ]  152 of 1000 complete"
       ]
      },
      {
       "output_type": "stream",
       "stream": "stdout",
       "text": [
        " \r",
        "[*******               15%                       ]  153 of 1000 complete"
       ]
      },
      {
       "output_type": "stream",
       "stream": "stdout",
       "text": [
        " \r",
        "[*******               15%                       ]  154 of 1000 complete"
       ]
      },
      {
       "output_type": "stream",
       "stream": "stdout",
       "text": [
        " \r",
        "[********              16%                       ]  155 of 1000 complete"
       ]
      },
      {
       "output_type": "stream",
       "stream": "stdout",
       "text": [
        " \r",
        "[********              16%                       ]  156 of 1000 complete"
       ]
      },
      {
       "output_type": "stream",
       "stream": "stdout",
       "text": [
        " \r",
        "[********              16%                       ]  157 of 1000 complete"
       ]
      },
      {
       "output_type": "stream",
       "stream": "stdout",
       "text": [
        " \r",
        "[********              16%                       ]  158 of 1000 complete"
       ]
      },
      {
       "output_type": "stream",
       "stream": "stdout",
       "text": [
        " \r",
        "[********              16%                       ]  159 of 1000 complete"
       ]
      },
      {
       "output_type": "stream",
       "stream": "stdout",
       "text": [
        " \r",
        "[********              16%                       ]  160 of 1000 complete"
       ]
      },
      {
       "output_type": "stream",
       "stream": "stdout",
       "text": [
        " \r",
        "[********              16%                       ]  161 of 1000 complete"
       ]
      },
      {
       "output_type": "stream",
       "stream": "stdout",
       "text": [
        " \r",
        "[********              16%                       ]  162 of 1000 complete"
       ]
      },
      {
       "output_type": "stream",
       "stream": "stdout",
       "text": [
        " \r",
        "[********              16%                       ]  163 of 1000 complete"
       ]
      },
      {
       "output_type": "stream",
       "stream": "stdout",
       "text": [
        " \r",
        "[********              16%                       ]  164 of 1000 complete"
       ]
      },
      {
       "output_type": "stream",
       "stream": "stdout",
       "text": [
        " \r",
        "[********              17%                       ]  165 of 1000 complete"
       ]
      },
      {
       "output_type": "stream",
       "stream": "stdout",
       "text": [
        " \r",
        "[********              17%                       ]  166 of 1000 complete"
       ]
      },
      {
       "output_type": "stream",
       "stream": "stdout",
       "text": [
        " \r",
        "[********              17%                       ]  167 of 1000 complete"
       ]
      },
      {
       "output_type": "stream",
       "stream": "stdout",
       "text": [
        " \r",
        "[********              17%                       ]  168 of 1000 complete"
       ]
      },
      {
       "output_type": "stream",
       "stream": "stdout",
       "text": [
        " \r",
        "[********              17%                       ]  169 of 1000 complete"
       ]
      },
      {
       "output_type": "stream",
       "stream": "stdout",
       "text": [
        " \r",
        "[********              17%                       ]  170 of 1000 complete"
       ]
      },
      {
       "output_type": "stream",
       "stream": "stdout",
       "text": [
        " \r",
        "[********              17%                       ]  171 of 1000 complete"
       ]
      },
      {
       "output_type": "stream",
       "stream": "stdout",
       "text": [
        " \r",
        "[********              17%                       ]  172 of 1000 complete"
       ]
      },
      {
       "output_type": "stream",
       "stream": "stdout",
       "text": [
        " \r",
        "[********              17%                       ]  173 of 1000 complete"
       ]
      },
      {
       "output_type": "stream",
       "stream": "stdout",
       "text": [
        " \r",
        "[********              17%                       ]  174 of 1000 complete"
       ]
      },
      {
       "output_type": "stream",
       "stream": "stdout",
       "text": [
        " \r",
        "[*********             18%                       ]  175 of 1000 complete"
       ]
      },
      {
       "output_type": "stream",
       "stream": "stdout",
       "text": [
        " \r",
        "[*********             18%                       ]  176 of 1000 complete"
       ]
      },
      {
       "output_type": "stream",
       "stream": "stdout",
       "text": [
        " \r",
        "[*********             18%                       ]  177 of 1000 complete"
       ]
      },
      {
       "output_type": "stream",
       "stream": "stdout",
       "text": [
        " \r",
        "[*********             18%                       ]  178 of 1000 complete"
       ]
      },
      {
       "output_type": "stream",
       "stream": "stdout",
       "text": [
        " \r",
        "[*********             18%                       ]  179 of 1000 complete"
       ]
      },
      {
       "output_type": "stream",
       "stream": "stdout",
       "text": [
        " \r",
        "[*********             18%                       ]  180 of 1000 complete"
       ]
      },
      {
       "output_type": "stream",
       "stream": "stdout",
       "text": [
        " \r",
        "[*********             18%                       ]  181 of 1000 complete"
       ]
      },
      {
       "output_type": "stream",
       "stream": "stdout",
       "text": [
        " \r",
        "[*********             18%                       ]  182 of 1000 complete"
       ]
      },
      {
       "output_type": "stream",
       "stream": "stdout",
       "text": [
        " \r",
        "[*********             18%                       ]  183 of 1000 complete"
       ]
      },
      {
       "output_type": "stream",
       "stream": "stdout",
       "text": [
        " \r",
        "[*********             18%                       ]  184 of 1000 complete"
       ]
      },
      {
       "output_type": "stream",
       "stream": "stdout",
       "text": [
        " \r",
        "[*********             19%                       ]  185 of 1000 complete"
       ]
      },
      {
       "output_type": "stream",
       "stream": "stdout",
       "text": [
        " \r",
        "[*********             19%                       ]  186 of 1000 complete"
       ]
      },
      {
       "output_type": "stream",
       "stream": "stdout",
       "text": [
        " \r",
        "[*********             19%                       ]  187 of 1000 complete"
       ]
      },
      {
       "output_type": "stream",
       "stream": "stdout",
       "text": [
        " \r",
        "[*********             19%                       ]  188 of 1000 complete"
       ]
      },
      {
       "output_type": "stream",
       "stream": "stdout",
       "text": [
        " \r",
        "[*********             19%                       ]  189 of 1000 complete"
       ]
      },
      {
       "output_type": "stream",
       "stream": "stdout",
       "text": [
        " \r",
        "[*********             19%                       ]  190 of 1000 complete"
       ]
      },
      {
       "output_type": "stream",
       "stream": "stdout",
       "text": [
        " \r",
        "[*********             19%                       ]  191 of 1000 complete"
       ]
      },
      {
       "output_type": "stream",
       "stream": "stdout",
       "text": [
        " \r",
        "[*********             19%                       ]  192 of 1000 complete"
       ]
      },
      {
       "output_type": "stream",
       "stream": "stdout",
       "text": [
        " \r",
        "[*********             19%                       ]  193 of 1000 complete"
       ]
      },
      {
       "output_type": "stream",
       "stream": "stdout",
       "text": [
        " \r",
        "[*********             19%                       ]  194 of 1000 complete"
       ]
      },
      {
       "output_type": "stream",
       "stream": "stdout",
       "text": [
        " \r",
        "[**********            20%                       ]  195 of 1000 complete"
       ]
      },
      {
       "output_type": "stream",
       "stream": "stdout",
       "text": [
        " \r",
        "[**********            20%                       ]  196 of 1000 complete"
       ]
      },
      {
       "output_type": "stream",
       "stream": "stdout",
       "text": [
        " \r",
        "[**********            20%                       ]  197 of 1000 complete"
       ]
      },
      {
       "output_type": "stream",
       "stream": "stdout",
       "text": [
        " \r",
        "[**********            20%                       ]  198 of 1000 complete"
       ]
      },
      {
       "output_type": "stream",
       "stream": "stdout",
       "text": [
        " \r",
        "[**********            20%                       ]  199 of 1000 complete"
       ]
      },
      {
       "output_type": "stream",
       "stream": "stdout",
       "text": [
        " \r",
        "[**********            20%                       ]  200 of 1000 complete"
       ]
      },
      {
       "output_type": "stream",
       "stream": "stdout",
       "text": [
        " \r",
        "[**********            20%                       ]  201 of 1000 complete"
       ]
      },
      {
       "output_type": "stream",
       "stream": "stdout",
       "text": [
        " \r",
        "[**********            20%                       ]  202 of 1000 complete"
       ]
      },
      {
       "output_type": "stream",
       "stream": "stdout",
       "text": [
        " \r",
        "[**********            20%                       ]  203 of 1000 complete"
       ]
      },
      {
       "output_type": "stream",
       "stream": "stdout",
       "text": [
        " \r",
        "[**********            20%                       ]  204 of 1000 complete"
       ]
      },
      {
       "output_type": "stream",
       "stream": "stdout",
       "text": [
        " \r",
        "[**********            21%                       ]  205 of 1000 complete"
       ]
      },
      {
       "output_type": "stream",
       "stream": "stdout",
       "text": [
        " \r",
        "[**********            21%                       ]  206 of 1000 complete"
       ]
      },
      {
       "output_type": "stream",
       "stream": "stdout",
       "text": [
        " \r",
        "[**********            21%                       ]  207 of 1000 complete"
       ]
      },
      {
       "output_type": "stream",
       "stream": "stdout",
       "text": [
        " \r",
        "[**********            21%                       ]  208 of 1000 complete"
       ]
      },
      {
       "output_type": "stream",
       "stream": "stdout",
       "text": [
        " \r",
        "[**********            21%                       ]  209 of 1000 complete"
       ]
      },
      {
       "output_type": "stream",
       "stream": "stdout",
       "text": [
        " \r",
        "[**********            21%                       ]  210 of 1000 complete"
       ]
      },
      {
       "output_type": "stream",
       "stream": "stdout",
       "text": [
        " \r",
        "[**********            21%                       ]  211 of 1000 complete"
       ]
      },
      {
       "output_type": "stream",
       "stream": "stdout",
       "text": [
        " \r",
        "[**********            21%                       ]  212 of 1000 complete"
       ]
      },
      {
       "output_type": "stream",
       "stream": "stdout",
       "text": [
        " \r",
        "[**********            21%                       ]  213 of 1000 complete"
       ]
      },
      {
       "output_type": "stream",
       "stream": "stdout",
       "text": [
        " \r",
        "[**********            21%                       ]  214 of 1000 complete"
       ]
      },
      {
       "output_type": "stream",
       "stream": "stdout",
       "text": [
        " \r",
        "[***********           22%                       ]  215 of 1000 complete"
       ]
      },
      {
       "output_type": "stream",
       "stream": "stdout",
       "text": [
        " \r",
        "[***********           22%                       ]  216 of 1000 complete"
       ]
      },
      {
       "output_type": "stream",
       "stream": "stdout",
       "text": [
        " \r",
        "[***********           22%                       ]  217 of 1000 complete"
       ]
      },
      {
       "output_type": "stream",
       "stream": "stdout",
       "text": [
        " \r",
        "[***********           22%                       ]  218 of 1000 complete"
       ]
      },
      {
       "output_type": "stream",
       "stream": "stdout",
       "text": [
        " \r",
        "[***********           22%                       ]  219 of 1000 complete"
       ]
      },
      {
       "output_type": "stream",
       "stream": "stdout",
       "text": [
        " \r",
        "[***********           22%                       ]  220 of 1000 complete"
       ]
      },
      {
       "output_type": "stream",
       "stream": "stdout",
       "text": [
        " \r",
        "[***********           22%                       ]  221 of 1000 complete"
       ]
      },
      {
       "output_type": "stream",
       "stream": "stdout",
       "text": [
        " \r",
        "[***********           22%                       ]  222 of 1000 complete"
       ]
      },
      {
       "output_type": "stream",
       "stream": "stdout",
       "text": [
        " \r",
        "[***********           22%                       ]  223 of 1000 complete"
       ]
      },
      {
       "output_type": "stream",
       "stream": "stdout",
       "text": [
        " \r",
        "[***********           22%                       ]  224 of 1000 complete"
       ]
      },
      {
       "output_type": "stream",
       "stream": "stdout",
       "text": [
        " \r",
        "[***********           23%                       ]  225 of 1000 complete"
       ]
      },
      {
       "output_type": "stream",
       "stream": "stdout",
       "text": [
        " \r",
        "[***********           23%                       ]  226 of 1000 complete"
       ]
      },
      {
       "output_type": "stream",
       "stream": "stdout",
       "text": [
        " \r",
        "[***********           23%                       ]  227 of 1000 complete"
       ]
      },
      {
       "output_type": "stream",
       "stream": "stdout",
       "text": [
        " \r",
        "[***********           23%                       ]  228 of 1000 complete"
       ]
      },
      {
       "output_type": "stream",
       "stream": "stdout",
       "text": [
        " \r",
        "[***********           23%                       ]  229 of 1000 complete"
       ]
      },
      {
       "output_type": "stream",
       "stream": "stdout",
       "text": [
        " \r",
        "[***********           23%                       ]  230 of 1000 complete"
       ]
      },
      {
       "output_type": "stream",
       "stream": "stdout",
       "text": [
        " \r",
        "[***********           23%                       ]  231 of 1000 complete"
       ]
      },
      {
       "output_type": "stream",
       "stream": "stdout",
       "text": [
        " \r",
        "[***********           23%                       ]  232 of 1000 complete"
       ]
      },
      {
       "output_type": "stream",
       "stream": "stdout",
       "text": [
        " \r",
        "[***********           23%                       ]  233 of 1000 complete"
       ]
      },
      {
       "output_type": "stream",
       "stream": "stdout",
       "text": [
        " \r",
        "[***********           23%                       ]  234 of 1000 complete"
       ]
      },
      {
       "output_type": "stream",
       "stream": "stdout",
       "text": [
        " \r",
        "[************          24%                       ]  235 of 1000 complete"
       ]
      },
      {
       "output_type": "stream",
       "stream": "stdout",
       "text": [
        " \r",
        "[************          24%                       ]  236 of 1000 complete"
       ]
      },
      {
       "output_type": "stream",
       "stream": "stdout",
       "text": [
        " \r",
        "[************          24%                       ]  237 of 1000 complete"
       ]
      },
      {
       "output_type": "stream",
       "stream": "stdout",
       "text": [
        " \r",
        "[************          24%                       ]  238 of 1000 complete"
       ]
      },
      {
       "output_type": "stream",
       "stream": "stdout",
       "text": [
        " \r",
        "[************          24%                       ]  239 of 1000 complete"
       ]
      },
      {
       "output_type": "stream",
       "stream": "stdout",
       "text": [
        " \r",
        "[************          24%                       ]  240 of 1000 complete"
       ]
      },
      {
       "output_type": "stream",
       "stream": "stdout",
       "text": [
        " \r",
        "[************          24%                       ]  241 of 1000 complete"
       ]
      },
      {
       "output_type": "stream",
       "stream": "stdout",
       "text": [
        " \r",
        "[************          24%                       ]  242 of 1000 complete"
       ]
      },
      {
       "output_type": "stream",
       "stream": "stdout",
       "text": [
        " \r",
        "[************          24%                       ]  243 of 1000 complete"
       ]
      },
      {
       "output_type": "stream",
       "stream": "stdout",
       "text": [
        " \r",
        "[************          24%                       ]  244 of 1000 complete"
       ]
      },
      {
       "output_type": "stream",
       "stream": "stdout",
       "text": [
        " \r",
        "[************          25%                       ]  245 of 1000 complete"
       ]
      },
      {
       "output_type": "stream",
       "stream": "stdout",
       "text": [
        " \r",
        "[************          25%                       ]  246 of 1000 complete"
       ]
      },
      {
       "output_type": "stream",
       "stream": "stdout",
       "text": [
        " \r",
        "[************          25%                       ]  247 of 1000 complete"
       ]
      },
      {
       "output_type": "stream",
       "stream": "stdout",
       "text": [
        " \r",
        "[************          25%                       ]  248 of 1000 complete"
       ]
      },
      {
       "output_type": "stream",
       "stream": "stdout",
       "text": [
        " \r",
        "[************          25%                       ]  249 of 1000 complete"
       ]
      },
      {
       "output_type": "stream",
       "stream": "stdout",
       "text": [
        " \r",
        "[************          25%                       ]  250 of 1000 complete"
       ]
      },
      {
       "output_type": "stream",
       "stream": "stdout",
       "text": [
        " \r",
        "[************          25%                       ]  251 of 1000 complete"
       ]
      },
      {
       "output_type": "stream",
       "stream": "stdout",
       "text": [
        " \r",
        "[************          25%                       ]  252 of 1000 complete"
       ]
      },
      {
       "output_type": "stream",
       "stream": "stdout",
       "text": [
        " \r",
        "[************          25%                       ]  253 of 1000 complete"
       ]
      },
      {
       "output_type": "stream",
       "stream": "stdout",
       "text": [
        " \r",
        "[************          25%                       ]  254 of 1000 complete"
       ]
      },
      {
       "output_type": "stream",
       "stream": "stdout",
       "text": [
        " \r",
        "[************          26%                       ]  255 of 1000 complete"
       ]
      },
      {
       "output_type": "stream",
       "stream": "stdout",
       "text": [
        " \r",
        "[************          26%                       ]  256 of 1000 complete"
       ]
      },
      {
       "output_type": "stream",
       "stream": "stdout",
       "text": [
        " \r",
        "[************          26%                       ]  257 of 1000 complete"
       ]
      },
      {
       "output_type": "stream",
       "stream": "stdout",
       "text": [
        " \r",
        "[************          26%                       ]  258 of 1000 complete"
       ]
      },
      {
       "output_type": "stream",
       "stream": "stdout",
       "text": [
        " \r",
        "[************          26%                       ]  259 of 1000 complete"
       ]
      },
      {
       "output_type": "stream",
       "stream": "stdout",
       "text": [
        " \r",
        "[************          26%                       ]  260 of 1000 complete"
       ]
      },
      {
       "output_type": "stream",
       "stream": "stdout",
       "text": [
        " \r",
        "[************          26%                       ]  261 of 1000 complete"
       ]
      },
      {
       "output_type": "stream",
       "stream": "stdout",
       "text": [
        " \r",
        "[************          26%                       ]  262 of 1000 complete"
       ]
      },
      {
       "output_type": "stream",
       "stream": "stdout",
       "text": [
        " \r",
        "[************          26%                       ]  263 of 1000 complete"
       ]
      },
      {
       "output_type": "stream",
       "stream": "stdout",
       "text": [
        " \r",
        "[************          26%                       ]  264 of 1000 complete"
       ]
      },
      {
       "output_type": "stream",
       "stream": "stdout",
       "text": [
        " \r",
        "[*************         27%                       ]  265 of 1000 complete"
       ]
      },
      {
       "output_type": "stream",
       "stream": "stdout",
       "text": [
        " \r",
        "[*************         27%                       ]  266 of 1000 complete"
       ]
      },
      {
       "output_type": "stream",
       "stream": "stdout",
       "text": [
        " \r",
        "[*************         27%                       ]  267 of 1000 complete"
       ]
      },
      {
       "output_type": "stream",
       "stream": "stdout",
       "text": [
        " \r",
        "[*************         27%                       ]  268 of 1000 complete"
       ]
      },
      {
       "output_type": "stream",
       "stream": "stdout",
       "text": [
        " \r",
        "[*************         27%                       ]  269 of 1000 complete"
       ]
      },
      {
       "output_type": "stream",
       "stream": "stdout",
       "text": [
        " \r",
        "[*************         27%                       ]  270 of 1000 complete"
       ]
      },
      {
       "output_type": "stream",
       "stream": "stdout",
       "text": [
        " \r",
        "[*************         27%                       ]  271 of 1000 complete"
       ]
      },
      {
       "output_type": "stream",
       "stream": "stdout",
       "text": [
        " \r",
        "[*************         27%                       ]  272 of 1000 complete"
       ]
      },
      {
       "output_type": "stream",
       "stream": "stdout",
       "text": [
        " \r",
        "[*************         27%                       ]  273 of 1000 complete"
       ]
      },
      {
       "output_type": "stream",
       "stream": "stdout",
       "text": [
        " \r",
        "[*************         27%                       ]  274 of 1000 complete"
       ]
      },
      {
       "output_type": "stream",
       "stream": "stdout",
       "text": [
        " \r",
        "[*************         28%                       ]  275 of 1000 complete"
       ]
      },
      {
       "output_type": "stream",
       "stream": "stdout",
       "text": [
        " \r",
        "[*************         28%                       ]  276 of 1000 complete"
       ]
      },
      {
       "output_type": "stream",
       "stream": "stdout",
       "text": [
        " \r",
        "[*************         28%                       ]  277 of 1000 complete"
       ]
      },
      {
       "output_type": "stream",
       "stream": "stdout",
       "text": [
        " \r",
        "[*************         28%                       ]  278 of 1000 complete"
       ]
      },
      {
       "output_type": "stream",
       "stream": "stdout",
       "text": [
        " \r",
        "[*************         28%                       ]  279 of 1000 complete"
       ]
      },
      {
       "output_type": "stream",
       "stream": "stdout",
       "text": [
        " \r",
        "[*************         28%                       ]  280 of 1000 complete"
       ]
      },
      {
       "output_type": "stream",
       "stream": "stdout",
       "text": [
        " \r",
        "[*************         28%                       ]  281 of 1000 complete"
       ]
      },
      {
       "output_type": "stream",
       "stream": "stdout",
       "text": [
        " \r",
        "[*************         28%                       ]  282 of 1000 complete"
       ]
      },
      {
       "output_type": "stream",
       "stream": "stdout",
       "text": [
        " \r",
        "[*************         28%                       ]  283 of 1000 complete"
       ]
      },
      {
       "output_type": "stream",
       "stream": "stdout",
       "text": [
        " \r",
        "[*************         28%                       ]  284 of 1000 complete"
       ]
      },
      {
       "output_type": "stream",
       "stream": "stdout",
       "text": [
        " \r",
        "[*************         28%                       ]  285 of 1000 complete"
       ]
      },
      {
       "output_type": "stream",
       "stream": "stdout",
       "text": [
        " \r",
        "[**************        29%                       ]  286 of 1000 complete"
       ]
      },
      {
       "output_type": "stream",
       "stream": "stdout",
       "text": [
        " \r",
        "[**************        29%                       ]  287 of 1000 complete"
       ]
      },
      {
       "output_type": "stream",
       "stream": "stdout",
       "text": [
        " \r",
        "[**************        29%                       ]  288 of 1000 complete"
       ]
      },
      {
       "output_type": "stream",
       "stream": "stdout",
       "text": [
        " \r",
        "[**************        29%                       ]  289 of 1000 complete"
       ]
      },
      {
       "output_type": "stream",
       "stream": "stdout",
       "text": [
        " \r",
        "[**************        29%                       ]  290 of 1000 complete"
       ]
      },
      {
       "output_type": "stream",
       "stream": "stdout",
       "text": [
        " \r",
        "[**************        29%                       ]  291 of 1000 complete"
       ]
      },
      {
       "output_type": "stream",
       "stream": "stdout",
       "text": [
        " \r",
        "[**************        29%                       ]  292 of 1000 complete"
       ]
      },
      {
       "output_type": "stream",
       "stream": "stdout",
       "text": [
        " \r",
        "[**************        29%                       ]  293 of 1000 complete"
       ]
      },
      {
       "output_type": "stream",
       "stream": "stdout",
       "text": [
        " \r",
        "[**************        29%                       ]  294 of 1000 complete"
       ]
      },
      {
       "output_type": "stream",
       "stream": "stdout",
       "text": [
        " \r",
        "[**************        30%                       ]  295 of 1000 complete"
       ]
      },
      {
       "output_type": "stream",
       "stream": "stdout",
       "text": [
        " \r",
        "[**************        30%                       ]  296 of 1000 complete"
       ]
      },
      {
       "output_type": "stream",
       "stream": "stdout",
       "text": [
        " \r",
        "[**************        30%                       ]  297 of 1000 complete"
       ]
      },
      {
       "output_type": "stream",
       "stream": "stdout",
       "text": [
        " \r",
        "[**************        30%                       ]  298 of 1000 complete"
       ]
      },
      {
       "output_type": "stream",
       "stream": "stdout",
       "text": [
        " \r",
        "[**************        30%                       ]  299 of 1000 complete"
       ]
      },
      {
       "output_type": "stream",
       "stream": "stdout",
       "text": [
        " \r",
        "[**************        30%                       ]  300 of 1000 complete"
       ]
      },
      {
       "output_type": "stream",
       "stream": "stdout",
       "text": [
        " \r",
        "[**************        30%                       ]  301 of 1000 complete"
       ]
      },
      {
       "output_type": "stream",
       "stream": "stdout",
       "text": [
        " \r",
        "[**************        30%                       ]  302 of 1000 complete"
       ]
      },
      {
       "output_type": "stream",
       "stream": "stdout",
       "text": [
        " \r",
        "[**************        30%                       ]  303 of 1000 complete"
       ]
      },
      {
       "output_type": "stream",
       "stream": "stdout",
       "text": [
        " \r",
        "[**************        30%                       ]  304 of 1000 complete"
       ]
      },
      {
       "output_type": "stream",
       "stream": "stdout",
       "text": [
        " \r",
        "[***************       31%                       ]  305 of 1000 complete"
       ]
      },
      {
       "output_type": "stream",
       "stream": "stdout",
       "text": [
        " \r",
        "[***************       31%                       ]  306 of 1000 complete"
       ]
      },
      {
       "output_type": "stream",
       "stream": "stdout",
       "text": [
        " \r",
        "[***************       31%                       ]  307 of 1000 complete"
       ]
      },
      {
       "output_type": "stream",
       "stream": "stdout",
       "text": [
        " \r",
        "[***************       31%                       ]  308 of 1000 complete"
       ]
      },
      {
       "output_type": "stream",
       "stream": "stdout",
       "text": [
        " \r",
        "[***************       31%                       ]  309 of 1000 complete"
       ]
      },
      {
       "output_type": "stream",
       "stream": "stdout",
       "text": [
        " \r",
        "[***************       31%                       ]  310 of 1000 complete"
       ]
      },
      {
       "output_type": "stream",
       "stream": "stdout",
       "text": [
        " \r",
        "[***************       31%                       ]  311 of 1000 complete"
       ]
      },
      {
       "output_type": "stream",
       "stream": "stdout",
       "text": [
        " \r",
        "[***************       31%                       ]  312 of 1000 complete"
       ]
      },
      {
       "output_type": "stream",
       "stream": "stdout",
       "text": [
        " \r",
        "[***************       31%                       ]  313 of 1000 complete"
       ]
      },
      {
       "output_type": "stream",
       "stream": "stdout",
       "text": [
        " \r",
        "[***************       31%                       ]  314 of 1000 complete"
       ]
      },
      {
       "output_type": "stream",
       "stream": "stdout",
       "text": [
        " \r",
        "[***************       32%                       ]  315 of 1000 complete"
       ]
      },
      {
       "output_type": "stream",
       "stream": "stdout",
       "text": [
        " \r",
        "[***************       32%                       ]  316 of 1000 complete"
       ]
      },
      {
       "output_type": "stream",
       "stream": "stdout",
       "text": [
        " \r",
        "[***************       32%                       ]  317 of 1000 complete"
       ]
      },
      {
       "output_type": "stream",
       "stream": "stdout",
       "text": [
        " \r",
        "[***************       32%                       ]  318 of 1000 complete"
       ]
      },
      {
       "output_type": "stream",
       "stream": "stdout",
       "text": [
        " \r",
        "[***************       32%                       ]  319 of 1000 complete"
       ]
      },
      {
       "output_type": "stream",
       "stream": "stdout",
       "text": [
        " \r",
        "[***************       32%                       ]  320 of 1000 complete"
       ]
      },
      {
       "output_type": "stream",
       "stream": "stdout",
       "text": [
        " \r",
        "[***************       32%                       ]  321 of 1000 complete"
       ]
      },
      {
       "output_type": "stream",
       "stream": "stdout",
       "text": [
        " \r",
        "[***************       32%                       ]  322 of 1000 complete"
       ]
      },
      {
       "output_type": "stream",
       "stream": "stdout",
       "text": [
        " \r",
        "[***************       32%                       ]  323 of 1000 complete"
       ]
      },
      {
       "output_type": "stream",
       "stream": "stdout",
       "text": [
        " \r",
        "[***************       32%                       ]  324 of 1000 complete"
       ]
      },
      {
       "output_type": "stream",
       "stream": "stdout",
       "text": [
        " \r",
        "[****************      33%                       ]  325 of 1000 complete"
       ]
      },
      {
       "output_type": "stream",
       "stream": "stdout",
       "text": [
        " \r",
        "[****************      33%                       ]  326 of 1000 complete"
       ]
      },
      {
       "output_type": "stream",
       "stream": "stdout",
       "text": [
        " \r",
        "[****************      33%                       ]  327 of 1000 complete"
       ]
      },
      {
       "output_type": "stream",
       "stream": "stdout",
       "text": [
        " \r",
        "[****************      33%                       ]  328 of 1000 complete"
       ]
      },
      {
       "output_type": "stream",
       "stream": "stdout",
       "text": [
        " \r",
        "[****************      33%                       ]  329 of 1000 complete"
       ]
      },
      {
       "output_type": "stream",
       "stream": "stdout",
       "text": [
        " \r",
        "[****************      33%                       ]  330 of 1000 complete"
       ]
      },
      {
       "output_type": "stream",
       "stream": "stdout",
       "text": [
        " \r",
        "[****************      33%                       ]  331 of 1000 complete"
       ]
      },
      {
       "output_type": "stream",
       "stream": "stdout",
       "text": [
        " \r",
        "[****************      33%                       ]  332 of 1000 complete"
       ]
      },
      {
       "output_type": "stream",
       "stream": "stdout",
       "text": [
        " \r",
        "[****************      33%                       ]  333 of 1000 complete"
       ]
      },
      {
       "output_type": "stream",
       "stream": "stdout",
       "text": [
        " \r",
        "[****************      33%                       ]  334 of 1000 complete"
       ]
      },
      {
       "output_type": "stream",
       "stream": "stdout",
       "text": [
        " \r",
        "[****************      34%                       ]  335 of 1000 complete"
       ]
      },
      {
       "output_type": "stream",
       "stream": "stdout",
       "text": [
        " \r",
        "[****************      34%                       ]  336 of 1000 complete"
       ]
      },
      {
       "output_type": "stream",
       "stream": "stdout",
       "text": [
        " \r",
        "[****************      34%                       ]  337 of 1000 complete"
       ]
      },
      {
       "output_type": "stream",
       "stream": "stdout",
       "text": [
        " \r",
        "[****************      34%                       ]  338 of 1000 complete"
       ]
      },
      {
       "output_type": "stream",
       "stream": "stdout",
       "text": [
        " \r",
        "[****************      34%                       ]  339 of 1000 complete"
       ]
      },
      {
       "output_type": "stream",
       "stream": "stdout",
       "text": [
        " \r",
        "[****************      34%                       ]  340 of 1000 complete"
       ]
      },
      {
       "output_type": "stream",
       "stream": "stdout",
       "text": [
        " \r",
        "[****************      34%                       ]  341 of 1000 complete"
       ]
      },
      {
       "output_type": "stream",
       "stream": "stdout",
       "text": [
        " \r",
        "[****************      34%                       ]  342 of 1000 complete"
       ]
      },
      {
       "output_type": "stream",
       "stream": "stdout",
       "text": [
        " \r",
        "[****************      34%                       ]  343 of 1000 complete"
       ]
      },
      {
       "output_type": "stream",
       "stream": "stdout",
       "text": [
        " \r",
        "[****************      34%                       ]  344 of 1000 complete"
       ]
      },
      {
       "output_type": "stream",
       "stream": "stdout",
       "text": [
        " \r",
        "[*****************     35%                       ]  345 of 1000 complete"
       ]
      },
      {
       "output_type": "stream",
       "stream": "stdout",
       "text": [
        " \r",
        "[*****************     35%                       ]  346 of 1000 complete"
       ]
      },
      {
       "output_type": "stream",
       "stream": "stdout",
       "text": [
        " \r",
        "[*****************     35%                       ]  347 of 1000 complete"
       ]
      },
      {
       "output_type": "stream",
       "stream": "stdout",
       "text": [
        " \r",
        "[*****************     35%                       ]  348 of 1000 complete"
       ]
      },
      {
       "output_type": "stream",
       "stream": "stdout",
       "text": [
        " \r",
        "[*****************     35%                       ]  349 of 1000 complete"
       ]
      },
      {
       "output_type": "stream",
       "stream": "stdout",
       "text": [
        " \r",
        "[*****************     35%                       ]  350 of 1000 complete"
       ]
      },
      {
       "output_type": "stream",
       "stream": "stdout",
       "text": [
        " \r",
        "[*****************     35%                       ]  351 of 1000 complete"
       ]
      },
      {
       "output_type": "stream",
       "stream": "stdout",
       "text": [
        " \r",
        "[*****************     35%                       ]  352 of 1000 complete"
       ]
      },
      {
       "output_type": "stream",
       "stream": "stdout",
       "text": [
        " \r",
        "[*****************     35%                       ]  353 of 1000 complete"
       ]
      },
      {
       "output_type": "stream",
       "stream": "stdout",
       "text": [
        " \r",
        "[*****************     35%                       ]  354 of 1000 complete"
       ]
      },
      {
       "output_type": "stream",
       "stream": "stdout",
       "text": [
        " \r",
        "[*****************     36%                       ]  355 of 1000 complete"
       ]
      },
      {
       "output_type": "stream",
       "stream": "stdout",
       "text": [
        " \r",
        "[*****************     36%                       ]  356 of 1000 complete"
       ]
      },
      {
       "output_type": "stream",
       "stream": "stdout",
       "text": [
        " \r",
        "[*****************     36%                       ]  357 of 1000 complete"
       ]
      },
      {
       "output_type": "stream",
       "stream": "stdout",
       "text": [
        " \r",
        "[*****************     36%                       ]  358 of 1000 complete"
       ]
      },
      {
       "output_type": "stream",
       "stream": "stdout",
       "text": [
        " \r",
        "[*****************     36%                       ]  359 of 1000 complete"
       ]
      },
      {
       "output_type": "stream",
       "stream": "stdout",
       "text": [
        " \r",
        "[*****************     36%                       ]  360 of 1000 complete"
       ]
      },
      {
       "output_type": "stream",
       "stream": "stdout",
       "text": [
        " \r",
        "[*****************     36%                       ]  361 of 1000 complete"
       ]
      },
      {
       "output_type": "stream",
       "stream": "stdout",
       "text": [
        " \r",
        "[*****************     36%                       ]  362 of 1000 complete"
       ]
      },
      {
       "output_type": "stream",
       "stream": "stdout",
       "text": [
        " \r",
        "[*****************     36%                       ]  363 of 1000 complete"
       ]
      },
      {
       "output_type": "stream",
       "stream": "stdout",
       "text": [
        " \r",
        "[*****************     36%                       ]  364 of 1000 complete"
       ]
      },
      {
       "output_type": "stream",
       "stream": "stdout",
       "text": [
        " \r",
        "[******************    37%                       ]  365 of 1000 complete"
       ]
      },
      {
       "output_type": "stream",
       "stream": "stdout",
       "text": [
        " \r",
        "[******************    37%                       ]  366 of 1000 complete"
       ]
      },
      {
       "output_type": "stream",
       "stream": "stdout",
       "text": [
        " \r",
        "[******************    37%                       ]  367 of 1000 complete"
       ]
      },
      {
       "output_type": "stream",
       "stream": "stdout",
       "text": [
        " \r",
        "[******************    37%                       ]  368 of 1000 complete"
       ]
      },
      {
       "output_type": "stream",
       "stream": "stdout",
       "text": [
        " \r",
        "[******************    37%                       ]  369 of 1000 complete"
       ]
      },
      {
       "output_type": "stream",
       "stream": "stdout",
       "text": [
        " \r",
        "[******************    37%                       ]  370 of 1000 complete"
       ]
      },
      {
       "output_type": "stream",
       "stream": "stdout",
       "text": [
        " \r",
        "[******************    37%                       ]  371 of 1000 complete"
       ]
      },
      {
       "output_type": "stream",
       "stream": "stdout",
       "text": [
        " \r",
        "[******************    37%                       ]  372 of 1000 complete"
       ]
      },
      {
       "output_type": "stream",
       "stream": "stdout",
       "text": [
        " \r",
        "[******************    37%                       ]  373 of 1000 complete"
       ]
      },
      {
       "output_type": "stream",
       "stream": "stdout",
       "text": [
        " \r",
        "[******************    37%                       ]  374 of 1000 complete"
       ]
      },
      {
       "output_type": "stream",
       "stream": "stdout",
       "text": [
        " \r",
        "[******************    38%                       ]  375 of 1000 complete"
       ]
      },
      {
       "output_type": "stream",
       "stream": "stdout",
       "text": [
        " \r",
        "[******************    38%                       ]  376 of 1000 complete"
       ]
      },
      {
       "output_type": "stream",
       "stream": "stdout",
       "text": [
        " \r",
        "[******************    38%                       ]  377 of 1000 complete"
       ]
      },
      {
       "output_type": "stream",
       "stream": "stdout",
       "text": [
        " \r",
        "[******************    38%                       ]  378 of 1000 complete"
       ]
      },
      {
       "output_type": "stream",
       "stream": "stdout",
       "text": [
        " \r",
        "[******************    38%                       ]  379 of 1000 complete"
       ]
      },
      {
       "output_type": "stream",
       "stream": "stdout",
       "text": [
        " \r",
        "[******************    38%                       ]  380 of 1000 complete"
       ]
      },
      {
       "output_type": "stream",
       "stream": "stdout",
       "text": [
        " \r",
        "[******************    38%                       ]  381 of 1000 complete"
       ]
      },
      {
       "output_type": "stream",
       "stream": "stdout",
       "text": [
        " \r",
        "[******************    38%                       ]  382 of 1000 complete"
       ]
      },
      {
       "output_type": "stream",
       "stream": "stdout",
       "text": [
        " \r",
        "[******************    38%                       ]  383 of 1000 complete"
       ]
      },
      {
       "output_type": "stream",
       "stream": "stdout",
       "text": [
        " \r",
        "[******************    38%                       ]  384 of 1000 complete"
       ]
      },
      {
       "output_type": "stream",
       "stream": "stdout",
       "text": [
        " \r",
        "[*******************   39%                       ]  385 of 1000 complete"
       ]
      },
      {
       "output_type": "stream",
       "stream": "stdout",
       "text": [
        " \r",
        "[*******************   39%                       ]  386 of 1000 complete"
       ]
      },
      {
       "output_type": "stream",
       "stream": "stdout",
       "text": [
        " \r",
        "[*******************   39%                       ]  387 of 1000 complete"
       ]
      },
      {
       "output_type": "stream",
       "stream": "stdout",
       "text": [
        " \r",
        "[*******************   39%                       ]  388 of 1000 complete"
       ]
      },
      {
       "output_type": "stream",
       "stream": "stdout",
       "text": [
        " \r",
        "[*******************   39%                       ]  389 of 1000 complete"
       ]
      },
      {
       "output_type": "stream",
       "stream": "stdout",
       "text": [
        " \r",
        "[*******************   39%                       ]  390 of 1000 complete"
       ]
      },
      {
       "output_type": "stream",
       "stream": "stdout",
       "text": [
        " \r",
        "[*******************   39%                       ]  391 of 1000 complete"
       ]
      },
      {
       "output_type": "stream",
       "stream": "stdout",
       "text": [
        " \r",
        "[*******************   39%                       ]  392 of 1000 complete"
       ]
      },
      {
       "output_type": "stream",
       "stream": "stdout",
       "text": [
        " \r",
        "[*******************   39%                       ]  393 of 1000 complete"
       ]
      },
      {
       "output_type": "stream",
       "stream": "stdout",
       "text": [
        " \r",
        "[*******************   39%                       ]  394 of 1000 complete"
       ]
      },
      {
       "output_type": "stream",
       "stream": "stdout",
       "text": [
        " \r",
        "[*******************   40%                       ]  395 of 1000 complete"
       ]
      },
      {
       "output_type": "stream",
       "stream": "stdout",
       "text": [
        " \r",
        "[*******************   40%                       ]  396 of 1000 complete"
       ]
      },
      {
       "output_type": "stream",
       "stream": "stdout",
       "text": [
        " \r",
        "[*******************   40%                       ]  397 of 1000 complete"
       ]
      },
      {
       "output_type": "stream",
       "stream": "stdout",
       "text": [
        " \r",
        "[*******************   40%                       ]  398 of 1000 complete"
       ]
      },
      {
       "output_type": "stream",
       "stream": "stdout",
       "text": [
        " \r",
        "[*******************   40%                       ]  399 of 1000 complete"
       ]
      },
      {
       "output_type": "stream",
       "stream": "stdout",
       "text": [
        " \r",
        "[*******************   40%                       ]  400 of 1000 complete"
       ]
      },
      {
       "output_type": "stream",
       "stream": "stdout",
       "text": [
        " \r",
        "[*******************   40%                       ]  401 of 1000 complete"
       ]
      },
      {
       "output_type": "stream",
       "stream": "stdout",
       "text": [
        " \r",
        "[*******************   40%                       ]  402 of 1000 complete"
       ]
      },
      {
       "output_type": "stream",
       "stream": "stdout",
       "text": [
        " \r",
        "[*******************   40%                       ]  403 of 1000 complete"
       ]
      },
      {
       "output_type": "stream",
       "stream": "stdout",
       "text": [
        " \r",
        "[*******************   40%                       ]  404 of 1000 complete"
       ]
      },
      {
       "output_type": "stream",
       "stream": "stdout",
       "text": [
        " \r",
        "[********************  41%                       ]  405 of 1000 complete"
       ]
      },
      {
       "output_type": "stream",
       "stream": "stdout",
       "text": [
        " \r",
        "[********************  41%                       ]  406 of 1000 complete"
       ]
      },
      {
       "output_type": "stream",
       "stream": "stdout",
       "text": [
        " \r",
        "[********************  41%                       ]  407 of 1000 complete"
       ]
      },
      {
       "output_type": "stream",
       "stream": "stdout",
       "text": [
        " \r",
        "[********************  41%                       ]  408 of 1000 complete"
       ]
      },
      {
       "output_type": "stream",
       "stream": "stdout",
       "text": [
        " \r",
        "[********************  41%                       ]  409 of 1000 complete"
       ]
      },
      {
       "output_type": "stream",
       "stream": "stdout",
       "text": [
        " \r",
        "[********************  41%                       ]  410 of 1000 complete"
       ]
      },
      {
       "output_type": "stream",
       "stream": "stdout",
       "text": [
        " \r",
        "[********************  41%                       ]  411 of 1000 complete"
       ]
      },
      {
       "output_type": "stream",
       "stream": "stdout",
       "text": [
        " \r",
        "[********************  41%                       ]  412 of 1000 complete"
       ]
      },
      {
       "output_type": "stream",
       "stream": "stdout",
       "text": [
        " \r",
        "[********************  41%                       ]  413 of 1000 complete"
       ]
      },
      {
       "output_type": "stream",
       "stream": "stdout",
       "text": [
        " \r",
        "[********************  41%                       ]  414 of 1000 complete"
       ]
      },
      {
       "output_type": "stream",
       "stream": "stdout",
       "text": [
        " \r",
        "[********************  42%                       ]  415 of 1000 complete"
       ]
      },
      {
       "output_type": "stream",
       "stream": "stdout",
       "text": [
        " \r",
        "[********************  42%                       ]  416 of 1000 complete"
       ]
      },
      {
       "output_type": "stream",
       "stream": "stdout",
       "text": [
        " \r",
        "[********************  42%                       ]  417 of 1000 complete"
       ]
      },
      {
       "output_type": "stream",
       "stream": "stdout",
       "text": [
        " \r",
        "[********************  42%                       ]  418 of 1000 complete"
       ]
      },
      {
       "output_type": "stream",
       "stream": "stdout",
       "text": [
        " \r",
        "[********************  42%                       ]  419 of 1000 complete"
       ]
      },
      {
       "output_type": "stream",
       "stream": "stdout",
       "text": [
        " \r",
        "[********************  42%                       ]  420 of 1000 complete"
       ]
      },
      {
       "output_type": "stream",
       "stream": "stdout",
       "text": [
        " \r",
        "[********************  42%                       ]  421 of 1000 complete"
       ]
      },
      {
       "output_type": "stream",
       "stream": "stdout",
       "text": [
        " \r",
        "[********************  42%                       ]  422 of 1000 complete"
       ]
      },
      {
       "output_type": "stream",
       "stream": "stdout",
       "text": [
        " \r",
        "[********************  42%                       ]  423 of 1000 complete"
       ]
      },
      {
       "output_type": "stream",
       "stream": "stdout",
       "text": [
        " \r",
        "[********************  42%                       ]  424 of 1000 complete"
       ]
      },
      {
       "output_type": "stream",
       "stream": "stdout",
       "text": [
        " \r",
        "[********************* 43%                       ]  425 of 1000 complete"
       ]
      },
      {
       "output_type": "stream",
       "stream": "stdout",
       "text": [
        " \r",
        "[********************* 43%                       ]  426 of 1000 complete"
       ]
      },
      {
       "output_type": "stream",
       "stream": "stdout",
       "text": [
        " \r",
        "[********************* 43%                       ]  427 of 1000 complete"
       ]
      },
      {
       "output_type": "stream",
       "stream": "stdout",
       "text": [
        " \r",
        "[********************* 43%                       ]  428 of 1000 complete"
       ]
      },
      {
       "output_type": "stream",
       "stream": "stdout",
       "text": [
        " \r",
        "[********************* 43%                       ]  429 of 1000 complete"
       ]
      },
      {
       "output_type": "stream",
       "stream": "stdout",
       "text": [
        " \r",
        "[********************* 43%                       ]  430 of 1000 complete"
       ]
      },
      {
       "output_type": "stream",
       "stream": "stdout",
       "text": [
        " \r",
        "[********************* 43%                       ]  431 of 1000 complete"
       ]
      },
      {
       "output_type": "stream",
       "stream": "stdout",
       "text": [
        " \r",
        "[********************* 43%                       ]  432 of 1000 complete"
       ]
      },
      {
       "output_type": "stream",
       "stream": "stdout",
       "text": [
        " \r",
        "[********************* 43%                       ]  433 of 1000 complete"
       ]
      },
      {
       "output_type": "stream",
       "stream": "stdout",
       "text": [
        " \r",
        "[********************* 43%                       ]  434 of 1000 complete"
       ]
      },
      {
       "output_type": "stream",
       "stream": "stdout",
       "text": [
        " \r",
        "[********************* 44%                       ]  435 of 1000 complete"
       ]
      },
      {
       "output_type": "stream",
       "stream": "stdout",
       "text": [
        " \r",
        "[********************* 44%                       ]  436 of 1000 complete"
       ]
      },
      {
       "output_type": "stream",
       "stream": "stdout",
       "text": [
        " \r",
        "[********************* 44%                       ]  437 of 1000 complete"
       ]
      },
      {
       "output_type": "stream",
       "stream": "stdout",
       "text": [
        " \r",
        "[********************* 44%                       ]  438 of 1000 complete"
       ]
      },
      {
       "output_type": "stream",
       "stream": "stdout",
       "text": [
        " \r",
        "[********************* 44%                       ]  439 of 1000 complete"
       ]
      },
      {
       "output_type": "stream",
       "stream": "stdout",
       "text": [
        " \r",
        "[********************* 44%                       ]  440 of 1000 complete"
       ]
      },
      {
       "output_type": "stream",
       "stream": "stdout",
       "text": [
        " \r",
        "[********************* 44%                       ]  441 of 1000 complete"
       ]
      },
      {
       "output_type": "stream",
       "stream": "stdout",
       "text": [
        " \r",
        "[********************* 44%                       ]  442 of 1000 complete"
       ]
      },
      {
       "output_type": "stream",
       "stream": "stdout",
       "text": [
        " \r",
        "[********************* 44%                       ]  443 of 1000 complete"
       ]
      },
      {
       "output_type": "stream",
       "stream": "stdout",
       "text": [
        " \r",
        "[********************* 44%                       ]  444 of 1000 complete"
       ]
      },
      {
       "output_type": "stream",
       "stream": "stdout",
       "text": [
        " \r",
        "[**********************45%                       ]  445 of 1000 complete"
       ]
      },
      {
       "output_type": "stream",
       "stream": "stdout",
       "text": [
        " \r",
        "[**********************45%                       ]  446 of 1000 complete"
       ]
      },
      {
       "output_type": "stream",
       "stream": "stdout",
       "text": [
        " \r",
        "[**********************45%                       ]  447 of 1000 complete"
       ]
      },
      {
       "output_type": "stream",
       "stream": "stdout",
       "text": [
        " \r",
        "[**********************45%                       ]  448 of 1000 complete"
       ]
      },
      {
       "output_type": "stream",
       "stream": "stdout",
       "text": [
        " \r",
        "[**********************45%                       ]  449 of 1000 complete"
       ]
      },
      {
       "output_type": "stream",
       "stream": "stdout",
       "text": [
        " \r",
        "[**********************45%                       ]  450 of 1000 complete"
       ]
      },
      {
       "output_type": "stream",
       "stream": "stdout",
       "text": [
        " \r",
        "[**********************45%                       ]  451 of 1000 complete"
       ]
      },
      {
       "output_type": "stream",
       "stream": "stdout",
       "text": [
        " \r",
        "[**********************45%                       ]  452 of 1000 complete"
       ]
      },
      {
       "output_type": "stream",
       "stream": "stdout",
       "text": [
        " \r",
        "[**********************45%                       ]  453 of 1000 complete"
       ]
      },
      {
       "output_type": "stream",
       "stream": "stdout",
       "text": [
        " \r",
        "[**********************45%                       ]  454 of 1000 complete"
       ]
      },
      {
       "output_type": "stream",
       "stream": "stdout",
       "text": [
        " \r",
        "[**********************46%                       ]  455 of 1000 complete"
       ]
      },
      {
       "output_type": "stream",
       "stream": "stdout",
       "text": [
        " \r",
        "[**********************46%                       ]  456 of 1000 complete"
       ]
      },
      {
       "output_type": "stream",
       "stream": "stdout",
       "text": [
        " \r",
        "[**********************46%                       ]  457 of 1000 complete"
       ]
      },
      {
       "output_type": "stream",
       "stream": "stdout",
       "text": [
        " \r",
        "[**********************46%                       ]  458 of 1000 complete"
       ]
      },
      {
       "output_type": "stream",
       "stream": "stdout",
       "text": [
        " \r",
        "[**********************46%                       ]  459 of 1000 complete"
       ]
      },
      {
       "output_type": "stream",
       "stream": "stdout",
       "text": [
        " \r",
        "[**********************46%                       ]  460 of 1000 complete"
       ]
      },
      {
       "output_type": "stream",
       "stream": "stdout",
       "text": [
        " \r",
        "[**********************46%                       ]  461 of 1000 complete"
       ]
      },
      {
       "output_type": "stream",
       "stream": "stdout",
       "text": [
        " \r",
        "[**********************46%                       ]  462 of 1000 complete"
       ]
      },
      {
       "output_type": "stream",
       "stream": "stdout",
       "text": [
        " \r",
        "[**********************46%                       ]  463 of 1000 complete"
       ]
      },
      {
       "output_type": "stream",
       "stream": "stdout",
       "text": [
        " \r",
        "[**********************46%                       ]  464 of 1000 complete"
       ]
      },
      {
       "output_type": "stream",
       "stream": "stdout",
       "text": [
        " \r",
        "[**********************47%                       ]  465 of 1000 complete"
       ]
      },
      {
       "output_type": "stream",
       "stream": "stdout",
       "text": [
        " \r",
        "[**********************47%                       ]  466 of 1000 complete"
       ]
      },
      {
       "output_type": "stream",
       "stream": "stdout",
       "text": [
        " \r",
        "[**********************47%                       ]  467 of 1000 complete"
       ]
      },
      {
       "output_type": "stream",
       "stream": "stdout",
       "text": [
        " \r",
        "[**********************47%                       ]  468 of 1000 complete"
       ]
      },
      {
       "output_type": "stream",
       "stream": "stdout",
       "text": [
        " \r",
        "[**********************47%                       ]  469 of 1000 complete"
       ]
      },
      {
       "output_type": "stream",
       "stream": "stdout",
       "text": [
        " \r",
        "[**********************47%                       ]  470 of 1000 complete"
       ]
      },
      {
       "output_type": "stream",
       "stream": "stdout",
       "text": [
        " \r",
        "[**********************47%                       ]  471 of 1000 complete"
       ]
      },
      {
       "output_type": "stream",
       "stream": "stdout",
       "text": [
        " \r",
        "[**********************47%                       ]  472 of 1000 complete"
       ]
      },
      {
       "output_type": "stream",
       "stream": "stdout",
       "text": [
        " \r",
        "[**********************47%                       ]  473 of 1000 complete"
       ]
      },
      {
       "output_type": "stream",
       "stream": "stdout",
       "text": [
        " \r",
        "[**********************47%                       ]  474 of 1000 complete"
       ]
      },
      {
       "output_type": "stream",
       "stream": "stdout",
       "text": [
        " \r",
        "[**********************48%                       ]  475 of 1000 complete"
       ]
      },
      {
       "output_type": "stream",
       "stream": "stdout",
       "text": [
        " \r",
        "[**********************48%                       ]  476 of 1000 complete"
       ]
      },
      {
       "output_type": "stream",
       "stream": "stdout",
       "text": [
        " \r",
        "[**********************48%                       ]  477 of 1000 complete"
       ]
      },
      {
       "output_type": "stream",
       "stream": "stdout",
       "text": [
        " \r",
        "[**********************48%                       ]  478 of 1000 complete"
       ]
      },
      {
       "output_type": "stream",
       "stream": "stdout",
       "text": [
        " \r",
        "[**********************48%                       ]  479 of 1000 complete"
       ]
      },
      {
       "output_type": "stream",
       "stream": "stdout",
       "text": [
        " \r",
        "[**********************48%                       ]  480 of 1000 complete"
       ]
      },
      {
       "output_type": "stream",
       "stream": "stdout",
       "text": [
        " \r",
        "[**********************48%                       ]  481 of 1000 complete"
       ]
      },
      {
       "output_type": "stream",
       "stream": "stdout",
       "text": [
        " \r",
        "[**********************48%                       ]  482 of 1000 complete"
       ]
      },
      {
       "output_type": "stream",
       "stream": "stdout",
       "text": [
        " \r",
        "[**********************48%                       ]  483 of 1000 complete"
       ]
      },
      {
       "output_type": "stream",
       "stream": "stdout",
       "text": [
        " \r",
        "[**********************48%                       ]  484 of 1000 complete"
       ]
      },
      {
       "output_type": "stream",
       "stream": "stdout",
       "text": [
        " \r",
        "[**********************49%                       ]  485 of 1000 complete"
       ]
      },
      {
       "output_type": "stream",
       "stream": "stdout",
       "text": [
        " \r",
        "[**********************49%                       ]  486 of 1000 complete"
       ]
      },
      {
       "output_type": "stream",
       "stream": "stdout",
       "text": [
        " \r",
        "[**********************49%                       ]  487 of 1000 complete"
       ]
      },
      {
       "output_type": "stream",
       "stream": "stdout",
       "text": [
        " \r",
        "[**********************49%                       ]  488 of 1000 complete"
       ]
      },
      {
       "output_type": "stream",
       "stream": "stdout",
       "text": [
        " \r",
        "[**********************49%                       ]  489 of 1000 complete"
       ]
      },
      {
       "output_type": "stream",
       "stream": "stdout",
       "text": [
        " \r",
        "[**********************49%                       ]  490 of 1000 complete"
       ]
      },
      {
       "output_type": "stream",
       "stream": "stdout",
       "text": [
        " \r",
        "[**********************49%                       ]  491 of 1000 complete"
       ]
      },
      {
       "output_type": "stream",
       "stream": "stdout",
       "text": [
        " \r",
        "[**********************49%                       ]  492 of 1000 complete"
       ]
      },
      {
       "output_type": "stream",
       "stream": "stdout",
       "text": [
        " \r",
        "[**********************49%                       ]  493 of 1000 complete"
       ]
      },
      {
       "output_type": "stream",
       "stream": "stdout",
       "text": [
        " \r",
        "[**********************49%                       ]  494 of 1000 complete"
       ]
      },
      {
       "output_type": "stream",
       "stream": "stdout",
       "text": [
        " \r",
        "[**********************50%                       ]  495 of 1000 complete"
       ]
      },
      {
       "output_type": "stream",
       "stream": "stdout",
       "text": [
        " \r",
        "[**********************50%                       ]  496 of 1000 complete"
       ]
      },
      {
       "output_type": "stream",
       "stream": "stdout",
       "text": [
        " \r",
        "[**********************50%                       ]  497 of 1000 complete"
       ]
      },
      {
       "output_type": "stream",
       "stream": "stdout",
       "text": [
        " \r",
        "[**********************50%                       ]  498 of 1000 complete"
       ]
      },
      {
       "output_type": "stream",
       "stream": "stdout",
       "text": [
        " \r",
        "[**********************50%                       ]  499 of 1000 complete"
       ]
      },
      {
       "output_type": "stream",
       "stream": "stdout",
       "text": [
        " \r",
        "[**********************50%                       ]  500 of 1000 complete"
       ]
      },
      {
       "output_type": "stream",
       "stream": "stdout",
       "text": [
        " \r",
        "[**********************50%                       ]  501 of 1000 complete"
       ]
      },
      {
       "output_type": "stream",
       "stream": "stdout",
       "text": [
        " \r",
        "[**********************50%                       ]  502 of 1000 complete"
       ]
      },
      {
       "output_type": "stream",
       "stream": "stdout",
       "text": [
        " \r",
        "[**********************50%                       ]  503 of 1000 complete"
       ]
      },
      {
       "output_type": "stream",
       "stream": "stdout",
       "text": [
        " \r",
        "[**********************50%                       ]  504 of 1000 complete"
       ]
      },
      {
       "output_type": "stream",
       "stream": "stdout",
       "text": [
        " \r",
        "[**********************51%                       ]  505 of 1000 complete"
       ]
      },
      {
       "output_type": "stream",
       "stream": "stdout",
       "text": [
        " \r",
        "[**********************51%                       ]  506 of 1000 complete"
       ]
      },
      {
       "output_type": "stream",
       "stream": "stdout",
       "text": [
        " \r",
        "[**********************51%                       ]  507 of 1000 complete"
       ]
      },
      {
       "output_type": "stream",
       "stream": "stdout",
       "text": [
        " \r",
        "[**********************51%                       ]  508 of 1000 complete"
       ]
      },
      {
       "output_type": "stream",
       "stream": "stdout",
       "text": [
        " \r",
        "[**********************51%                       ]  509 of 1000 complete"
       ]
      },
      {
       "output_type": "stream",
       "stream": "stdout",
       "text": [
        " \r",
        "[**********************51%                       ]  510 of 1000 complete"
       ]
      },
      {
       "output_type": "stream",
       "stream": "stdout",
       "text": [
        " \r",
        "[**********************51%                       ]  511 of 1000 complete"
       ]
      },
      {
       "output_type": "stream",
       "stream": "stdout",
       "text": [
        " \r",
        "[**********************51%                       ]  512 of 1000 complete"
       ]
      },
      {
       "output_type": "stream",
       "stream": "stdout",
       "text": [
        " \r",
        "[**********************51%                       ]  513 of 1000 complete"
       ]
      },
      {
       "output_type": "stream",
       "stream": "stdout",
       "text": [
        " \r",
        "[**********************51%                       ]  514 of 1000 complete"
       ]
      },
      {
       "output_type": "stream",
       "stream": "stdout",
       "text": [
        " \r",
        "[**********************52%                       ]  515 of 1000 complete"
       ]
      },
      {
       "output_type": "stream",
       "stream": "stdout",
       "text": [
        " \r",
        "[**********************52%                       ]  516 of 1000 complete"
       ]
      },
      {
       "output_type": "stream",
       "stream": "stdout",
       "text": [
        " \r",
        "[**********************52%                       ]  517 of 1000 complete"
       ]
      },
      {
       "output_type": "stream",
       "stream": "stdout",
       "text": [
        " \r",
        "[**********************52%                       ]  518 of 1000 complete"
       ]
      },
      {
       "output_type": "stream",
       "stream": "stdout",
       "text": [
        " \r",
        "[**********************52%                       ]  519 of 1000 complete"
       ]
      },
      {
       "output_type": "stream",
       "stream": "stdout",
       "text": [
        " \r",
        "[**********************52%                       ]  520 of 1000 complete"
       ]
      },
      {
       "output_type": "stream",
       "stream": "stdout",
       "text": [
        " \r",
        "[**********************52%                       ]  521 of 1000 complete"
       ]
      },
      {
       "output_type": "stream",
       "stream": "stdout",
       "text": [
        " \r",
        "[**********************52%                       ]  522 of 1000 complete"
       ]
      },
      {
       "output_type": "stream",
       "stream": "stdout",
       "text": [
        " \r",
        "[**********************52%                       ]  523 of 1000 complete"
       ]
      },
      {
       "output_type": "stream",
       "stream": "stdout",
       "text": [
        " \r",
        "[**********************52%                       ]  524 of 1000 complete"
       ]
      },
      {
       "output_type": "stream",
       "stream": "stdout",
       "text": [
        " \r",
        "[**********************53%                       ]  525 of 1000 complete"
       ]
      },
      {
       "output_type": "stream",
       "stream": "stdout",
       "text": [
        " \r",
        "[**********************53%                       ]  526 of 1000 complete"
       ]
      },
      {
       "output_type": "stream",
       "stream": "stdout",
       "text": [
        " \r",
        "[**********************53%                       ]  527 of 1000 complete"
       ]
      },
      {
       "output_type": "stream",
       "stream": "stdout",
       "text": [
        " \r",
        "[**********************53%                       ]  528 of 1000 complete"
       ]
      },
      {
       "output_type": "stream",
       "stream": "stdout",
       "text": [
        " \r",
        "[**********************53%                       ]  529 of 1000 complete"
       ]
      },
      {
       "output_type": "stream",
       "stream": "stdout",
       "text": [
        " \r",
        "[**********************53%                       ]  530 of 1000 complete"
       ]
      },
      {
       "output_type": "stream",
       "stream": "stdout",
       "text": [
        " \r",
        "[**********************53%                       ]  531 of 1000 complete"
       ]
      },
      {
       "output_type": "stream",
       "stream": "stdout",
       "text": [
        " \r",
        "[**********************53%                       ]  532 of 1000 complete"
       ]
      },
      {
       "output_type": "stream",
       "stream": "stdout",
       "text": [
        " \r",
        "[**********************53%                       ]  533 of 1000 complete"
       ]
      },
      {
       "output_type": "stream",
       "stream": "stdout",
       "text": [
        " \r",
        "[**********************53%                       ]  534 of 1000 complete"
       ]
      },
      {
       "output_type": "stream",
       "stream": "stdout",
       "text": [
        " \r",
        "[**********************54%*                      ]  535 of 1000 complete"
       ]
      },
      {
       "output_type": "stream",
       "stream": "stdout",
       "text": [
        " \r",
        "[**********************54%*                      ]  536 of 1000 complete"
       ]
      },
      {
       "output_type": "stream",
       "stream": "stdout",
       "text": [
        " \r",
        "[**********************54%*                      ]  537 of 1000 complete"
       ]
      },
      {
       "output_type": "stream",
       "stream": "stdout",
       "text": [
        " \r",
        "[**********************54%*                      ]  538 of 1000 complete"
       ]
      },
      {
       "output_type": "stream",
       "stream": "stdout",
       "text": [
        " \r",
        "[**********************54%*                      ]  539 of 1000 complete"
       ]
      },
      {
       "output_type": "stream",
       "stream": "stdout",
       "text": [
        " \r",
        "[**********************54%*                      ]  540 of 1000 complete"
       ]
      },
      {
       "output_type": "stream",
       "stream": "stdout",
       "text": [
        " \r",
        "[**********************54%*                      ]  541 of 1000 complete"
       ]
      },
      {
       "output_type": "stream",
       "stream": "stdout",
       "text": [
        " \r",
        "[**********************54%*                      ]  542 of 1000 complete"
       ]
      },
      {
       "output_type": "stream",
       "stream": "stdout",
       "text": [
        " \r",
        "[**********************54%*                      ]  543 of 1000 complete"
       ]
      },
      {
       "output_type": "stream",
       "stream": "stdout",
       "text": [
        " \r",
        "[**********************54%*                      ]  544 of 1000 complete"
       ]
      },
      {
       "output_type": "stream",
       "stream": "stdout",
       "text": [
        " \r",
        "[**********************55%*                      ]  545 of 1000 complete"
       ]
      },
      {
       "output_type": "stream",
       "stream": "stdout",
       "text": [
        " \r",
        "[**********************55%*                      ]  546 of 1000 complete"
       ]
      },
      {
       "output_type": "stream",
       "stream": "stdout",
       "text": [
        " \r",
        "[**********************55%*                      ]  547 of 1000 complete"
       ]
      },
      {
       "output_type": "stream",
       "stream": "stdout",
       "text": [
        " \r",
        "[**********************55%*                      ]  548 of 1000 complete"
       ]
      },
      {
       "output_type": "stream",
       "stream": "stdout",
       "text": [
        " \r",
        "[**********************55%*                      ]  549 of 1000 complete"
       ]
      },
      {
       "output_type": "stream",
       "stream": "stdout",
       "text": [
        " \r",
        "[**********************55%*                      ]  550 of 1000 complete"
       ]
      },
      {
       "output_type": "stream",
       "stream": "stdout",
       "text": [
        " \r",
        "[**********************55%*                      ]  551 of 1000 complete"
       ]
      },
      {
       "output_type": "stream",
       "stream": "stdout",
       "text": [
        " \r",
        "[**********************55%*                      ]  552 of 1000 complete"
       ]
      },
      {
       "output_type": "stream",
       "stream": "stdout",
       "text": [
        " \r",
        "[**********************55%*                      ]  553 of 1000 complete"
       ]
      },
      {
       "output_type": "stream",
       "stream": "stdout",
       "text": [
        " \r",
        "[**********************55%*                      ]  554 of 1000 complete"
       ]
      },
      {
       "output_type": "stream",
       "stream": "stdout",
       "text": [
        " \r",
        "[**********************56%**                     ]  555 of 1000 complete"
       ]
      },
      {
       "output_type": "stream",
       "stream": "stdout",
       "text": [
        " \r",
        "[**********************56%**                     ]  556 of 1000 complete"
       ]
      },
      {
       "output_type": "stream",
       "stream": "stdout",
       "text": [
        " \r",
        "[**********************56%**                     ]  557 of 1000 complete"
       ]
      },
      {
       "output_type": "stream",
       "stream": "stdout",
       "text": [
        " \r",
        "[**********************56%**                     ]  558 of 1000 complete"
       ]
      },
      {
       "output_type": "stream",
       "stream": "stdout",
       "text": [
        " \r",
        "[**********************56%**                     ]  559 of 1000 complete"
       ]
      },
      {
       "output_type": "stream",
       "stream": "stdout",
       "text": [
        " \r",
        "[**********************56%**                     ]  560 of 1000 complete"
       ]
      },
      {
       "output_type": "stream",
       "stream": "stdout",
       "text": [
        " \r",
        "[**********************56%**                     ]  561 of 1000 complete"
       ]
      },
      {
       "output_type": "stream",
       "stream": "stdout",
       "text": [
        " \r",
        "[**********************56%**                     ]  562 of 1000 complete"
       ]
      },
      {
       "output_type": "stream",
       "stream": "stdout",
       "text": [
        " \r",
        "[**********************56%**                     ]  563 of 1000 complete"
       ]
      },
      {
       "output_type": "stream",
       "stream": "stdout",
       "text": [
        " \r",
        "[**********************56%**                     ]  564 of 1000 complete"
       ]
      },
      {
       "output_type": "stream",
       "stream": "stdout",
       "text": [
        " \r",
        "[**********************56%**                     ]  565 of 1000 complete"
       ]
      },
      {
       "output_type": "stream",
       "stream": "stdout",
       "text": [
        " \r",
        "[**********************57%**                     ]  566 of 1000 complete"
       ]
      },
      {
       "output_type": "stream",
       "stream": "stdout",
       "text": [
        " \r",
        "[**********************57%**                     ]  567 of 1000 complete"
       ]
      },
      {
       "output_type": "stream",
       "stream": "stdout",
       "text": [
        " \r",
        "[**********************57%**                     ]  568 of 1000 complete"
       ]
      },
      {
       "output_type": "stream",
       "stream": "stdout",
       "text": [
        " \r",
        "[**********************57%**                     ]  569 of 1000 complete"
       ]
      },
      {
       "output_type": "stream",
       "stream": "stdout",
       "text": [
        " \r",
        "[**********************57%**                     ]  570 of 1000 complete"
       ]
      },
      {
       "output_type": "stream",
       "stream": "stdout",
       "text": [
        " \r",
        "[**********************57%**                     ]  571 of 1000 complete"
       ]
      },
      {
       "output_type": "stream",
       "stream": "stdout",
       "text": [
        " \r",
        "[**********************57%**                     ]  572 of 1000 complete"
       ]
      },
      {
       "output_type": "stream",
       "stream": "stdout",
       "text": [
        " \r",
        "[**********************57%**                     ]  573 of 1000 complete"
       ]
      },
      {
       "output_type": "stream",
       "stream": "stdout",
       "text": [
        " \r",
        "[**********************57%**                     ]  574 of 1000 complete"
       ]
      },
      {
       "output_type": "stream",
       "stream": "stdout",
       "text": [
        " \r",
        "[**********************57%**                     ]  575 of 1000 complete"
       ]
      },
      {
       "output_type": "stream",
       "stream": "stdout",
       "text": [
        " \r",
        "[**********************58%***                    ]  576 of 1000 complete"
       ]
      },
      {
       "output_type": "stream",
       "stream": "stdout",
       "text": [
        " \r",
        "[**********************58%***                    ]  577 of 1000 complete"
       ]
      },
      {
       "output_type": "stream",
       "stream": "stdout",
       "text": [
        " \r",
        "[**********************58%***                    ]  578 of 1000 complete"
       ]
      },
      {
       "output_type": "stream",
       "stream": "stdout",
       "text": [
        " \r",
        "[**********************58%***                    ]  579 of 1000 complete"
       ]
      },
      {
       "output_type": "stream",
       "stream": "stdout",
       "text": [
        " \r",
        "[**********************58%***                    ]  580 of 1000 complete"
       ]
      },
      {
       "output_type": "stream",
       "stream": "stdout",
       "text": [
        " \r",
        "[**********************58%***                    ]  581 of 1000 complete"
       ]
      },
      {
       "output_type": "stream",
       "stream": "stdout",
       "text": [
        " \r",
        "[**********************58%***                    ]  582 of 1000 complete"
       ]
      },
      {
       "output_type": "stream",
       "stream": "stdout",
       "text": [
        " \r",
        "[**********************58%***                    ]  583 of 1000 complete"
       ]
      },
      {
       "output_type": "stream",
       "stream": "stdout",
       "text": [
        " \r",
        "[**********************58%***                    ]  584 of 1000 complete"
       ]
      },
      {
       "output_type": "stream",
       "stream": "stdout",
       "text": [
        " \r",
        "[**********************59%***                    ]  585 of 1000 complete"
       ]
      },
      {
       "output_type": "stream",
       "stream": "stdout",
       "text": [
        " \r",
        "[**********************59%***                    ]  586 of 1000 complete"
       ]
      },
      {
       "output_type": "stream",
       "stream": "stdout",
       "text": [
        " \r",
        "[**********************59%***                    ]  587 of 1000 complete"
       ]
      },
      {
       "output_type": "stream",
       "stream": "stdout",
       "text": [
        " \r",
        "[**********************59%***                    ]  588 of 1000 complete"
       ]
      },
      {
       "output_type": "stream",
       "stream": "stdout",
       "text": [
        " \r",
        "[**********************59%***                    ]  589 of 1000 complete"
       ]
      },
      {
       "output_type": "stream",
       "stream": "stdout",
       "text": [
        " \r",
        "[**********************59%***                    ]  590 of 1000 complete"
       ]
      },
      {
       "output_type": "stream",
       "stream": "stdout",
       "text": [
        " \r",
        "[**********************59%***                    ]  591 of 1000 complete"
       ]
      },
      {
       "output_type": "stream",
       "stream": "stdout",
       "text": [
        " \r",
        "[**********************59%***                    ]  592 of 1000 complete"
       ]
      },
      {
       "output_type": "stream",
       "stream": "stdout",
       "text": [
        " \r",
        "[**********************59%***                    ]  593 of 1000 complete"
       ]
      },
      {
       "output_type": "stream",
       "stream": "stdout",
       "text": [
        " \r",
        "[**********************59%***                    ]  594 of 1000 complete"
       ]
      },
      {
       "output_type": "stream",
       "stream": "stdout",
       "text": [
        " \r",
        "[**********************60%****                   ]  595 of 1000 complete"
       ]
      },
      {
       "output_type": "stream",
       "stream": "stdout",
       "text": [
        " \r",
        "[**********************60%****                   ]  596 of 1000 complete"
       ]
      },
      {
       "output_type": "stream",
       "stream": "stdout",
       "text": [
        " \r",
        "[**********************60%****                   ]  597 of 1000 complete"
       ]
      },
      {
       "output_type": "stream",
       "stream": "stdout",
       "text": [
        " \r",
        "[**********************60%****                   ]  598 of 1000 complete"
       ]
      },
      {
       "output_type": "stream",
       "stream": "stdout",
       "text": [
        " \r",
        "[**********************60%****                   ]  599 of 1000 complete"
       ]
      },
      {
       "output_type": "stream",
       "stream": "stdout",
       "text": [
        " \r",
        "[**********************60%****                   ]  600 of 1000 complete"
       ]
      },
      {
       "output_type": "stream",
       "stream": "stdout",
       "text": [
        " \r",
        "[**********************60%****                   ]  601 of 1000 complete"
       ]
      },
      {
       "output_type": "stream",
       "stream": "stdout",
       "text": [
        " \r",
        "[**********************60%****                   ]  602 of 1000 complete"
       ]
      },
      {
       "output_type": "stream",
       "stream": "stdout",
       "text": [
        " \r",
        "[**********************60%****                   ]  603 of 1000 complete"
       ]
      },
      {
       "output_type": "stream",
       "stream": "stdout",
       "text": [
        " \r",
        "[**********************60%****                   ]  604 of 1000 complete"
       ]
      },
      {
       "output_type": "stream",
       "stream": "stdout",
       "text": [
        " \r",
        "[**********************61%****                   ]  605 of 1000 complete"
       ]
      },
      {
       "output_type": "stream",
       "stream": "stdout",
       "text": [
        " \r",
        "[**********************61%****                   ]  606 of 1000 complete"
       ]
      },
      {
       "output_type": "stream",
       "stream": "stdout",
       "text": [
        " \r",
        "[**********************61%****                   ]  607 of 1000 complete"
       ]
      },
      {
       "output_type": "stream",
       "stream": "stdout",
       "text": [
        " \r",
        "[**********************61%****                   ]  608 of 1000 complete"
       ]
      },
      {
       "output_type": "stream",
       "stream": "stdout",
       "text": [
        " \r",
        "[**********************61%****                   ]  609 of 1000 complete"
       ]
      },
      {
       "output_type": "stream",
       "stream": "stdout",
       "text": [
        " \r",
        "[**********************61%****                   ]  610 of 1000 complete"
       ]
      },
      {
       "output_type": "stream",
       "stream": "stdout",
       "text": [
        " \r",
        "[**********************61%****                   ]  611 of 1000 complete"
       ]
      },
      {
       "output_type": "stream",
       "stream": "stdout",
       "text": [
        " \r",
        "[**********************61%****                   ]  612 of 1000 complete"
       ]
      },
      {
       "output_type": "stream",
       "stream": "stdout",
       "text": [
        " \r",
        "[**********************61%****                   ]  613 of 1000 complete"
       ]
      },
      {
       "output_type": "stream",
       "stream": "stdout",
       "text": [
        " \r",
        "[**********************61%****                   ]  614 of 1000 complete"
       ]
      },
      {
       "output_type": "stream",
       "stream": "stdout",
       "text": [
        " \r",
        "[**********************62%*****                  ]  615 of 1000 complete"
       ]
      },
      {
       "output_type": "stream",
       "stream": "stdout",
       "text": [
        " \r",
        "[**********************62%*****                  ]  616 of 1000 complete"
       ]
      },
      {
       "output_type": "stream",
       "stream": "stdout",
       "text": [
        " \r",
        "[**********************62%*****                  ]  617 of 1000 complete"
       ]
      },
      {
       "output_type": "stream",
       "stream": "stdout",
       "text": [
        " \r",
        "[**********************62%*****                  ]  618 of 1000 complete"
       ]
      },
      {
       "output_type": "stream",
       "stream": "stdout",
       "text": [
        " \r",
        "[**********************62%*****                  ]  619 of 1000 complete"
       ]
      },
      {
       "output_type": "stream",
       "stream": "stdout",
       "text": [
        " \r",
        "[**********************62%*****                  ]  620 of 1000 complete"
       ]
      },
      {
       "output_type": "stream",
       "stream": "stdout",
       "text": [
        " \r",
        "[**********************62%*****                  ]  621 of 1000 complete"
       ]
      },
      {
       "output_type": "stream",
       "stream": "stdout",
       "text": [
        " \r",
        "[**********************62%*****                  ]  622 of 1000 complete"
       ]
      },
      {
       "output_type": "stream",
       "stream": "stdout",
       "text": [
        " \r",
        "[**********************62%*****                  ]  623 of 1000 complete"
       ]
      },
      {
       "output_type": "stream",
       "stream": "stdout",
       "text": [
        " \r",
        "[**********************62%*****                  ]  624 of 1000 complete"
       ]
      },
      {
       "output_type": "stream",
       "stream": "stdout",
       "text": [
        " \r",
        "[**********************63%*****                  ]  625 of 1000 complete"
       ]
      },
      {
       "output_type": "stream",
       "stream": "stdout",
       "text": [
        " \r",
        "[**********************63%*****                  ]  626 of 1000 complete"
       ]
      },
      {
       "output_type": "stream",
       "stream": "stdout",
       "text": [
        " \r",
        "[**********************63%*****                  ]  627 of 1000 complete"
       ]
      },
      {
       "output_type": "stream",
       "stream": "stdout",
       "text": [
        " \r",
        "[**********************63%*****                  ]  628 of 1000 complete"
       ]
      },
      {
       "output_type": "stream",
       "stream": "stdout",
       "text": [
        " \r",
        "[**********************63%*****                  ]  629 of 1000 complete"
       ]
      },
      {
       "output_type": "stream",
       "stream": "stdout",
       "text": [
        " \r",
        "[**********************63%*****                  ]  630 of 1000 complete"
       ]
      },
      {
       "output_type": "stream",
       "stream": "stdout",
       "text": [
        " \r",
        "[**********************63%*****                  ]  631 of 1000 complete"
       ]
      },
      {
       "output_type": "stream",
       "stream": "stdout",
       "text": [
        " \r",
        "[**********************63%*****                  ]  632 of 1000 complete"
       ]
      },
      {
       "output_type": "stream",
       "stream": "stdout",
       "text": [
        " \r",
        "[**********************63%*****                  ]  633 of 1000 complete"
       ]
      },
      {
       "output_type": "stream",
       "stream": "stdout",
       "text": [
        " \r",
        "[**********************63%*****                  ]  634 of 1000 complete"
       ]
      },
      {
       "output_type": "stream",
       "stream": "stdout",
       "text": [
        " \r",
        "[**********************64%******                 ]  635 of 1000 complete"
       ]
      },
      {
       "output_type": "stream",
       "stream": "stdout",
       "text": [
        " \r",
        "[**********************64%******                 ]  636 of 1000 complete"
       ]
      },
      {
       "output_type": "stream",
       "stream": "stdout",
       "text": [
        " \r",
        "[**********************64%******                 ]  637 of 1000 complete"
       ]
      },
      {
       "output_type": "stream",
       "stream": "stdout",
       "text": [
        " \r",
        "[**********************64%******                 ]  638 of 1000 complete"
       ]
      },
      {
       "output_type": "stream",
       "stream": "stdout",
       "text": [
        " \r",
        "[**********************64%******                 ]  639 of 1000 complete"
       ]
      },
      {
       "output_type": "stream",
       "stream": "stdout",
       "text": [
        " \r",
        "[**********************64%******                 ]  640 of 1000 complete"
       ]
      },
      {
       "output_type": "stream",
       "stream": "stdout",
       "text": [
        " \r",
        "[**********************64%******                 ]  641 of 1000 complete"
       ]
      },
      {
       "output_type": "stream",
       "stream": "stdout",
       "text": [
        " \r",
        "[**********************64%******                 ]  642 of 1000 complete"
       ]
      },
      {
       "output_type": "stream",
       "stream": "stdout",
       "text": [
        " \r",
        "[**********************64%******                 ]  643 of 1000 complete"
       ]
      },
      {
       "output_type": "stream",
       "stream": "stdout",
       "text": [
        " \r",
        "[**********************64%******                 ]  644 of 1000 complete"
       ]
      },
      {
       "output_type": "stream",
       "stream": "stdout",
       "text": [
        " \r",
        "[**********************65%******                 ]  645 of 1000 complete"
       ]
      },
      {
       "output_type": "stream",
       "stream": "stdout",
       "text": [
        " \r",
        "[**********************65%******                 ]  646 of 1000 complete"
       ]
      },
      {
       "output_type": "stream",
       "stream": "stdout",
       "text": [
        " \r",
        "[**********************65%******                 ]  647 of 1000 complete"
       ]
      },
      {
       "output_type": "stream",
       "stream": "stdout",
       "text": [
        " \r",
        "[**********************65%******                 ]  648 of 1000 complete"
       ]
      },
      {
       "output_type": "stream",
       "stream": "stdout",
       "text": [
        " \r",
        "[**********************65%******                 ]  649 of 1000 complete"
       ]
      },
      {
       "output_type": "stream",
       "stream": "stdout",
       "text": [
        " \r",
        "[**********************65%******                 ]  650 of 1000 complete"
       ]
      },
      {
       "output_type": "stream",
       "stream": "stdout",
       "text": [
        " \r",
        "[**********************65%******                 ]  651 of 1000 complete"
       ]
      },
      {
       "output_type": "stream",
       "stream": "stdout",
       "text": [
        " \r",
        "[**********************65%******                 ]  652 of 1000 complete"
       ]
      },
      {
       "output_type": "stream",
       "stream": "stdout",
       "text": [
        " \r",
        "[**********************65%******                 ]  653 of 1000 complete"
       ]
      },
      {
       "output_type": "stream",
       "stream": "stdout",
       "text": [
        " \r",
        "[**********************65%******                 ]  654 of 1000 complete"
       ]
      },
      {
       "output_type": "stream",
       "stream": "stdout",
       "text": [
        " \r",
        "[**********************66%*******                ]  655 of 1000 complete"
       ]
      },
      {
       "output_type": "stream",
       "stream": "stdout",
       "text": [
        " \r",
        "[**********************66%*******                ]  656 of 1000 complete"
       ]
      },
      {
       "output_type": "stream",
       "stream": "stdout",
       "text": [
        " \r",
        "[**********************66%*******                ]  657 of 1000 complete"
       ]
      },
      {
       "output_type": "stream",
       "stream": "stdout",
       "text": [
        " \r",
        "[**********************66%*******                ]  658 of 1000 complete"
       ]
      },
      {
       "output_type": "stream",
       "stream": "stdout",
       "text": [
        " \r",
        "[**********************66%*******                ]  659 of 1000 complete"
       ]
      },
      {
       "output_type": "stream",
       "stream": "stdout",
       "text": [
        " \r",
        "[**********************66%*******                ]  660 of 1000 complete"
       ]
      },
      {
       "output_type": "stream",
       "stream": "stdout",
       "text": [
        " \r",
        "[**********************66%*******                ]  661 of 1000 complete"
       ]
      },
      {
       "output_type": "stream",
       "stream": "stdout",
       "text": [
        " \r",
        "[**********************66%*******                ]  662 of 1000 complete"
       ]
      },
      {
       "output_type": "stream",
       "stream": "stdout",
       "text": [
        " \r",
        "[**********************66%*******                ]  663 of 1000 complete"
       ]
      },
      {
       "output_type": "stream",
       "stream": "stdout",
       "text": [
        " \r",
        "[**********************66%*******                ]  664 of 1000 complete"
       ]
      },
      {
       "output_type": "stream",
       "stream": "stdout",
       "text": [
        " \r",
        "[**********************67%*******                ]  665 of 1000 complete"
       ]
      },
      {
       "output_type": "stream",
       "stream": "stdout",
       "text": [
        " \r",
        "[**********************67%*******                ]  666 of 1000 complete"
       ]
      },
      {
       "output_type": "stream",
       "stream": "stdout",
       "text": [
        " \r",
        "[**********************67%*******                ]  667 of 1000 complete"
       ]
      },
      {
       "output_type": "stream",
       "stream": "stdout",
       "text": [
        " \r",
        "[**********************67%*******                ]  668 of 1000 complete"
       ]
      },
      {
       "output_type": "stream",
       "stream": "stdout",
       "text": [
        " \r",
        "[**********************67%*******                ]  669 of 1000 complete"
       ]
      },
      {
       "output_type": "stream",
       "stream": "stdout",
       "text": [
        " \r",
        "[**********************67%*******                ]  670 of 1000 complete"
       ]
      },
      {
       "output_type": "stream",
       "stream": "stdout",
       "text": [
        " \r",
        "[**********************67%*******                ]  671 of 1000 complete"
       ]
      },
      {
       "output_type": "stream",
       "stream": "stdout",
       "text": [
        " \r",
        "[**********************67%*******                ]  672 of 1000 complete"
       ]
      },
      {
       "output_type": "stream",
       "stream": "stdout",
       "text": [
        " \r",
        "[**********************67%*******                ]  673 of 1000 complete"
       ]
      },
      {
       "output_type": "stream",
       "stream": "stdout",
       "text": [
        " \r",
        "[**********************67%*******                ]  674 of 1000 complete"
       ]
      },
      {
       "output_type": "stream",
       "stream": "stdout",
       "text": [
        " \r",
        "[**********************68%********               ]  675 of 1000 complete"
       ]
      },
      {
       "output_type": "stream",
       "stream": "stdout",
       "text": [
        " \r",
        "[**********************68%********               ]  676 of 1000 complete"
       ]
      },
      {
       "output_type": "stream",
       "stream": "stdout",
       "text": [
        " \r",
        "[**********************68%********               ]  677 of 1000 complete"
       ]
      },
      {
       "output_type": "stream",
       "stream": "stdout",
       "text": [
        " \r",
        "[**********************68%********               ]  678 of 1000 complete"
       ]
      },
      {
       "output_type": "stream",
       "stream": "stdout",
       "text": [
        " \r",
        "[**********************68%********               ]  679 of 1000 complete"
       ]
      },
      {
       "output_type": "stream",
       "stream": "stdout",
       "text": [
        " \r",
        "[**********************68%********               ]  680 of 1000 complete"
       ]
      },
      {
       "output_type": "stream",
       "stream": "stdout",
       "text": [
        " \r",
        "[**********************68%********               ]  681 of 1000 complete"
       ]
      },
      {
       "output_type": "stream",
       "stream": "stdout",
       "text": [
        " \r",
        "[**********************68%********               ]  682 of 1000 complete"
       ]
      },
      {
       "output_type": "stream",
       "stream": "stdout",
       "text": [
        " \r",
        "[**********************68%********               ]  683 of 1000 complete"
       ]
      },
      {
       "output_type": "stream",
       "stream": "stdout",
       "text": [
        " \r",
        "[**********************68%********               ]  684 of 1000 complete"
       ]
      },
      {
       "output_type": "stream",
       "stream": "stdout",
       "text": [
        " \r",
        "[**********************69%********               ]  685 of 1000 complete"
       ]
      },
      {
       "output_type": "stream",
       "stream": "stdout",
       "text": [
        " \r",
        "[**********************69%********               ]  686 of 1000 complete"
       ]
      },
      {
       "output_type": "stream",
       "stream": "stdout",
       "text": [
        " \r",
        "[**********************69%********               ]  687 of 1000 complete"
       ]
      },
      {
       "output_type": "stream",
       "stream": "stdout",
       "text": [
        " \r",
        "[**********************69%********               ]  688 of 1000 complete"
       ]
      },
      {
       "output_type": "stream",
       "stream": "stdout",
       "text": [
        " \r",
        "[**********************69%********               ]  689 of 1000 complete"
       ]
      },
      {
       "output_type": "stream",
       "stream": "stdout",
       "text": [
        " \r",
        "[**********************69%********               ]  690 of 1000 complete"
       ]
      },
      {
       "output_type": "stream",
       "stream": "stdout",
       "text": [
        " \r",
        "[**********************69%********               ]  691 of 1000 complete"
       ]
      },
      {
       "output_type": "stream",
       "stream": "stdout",
       "text": [
        " \r",
        "[**********************69%********               ]  692 of 1000 complete"
       ]
      },
      {
       "output_type": "stream",
       "stream": "stdout",
       "text": [
        " \r",
        "[**********************69%********               ]  693 of 1000 complete"
       ]
      },
      {
       "output_type": "stream",
       "stream": "stdout",
       "text": [
        " \r",
        "[**********************69%********               ]  694 of 1000 complete"
       ]
      },
      {
       "output_type": "stream",
       "stream": "stdout",
       "text": [
        " \r",
        "[**********************70%*********              ]  695 of 1000 complete"
       ]
      },
      {
       "output_type": "stream",
       "stream": "stdout",
       "text": [
        " \r",
        "[**********************70%*********              ]  696 of 1000 complete"
       ]
      },
      {
       "output_type": "stream",
       "stream": "stdout",
       "text": [
        " \r",
        "[**********************70%*********              ]  697 of 1000 complete"
       ]
      },
      {
       "output_type": "stream",
       "stream": "stdout",
       "text": [
        " \r",
        "[**********************70%*********              ]  698 of 1000 complete"
       ]
      },
      {
       "output_type": "stream",
       "stream": "stdout",
       "text": [
        " \r",
        "[**********************70%*********              ]  699 of 1000 complete"
       ]
      },
      {
       "output_type": "stream",
       "stream": "stdout",
       "text": [
        " \r",
        "[**********************70%*********              ]  700 of 1000 complete"
       ]
      },
      {
       "output_type": "stream",
       "stream": "stdout",
       "text": [
        " \r",
        "[**********************70%*********              ]  701 of 1000 complete"
       ]
      },
      {
       "output_type": "stream",
       "stream": "stdout",
       "text": [
        " \r",
        "[**********************70%*********              ]  702 of 1000 complete"
       ]
      },
      {
       "output_type": "stream",
       "stream": "stdout",
       "text": [
        " \r",
        "[**********************70%*********              ]  703 of 1000 complete"
       ]
      },
      {
       "output_type": "stream",
       "stream": "stdout",
       "text": [
        " \r",
        "[**********************70%*********              ]  704 of 1000 complete"
       ]
      },
      {
       "output_type": "stream",
       "stream": "stdout",
       "text": [
        " \r",
        "[**********************71%*********              ]  705 of 1000 complete"
       ]
      },
      {
       "output_type": "stream",
       "stream": "stdout",
       "text": [
        " \r",
        "[**********************71%*********              ]  706 of 1000 complete"
       ]
      },
      {
       "output_type": "stream",
       "stream": "stdout",
       "text": [
        " \r",
        "[**********************71%*********              ]  707 of 1000 complete"
       ]
      },
      {
       "output_type": "stream",
       "stream": "stdout",
       "text": [
        " \r",
        "[**********************71%*********              ]  708 of 1000 complete"
       ]
      },
      {
       "output_type": "stream",
       "stream": "stdout",
       "text": [
        " \r",
        "[**********************71%*********              ]  709 of 1000 complete"
       ]
      },
      {
       "output_type": "stream",
       "stream": "stdout",
       "text": [
        " \r",
        "[**********************71%*********              ]  710 of 1000 complete"
       ]
      },
      {
       "output_type": "stream",
       "stream": "stdout",
       "text": [
        " \r",
        "[**********************71%*********              ]  711 of 1000 complete"
       ]
      },
      {
       "output_type": "stream",
       "stream": "stdout",
       "text": [
        " \r",
        "[**********************71%*********              ]  712 of 1000 complete"
       ]
      },
      {
       "output_type": "stream",
       "stream": "stdout",
       "text": [
        " \r",
        "[**********************71%*********              ]  713 of 1000 complete"
       ]
      },
      {
       "output_type": "stream",
       "stream": "stdout",
       "text": [
        " \r",
        "[**********************71%*********              ]  714 of 1000 complete"
       ]
      },
      {
       "output_type": "stream",
       "stream": "stdout",
       "text": [
        " \r",
        "[**********************72%**********             ]  715 of 1000 complete"
       ]
      },
      {
       "output_type": "stream",
       "stream": "stdout",
       "text": [
        " \r",
        "[**********************72%**********             ]  716 of 1000 complete"
       ]
      },
      {
       "output_type": "stream",
       "stream": "stdout",
       "text": [
        " \r",
        "[**********************72%**********             ]  717 of 1000 complete"
       ]
      },
      {
       "output_type": "stream",
       "stream": "stdout",
       "text": [
        " \r",
        "[**********************72%**********             ]  718 of 1000 complete"
       ]
      },
      {
       "output_type": "stream",
       "stream": "stdout",
       "text": [
        " \r",
        "[**********************72%**********             ]  719 of 1000 complete"
       ]
      },
      {
       "output_type": "stream",
       "stream": "stdout",
       "text": [
        " \r",
        "[**********************72%**********             ]  720 of 1000 complete"
       ]
      },
      {
       "output_type": "stream",
       "stream": "stdout",
       "text": [
        " \r",
        "[**********************72%**********             ]  721 of 1000 complete"
       ]
      },
      {
       "output_type": "stream",
       "stream": "stdout",
       "text": [
        " \r",
        "[**********************72%**********             ]  722 of 1000 complete"
       ]
      },
      {
       "output_type": "stream",
       "stream": "stdout",
       "text": [
        " \r",
        "[**********************72%**********             ]  723 of 1000 complete"
       ]
      },
      {
       "output_type": "stream",
       "stream": "stdout",
       "text": [
        " \r",
        "[**********************72%**********             ]  724 of 1000 complete"
       ]
      },
      {
       "output_type": "stream",
       "stream": "stdout",
       "text": [
        " \r",
        "[**********************73%**********             ]  725 of 1000 complete"
       ]
      },
      {
       "output_type": "stream",
       "stream": "stdout",
       "text": [
        " \r",
        "[**********************73%**********             ]  726 of 1000 complete"
       ]
      },
      {
       "output_type": "stream",
       "stream": "stdout",
       "text": [
        " \r",
        "[**********************73%**********             ]  727 of 1000 complete"
       ]
      },
      {
       "output_type": "stream",
       "stream": "stdout",
       "text": [
        " \r",
        "[**********************73%**********             ]  728 of 1000 complete"
       ]
      },
      {
       "output_type": "stream",
       "stream": "stdout",
       "text": [
        " \r",
        "[**********************73%**********             ]  729 of 1000 complete"
       ]
      },
      {
       "output_type": "stream",
       "stream": "stdout",
       "text": [
        " \r",
        "[**********************73%**********             ]  730 of 1000 complete"
       ]
      },
      {
       "output_type": "stream",
       "stream": "stdout",
       "text": [
        " \r",
        "[**********************73%**********             ]  731 of 1000 complete"
       ]
      },
      {
       "output_type": "stream",
       "stream": "stdout",
       "text": [
        " \r",
        "[**********************73%**********             ]  732 of 1000 complete"
       ]
      },
      {
       "output_type": "stream",
       "stream": "stdout",
       "text": [
        " \r",
        "[**********************73%**********             ]  733 of 1000 complete"
       ]
      },
      {
       "output_type": "stream",
       "stream": "stdout",
       "text": [
        " \r",
        "[**********************73%**********             ]  734 of 1000 complete"
       ]
      },
      {
       "output_type": "stream",
       "stream": "stdout",
       "text": [
        " \r",
        "[**********************74%***********            ]  735 of 1000 complete"
       ]
      },
      {
       "output_type": "stream",
       "stream": "stdout",
       "text": [
        " \r",
        "[**********************74%***********            ]  736 of 1000 complete"
       ]
      },
      {
       "output_type": "stream",
       "stream": "stdout",
       "text": [
        " \r",
        "[**********************74%***********            ]  737 of 1000 complete"
       ]
      },
      {
       "output_type": "stream",
       "stream": "stdout",
       "text": [
        " \r",
        "[**********************74%***********            ]  738 of 1000 complete"
       ]
      },
      {
       "output_type": "stream",
       "stream": "stdout",
       "text": [
        " \r",
        "[**********************74%***********            ]  739 of 1000 complete"
       ]
      },
      {
       "output_type": "stream",
       "stream": "stdout",
       "text": [
        " \r",
        "[**********************74%***********            ]  740 of 1000 complete"
       ]
      },
      {
       "output_type": "stream",
       "stream": "stdout",
       "text": [
        " \r",
        "[**********************74%***********            ]  741 of 1000 complete"
       ]
      },
      {
       "output_type": "stream",
       "stream": "stdout",
       "text": [
        " \r",
        "[**********************74%***********            ]  742 of 1000 complete"
       ]
      },
      {
       "output_type": "stream",
       "stream": "stdout",
       "text": [
        " \r",
        "[**********************74%***********            ]  743 of 1000 complete"
       ]
      },
      {
       "output_type": "stream",
       "stream": "stdout",
       "text": [
        " \r",
        "[**********************74%***********            ]  744 of 1000 complete"
       ]
      },
      {
       "output_type": "stream",
       "stream": "stdout",
       "text": [
        " \r",
        "[**********************75%***********            ]  745 of 1000 complete"
       ]
      },
      {
       "output_type": "stream",
       "stream": "stdout",
       "text": [
        " \r",
        "[**********************75%***********            ]  746 of 1000 complete"
       ]
      },
      {
       "output_type": "stream",
       "stream": "stdout",
       "text": [
        " \r",
        "[**********************75%***********            ]  747 of 1000 complete"
       ]
      },
      {
       "output_type": "stream",
       "stream": "stdout",
       "text": [
        " \r",
        "[**********************75%***********            ]  748 of 1000 complete"
       ]
      },
      {
       "output_type": "stream",
       "stream": "stdout",
       "text": [
        " \r",
        "[**********************75%***********            ]  749 of 1000 complete"
       ]
      },
      {
       "output_type": "stream",
       "stream": "stdout",
       "text": [
        " \r",
        "[**********************75%***********            ]  750 of 1000 complete"
       ]
      },
      {
       "output_type": "stream",
       "stream": "stdout",
       "text": [
        " \r",
        "[**********************75%***********            ]  751 of 1000 complete"
       ]
      },
      {
       "output_type": "stream",
       "stream": "stdout",
       "text": [
        " \r",
        "[**********************75%***********            ]  752 of 1000 complete"
       ]
      },
      {
       "output_type": "stream",
       "stream": "stdout",
       "text": [
        " \r",
        "[**********************75%***********            ]  753 of 1000 complete"
       ]
      },
      {
       "output_type": "stream",
       "stream": "stdout",
       "text": [
        " \r",
        "[**********************75%***********            ]  754 of 1000 complete"
       ]
      },
      {
       "output_type": "stream",
       "stream": "stdout",
       "text": [
        " \r",
        "[**********************76%***********            ]  755 of 1000 complete"
       ]
      },
      {
       "output_type": "stream",
       "stream": "stdout",
       "text": [
        " \r",
        "[**********************76%***********            ]  756 of 1000 complete"
       ]
      },
      {
       "output_type": "stream",
       "stream": "stdout",
       "text": [
        " \r",
        "[**********************76%***********            ]  757 of 1000 complete"
       ]
      },
      {
       "output_type": "stream",
       "stream": "stdout",
       "text": [
        " \r",
        "[**********************76%***********            ]  758 of 1000 complete"
       ]
      },
      {
       "output_type": "stream",
       "stream": "stdout",
       "text": [
        " \r",
        "[**********************76%***********            ]  759 of 1000 complete"
       ]
      },
      {
       "output_type": "stream",
       "stream": "stdout",
       "text": [
        " \r",
        "[**********************76%***********            ]  760 of 1000 complete"
       ]
      },
      {
       "output_type": "stream",
       "stream": "stdout",
       "text": [
        " \r",
        "[**********************76%***********            ]  761 of 1000 complete"
       ]
      },
      {
       "output_type": "stream",
       "stream": "stdout",
       "text": [
        " \r",
        "[**********************76%***********            ]  762 of 1000 complete"
       ]
      },
      {
       "output_type": "stream",
       "stream": "stdout",
       "text": [
        " \r",
        "[**********************76%***********            ]  763 of 1000 complete"
       ]
      },
      {
       "output_type": "stream",
       "stream": "stdout",
       "text": [
        " \r",
        "[**********************76%***********            ]  764 of 1000 complete"
       ]
      },
      {
       "output_type": "stream",
       "stream": "stdout",
       "text": [
        " \r",
        "[**********************77%************           ]  765 of 1000 complete"
       ]
      },
      {
       "output_type": "stream",
       "stream": "stdout",
       "text": [
        " \r",
        "[**********************77%************           ]  766 of 1000 complete"
       ]
      },
      {
       "output_type": "stream",
       "stream": "stdout",
       "text": [
        " \r",
        "[**********************77%************           ]  767 of 1000 complete"
       ]
      },
      {
       "output_type": "stream",
       "stream": "stdout",
       "text": [
        " \r",
        "[**********************77%************           ]  768 of 1000 complete"
       ]
      },
      {
       "output_type": "stream",
       "stream": "stdout",
       "text": [
        " \r",
        "[**********************77%************           ]  769 of 1000 complete"
       ]
      },
      {
       "output_type": "stream",
       "stream": "stdout",
       "text": [
        " \r",
        "[**********************77%************           ]  770 of 1000 complete"
       ]
      },
      {
       "output_type": "stream",
       "stream": "stdout",
       "text": [
        " \r",
        "[**********************77%************           ]  771 of 1000 complete"
       ]
      },
      {
       "output_type": "stream",
       "stream": "stdout",
       "text": [
        " \r",
        "[**********************77%************           ]  772 of 1000 complete"
       ]
      },
      {
       "output_type": "stream",
       "stream": "stdout",
       "text": [
        " \r",
        "[**********************77%************           ]  773 of 1000 complete"
       ]
      },
      {
       "output_type": "stream",
       "stream": "stdout",
       "text": [
        " \r",
        "[**********************77%************           ]  774 of 1000 complete"
       ]
      },
      {
       "output_type": "stream",
       "stream": "stdout",
       "text": [
        " \r",
        "[**********************78%************           ]  775 of 1000 complete"
       ]
      },
      {
       "output_type": "stream",
       "stream": "stdout",
       "text": [
        " \r",
        "[**********************78%************           ]  776 of 1000 complete"
       ]
      },
      {
       "output_type": "stream",
       "stream": "stdout",
       "text": [
        " \r",
        "[**********************78%************           ]  777 of 1000 complete"
       ]
      },
      {
       "output_type": "stream",
       "stream": "stdout",
       "text": [
        " \r",
        "[**********************78%************           ]  778 of 1000 complete"
       ]
      },
      {
       "output_type": "stream",
       "stream": "stdout",
       "text": [
        " \r",
        "[**********************78%************           ]  779 of 1000 complete"
       ]
      },
      {
       "output_type": "stream",
       "stream": "stdout",
       "text": [
        " \r",
        "[**********************78%************           ]  780 of 1000 complete"
       ]
      },
      {
       "output_type": "stream",
       "stream": "stdout",
       "text": [
        " \r",
        "[**********************78%************           ]  781 of 1000 complete"
       ]
      },
      {
       "output_type": "stream",
       "stream": "stdout",
       "text": [
        " \r",
        "[**********************78%************           ]  782 of 1000 complete"
       ]
      },
      {
       "output_type": "stream",
       "stream": "stdout",
       "text": [
        " \r",
        "[**********************78%************           ]  783 of 1000 complete"
       ]
      },
      {
       "output_type": "stream",
       "stream": "stdout",
       "text": [
        " \r",
        "[**********************78%************           ]  784 of 1000 complete"
       ]
      },
      {
       "output_type": "stream",
       "stream": "stdout",
       "text": [
        " \r",
        "[**********************79%*************          ]  785 of 1000 complete"
       ]
      },
      {
       "output_type": "stream",
       "stream": "stdout",
       "text": [
        " \r",
        "[**********************79%*************          ]  786 of 1000 complete"
       ]
      },
      {
       "output_type": "stream",
       "stream": "stdout",
       "text": [
        " \r",
        "[**********************79%*************          ]  787 of 1000 complete"
       ]
      },
      {
       "output_type": "stream",
       "stream": "stdout",
       "text": [
        " \r",
        "[**********************79%*************          ]  788 of 1000 complete"
       ]
      },
      {
       "output_type": "stream",
       "stream": "stdout",
       "text": [
        " \r",
        "[**********************79%*************          ]  789 of 1000 complete"
       ]
      },
      {
       "output_type": "stream",
       "stream": "stdout",
       "text": [
        " \r",
        "[**********************79%*************          ]  790 of 1000 complete"
       ]
      },
      {
       "output_type": "stream",
       "stream": "stdout",
       "text": [
        " \r",
        "[**********************79%*************          ]  791 of 1000 complete"
       ]
      },
      {
       "output_type": "stream",
       "stream": "stdout",
       "text": [
        " \r",
        "[**********************79%*************          ]  792 of 1000 complete"
       ]
      },
      {
       "output_type": "stream",
       "stream": "stdout",
       "text": [
        " \r",
        "[**********************79%*************          ]  793 of 1000 complete"
       ]
      },
      {
       "output_type": "stream",
       "stream": "stdout",
       "text": [
        " \r",
        "[**********************79%*************          ]  794 of 1000 complete"
       ]
      },
      {
       "output_type": "stream",
       "stream": "stdout",
       "text": [
        " \r",
        "[**********************80%*************          ]  795 of 1000 complete"
       ]
      },
      {
       "output_type": "stream",
       "stream": "stdout",
       "text": [
        " \r",
        "[**********************80%*************          ]  796 of 1000 complete"
       ]
      },
      {
       "output_type": "stream",
       "stream": "stdout",
       "text": [
        " \r",
        "[**********************80%*************          ]  797 of 1000 complete"
       ]
      },
      {
       "output_type": "stream",
       "stream": "stdout",
       "text": [
        " \r",
        "[**********************80%*************          ]  798 of 1000 complete"
       ]
      },
      {
       "output_type": "stream",
       "stream": "stdout",
       "text": [
        " \r",
        "[**********************80%*************          ]  799 of 1000 complete"
       ]
      },
      {
       "output_type": "stream",
       "stream": "stdout",
       "text": [
        " \r",
        "[**********************80%*************          ]  800 of 1000 complete"
       ]
      },
      {
       "output_type": "stream",
       "stream": "stdout",
       "text": [
        " \r",
        "[**********************80%*************          ]  801 of 1000 complete"
       ]
      },
      {
       "output_type": "stream",
       "stream": "stdout",
       "text": [
        " \r",
        "[**********************80%*************          ]  802 of 1000 complete"
       ]
      },
      {
       "output_type": "stream",
       "stream": "stdout",
       "text": [
        " \r",
        "[**********************80%*************          ]  803 of 1000 complete"
       ]
      },
      {
       "output_type": "stream",
       "stream": "stdout",
       "text": [
        " \r",
        "[**********************80%*************          ]  804 of 1000 complete"
       ]
      },
      {
       "output_type": "stream",
       "stream": "stdout",
       "text": [
        " \r",
        "[**********************81%**************         ]  805 of 1000 complete"
       ]
      },
      {
       "output_type": "stream",
       "stream": "stdout",
       "text": [
        " \r",
        "[**********************81%**************         ]  806 of 1000 complete"
       ]
      },
      {
       "output_type": "stream",
       "stream": "stdout",
       "text": [
        " \r",
        "[**********************81%**************         ]  807 of 1000 complete"
       ]
      },
      {
       "output_type": "stream",
       "stream": "stdout",
       "text": [
        " \r",
        "[**********************81%**************         ]  808 of 1000 complete"
       ]
      },
      {
       "output_type": "stream",
       "stream": "stdout",
       "text": [
        " \r",
        "[**********************81%**************         ]  809 of 1000 complete"
       ]
      },
      {
       "output_type": "stream",
       "stream": "stdout",
       "text": [
        " \r",
        "[**********************81%**************         ]  810 of 1000 complete"
       ]
      },
      {
       "output_type": "stream",
       "stream": "stdout",
       "text": [
        " \r",
        "[**********************81%**************         ]  811 of 1000 complete"
       ]
      },
      {
       "output_type": "stream",
       "stream": "stdout",
       "text": [
        " \r",
        "[**********************81%**************         ]  812 of 1000 complete"
       ]
      },
      {
       "output_type": "stream",
       "stream": "stdout",
       "text": [
        " \r",
        "[**********************81%**************         ]  813 of 1000 complete"
       ]
      },
      {
       "output_type": "stream",
       "stream": "stdout",
       "text": [
        " \r",
        "[**********************81%**************         ]  814 of 1000 complete"
       ]
      },
      {
       "output_type": "stream",
       "stream": "stdout",
       "text": [
        " \r",
        "[**********************82%**************         ]  815 of 1000 complete"
       ]
      },
      {
       "output_type": "stream",
       "stream": "stdout",
       "text": [
        " \r",
        "[**********************82%**************         ]  816 of 1000 complete"
       ]
      },
      {
       "output_type": "stream",
       "stream": "stdout",
       "text": [
        " \r",
        "[**********************82%**************         ]  817 of 1000 complete"
       ]
      },
      {
       "output_type": "stream",
       "stream": "stdout",
       "text": [
        " \r",
        "[**********************82%**************         ]  818 of 1000 complete"
       ]
      },
      {
       "output_type": "stream",
       "stream": "stdout",
       "text": [
        " \r",
        "[**********************82%**************         ]  819 of 1000 complete"
       ]
      },
      {
       "output_type": "stream",
       "stream": "stdout",
       "text": [
        " \r",
        "[**********************82%**************         ]  820 of 1000 complete"
       ]
      },
      {
       "output_type": "stream",
       "stream": "stdout",
       "text": [
        " \r",
        "[**********************82%**************         ]  821 of 1000 complete"
       ]
      },
      {
       "output_type": "stream",
       "stream": "stdout",
       "text": [
        " \r",
        "[**********************82%**************         ]  822 of 1000 complete"
       ]
      },
      {
       "output_type": "stream",
       "stream": "stdout",
       "text": [
        " \r",
        "[**********************82%**************         ]  823 of 1000 complete"
       ]
      },
      {
       "output_type": "stream",
       "stream": "stdout",
       "text": [
        " \r",
        "[**********************82%**************         ]  824 of 1000 complete"
       ]
      },
      {
       "output_type": "stream",
       "stream": "stdout",
       "text": [
        " \r",
        "[**********************83%***************        ]  825 of 1000 complete"
       ]
      },
      {
       "output_type": "stream",
       "stream": "stdout",
       "text": [
        " \r",
        "[**********************83%***************        ]  826 of 1000 complete"
       ]
      },
      {
       "output_type": "stream",
       "stream": "stdout",
       "text": [
        " \r",
        "[**********************83%***************        ]  827 of 1000 complete"
       ]
      },
      {
       "output_type": "stream",
       "stream": "stdout",
       "text": [
        " \r",
        "[**********************83%***************        ]  828 of 1000 complete"
       ]
      },
      {
       "output_type": "stream",
       "stream": "stdout",
       "text": [
        " \r",
        "[**********************83%***************        ]  829 of 1000 complete"
       ]
      },
      {
       "output_type": "stream",
       "stream": "stdout",
       "text": [
        " \r",
        "[**********************83%***************        ]  830 of 1000 complete"
       ]
      },
      {
       "output_type": "stream",
       "stream": "stdout",
       "text": [
        " \r",
        "[**********************83%***************        ]  831 of 1000 complete"
       ]
      },
      {
       "output_type": "stream",
       "stream": "stdout",
       "text": [
        " \r",
        "[**********************83%***************        ]  832 of 1000 complete"
       ]
      },
      {
       "output_type": "stream",
       "stream": "stdout",
       "text": [
        " \r",
        "[**********************83%***************        ]  833 of 1000 complete"
       ]
      },
      {
       "output_type": "stream",
       "stream": "stdout",
       "text": [
        " \r",
        "[**********************83%***************        ]  834 of 1000 complete"
       ]
      },
      {
       "output_type": "stream",
       "stream": "stdout",
       "text": [
        " \r",
        "[**********************84%***************        ]  835 of 1000 complete"
       ]
      },
      {
       "output_type": "stream",
       "stream": "stdout",
       "text": [
        " \r",
        "[**********************84%***************        ]  836 of 1000 complete"
       ]
      },
      {
       "output_type": "stream",
       "stream": "stdout",
       "text": [
        " \r",
        "[**********************84%***************        ]  837 of 1000 complete"
       ]
      },
      {
       "output_type": "stream",
       "stream": "stdout",
       "text": [
        " \r",
        "[**********************84%***************        ]  838 of 1000 complete"
       ]
      },
      {
       "output_type": "stream",
       "stream": "stdout",
       "text": [
        " \r",
        "[**********************84%***************        ]  839 of 1000 complete"
       ]
      },
      {
       "output_type": "stream",
       "stream": "stdout",
       "text": [
        " \r",
        "[**********************84%***************        ]  840 of 1000 complete"
       ]
      },
      {
       "output_type": "stream",
       "stream": "stdout",
       "text": [
        " \r",
        "[**********************84%***************        ]  841 of 1000 complete"
       ]
      },
      {
       "output_type": "stream",
       "stream": "stdout",
       "text": [
        " \r",
        "[**********************84%***************        ]  842 of 1000 complete"
       ]
      },
      {
       "output_type": "stream",
       "stream": "stdout",
       "text": [
        " \r",
        "[**********************84%***************        ]  843 of 1000 complete"
       ]
      },
      {
       "output_type": "stream",
       "stream": "stdout",
       "text": [
        " \r",
        "[**********************84%***************        ]  844 of 1000 complete"
       ]
      },
      {
       "output_type": "stream",
       "stream": "stdout",
       "text": [
        " \r",
        "[**********************85%****************       ]  845 of 1000 complete"
       ]
      },
      {
       "output_type": "stream",
       "stream": "stdout",
       "text": [
        " \r",
        "[**********************85%****************       ]  846 of 1000 complete"
       ]
      },
      {
       "output_type": "stream",
       "stream": "stdout",
       "text": [
        " \r",
        "[**********************85%****************       ]  847 of 1000 complete"
       ]
      },
      {
       "output_type": "stream",
       "stream": "stdout",
       "text": [
        " \r",
        "[**********************85%****************       ]  848 of 1000 complete"
       ]
      },
      {
       "output_type": "stream",
       "stream": "stdout",
       "text": [
        " \r",
        "[**********************85%****************       ]  849 of 1000 complete"
       ]
      },
      {
       "output_type": "stream",
       "stream": "stdout",
       "text": [
        " \r",
        "[**********************85%****************       ]  850 of 1000 complete"
       ]
      },
      {
       "output_type": "stream",
       "stream": "stdout",
       "text": [
        " \r",
        "[**********************85%****************       ]  851 of 1000 complete"
       ]
      },
      {
       "output_type": "stream",
       "stream": "stdout",
       "text": [
        " \r",
        "[**********************85%****************       ]  852 of 1000 complete"
       ]
      },
      {
       "output_type": "stream",
       "stream": "stdout",
       "text": [
        " \r",
        "[**********************85%****************       ]  853 of 1000 complete"
       ]
      },
      {
       "output_type": "stream",
       "stream": "stdout",
       "text": [
        " \r",
        "[**********************85%****************       ]  854 of 1000 complete"
       ]
      },
      {
       "output_type": "stream",
       "stream": "stdout",
       "text": [
        " \r",
        "[**********************86%****************       ]  855 of 1000 complete"
       ]
      },
      {
       "output_type": "stream",
       "stream": "stdout",
       "text": [
        " \r",
        "[**********************86%****************       ]  856 of 1000 complete"
       ]
      },
      {
       "output_type": "stream",
       "stream": "stdout",
       "text": [
        " \r",
        "[**********************86%****************       ]  857 of 1000 complete"
       ]
      },
      {
       "output_type": "stream",
       "stream": "stdout",
       "text": [
        " \r",
        "[**********************86%****************       ]  858 of 1000 complete"
       ]
      },
      {
       "output_type": "stream",
       "stream": "stdout",
       "text": [
        " \r",
        "[**********************86%****************       ]  859 of 1000 complete"
       ]
      },
      {
       "output_type": "stream",
       "stream": "stdout",
       "text": [
        " \r",
        "[**********************86%****************       ]  860 of 1000 complete"
       ]
      },
      {
       "output_type": "stream",
       "stream": "stdout",
       "text": [
        " \r",
        "[**********************86%****************       ]  861 of 1000 complete"
       ]
      },
      {
       "output_type": "stream",
       "stream": "stdout",
       "text": [
        " \r",
        "[**********************86%****************       ]  862 of 1000 complete"
       ]
      },
      {
       "output_type": "stream",
       "stream": "stdout",
       "text": [
        " \r",
        "[**********************86%****************       ]  863 of 1000 complete"
       ]
      },
      {
       "output_type": "stream",
       "stream": "stdout",
       "text": [
        " \r",
        "[**********************86%****************       ]  864 of 1000 complete"
       ]
      },
      {
       "output_type": "stream",
       "stream": "stdout",
       "text": [
        " \r",
        "[**********************87%*****************      ]  865 of 1000 complete"
       ]
      },
      {
       "output_type": "stream",
       "stream": "stdout",
       "text": [
        " \r",
        "[**********************87%*****************      ]  866 of 1000 complete"
       ]
      },
      {
       "output_type": "stream",
       "stream": "stdout",
       "text": [
        " \r",
        "[**********************87%*****************      ]  867 of 1000 complete"
       ]
      },
      {
       "output_type": "stream",
       "stream": "stdout",
       "text": [
        " \r",
        "[**********************87%*****************      ]  868 of 1000 complete"
       ]
      },
      {
       "output_type": "stream",
       "stream": "stdout",
       "text": [
        " \r",
        "[**********************87%*****************      ]  869 of 1000 complete"
       ]
      },
      {
       "output_type": "stream",
       "stream": "stdout",
       "text": [
        " \r",
        "[**********************87%*****************      ]  870 of 1000 complete"
       ]
      },
      {
       "output_type": "stream",
       "stream": "stdout",
       "text": [
        " \r",
        "[**********************87%*****************      ]  871 of 1000 complete"
       ]
      },
      {
       "output_type": "stream",
       "stream": "stdout",
       "text": [
        " \r",
        "[**********************87%*****************      ]  872 of 1000 complete"
       ]
      },
      {
       "output_type": "stream",
       "stream": "stdout",
       "text": [
        " \r",
        "[**********************87%*****************      ]  873 of 1000 complete"
       ]
      },
      {
       "output_type": "stream",
       "stream": "stdout",
       "text": [
        " \r",
        "[**********************87%*****************      ]  874 of 1000 complete"
       ]
      },
      {
       "output_type": "stream",
       "stream": "stdout",
       "text": [
        " \r",
        "[**********************88%*****************      ]  875 of 1000 complete"
       ]
      },
      {
       "output_type": "stream",
       "stream": "stdout",
       "text": [
        " \r",
        "[**********************88%*****************      ]  876 of 1000 complete"
       ]
      },
      {
       "output_type": "stream",
       "stream": "stdout",
       "text": [
        " \r",
        "[**********************88%*****************      ]  877 of 1000 complete"
       ]
      },
      {
       "output_type": "stream",
       "stream": "stdout",
       "text": [
        " \r",
        "[**********************88%*****************      ]  878 of 1000 complete"
       ]
      },
      {
       "output_type": "stream",
       "stream": "stdout",
       "text": [
        " \r",
        "[**********************88%*****************      ]  879 of 1000 complete"
       ]
      },
      {
       "output_type": "stream",
       "stream": "stdout",
       "text": [
        " \r",
        "[**********************88%*****************      ]  880 of 1000 complete"
       ]
      },
      {
       "output_type": "stream",
       "stream": "stdout",
       "text": [
        " \r",
        "[**********************88%*****************      ]  881 of 1000 complete"
       ]
      },
      {
       "output_type": "stream",
       "stream": "stdout",
       "text": [
        " \r",
        "[**********************88%*****************      ]  882 of 1000 complete"
       ]
      },
      {
       "output_type": "stream",
       "stream": "stdout",
       "text": [
        " \r",
        "[**********************88%*****************      ]  883 of 1000 complete"
       ]
      },
      {
       "output_type": "stream",
       "stream": "stdout",
       "text": [
        " \r",
        "[**********************88%*****************      ]  884 of 1000 complete"
       ]
      },
      {
       "output_type": "stream",
       "stream": "stdout",
       "text": [
        " \r",
        "[**********************89%******************     ]  885 of 1000 complete"
       ]
      },
      {
       "output_type": "stream",
       "stream": "stdout",
       "text": [
        " \r",
        "[**********************89%******************     ]  886 of 1000 complete"
       ]
      },
      {
       "output_type": "stream",
       "stream": "stdout",
       "text": [
        " \r",
        "[**********************89%******************     ]  887 of 1000 complete"
       ]
      },
      {
       "output_type": "stream",
       "stream": "stdout",
       "text": [
        " \r",
        "[**********************89%******************     ]  888 of 1000 complete"
       ]
      },
      {
       "output_type": "stream",
       "stream": "stdout",
       "text": [
        " \r",
        "[**********************89%******************     ]  889 of 1000 complete"
       ]
      },
      {
       "output_type": "stream",
       "stream": "stdout",
       "text": [
        " \r",
        "[**********************89%******************     ]  890 of 1000 complete"
       ]
      },
      {
       "output_type": "stream",
       "stream": "stdout",
       "text": [
        " \r",
        "[**********************89%******************     ]  891 of 1000 complete"
       ]
      },
      {
       "output_type": "stream",
       "stream": "stdout",
       "text": [
        " \r",
        "[**********************89%******************     ]  892 of 1000 complete"
       ]
      },
      {
       "output_type": "stream",
       "stream": "stdout",
       "text": [
        " \r",
        "[**********************89%******************     ]  893 of 1000 complete"
       ]
      },
      {
       "output_type": "stream",
       "stream": "stdout",
       "text": [
        " \r",
        "[**********************89%******************     ]  894 of 1000 complete"
       ]
      },
      {
       "output_type": "stream",
       "stream": "stdout",
       "text": [
        " \r",
        "[**********************90%******************     ]  895 of 1000 complete"
       ]
      },
      {
       "output_type": "stream",
       "stream": "stdout",
       "text": [
        " \r",
        "[**********************90%******************     ]  896 of 1000 complete"
       ]
      },
      {
       "output_type": "stream",
       "stream": "stdout",
       "text": [
        " \r",
        "[**********************90%******************     ]  897 of 1000 complete"
       ]
      },
      {
       "output_type": "stream",
       "stream": "stdout",
       "text": [
        " \r",
        "[**********************90%******************     ]  898 of 1000 complete"
       ]
      },
      {
       "output_type": "stream",
       "stream": "stdout",
       "text": [
        " \r",
        "[**********************90%******************     ]  899 of 1000 complete"
       ]
      },
      {
       "output_type": "stream",
       "stream": "stdout",
       "text": [
        " \r",
        "[**********************90%******************     ]  900 of 1000 complete"
       ]
      },
      {
       "output_type": "stream",
       "stream": "stdout",
       "text": [
        " \r",
        "[**********************90%******************     ]  901 of 1000 complete"
       ]
      },
      {
       "output_type": "stream",
       "stream": "stdout",
       "text": [
        " \r",
        "[**********************90%******************     ]  902 of 1000 complete"
       ]
      },
      {
       "output_type": "stream",
       "stream": "stdout",
       "text": [
        " \r",
        "[**********************90%******************     ]  903 of 1000 complete"
       ]
      },
      {
       "output_type": "stream",
       "stream": "stdout",
       "text": [
        " \r",
        "[**********************90%******************     ]  904 of 1000 complete"
       ]
      },
      {
       "output_type": "stream",
       "stream": "stdout",
       "text": [
        " \r",
        "[**********************91%*******************    ]  905 of 1000 complete"
       ]
      },
      {
       "output_type": "stream",
       "stream": "stdout",
       "text": [
        " \r",
        "[**********************91%*******************    ]  906 of 1000 complete"
       ]
      },
      {
       "output_type": "stream",
       "stream": "stdout",
       "text": [
        " \r",
        "[**********************91%*******************    ]  907 of 1000 complete"
       ]
      },
      {
       "output_type": "stream",
       "stream": "stdout",
       "text": [
        " \r",
        "[**********************91%*******************    ]  908 of 1000 complete"
       ]
      },
      {
       "output_type": "stream",
       "stream": "stdout",
       "text": [
        " \r",
        "[**********************91%*******************    ]  909 of 1000 complete"
       ]
      },
      {
       "output_type": "stream",
       "stream": "stdout",
       "text": [
        " \r",
        "[**********************91%*******************    ]  910 of 1000 complete"
       ]
      },
      {
       "output_type": "stream",
       "stream": "stdout",
       "text": [
        " \r",
        "[**********************91%*******************    ]  911 of 1000 complete"
       ]
      },
      {
       "output_type": "stream",
       "stream": "stdout",
       "text": [
        " \r",
        "[**********************91%*******************    ]  912 of 1000 complete"
       ]
      },
      {
       "output_type": "stream",
       "stream": "stdout",
       "text": [
        " \r",
        "[**********************91%*******************    ]  913 of 1000 complete"
       ]
      },
      {
       "output_type": "stream",
       "stream": "stdout",
       "text": [
        " \r",
        "[**********************91%*******************    ]  914 of 1000 complete"
       ]
      },
      {
       "output_type": "stream",
       "stream": "stdout",
       "text": [
        " \r",
        "[**********************92%*******************    ]  915 of 1000 complete"
       ]
      },
      {
       "output_type": "stream",
       "stream": "stdout",
       "text": [
        " \r",
        "[**********************92%*******************    ]  916 of 1000 complete"
       ]
      },
      {
       "output_type": "stream",
       "stream": "stdout",
       "text": [
        " \r",
        "[**********************92%*******************    ]  917 of 1000 complete"
       ]
      },
      {
       "output_type": "stream",
       "stream": "stdout",
       "text": [
        " \r",
        "[**********************92%*******************    ]  918 of 1000 complete"
       ]
      },
      {
       "output_type": "stream",
       "stream": "stdout",
       "text": [
        " \r",
        "[**********************92%*******************    ]  919 of 1000 complete"
       ]
      },
      {
       "output_type": "stream",
       "stream": "stdout",
       "text": [
        " \r",
        "[**********************92%*******************    ]  920 of 1000 complete"
       ]
      },
      {
       "output_type": "stream",
       "stream": "stdout",
       "text": [
        " \r",
        "[**********************92%*******************    ]  921 of 1000 complete"
       ]
      },
      {
       "output_type": "stream",
       "stream": "stdout",
       "text": [
        " \r",
        "[**********************92%*******************    ]  922 of 1000 complete"
       ]
      },
      {
       "output_type": "stream",
       "stream": "stdout",
       "text": [
        " \r",
        "[**********************92%*******************    ]  923 of 1000 complete"
       ]
      },
      {
       "output_type": "stream",
       "stream": "stdout",
       "text": [
        " \r",
        "[**********************92%*******************    ]  924 of 1000 complete"
       ]
      },
      {
       "output_type": "stream",
       "stream": "stdout",
       "text": [
        " \r",
        "[**********************93%********************   ]  925 of 1000 complete"
       ]
      },
      {
       "output_type": "stream",
       "stream": "stdout",
       "text": [
        " \r",
        "[**********************93%********************   ]  926 of 1000 complete"
       ]
      },
      {
       "output_type": "stream",
       "stream": "stdout",
       "text": [
        " \r",
        "[**********************93%********************   ]  927 of 1000 complete"
       ]
      },
      {
       "output_type": "stream",
       "stream": "stdout",
       "text": [
        " \r",
        "[**********************93%********************   ]  928 of 1000 complete"
       ]
      },
      {
       "output_type": "stream",
       "stream": "stdout",
       "text": [
        " \r",
        "[**********************93%********************   ]  929 of 1000 complete"
       ]
      },
      {
       "output_type": "stream",
       "stream": "stdout",
       "text": [
        " \r",
        "[**********************93%********************   ]  930 of 1000 complete"
       ]
      },
      {
       "output_type": "stream",
       "stream": "stdout",
       "text": [
        " \r",
        "[**********************93%********************   ]  931 of 1000 complete"
       ]
      },
      {
       "output_type": "stream",
       "stream": "stdout",
       "text": [
        " \r",
        "[**********************93%********************   ]  932 of 1000 complete"
       ]
      },
      {
       "output_type": "stream",
       "stream": "stdout",
       "text": [
        " \r",
        "[**********************93%********************   ]  933 of 1000 complete"
       ]
      },
      {
       "output_type": "stream",
       "stream": "stdout",
       "text": [
        " \r",
        "[**********************93%********************   ]  934 of 1000 complete"
       ]
      },
      {
       "output_type": "stream",
       "stream": "stdout",
       "text": [
        " \r",
        "[**********************94%********************   ]  935 of 1000 complete"
       ]
      },
      {
       "output_type": "stream",
       "stream": "stdout",
       "text": [
        " \r",
        "[**********************94%********************   ]  936 of 1000 complete"
       ]
      },
      {
       "output_type": "stream",
       "stream": "stdout",
       "text": [
        " \r",
        "[**********************94%********************   ]  937 of 1000 complete"
       ]
      },
      {
       "output_type": "stream",
       "stream": "stdout",
       "text": [
        " \r",
        "[**********************94%********************   ]  938 of 1000 complete"
       ]
      },
      {
       "output_type": "stream",
       "stream": "stdout",
       "text": [
        " \r",
        "[**********************94%********************   ]  939 of 1000 complete"
       ]
      },
      {
       "output_type": "stream",
       "stream": "stdout",
       "text": [
        " \r",
        "[**********************94%********************   ]  940 of 1000 complete"
       ]
      },
      {
       "output_type": "stream",
       "stream": "stdout",
       "text": [
        " \r",
        "[**********************94%********************   ]  941 of 1000 complete"
       ]
      },
      {
       "output_type": "stream",
       "stream": "stdout",
       "text": [
        " \r",
        "[**********************94%********************   ]  942 of 1000 complete"
       ]
      },
      {
       "output_type": "stream",
       "stream": "stdout",
       "text": [
        " \r",
        "[**********************94%********************   ]  943 of 1000 complete"
       ]
      },
      {
       "output_type": "stream",
       "stream": "stdout",
       "text": [
        " \r",
        "[**********************94%********************   ]  944 of 1000 complete"
       ]
      },
      {
       "output_type": "stream",
       "stream": "stdout",
       "text": [
        " \r",
        "[**********************95%*********************  ]  945 of 1000 complete"
       ]
      },
      {
       "output_type": "stream",
       "stream": "stdout",
       "text": [
        " \r",
        "[**********************95%*********************  ]  946 of 1000 complete"
       ]
      },
      {
       "output_type": "stream",
       "stream": "stdout",
       "text": [
        " \r",
        "[**********************95%*********************  ]  947 of 1000 complete"
       ]
      },
      {
       "output_type": "stream",
       "stream": "stdout",
       "text": [
        " \r",
        "[**********************95%*********************  ]  948 of 1000 complete"
       ]
      },
      {
       "output_type": "stream",
       "stream": "stdout",
       "text": [
        " \r",
        "[**********************95%*********************  ]  949 of 1000 complete"
       ]
      },
      {
       "output_type": "stream",
       "stream": "stdout",
       "text": [
        " \r",
        "[**********************95%*********************  ]  950 of 1000 complete"
       ]
      },
      {
       "output_type": "stream",
       "stream": "stdout",
       "text": [
        " \r",
        "[**********************95%*********************  ]  951 of 1000 complete"
       ]
      },
      {
       "output_type": "stream",
       "stream": "stdout",
       "text": [
        " \r",
        "[**********************95%*********************  ]  952 of 1000 complete"
       ]
      },
      {
       "output_type": "stream",
       "stream": "stdout",
       "text": [
        " \r",
        "[**********************95%*********************  ]  953 of 1000 complete"
       ]
      },
      {
       "output_type": "stream",
       "stream": "stdout",
       "text": [
        " \r",
        "[**********************95%*********************  ]  954 of 1000 complete"
       ]
      },
      {
       "output_type": "stream",
       "stream": "stdout",
       "text": [
        " \r",
        "[**********************96%*********************  ]  955 of 1000 complete"
       ]
      },
      {
       "output_type": "stream",
       "stream": "stdout",
       "text": [
        " \r",
        "[**********************96%*********************  ]  956 of 1000 complete"
       ]
      },
      {
       "output_type": "stream",
       "stream": "stdout",
       "text": [
        " \r",
        "[**********************96%*********************  ]  957 of 1000 complete"
       ]
      },
      {
       "output_type": "stream",
       "stream": "stdout",
       "text": [
        " \r",
        "[**********************96%*********************  ]  958 of 1000 complete"
       ]
      },
      {
       "output_type": "stream",
       "stream": "stdout",
       "text": [
        " \r",
        "[**********************96%*********************  ]  959 of 1000 complete"
       ]
      },
      {
       "output_type": "stream",
       "stream": "stdout",
       "text": [
        " \r",
        "[**********************96%*********************  ]  960 of 1000 complete"
       ]
      },
      {
       "output_type": "stream",
       "stream": "stdout",
       "text": [
        " \r",
        "[**********************96%*********************  ]  961 of 1000 complete"
       ]
      },
      {
       "output_type": "stream",
       "stream": "stdout",
       "text": [
        " \r",
        "[**********************96%*********************  ]  962 of 1000 complete"
       ]
      },
      {
       "output_type": "stream",
       "stream": "stdout",
       "text": [
        " \r",
        "[**********************96%*********************  ]  963 of 1000 complete"
       ]
      },
      {
       "output_type": "stream",
       "stream": "stdout",
       "text": [
        " \r",
        "[**********************96%*********************  ]  964 of 1000 complete"
       ]
      },
      {
       "output_type": "stream",
       "stream": "stdout",
       "text": [
        " \r",
        "[**********************97%********************** ]  965 of 1000 complete"
       ]
      },
      {
       "output_type": "stream",
       "stream": "stdout",
       "text": [
        " \r",
        "[**********************97%********************** ]  966 of 1000 complete"
       ]
      },
      {
       "output_type": "stream",
       "stream": "stdout",
       "text": [
        " \r",
        "[**********************97%********************** ]  967 of 1000 complete"
       ]
      },
      {
       "output_type": "stream",
       "stream": "stdout",
       "text": [
        " \r",
        "[**********************97%********************** ]  968 of 1000 complete"
       ]
      },
      {
       "output_type": "stream",
       "stream": "stdout",
       "text": [
        " \r",
        "[**********************97%********************** ]  969 of 1000 complete"
       ]
      },
      {
       "output_type": "stream",
       "stream": "stdout",
       "text": [
        " \r",
        "[**********************97%********************** ]  970 of 1000 complete"
       ]
      },
      {
       "output_type": "stream",
       "stream": "stdout",
       "text": [
        " \r",
        "[**********************97%********************** ]  971 of 1000 complete"
       ]
      },
      {
       "output_type": "stream",
       "stream": "stdout",
       "text": [
        " \r",
        "[**********************97%********************** ]  972 of 1000 complete"
       ]
      },
      {
       "output_type": "stream",
       "stream": "stdout",
       "text": [
        " \r",
        "[**********************97%********************** ]  973 of 1000 complete"
       ]
      },
      {
       "output_type": "stream",
       "stream": "stdout",
       "text": [
        " \r",
        "[**********************97%********************** ]  974 of 1000 complete"
       ]
      },
      {
       "output_type": "stream",
       "stream": "stdout",
       "text": [
        " \r",
        "[**********************98%********************** ]  975 of 1000 complete"
       ]
      },
      {
       "output_type": "stream",
       "stream": "stdout",
       "text": [
        " \r",
        "[**********************98%********************** ]  976 of 1000 complete"
       ]
      },
      {
       "output_type": "stream",
       "stream": "stdout",
       "text": [
        " \r",
        "[**********************98%********************** ]  977 of 1000 complete"
       ]
      },
      {
       "output_type": "stream",
       "stream": "stdout",
       "text": [
        " \r",
        "[**********************98%********************** ]  978 of 1000 complete"
       ]
      },
      {
       "output_type": "stream",
       "stream": "stdout",
       "text": [
        " \r",
        "[**********************98%********************** ]  979 of 1000 complete"
       ]
      },
      {
       "output_type": "stream",
       "stream": "stdout",
       "text": [
        " \r",
        "[**********************98%********************** ]  980 of 1000 complete"
       ]
      },
      {
       "output_type": "stream",
       "stream": "stdout",
       "text": [
        " \r",
        "[**********************98%********************** ]  981 of 1000 complete"
       ]
      },
      {
       "output_type": "stream",
       "stream": "stdout",
       "text": [
        " \r",
        "[**********************98%********************** ]  982 of 1000 complete"
       ]
      },
      {
       "output_type": "stream",
       "stream": "stdout",
       "text": [
        " \r",
        "[**********************98%********************** ]  983 of 1000 complete"
       ]
      },
      {
       "output_type": "stream",
       "stream": "stdout",
       "text": [
        " \r",
        "[**********************98%********************** ]  984 of 1000 complete"
       ]
      },
      {
       "output_type": "stream",
       "stream": "stdout",
       "text": [
        " \r",
        "[**********************99%***********************]  985 of 1000 complete"
       ]
      },
      {
       "output_type": "stream",
       "stream": "stdout",
       "text": [
        " \r",
        "[**********************99%***********************]  986 of 1000 complete"
       ]
      },
      {
       "output_type": "stream",
       "stream": "stdout",
       "text": [
        " \r",
        "[**********************99%***********************]  987 of 1000 complete"
       ]
      },
      {
       "output_type": "stream",
       "stream": "stdout",
       "text": [
        " \r",
        "[**********************99%***********************]  988 of 1000 complete"
       ]
      },
      {
       "output_type": "stream",
       "stream": "stdout",
       "text": [
        " \r",
        "[**********************99%***********************]  989 of 1000 complete"
       ]
      },
      {
       "output_type": "stream",
       "stream": "stdout",
       "text": [
        " \r",
        "[**********************99%***********************]  990 of 1000 complete"
       ]
      },
      {
       "output_type": "stream",
       "stream": "stdout",
       "text": [
        " \r",
        "[**********************99%***********************]  991 of 1000 complete"
       ]
      },
      {
       "output_type": "stream",
       "stream": "stdout",
       "text": [
        " \r",
        "[**********************99%***********************]  992 of 1000 complete"
       ]
      },
      {
       "output_type": "stream",
       "stream": "stdout",
       "text": [
        " \r",
        "[**********************99%***********************]  993 of 1000 complete"
       ]
      },
      {
       "output_type": "stream",
       "stream": "stdout",
       "text": [
        " \r",
        "[**********************99%***********************]  994 of 1000 complete"
       ]
      },
      {
       "output_type": "stream",
       "stream": "stdout",
       "text": [
        " \r",
        "[*********************100%***********************]  995 of 1000 complete"
       ]
      },
      {
       "output_type": "stream",
       "stream": "stdout",
       "text": [
        " \r",
        "[*********************100%***********************]  996 of 1000 complete"
       ]
      },
      {
       "output_type": "stream",
       "stream": "stdout",
       "text": [
        " \r",
        "[*********************100%***********************]  997 of 1000 complete"
       ]
      },
      {
       "output_type": "stream",
       "stream": "stdout",
       "text": [
        " \r",
        "[*********************100%***********************]  998 of 1000 complete"
       ]
      },
      {
       "output_type": "stream",
       "stream": "stdout",
       "text": [
        " \r",
        "[*********************100%***********************]  999 of 1000 complete"
       ]
      },
      {
       "output_type": "stream",
       "stream": "stdout",
       "text": [
        " \r",
        "[*********************100%***********************]  1000 of 1000 complete"
       ]
      },
      {
       "output_type": "stream",
       "stream": "stdout",
       "text": [
        "\n"
       ]
      }
     ],
     "prompt_number": 4
    },
    {
     "cell_type": "code",
     "collapsed": false,
     "input": [],
     "language": "python",
     "metadata": {},
     "outputs": []
    }
   ],
   "metadata": {}
  }
 ]
}