{
 "metadata": {
  "name": "Parallel MC Options"
 },
 "nbformat": 3,
 "nbformat_minor": 0,
 "worksheets": [
  {
   "cells": [
    {
     "cell_type": "heading",
     "level": 1,
     "metadata": {},
     "source": [
      "Parallel Monto-Carlo options pricing"
     ]
    },
    {
     "cell_type": "markdown",
     "metadata": {},
     "source": [
      "This notebook shows how to use `IPython.parallel` to do Monte-Carlo options pricing in parallel. We will compute the price of a large number of options for different strike prices and volatilities."
     ]
    },
    {
     "cell_type": "heading",
     "level": 2,
     "metadata": {},
     "source": [
      "Problem setup"
     ]
    },
    {
     "cell_type": "code",
     "collapsed": false,
     "input": [
      "%pylab inline"
     ],
     "language": "python",
     "metadata": {},
     "outputs": [
      {
       "output_type": "stream",
       "stream": "stdout",
       "text": [
        "\n",
        "Welcome to pylab, a matplotlib-based Python environment [backend: module://IPython.kernel.zmq.pylab.backend_inline].\n",
        "For more information, type 'help(pylab)'.\n"
       ]
      }
     ],
     "prompt_number": 4
    },
    {
     "cell_type": "code",
     "collapsed": true,
     "input": [
      "import sys\n",
      "import time\n",
      "from IPython.parallel import Client\n",
      "import numpy as np"
     ],
     "language": "python",
     "metadata": {},
     "outputs": [],
     "prompt_number": 5
    },
    {
     "cell_type": "markdown",
     "metadata": {},
     "source": [
      "Here are the basic parameters for our computation."
     ]
    },
    {
     "cell_type": "code",
     "collapsed": true,
     "input": [
      "price = 100.0  # Initial price\n",
      "rate = 0.05  # Interest rate\n",
      "days = 260  # Days to expiration\n",
      "paths = 10000  # Number of MC paths\n",
      "n_strikes = 6  # Number of strike values\n",
      "min_strike = 90.0  # Min strike price\n",
      "max_strike = 110.0  # Max strike price\n",
      "n_sigmas = 5  # Number of volatility values\n",
      "min_sigma = 0.1  # Min volatility\n",
      "max_sigma = 0.4  # Max volatility"
     ],
     "language": "python",
     "metadata": {},
     "outputs": [],
     "prompt_number": 6
    },
    {
     "cell_type": "code",
     "collapsed": true,
     "input": [
      "strike_vals = np.linspace(min_strike, max_strike, n_strikes)\n",
      "sigma_vals = np.linspace(min_sigma, max_sigma, n_sigmas)"
     ],
     "language": "python",
     "metadata": {},
     "outputs": [],
     "prompt_number": 7
    },
    {
     "cell_type": "code",
     "collapsed": false,
     "input": [
      "print \"Strike prices: \", strike_vals\n",
      "print \"Volatilities: \", sigma_vals"
     ],
     "language": "python",
     "metadata": {},
     "outputs": [
      {
       "output_type": "stream",
       "stream": "stdout",
       "text": [
        "Strike prices:  [  90.   94.   98.  102.  106.  110.]\n",
        "Volatilities:  [ 0.1    0.175  0.25   0.325  0.4  ]\n"
       ]
      }
     ],
     "prompt_number": 8
    },
    {
     "cell_type": "heading",
     "level": 2,
     "metadata": {},
     "source": [
      "Monte-Carlo option pricing function"
     ]
    },
    {
     "cell_type": "markdown",
     "metadata": {},
     "source": [
      "The following function computes the price of a single option.  It returns the call and put prices for both European and Asian style options."
     ]
    },
    {
     "cell_type": "code",
     "collapsed": false,
     "input": [
      "def price_option(S=100.0, K=100.0, sigma=0.25, r=0.05, days=260, paths=10000):\n",
      "    \"\"\"\n",
      "    Price European and Asian options using a Monte Carlo method.\n",
      "\n",
      "    Parameters\n",
      "    ----------\n",
      "    S : float\n",
      "        The initial price of the stock.\n",
      "    K : float\n",
      "        The strike price of the option.\n",
      "    sigma : float\n",
      "        The volatility of the stock.\n",
      "    r : float\n",
      "        The risk free interest rate.\n",
      "    days : int\n",
      "        The number of days until the option expires.\n",
      "    paths : int\n",
      "        The number of Monte Carlo paths used to price the option.\n",
      "\n",
      "    Returns\n",
      "    -------\n",
      "    A tuple of (E. call, E. put, A. call, A. put) option prices.\n",
      "    \"\"\"\n",
      "    import numpy as np\n",
      "    from math import exp,sqrt\n",
      "    \n",
      "    h = 1.0/days\n",
      "    const1 = exp((r-0.5*sigma**2)*h)\n",
      "    const2 = sigma*sqrt(h)\n",
      "    stock_price = S*np.ones(paths, dtype='float64')\n",
      "    stock_price_sum = np.zeros(paths, dtype='float64')\n",
      "    for j in range(days):\n",
      "        growth_factor = const1*np.exp(const2*np.random.standard_normal(paths))\n",
      "        stock_price = stock_price*growth_factor\n",
      "        stock_price_sum = stock_price_sum + stock_price\n",
      "    stock_price_avg = stock_price_sum/days\n",
      "    zeros = np.zeros(paths, dtype='float64')\n",
      "    r_factor = exp(-r*h*days)\n",
      "    euro_put = r_factor*np.mean(np.maximum(zeros, K-stock_price))\n",
      "    asian_put = r_factor*np.mean(np.maximum(zeros, K-stock_price_avg))\n",
      "    euro_call = r_factor*np.mean(np.maximum(zeros, stock_price-K))\n",
      "    asian_call = r_factor*np.mean(np.maximum(zeros, stock_price_avg-K))\n",
      "    return (euro_call, euro_put, asian_call, asian_put)"
     ],
     "language": "python",
     "metadata": {},
     "outputs": [],
     "prompt_number": 9
    },
    {
     "cell_type": "markdown",
     "metadata": {},
     "source": [
      "We can time a single call of this function using the `%timeit` magic:"
     ]
    },
    {
     "cell_type": "code",
     "collapsed": false,
     "input": [
      "%timeit -n1 -r1 print price_option(S=100.0, K=100.0, sigma=0.25, r=0.05, days=260, paths=10000)"
     ],
     "language": "python",
     "metadata": {},
     "outputs": [
      {
       "output_type": "stream",
       "stream": "stdout",
       "text": [
        "(12.217720657772686, 7.4170971244322672, 6.8120985432589185, 4.3727039632512152)\n",
        "1 loops, best of 1: 236 ms per loop\n"
       ]
      }
     ],
     "prompt_number": 24
    },
    {
     "cell_type": "markdown",
     "metadata": {},
     "source": [
      "## Parallel computation across strike prices and volatilities"
     ]
    },
    {
     "cell_type": "markdown",
     "metadata": {},
     "source": [
      "The Client is used to setup the calculation and works with all engines."
     ]
    },
    {
     "cell_type": "code",
     "collapsed": true,
     "input": [
      "c = Client(profile=\"default\")"
     ],
     "language": "python",
     "metadata": {},
     "outputs": [],
     "prompt_number": 12
    },
    {
     "cell_type": "markdown",
     "metadata": {},
     "source": [
      "A `LoadBalancedView` is an interface to the engines that provides dynamic load\n",
      "balancing at the expense of not knowing which engine will execute the code."
     ]
    },
    {
     "cell_type": "code",
     "collapsed": true,
     "input": [
      "view = c.load_balanced_view()"
     ],
     "language": "python",
     "metadata": {},
     "outputs": [],
     "prompt_number": 13
    },
    {
     "cell_type": "markdown",
     "metadata": {},
     "source": [
      "Submit tasks for each (strike, sigma) pair. Again, we use the `%%timeit` magic to time the entire computation."
     ]
    },
    {
     "cell_type": "code",
     "collapsed": true,
     "input": [
      "%%timeit -n1 -r1\n",
      "\n",
      "async_results = []\n",
      "for strike in strike_vals:\n",
      "    for sigma in sigma_vals:\n",
      "        # This line submits the tasks for parallel computation.\n",
      "        ar = view.apply_async(price_option, price, strike, sigma, rate, days, paths)\n",
      "        async_results.append(ar)\n",
      "\n",
      "c.wait(async_results)  # Wait until all tasks are done."
     ],
     "language": "python",
     "metadata": {},
     "outputs": [
      {
       "output_type": "stream",
       "stream": "stdout",
       "text": [
        "1 loops, best of 1: 3.75 s per loop\n"
       ]
      }
     ],
     "prompt_number": 16
    },
    {
     "cell_type": "code",
     "collapsed": false,
     "input": [
      "len(async_results)"
     ],
     "language": "python",
     "metadata": {},
     "outputs": [
      {
       "output_type": "pyout",
       "prompt_number": 18,
       "text": [
        "30"
       ]
      }
     ],
     "prompt_number": 18
    },
    {
     "cell_type": "markdown",
     "metadata": {},
     "source": [
      "## Process and visualize results"
     ]
    },
    {
     "cell_type": "markdown",
     "metadata": {},
     "source": [
      "Retrieve the results using the `get` method:"
     ]
    },
    {
     "cell_type": "code",
     "collapsed": true,
     "input": [
      "results = [ar.get() for ar in async_results]"
     ],
     "language": "python",
     "metadata": {},
     "outputs": [],
     "prompt_number": 19
    },
    {
     "cell_type": "markdown",
     "metadata": {},
     "source": [
      "Assemble the result into a structured NumPy array."
     ]
    },
    {
     "cell_type": "code",
     "collapsed": true,
     "input": [
      "prices = np.empty(n_strikes*n_sigmas,\n",
      "    dtype=[('ecall',float),('eput',float),('acall',float),('aput',float)]\n",
      ")\n",
      "\n",
      "for i, price in enumerate(results):\n",
      "    prices[i] = tuple(price)\n",
      "\n",
      "prices.shape = (n_strikes, n_sigmas)"
     ],
     "language": "python",
     "metadata": {},
     "outputs": [],
     "prompt_number": 20
    },
    {
     "cell_type": "markdown",
     "metadata": {},
     "source": [
      "Plot the value of the European call in (volatility, strike) space."
     ]
    },
    {
     "cell_type": "code",
     "collapsed": false,
     "input": [
      "plt.figure()\n",
      "plt.contourf(sigma_vals, strike_vals, prices['ecall'])\n",
      "plt.axis('tight')\n",
      "plt.colorbar()\n",
      "plt.title('European Call')\n",
      "plt.xlabel(\"Volatility\")\n",
      "plt.ylabel(\"Strike Price\")"
     ],
     "language": "python",
     "metadata": {},
     "outputs": [
      {
       "output_type": "pyout",
       "prompt_number": 21,
       "text": [
        "<matplotlib.text.Text at 0x10ab98690>"
       ]
      },
      {
       "output_type": "display_data",
       "png": "[encoded data removed]"
      }
     ],
     "prompt_number": 21
    },
    {
     "cell_type": "markdown",
     "metadata": {},
     "source": [
      "Plot the value of the Asian call in (volatility, strike) space."
     ]
    },
    {
     "cell_type": "code",
     "collapsed": false,
     "input": [
      "plt.figure()\n",
      "plt.contourf(sigma_vals, strike_vals, prices['acall'])\n",
      "plt.axis('tight')\n",
      "plt.colorbar()\n",
      "plt.title(\"Asian Call\")\n",
      "plt.xlabel(\"Volatility\")\n",
      "plt.ylabel(\"Strike Price\")"
     ],
     "language": "python",
     "metadata": {},
     "outputs": [
      {
       "output_type": "pyout",
       "prompt_number": 22,
       "text": [
        "<matplotlib.text.Text at 0x1088bf150>"
       ]
      },
      {
       "output_type": "display_data",
       "png": "[encoded data removed]"
      }
     ],
     "prompt_number": 22
    },
    {
     "cell_type": "markdown",
     "metadata": {},
     "source": [
      "Plot the value of the European put in (volatility, strike) space."
     ]
    },
    {
     "cell_type": "code",
     "collapsed": false,
     "input": [
      "plt.figure()\n",
      "plt.contourf(sigma_vals, strike_vals, prices['eput'])\n",
      "plt.axis('tight')\n",
      "plt.colorbar()\n",
      "plt.title(\"European Put\")\n",
      "plt.xlabel(\"Volatility\")\n",
      "plt.ylabel(\"Strike Price\")"
     ],
     "language": "python",
     "metadata": {},
     "outputs": [
      {
       "output_type": "pyout",
       "prompt_number": 14,
       "text": [
        "&lt;matplotlib.text.Text at 0x106d34150&gt;"
       ]
      },
      {
       "output_type": "display_data",
       "png": "[encoded data removed]"
      }
     ],
     "prompt_number": 14
    },
    {
     "cell_type": "markdown",
     "metadata": {},
     "source": [
      "Plot the value of the Asian put in (volatility, strike) space."
     ]
    },
    {
     "cell_type": "code",
     "collapsed": false,
     "input": [
      "plt.figure()\n",
      "plt.contourf(sigma_vals, strike_vals, prices['aput'])\n",
      "plt.axis('tight')\n",
      "plt.colorbar()\n",
      "plt.title(\"Asian Put\")\n",
      "plt.xlabel(\"Volatility\")\n",
      "plt.ylabel(\"Strike Price\")"
     ],
     "language": "python",
     "metadata": {},
     "outputs": [
      {
       "output_type": "display_data",
       "png": "[encoded data removed]"
      }
     ],
     "prompt_number": 15
    }
   ],
   "metadata": {}
  }
 ]
}